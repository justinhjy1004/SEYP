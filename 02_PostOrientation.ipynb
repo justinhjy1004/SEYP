{
 "cells": [
  {
   "cell_type": "code",
   "execution_count": 1,
   "id": "a6c15aca",
   "metadata": {},
   "outputs": [],
   "source": [
    "import polars as pl\n",
    "import plotly.graph_objects as go\n",
    "from plotly.subplots import make_subplots\n",
    "import plotly.io as pio\n",
    "import plotly.express as px\n",
    "\n",
    "# Set the theme once\n",
    "pio.templates.default = \"plotly_white\"\n",
    "\n",
    "from util import multi_select_counts, get_subplot_coords, df_prop, df_multiselect_prop\n",
    "import mappings"
   ]
  },
  {
   "cell_type": "code",
   "execution_count": 2,
   "id": "f179365a",
   "metadata": {},
   "outputs": [],
   "source": [
    "df = pl.read_csv(\"./OriginalData/PostOrientation_Survey.csv\")\n",
    "N = df.shape[0]"
   ]
  },
  {
   "cell_type": "code",
   "execution_count": 3,
   "id": "b9f0acca",
   "metadata": {},
   "outputs": [],
   "source": [
    "colnames_ = df.columns"
   ]
  },
  {
   "cell_type": "code",
   "execution_count": 4,
   "id": "20d27266",
   "metadata": {},
   "outputs": [
    {
     "data": {
      "text/html": [
       "<div><style>\n",
       ".dataframe > thead > tr,\n",
       ".dataframe > tbody > tr {\n",
       "  text-align: right;\n",
       "  white-space: pre-wrap;\n",
       "}\n",
       "</style>\n",
       "<small>shape: (4, 3)</small><table border=\"1\" class=\"dataframe\"><thead><tr><th>How confident are you now in managing your emotions and staying calm when things get stressful at work or in life?</th><th>len</th><th>prop</th></tr><tr><td>str</td><td>u32</td><td>f64</td></tr></thead><tbody><tr><td>&quot;Extremely confident &quot;</td><td>29</td><td>0.341176</td></tr><tr><td>&quot;Not confident at all &quot;</td><td>1</td><td>0.011765</td></tr><tr><td>&quot;Very confident &quot;</td><td>45</td><td>0.529412</td></tr><tr><td>&quot;A little confident &quot;</td><td>10</td><td>0.117647</td></tr></tbody></table></div>"
      ],
      "text/plain": [
       "shape: (4, 3)\n",
       "┌─────────────────────────────────┬─────┬──────────┐\n",
       "│ How confident are you now in m… ┆ len ┆ prop     │\n",
       "│ ---                             ┆ --- ┆ ---      │\n",
       "│ str                             ┆ u32 ┆ f64      │\n",
       "╞═════════════════════════════════╪═════╪══════════╡\n",
       "│ Extremely confident             ┆ 29  ┆ 0.341176 │\n",
       "│ Not confident at all            ┆ 1   ┆ 0.011765 │\n",
       "│ Very confident                  ┆ 45  ┆ 0.529412 │\n",
       "│ A little confident              ┆ 10  ┆ 0.117647 │\n",
       "└─────────────────────────────────┴─────┴──────────┘"
      ]
     },
     "execution_count": 4,
     "metadata": {},
     "output_type": "execute_result"
    }
   ],
   "source": [
    "df_prop(df, \"How confident are you now in managing your emotions and staying calm when things get stressful at work or in life?\", N)"
   ]
  },
  {
   "cell_type": "code",
   "execution_count": 5,
   "id": "6a3e00a3",
   "metadata": {},
   "outputs": [
    {
     "data": {
      "text/html": [
       "<div><style>\n",
       ".dataframe > thead > tr,\n",
       ".dataframe > tbody > tr {\n",
       "  text-align: right;\n",
       "  white-space: pre-wrap;\n",
       "}\n",
       "</style>\n",
       "<small>shape: (4, 3)</small><table border=\"1\" class=\"dataframe\"><thead><tr><th>After learning about emotional intelligence, how are you at recognizing your personal emotional triggers?</th><th>len</th><th>prop</th></tr><tr><td>str</td><td>u32</td><td>f64</td></tr></thead><tbody><tr><td>&quot;Slightly better &quot;</td><td>10</td><td>0.117647</td></tr><tr><td>&quot;Much better &quot;</td><td>45</td><td>0.529412</td></tr><tr><td>&quot;A lot better, I understand the…</td><td>28</td><td>0.329412</td></tr><tr><td>&quot;Not at all better &quot;</td><td>2</td><td>0.023529</td></tr></tbody></table></div>"
      ],
      "text/plain": [
       "shape: (4, 3)\n",
       "┌─────────────────────────────────┬─────┬──────────┐\n",
       "│ After learning about emotional… ┆ len ┆ prop     │\n",
       "│ ---                             ┆ --- ┆ ---      │\n",
       "│ str                             ┆ u32 ┆ f64      │\n",
       "╞═════════════════════════════════╪═════╪══════════╡\n",
       "│ Slightly better                 ┆ 10  ┆ 0.117647 │\n",
       "│ Much better                     ┆ 45  ┆ 0.529412 │\n",
       "│ A lot better, I understand the… ┆ 28  ┆ 0.329412 │\n",
       "│ Not at all better               ┆ 2   ┆ 0.023529 │\n",
       "└─────────────────────────────────┴─────┴──────────┘"
      ]
     },
     "execution_count": 5,
     "metadata": {},
     "output_type": "execute_result"
    }
   ],
   "source": [
    "df_prop(df, 'After learning about emotional intelligence, how are you at recognizing your personal emotional triggers?', N)"
   ]
  },
  {
   "cell_type": "code",
   "execution_count": 6,
   "id": "bf44610d",
   "metadata": {},
   "outputs": [
    {
     "data": {
      "text/html": [
       "<div>\n",
       "<style scoped>\n",
       "    .dataframe tbody tr th:only-of-type {\n",
       "        vertical-align: middle;\n",
       "    }\n",
       "\n",
       "    .dataframe tbody tr th {\n",
       "        vertical-align: top;\n",
       "    }\n",
       "\n",
       "    .dataframe thead th {\n",
       "        text-align: right;\n",
       "    }\n",
       "</style>\n",
       "<table border=\"1\" class=\"dataframe\">\n",
       "  <thead>\n",
       "    <tr style=\"text-align: right;\">\n",
       "      <th></th>\n",
       "      <th>value</th>\n",
       "      <th>count</th>\n",
       "      <th>prop</th>\n",
       "    </tr>\n",
       "  </thead>\n",
       "  <tbody>\n",
       "    <tr>\n",
       "      <th>0</th>\n",
       "      <td>Understanding common workplace triggers</td>\n",
       "      <td>35</td>\n",
       "      <td>0.411765</td>\n",
       "    </tr>\n",
       "    <tr>\n",
       "      <th>1</th>\n",
       "      <td>Visualizing myself responding better in tough ...</td>\n",
       "      <td>34</td>\n",
       "      <td>0.400000</td>\n",
       "    </tr>\n",
       "    <tr>\n",
       "      <th>2</th>\n",
       "      <td>Learning ways to stay calm and in control</td>\n",
       "      <td>28</td>\n",
       "      <td>0.329412</td>\n",
       "    </tr>\n",
       "    <tr>\n",
       "      <th>3</th>\n",
       "      <td>Seeing the difference between low vs. high emo...</td>\n",
       "      <td>27</td>\n",
       "      <td>0.317647</td>\n",
       "    </tr>\n",
       "    <tr>\n",
       "      <th>4</th>\n",
       "      <td>Talking with others about emotional stress</td>\n",
       "      <td>17</td>\n",
       "      <td>0.200000</td>\n",
       "    </tr>\n",
       "    <tr>\n",
       "      <th>5</th>\n",
       "      <td>Identifying how others see me when I’m stressed</td>\n",
       "      <td>16</td>\n",
       "      <td>0.188235</td>\n",
       "    </tr>\n",
       "    <tr>\n",
       "      <th>6</th>\n",
       "      <td>Creating my Emotional Pause Plan</td>\n",
       "      <td>13</td>\n",
       "      <td>0.152941</td>\n",
       "    </tr>\n",
       "  </tbody>\n",
       "</table>\n",
       "</div>"
      ],
      "text/plain": [
       "                                               value  count      prop\n",
       "0           Understanding common workplace triggers      35  0.411765\n",
       "1  Visualizing myself responding better in tough ...     34  0.400000\n",
       "2         Learning ways to stay calm and in control      28  0.329412\n",
       "3  Seeing the difference between low vs. high emo...     27  0.317647\n",
       "4        Talking with others about emotional stress      17  0.200000\n",
       "5   Identifying how others see me when I’m stressed      16  0.188235\n",
       "6                  Creating my Emotional Pause Plan      13  0.152941"
      ]
     },
     "execution_count": 6,
     "metadata": {},
     "output_type": "execute_result"
    }
   ],
   "source": [
    "df_multiselect_prop(df, [\n",
    " 'Understanding common workplace triggers ',\n",
    " 'Seeing the difference between low vs. high emotional intelligence ',\n",
    " 'Creating my Emotional Pause Plan ',\n",
    " 'Learning ways to stay calm and in control ',\n",
    " 'Talking with others about emotional stress ',\n",
    " 'Visualizing myself responding better in tough situations ',\n",
    " 'Identifying how others see me when I’m stressed '], N)"
   ]
  },
  {
   "cell_type": "code",
   "execution_count": 8,
   "id": "16a6f6c8",
   "metadata": {},
   "outputs": [
    {
     "ename": "SchemaFieldNotFoundError",
     "evalue": "#",
     "output_type": "error",
     "traceback": [
      "\u001b[0;31m---------------------------------------------------------------------------\u001b[0m",
      "\u001b[0;31mSchemaFieldNotFoundError\u001b[0m                  Traceback (most recent call last)",
      "\u001b[0;32m/tmp/ipykernel_9656/3436727211.py\u001b[0m in \u001b[0;36m?\u001b[0;34m()\u001b[0m\n\u001b[0;32m----> 1\u001b[0;31m emo = multi_select_counts(df, [\n\u001b[0m\u001b[1;32m      2\u001b[0m  \u001b[0;34m'Understanding common workplace triggers '\u001b[0m\u001b[0;34m,\u001b[0m\u001b[0;34m\u001b[0m\u001b[0;34m\u001b[0m\u001b[0m\n\u001b[1;32m      3\u001b[0m  \u001b[0;34m'Seeing the difference between low vs. high emotional intelligence '\u001b[0m\u001b[0;34m,\u001b[0m\u001b[0;34m\u001b[0m\u001b[0;34m\u001b[0m\u001b[0m\n\u001b[1;32m      4\u001b[0m  \u001b[0;34m'Creating my Emotional Pause Plan '\u001b[0m\u001b[0;34m,\u001b[0m\u001b[0;34m\u001b[0m\u001b[0;34m\u001b[0m\u001b[0m\n",
      "\u001b[0;32m~/Downloads/Upwork/SEYP/util.py\u001b[0m in \u001b[0;36m?\u001b[0;34m(data, columns, mapping)\u001b[0m\n\u001b[1;32m      3\u001b[0m \u001b[0;32mdef\u001b[0m \u001b[0mmulti_select_counts\u001b[0m\u001b[0;34m(\u001b[0m\u001b[0mdata\u001b[0m\u001b[0;34m:\u001b[0m \u001b[0mpl\u001b[0m\u001b[0;34m.\u001b[0m\u001b[0mDataFrame\u001b[0m\u001b[0;34m,\u001b[0m \u001b[0mcolumns\u001b[0m\u001b[0;34m:\u001b[0m \u001b[0mlist\u001b[0m\u001b[0;34m,\u001b[0m \u001b[0mmapping\u001b[0m\u001b[0;34m:\u001b[0m \u001b[0mdict\u001b[0m \u001b[0;34m=\u001b[0m \u001b[0;32mNone\u001b[0m\u001b[0;34m)\u001b[0m\u001b[0;34m:\u001b[0m\u001b[0;34m\u001b[0m\u001b[0;34m\u001b[0m\u001b[0m\n\u001b[1;32m      4\u001b[0m \u001b[0;34m\u001b[0m\u001b[0m\n\u001b[0;32m----> 5\u001b[0;31m     \u001b[0mdf_count\u001b[0m \u001b[0;34m=\u001b[0m \u001b[0mdata\u001b[0m\u001b[0;34m.\u001b[0m\u001b[0mselect\u001b[0m\u001b[0;34m(\u001b[0m\u001b[0mcolumns\u001b[0m\u001b[0;34m)\u001b[0m\u001b[0;34m.\u001b[0m\u001b[0munpivot\u001b[0m\u001b[0;34m(\u001b[0m \u001b[0mon\u001b[0m \u001b[0;34m=\u001b[0m \u001b[0mcolumns\u001b[0m\u001b[0;34m[\u001b[0m\u001b[0;36m1\u001b[0m\u001b[0;34m:\u001b[0m\u001b[0;34m]\u001b[0m\u001b[0;34m,\u001b[0m \u001b[0mindex\u001b[0m \u001b[0;34m=\u001b[0m \u001b[0;34m\"#\"\u001b[0m\u001b[0;34m)\u001b[0m\u001b[0;34m.\u001b[0m\u001b[0mdrop_nulls\u001b[0m\u001b[0;34m(\u001b[0m\u001b[0;34m)\u001b[0m\u001b[0;34m.\u001b[0m\u001b[0mto_pandas\u001b[0m\u001b[0;34m(\u001b[0m\u001b[0;34m)\u001b[0m\u001b[0;34m[\u001b[0m\u001b[0;34m\"value\"\u001b[0m\u001b[0;34m]\u001b[0m\u001b[0;34m\u001b[0m\u001b[0;34m\u001b[0m\u001b[0m\n\u001b[0m\u001b[1;32m      6\u001b[0m \u001b[0;34m\u001b[0m\u001b[0m\n\u001b[1;32m      7\u001b[0m     \u001b[0;32mif\u001b[0m \u001b[0mmapping\u001b[0m \u001b[0;32mis\u001b[0m \u001b[0;32mnot\u001b[0m \u001b[0;32mNone\u001b[0m\u001b[0;34m:\u001b[0m\u001b[0;34m\u001b[0m\u001b[0;34m\u001b[0m\u001b[0m\n\u001b[1;32m      8\u001b[0m         \u001b[0mdf_count\u001b[0m \u001b[0;34m=\u001b[0m \u001b[0mdf_count\u001b[0m\u001b[0;34m.\u001b[0m\u001b[0mreplace\u001b[0m\u001b[0;34m(\u001b[0m\u001b[0mmapping\u001b[0m\u001b[0;34m)\u001b[0m\u001b[0;34m\u001b[0m\u001b[0;34m\u001b[0m\u001b[0m\n",
      "\u001b[0;32m~/.local/lib/python3.12/site-packages/polars/dataframe/frame.py\u001b[0m in \u001b[0;36m?\u001b[0;34m(self, on, index, variable_name, value_name)\u001b[0m\n\u001b[1;32m   8710\u001b[0m         \"\"\"\n\u001b[1;32m   8711\u001b[0m         \u001b[0mon\u001b[0m \u001b[0;34m=\u001b[0m \u001b[0;34m[\u001b[0m\u001b[0;34m]\u001b[0m \u001b[0;32mif\u001b[0m \u001b[0mon\u001b[0m \u001b[0;32mis\u001b[0m \u001b[0;32mNone\u001b[0m \u001b[0;32melse\u001b[0m \u001b[0m_expand_selectors\u001b[0m\u001b[0;34m(\u001b[0m\u001b[0mself\u001b[0m\u001b[0;34m,\u001b[0m \u001b[0mon\u001b[0m\u001b[0;34m)\u001b[0m\u001b[0;34m\u001b[0m\u001b[0;34m\u001b[0m\u001b[0m\n\u001b[1;32m   8712\u001b[0m         \u001b[0mindex\u001b[0m \u001b[0;34m=\u001b[0m \u001b[0;34m[\u001b[0m\u001b[0;34m]\u001b[0m \u001b[0;32mif\u001b[0m \u001b[0mindex\u001b[0m \u001b[0;32mis\u001b[0m \u001b[0;32mNone\u001b[0m \u001b[0;32melse\u001b[0m \u001b[0m_expand_selectors\u001b[0m\u001b[0;34m(\u001b[0m\u001b[0mself\u001b[0m\u001b[0;34m,\u001b[0m \u001b[0mindex\u001b[0m\u001b[0;34m)\u001b[0m\u001b[0;34m\u001b[0m\u001b[0;34m\u001b[0m\u001b[0m\n\u001b[1;32m   8713\u001b[0m \u001b[0;34m\u001b[0m\u001b[0m\n\u001b[0;32m-> 8714\u001b[0;31m         \u001b[0;32mreturn\u001b[0m \u001b[0mself\u001b[0m\u001b[0;34m.\u001b[0m\u001b[0m_from_pydf\u001b[0m\u001b[0;34m(\u001b[0m\u001b[0mself\u001b[0m\u001b[0;34m.\u001b[0m\u001b[0m_df\u001b[0m\u001b[0;34m.\u001b[0m\u001b[0munpivot\u001b[0m\u001b[0;34m(\u001b[0m\u001b[0mon\u001b[0m\u001b[0;34m,\u001b[0m \u001b[0mindex\u001b[0m\u001b[0;34m,\u001b[0m \u001b[0mvalue_name\u001b[0m\u001b[0;34m,\u001b[0m \u001b[0mvariable_name\u001b[0m\u001b[0;34m)\u001b[0m\u001b[0;34m)\u001b[0m\u001b[0;34m\u001b[0m\u001b[0;34m\u001b[0m\u001b[0m\n\u001b[0m",
      "\u001b[0;31mSchemaFieldNotFoundError\u001b[0m: #"
     ]
    }
   ],
   "source": [
    "emo = multi_select_counts(df, [\n",
    " 'Understanding common workplace triggers ',\n",
    " 'Seeing the difference between low vs. high emotional intelligence ',\n",
    " 'Creating my Emotional Pause Plan ',\n",
    " 'Learning ways to stay calm and in control ',\n",
    " 'Talking with others about emotional stress ',\n",
    " 'Visualizing myself responding better in tough situations ',\n",
    " 'Identifying how others see me when I’m stressed '])"
   ]
  },
  {
   "cell_type": "code",
   "execution_count": 7,
   "id": "10b4d584",
   "metadata": {},
   "outputs": [
    {
     "ename": "SchemaFieldNotFoundError",
     "evalue": "#",
     "output_type": "error",
     "traceback": [
      "\u001b[0;31m---------------------------------------------------------------------------\u001b[0m",
      "\u001b[0;31mSchemaFieldNotFoundError\u001b[0m                  Traceback (most recent call last)",
      "\u001b[0;32m/tmp/ipykernel_9656/2578618060.py\u001b[0m in \u001b[0;36m?\u001b[0;34m()\u001b[0m\n\u001b[0;32m----> 1\u001b[0;31m emo = multi_select_counts(df, [\n\u001b[0m\u001b[1;32m      2\u001b[0m  \u001b[0;34m'Understanding common workplace triggers '\u001b[0m\u001b[0;34m,\u001b[0m\u001b[0;34m\u001b[0m\u001b[0;34m\u001b[0m\u001b[0m\n\u001b[1;32m      3\u001b[0m  \u001b[0;34m'Seeing the difference between low vs. high emotional intelligence '\u001b[0m\u001b[0;34m,\u001b[0m\u001b[0;34m\u001b[0m\u001b[0;34m\u001b[0m\u001b[0m\n\u001b[1;32m      4\u001b[0m  \u001b[0;34m'Creating my Emotional Pause Plan '\u001b[0m\u001b[0;34m,\u001b[0m\u001b[0;34m\u001b[0m\u001b[0;34m\u001b[0m\u001b[0m\n",
      "\u001b[0;32m~/Downloads/Upwork/SEYP/util.py\u001b[0m in \u001b[0;36m?\u001b[0;34m(data, columns, mapping)\u001b[0m\n\u001b[1;32m      3\u001b[0m \u001b[0;32mdef\u001b[0m \u001b[0mmulti_select_counts\u001b[0m\u001b[0;34m(\u001b[0m\u001b[0mdata\u001b[0m\u001b[0;34m:\u001b[0m \u001b[0mpl\u001b[0m\u001b[0;34m.\u001b[0m\u001b[0mDataFrame\u001b[0m\u001b[0;34m,\u001b[0m \u001b[0mcolumns\u001b[0m\u001b[0;34m:\u001b[0m \u001b[0mlist\u001b[0m\u001b[0;34m,\u001b[0m \u001b[0mmapping\u001b[0m\u001b[0;34m:\u001b[0m \u001b[0mdict\u001b[0m \u001b[0;34m=\u001b[0m \u001b[0;32mNone\u001b[0m\u001b[0;34m)\u001b[0m\u001b[0;34m:\u001b[0m\u001b[0;34m\u001b[0m\u001b[0;34m\u001b[0m\u001b[0m\n\u001b[1;32m      4\u001b[0m \u001b[0;34m\u001b[0m\u001b[0m\n\u001b[0;32m----> 5\u001b[0;31m     \u001b[0mdf_count\u001b[0m \u001b[0;34m=\u001b[0m \u001b[0mdata\u001b[0m\u001b[0;34m.\u001b[0m\u001b[0mselect\u001b[0m\u001b[0;34m(\u001b[0m\u001b[0mcolumns\u001b[0m\u001b[0;34m)\u001b[0m\u001b[0;34m.\u001b[0m\u001b[0munpivot\u001b[0m\u001b[0;34m(\u001b[0m \u001b[0mon\u001b[0m \u001b[0;34m=\u001b[0m \u001b[0mcolumns\u001b[0m\u001b[0;34m[\u001b[0m\u001b[0;36m1\u001b[0m\u001b[0;34m:\u001b[0m\u001b[0;34m]\u001b[0m\u001b[0;34m,\u001b[0m \u001b[0mindex\u001b[0m \u001b[0;34m=\u001b[0m \u001b[0;34m\"#\"\u001b[0m\u001b[0;34m)\u001b[0m\u001b[0;34m.\u001b[0m\u001b[0mdrop_nulls\u001b[0m\u001b[0;34m(\u001b[0m\u001b[0;34m)\u001b[0m\u001b[0;34m.\u001b[0m\u001b[0mto_pandas\u001b[0m\u001b[0;34m(\u001b[0m\u001b[0;34m)\u001b[0m\u001b[0;34m[\u001b[0m\u001b[0;34m\"value\"\u001b[0m\u001b[0;34m]\u001b[0m\u001b[0;34m\u001b[0m\u001b[0;34m\u001b[0m\u001b[0m\n\u001b[0m\u001b[1;32m      6\u001b[0m \u001b[0;34m\u001b[0m\u001b[0m\n\u001b[1;32m      7\u001b[0m     \u001b[0;32mif\u001b[0m \u001b[0mmapping\u001b[0m \u001b[0;32mis\u001b[0m \u001b[0;32mnot\u001b[0m \u001b[0;32mNone\u001b[0m\u001b[0;34m:\u001b[0m\u001b[0;34m\u001b[0m\u001b[0;34m\u001b[0m\u001b[0m\n\u001b[1;32m      8\u001b[0m         \u001b[0mdf_count\u001b[0m \u001b[0;34m=\u001b[0m \u001b[0mdf_count\u001b[0m\u001b[0;34m.\u001b[0m\u001b[0mreplace\u001b[0m\u001b[0;34m(\u001b[0m\u001b[0mmapping\u001b[0m\u001b[0;34m)\u001b[0m\u001b[0;34m\u001b[0m\u001b[0;34m\u001b[0m\u001b[0m\n",
      "\u001b[0;32m~/.local/lib/python3.12/site-packages/polars/dataframe/frame.py\u001b[0m in \u001b[0;36m?\u001b[0;34m(self, on, index, variable_name, value_name)\u001b[0m\n\u001b[1;32m   8710\u001b[0m         \"\"\"\n\u001b[1;32m   8711\u001b[0m         \u001b[0mon\u001b[0m \u001b[0;34m=\u001b[0m \u001b[0;34m[\u001b[0m\u001b[0;34m]\u001b[0m \u001b[0;32mif\u001b[0m \u001b[0mon\u001b[0m \u001b[0;32mis\u001b[0m \u001b[0;32mNone\u001b[0m \u001b[0;32melse\u001b[0m \u001b[0m_expand_selectors\u001b[0m\u001b[0;34m(\u001b[0m\u001b[0mself\u001b[0m\u001b[0;34m,\u001b[0m \u001b[0mon\u001b[0m\u001b[0;34m)\u001b[0m\u001b[0;34m\u001b[0m\u001b[0;34m\u001b[0m\u001b[0m\n\u001b[1;32m   8712\u001b[0m         \u001b[0mindex\u001b[0m \u001b[0;34m=\u001b[0m \u001b[0;34m[\u001b[0m\u001b[0;34m]\u001b[0m \u001b[0;32mif\u001b[0m \u001b[0mindex\u001b[0m \u001b[0;32mis\u001b[0m \u001b[0;32mNone\u001b[0m \u001b[0;32melse\u001b[0m \u001b[0m_expand_selectors\u001b[0m\u001b[0;34m(\u001b[0m\u001b[0mself\u001b[0m\u001b[0;34m,\u001b[0m \u001b[0mindex\u001b[0m\u001b[0;34m)\u001b[0m\u001b[0;34m\u001b[0m\u001b[0;34m\u001b[0m\u001b[0m\n\u001b[1;32m   8713\u001b[0m \u001b[0;34m\u001b[0m\u001b[0m\n\u001b[0;32m-> 8714\u001b[0;31m         \u001b[0;32mreturn\u001b[0m \u001b[0mself\u001b[0m\u001b[0;34m.\u001b[0m\u001b[0m_from_pydf\u001b[0m\u001b[0;34m(\u001b[0m\u001b[0mself\u001b[0m\u001b[0;34m.\u001b[0m\u001b[0m_df\u001b[0m\u001b[0;34m.\u001b[0m\u001b[0munpivot\u001b[0m\u001b[0;34m(\u001b[0m\u001b[0mon\u001b[0m\u001b[0;34m,\u001b[0m \u001b[0mindex\u001b[0m\u001b[0;34m,\u001b[0m \u001b[0mvalue_name\u001b[0m\u001b[0;34m,\u001b[0m \u001b[0mvariable_name\u001b[0m\u001b[0;34m)\u001b[0m\u001b[0;34m)\u001b[0m\u001b[0;34m\u001b[0m\u001b[0;34m\u001b[0m\u001b[0m\n\u001b[0m",
      "\u001b[0;31mSchemaFieldNotFoundError\u001b[0m: #"
     ]
    }
   ],
   "source": [
    "emo = multi_select_counts(df, [\n",
    " 'Understanding common workplace triggers ',\n",
    " 'Seeing the difference between low vs. high emotional intelligence ',\n",
    " 'Creating my Emotional Pause Plan ',\n",
    " 'Learning ways to stay calm and in control ',\n",
    " 'Talking with others about emotional stress ',\n",
    " 'Visualizing myself responding better in tough situations ',\n",
    " 'Identifying how others see me when I’m stressed '])\n",
    "\n",
    "fig = go.Figure(\n",
    "    data=[\n",
    "        go.Pie(\n",
    "            labels=emo.index,\n",
    "            values=emo.values,\n",
    "            hole=0.4,  # Set to 0.4 for a donut chart\n",
    "            textinfo='percent+label',  # Options: 'label', 'value', 'percent', 'label+percent'\n",
    "        )\n",
    "    ]\n",
    ")\n",
    "\n",
    "fig.update_layout(\n",
    "    title=\"Key Drivers of Career Decisions\",\n",
    "    template=\"plotly_white\",\n",
    "    height = 500\n",
    ")\n",
    "\n",
    "fig.show()"
   ]
  },
  {
   "cell_type": "code",
   "execution_count": 9,
   "id": "a19aa8a9",
   "metadata": {},
   "outputs": [
    {
     "ename": "NameError",
     "evalue": "name 'emo' is not defined",
     "output_type": "error",
     "traceback": [
      "\u001b[0;31m---------------------------------------------------------------------------\u001b[0m",
      "\u001b[0;31mNameError\u001b[0m                                 Traceback (most recent call last)",
      "Cell \u001b[0;32mIn[9], line 1\u001b[0m\n\u001b[0;32m----> 1\u001b[0m \u001b[38;5;28mprint\u001b[39m(\u001b[43memo\u001b[49m)\n",
      "\u001b[0;31mNameError\u001b[0m: name 'emo' is not defined"
     ]
    }
   ],
   "source": [
    "print(emo)"
   ]
  },
  {
   "cell_type": "code",
   "execution_count": null,
   "id": "5ab8b1e7",
   "metadata": {},
   "outputs": [],
   "source": []
  }
 ],
 "metadata": {
  "kernelspec": {
   "display_name": "Python 3",
   "language": "python",
   "name": "python3"
  },
  "language_info": {
   "codemirror_mode": {
    "name": "ipython",
    "version": 3
   },
   "file_extension": ".py",
   "mimetype": "text/x-python",
   "name": "python",
   "nbconvert_exporter": "python",
   "pygments_lexer": "ipython3",
   "version": "3.12.3"
  }
 },
 "nbformat": 4,
 "nbformat_minor": 5
}
