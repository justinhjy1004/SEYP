{
 "cells": [
  {
   "cell_type": "code",
   "execution_count": 1,
   "id": "1ce850f9",
   "metadata": {},
   "outputs": [],
   "source": [
    "import polars as pl\n",
    "import plotly.graph_objects as go\n",
    "import plotly.io as pio\n",
    "import mappings\n",
    "import plotly.express as px\n",
    "\n",
    "# Set the theme once\n",
    "pio.templates.default = \"plotly_white\"\n",
    "\n",
    "from util import df_prop"
   ]
  },
  {
   "cell_type": "code",
   "execution_count": 2,
   "id": "41c451ce",
   "metadata": {},
   "outputs": [],
   "source": [
    "df_pre = pl.read_csv(\"OriginalData/Preprogram_Survey.csv\")\n",
    "N_pre = df_pre.shape[0]\n",
    "\n",
    "df_pre = df_pre.with_columns(\n",
    "    pl.col(\"What is your current education status?\").map_elements(lambda x: \"True\" if (\"Currently\" in x) else \"False\", return_dtype=pl.String).alias(\"College Student\"),\n",
    "    pl.col(\"What is your gender identity?\").map_elements(lambda x: \"Female\" if (\"Female\" == x) else \"Not Female\", return_dtype=pl.String).alias(\"Gender\"),\n",
    "    pl.lit(1).alias(\"Count\") \n",
    ")\n",
    "\n",
    "df_post = pl.read_csv(\"./OriginalData/PostOrientation_Survey.csv\")\n",
    "N_post = df_post.shape[0]\n",
    "\n",
    "df_post = df_post.with_columns(\n",
    "    pl.col(\"What is your current education status?\").map_elements(lambda x: \"True\" if (\"Currently\" in x) else \"False\", return_dtype=pl.String).alias(\"College Student\"),\n",
    "    pl.col(\"What is your gender identity?\").map_elements(lambda x: \"Female\" if (\"Female \" == x) else \"Not Female\", return_dtype=pl.String).alias(\"Gender\"),\n",
    "    pl.lit(1).alias(\"Count\") \n",
    ")"
   ]
  },
  {
   "cell_type": "code",
   "execution_count": 3,
   "id": "d292484f",
   "metadata": {},
   "outputs": [],
   "source": [
    "post_orientation_mapping = {\n",
    "    \"How confident are you now in managing your emotions and staying calm when things get stressful at work or in life?\": [\n",
    "        \"I can manage challenges without giving up\"\n",
    "    ],\n",
    "    \"After learning about emotional intelligence, how are you at recognizing your personal emotional triggers?\": [\n",
    "        \"Stressed or overwhelmed\"\n",
    "    ],\n",
    "    \"After the Communication Styles workshop, how well do you understand your own communication style?\": [\n",
    "        \"Communicating professionally (verbal and written)\"\n",
    "    ],\n",
    "    \"Are you more or less motivated about setting and actually reaching your goals after the goals workshop?\": [\n",
    "        \"Motivated to work toward your goals\",\n",
    "        \"Focused and productive\"\n",
    "    ],\n",
    "    \"What is your current clarity level about your possible career paths?\": [\n",
    "        \"Do you have a *career plan or clear next steps?*\"\n",
    "    ],\n",
    "    \"How confident are you in your ability *to manage your money* this summer?\": [\n",
    "        \"Creating a personal budget\",\n",
    "        \"Understanding credit and credit scores\",\n",
    "    ],\n",
    "    \"After the personal branding session, how confident are you in *how you show up professionally*?\": [\n",
    "        \"I know how to present myself professionally in different settings\"\n",
    "    ],\n",
    "    \"Overall, how much do you feel you grew during the orientation?\": []\n",
    "}\n",
    "\n",
    "all_matched_columns = [col for cols in post_orientation_mapping.values() for col in cols]\n"
   ]
  },
  {
   "cell_type": "code",
   "execution_count": 4,
   "id": "d9d960cc",
   "metadata": {},
   "outputs": [],
   "source": [
    "df_pre_comp = df_pre.select(all_matched_columns).to_pandas()"
   ]
  },
  {
   "cell_type": "code",
   "execution_count": 5,
   "id": "78f8535d",
   "metadata": {},
   "outputs": [],
   "source": [
    "response_mapping = {\n",
    "    \"I can manage challenges without giving up\": {\n",
    "        'Strongly disagree': 0,\n",
    "        'Disagree': 1,\n",
    "        'Neutral ': 2,\n",
    "        'Agree': 3,\n",
    "        'Strongly agree': 4,\n",
    "        None: None\n",
    "    },\n",
    "    \"Stressed or overwhelmed\": {\n",
    "        'Very Often': 0,\n",
    "        'Often': 1,\n",
    "        'Sometimes': 2,\n",
    "        'Rarely': 3,\n",
    "        'Never': 4,\n",
    "        None: None\n",
    "    },\n",
    "    \"Communicating professionally (verbal and written)\": {\n",
    "        'Not confident': 0,\n",
    "        'Slightly ': 1,\n",
    "        'Somewhat': 2,\n",
    "        'Very': 3,\n",
    "        'Extremely': 4\n",
    "    },\n",
    "    \"Motivated to work toward your goals\": {\n",
    "        'Very Often': 4,\n",
    "        'Often': 3,\n",
    "        'Sometimes': 2,\n",
    "        'Rarely': 1,\n",
    "        'Never': 0,\n",
    "        None: None\n",
    "    },\n",
    "    \"Focused and productive\": {\n",
    "        'Very Often': 4,\n",
    "        'Often': 3,\n",
    "        'Sometimes': 2,\n",
    "        'Rarely': 1,\n",
    "        'Never': 0,\n",
    "        None: None\n",
    "    },\n",
    "    \"Do you have a *career plan or clear next steps?*\": {\n",
    "        \"I’m still exploring and need guidance\": 0,\n",
    "        'I have a general idea but need help organizing it': 1,\n",
    "        \"Yes, I have a clear plan I’m working on\": 2,\n",
    "        None: None\n",
    "    },\n",
    "    \"Creating a personal budget\": {\n",
    "        'Not familiar': 0,\n",
    "        'Slightly': 1,\n",
    "        'Somewhat': 2,\n",
    "        'Very': 3,\n",
    "        'Extremely': 4\n",
    "    },\n",
    "    \"Understanding credit and credit scores\": {\n",
    "        'Not familiar': 0,\n",
    "        'Slightly': 1,\n",
    "        'Somewhat': 2,\n",
    "        'Very': 3,\n",
    "        'Extremely': 4\n",
    "    },\n",
    "    \"I know how to present myself professionally in different settings\": {\n",
    "        'Strongly disagree': 0,\n",
    "        'Neutral ': 1,\n",
    "        'Agree': 2,\n",
    "        'Strongly agree': 3,\n",
    "        None: None\n",
    "    }\n",
    "}\n"
   ]
  },
  {
   "cell_type": "code",
   "execution_count": 6,
   "id": "cb7a465c",
   "metadata": {},
   "outputs": [
    {
     "name": "stderr",
     "output_type": "stream",
     "text": [
      "/tmp/ipykernel_42381/2928776004.py:3: FutureWarning: Downcasting behavior in `replace` is deprecated and will be removed in a future version. To retain the old behavior, explicitly call `result.infer_objects(copy=False)`. To opt-in to the future behavior, set `pd.set_option('future.no_silent_downcasting', True)`\n",
      "  df_pre_comp[column] = df_pre_comp[column].replace(mapping)\n"
     ]
    }
   ],
   "source": [
    "for column, mapping in response_mapping.items():\n",
    "    if column in df_pre_comp.columns:\n",
    "        df_pre_comp[column] = df_pre_comp[column].replace(mapping)"
   ]
  },
  {
   "cell_type": "code",
   "execution_count": 7,
   "id": "cd8ab512",
   "metadata": {},
   "outputs": [],
   "source": [
    "competency_to_item = {\n",
    "    'Confidence in Managing Emotions': 'I can manage challenges without giving up',\n",
    "    'Recognizing Emotional Triggers': 'Stressed or overwhelmed',\n",
    "    'Understanding Communication Style': 'Communicating professionally (verbal and written)',\n",
    "    'Motivation for Goal Setting': 'Motivated to work toward your goals',\n",
    "    'Clarity on Career Paths': 'Do you have a *career plan or clear next steps?*',\n",
    "    'Confidence in Money Management': 'Creating a personal budget',\n",
    "    'Confidence in Professional Presence': 'I know how to present myself professionally in different settings'\n",
    "}"
   ]
  },
  {
   "cell_type": "code",
   "execution_count": 8,
   "id": "2453a821",
   "metadata": {},
   "outputs": [],
   "source": [
    "reversed_dict = {v: k for k, v in competency_to_item.items()}\n",
    "\n",
    "pre_std = pl.DataFrame(df_pre_comp).select(competency_to_item.values()).rename(reversed_dict)"
   ]
  },
  {
   "cell_type": "code",
   "execution_count": 9,
   "id": "ea612b76",
   "metadata": {},
   "outputs": [],
   "source": [
    "pre_std = pre_std.unpivot(pre_std.columns, variable_name = \"Competency\", value_name = \"value\").group_by(\"Competency\").mean().with_columns( pl.lit(\"Pre-Orientation\"))"
   ]
  },
  {
   "cell_type": "code",
   "execution_count": 10,
   "id": "e50f5850",
   "metadata": {},
   "outputs": [
    {
     "name": "stderr",
     "output_type": "stream",
     "text": [
      "/tmp/ipykernel_42381/1716853796.py:30: FutureWarning: Downcasting behavior in `replace` is deprecated and will be removed in a future version. To retain the old behavior, explicitly call `result.infer_objects(copy=False)`. To opt-in to the future behavior, set `pd.set_option('future.no_silent_downcasting', True)`\n",
      "  df_numeric = df_growth.drop([\"#\"]).to_pandas().replace(mappings.all_post_orientation_score_map)\n"
     ]
    }
   ],
   "source": [
    "df_growth = df_post.select([\"#\"] + mappings.growth_questions).to_pandas()\n",
    "\n",
    "df_growth = pl.DataFrame(df_growth.replace(mappings.all_post_orientation_entry_mappings).rename(columns=mappings.original_to_concise_question_names))\n",
    "\n",
    "# Define the logical order for each set of responses\n",
    "# These lists should contain the *standardized* entries in your desired order\n",
    "order_confidence_emotions = ['Highly Confident', 'Very Confident', 'Slightly Confident', 'Not Confident At All']\n",
    "order_emotional_triggers = ['Significantly Better', 'Much Better', 'Slightly Better', 'Not Better At All']\n",
    "order_communication_style = ['Clearly Understand', 'Understand & Improving', 'General Understanding', 'Do Not Understand']\n",
    "order_goal_motivation = ['Highly Motivated', 'Much More Motivated', 'Slightly More Motivated', 'No Change', 'Less Motivated']\n",
    "order_career_paths = ['Very Clear', 'Solid Ideas', 'Slightly Clearer', 'Still Unsure']\n",
    "order_money_management = ['Highly Confident', 'Very Confident', 'Somewhat Confident', 'Not Confident At All'] # Duplicate of confidence, but good to keep explicit\n",
    "order_professional_presence = ['Highly Confident', 'Very Confident', 'Somewhat Confident', 'Slightly More Confident', 'Not Yet Confident']\n",
    "order_overall_growth = ['More Than Expected', 'Significant Growth', 'Some Growth', 'Slight Growth', 'No Growth At All']\n",
    "\n",
    "# A dictionary to map question names (or a unique identifier for them) to their respective orders\n",
    "post_orientation_question_orders = {\n",
    "    \"Confidence in Managing Emotions\": order_confidence_emotions,\n",
    "    \"Recognizing Emotional Triggers\": order_emotional_triggers,\n",
    "    \"Understanding Communication Style\": order_communication_style,\n",
    "    \"Motivation for Goal Setting\": order_goal_motivation,\n",
    "    \"Clarity on Career Paths\": order_career_paths,\n",
    "    \"Confidence in Money Management\": order_money_management,\n",
    "    \"Confidence in Professional Presence\": order_professional_presence,\n",
    "    \"Overall Growth\": order_overall_growth\n",
    "}\n",
    "\n",
    "\n",
    "\n",
    "df_numeric = df_growth.drop([\"#\"]).to_pandas().replace(mappings.all_post_orientation_score_map)\n",
    "\n",
    "# Step 3: Average across all responses per skill\n",
    "avg_scores = df_numeric.mean() + 1"
   ]
  },
  {
   "cell_type": "code",
   "execution_count": 11,
   "id": "583ef311",
   "metadata": {},
   "outputs": [],
   "source": [
    "post_std = pl.DataFrame(df_numeric).unpivot(df_numeric.columns, variable_name = \"Competency\").group_by(\"Competency\").mean().with_columns( pl.lit(\"Post-Orientation\")).filter(pl.col(\"Competency\").is_in(pre_std[\"Competency\"]))"
   ]
  },
  {
   "cell_type": "code",
   "execution_count": 12,
   "id": "24e6f44a",
   "metadata": {},
   "outputs": [],
   "source": [
    "df_comp = pl.concat([pre_std, post_std]).rename({\"literal\": \"When\"}).filter(\n",
    "    pl.col(\"Competency\") != \"Confidence in Managing Emotions\",\n",
    "    pl.col(\"Competency\") != \"Motivation for Goal Setting\"\n",
    ")"
   ]
  },
  {
   "cell_type": "code",
   "execution_count": 13,
   "id": "f466d889",
   "metadata": {},
   "outputs": [],
   "source": [
    "df_comp = df_comp.with_columns(pl.col(\"value\") + 1).with_columns( pl.col(\"Competency\").replace({\"Recognizing Emotional Triggers\": \"Emotional Management\"}))"
   ]
  },
  {
   "cell_type": "code",
   "execution_count": 14,
   "id": "8fc07112",
   "metadata": {},
   "outputs": [
    {
     "name": "stderr",
     "output_type": "stream",
     "text": [
      "/usr/lib/python3/dist-packages/plotly/express/_core.py:1992: FutureWarning: When grouping with a length-1 list-like, you will need to pass a length-1 tuple to get_group in a future version of pandas. Pass `(name,)` instead of `name` to silence this warning.\n",
      "  sf: grouped.get_group(s if len(s) > 1 else s[0])\n"
     ]
    },
    {
     "data": {
      "application/vnd.plotly.v1+json": {
       "config": {
        "plotlyServerURL": "https://plot.ly"
       },
       "data": [
        {
         "alignmentgroup": "True",
         "hovertemplate": "When=Pre-Orientation<br>Competency=%{x}<br>Average Score=%{y}<extra></extra>",
         "legendgroup": "Pre-Orientation",
         "marker": {
          "color": "#636efa",
          "pattern": {
           "shape": ""
          }
         },
         "name": "Pre-Orientation",
         "offsetgroup": "Pre-Orientation",
         "orientation": "v",
         "showlegend": true,
         "textposition": "auto",
         "type": "bar",
         "x": [
          "Emotional Management",
          "Understanding Communication Style",
          "Confidence in Money Management",
          "Confidence in Professional Presence",
          "Clarity on Career Paths"
         ],
         "xaxis": "x",
         "y": [
          2.606060606060606,
          3.7,
          3.56,
          3.2525252525252526,
          2.1717171717171717
         ],
         "yaxis": "y"
        },
        {
         "alignmentgroup": "True",
         "hovertemplate": "When=Post-Orientation<br>Competency=%{x}<br>Average Score=%{y}<extra></extra>",
         "legendgroup": "Post-Orientation",
         "marker": {
          "color": "#EF553B",
          "pattern": {
           "shape": ""
          }
         },
         "name": "Post-Orientation",
         "offsetgroup": "Post-Orientation",
         "orientation": "v",
         "showlegend": true,
         "textposition": "auto",
         "type": "bar",
         "x": [
          "Confidence in Professional Presence",
          "Confidence in Money Management",
          "Clarity on Career Paths",
          "Understanding Communication Style",
          "Emotional Management"
         ],
         "xaxis": "x",
         "y": [
          3.764705882352941,
          4.1764705882352935,
          4,
          4.117647058823529,
          4.164705882352941
         ],
         "yaxis": "y"
        }
       ],
       "layout": {
        "barmode": "group",
        "legend": {
         "title": {
          "text": "When"
         },
         "tracegroupgap": 0
        },
        "template": {
         "data": {
          "bar": [
           {
            "error_x": {
             "color": "#2a3f5f"
            },
            "error_y": {
             "color": "#2a3f5f"
            },
            "marker": {
             "line": {
              "color": "white",
              "width": 0.5
             },
             "pattern": {
              "fillmode": "overlay",
              "size": 10,
              "solidity": 0.2
             }
            },
            "type": "bar"
           }
          ],
          "barpolar": [
           {
            "marker": {
             "line": {
              "color": "white",
              "width": 0.5
             },
             "pattern": {
              "fillmode": "overlay",
              "size": 10,
              "solidity": 0.2
             }
            },
            "type": "barpolar"
           }
          ],
          "carpet": [
           {
            "aaxis": {
             "endlinecolor": "#2a3f5f",
             "gridcolor": "#C8D4E3",
             "linecolor": "#C8D4E3",
             "minorgridcolor": "#C8D4E3",
             "startlinecolor": "#2a3f5f"
            },
            "baxis": {
             "endlinecolor": "#2a3f5f",
             "gridcolor": "#C8D4E3",
             "linecolor": "#C8D4E3",
             "minorgridcolor": "#C8D4E3",
             "startlinecolor": "#2a3f5f"
            },
            "type": "carpet"
           }
          ],
          "choropleth": [
           {
            "colorbar": {
             "outlinewidth": 0,
             "ticks": ""
            },
            "type": "choropleth"
           }
          ],
          "contour": [
           {
            "colorbar": {
             "outlinewidth": 0,
             "ticks": ""
            },
            "colorscale": [
             [
              0,
              "#0d0887"
             ],
             [
              0.1111111111111111,
              "#46039f"
             ],
             [
              0.2222222222222222,
              "#7201a8"
             ],
             [
              0.3333333333333333,
              "#9c179e"
             ],
             [
              0.4444444444444444,
              "#bd3786"
             ],
             [
              0.5555555555555556,
              "#d8576b"
             ],
             [
              0.6666666666666666,
              "#ed7953"
             ],
             [
              0.7777777777777778,
              "#fb9f3a"
             ],
             [
              0.8888888888888888,
              "#fdca26"
             ],
             [
              1,
              "#f0f921"
             ]
            ],
            "type": "contour"
           }
          ],
          "contourcarpet": [
           {
            "colorbar": {
             "outlinewidth": 0,
             "ticks": ""
            },
            "type": "contourcarpet"
           }
          ],
          "heatmap": [
           {
            "colorbar": {
             "outlinewidth": 0,
             "ticks": ""
            },
            "colorscale": [
             [
              0,
              "#0d0887"
             ],
             [
              0.1111111111111111,
              "#46039f"
             ],
             [
              0.2222222222222222,
              "#7201a8"
             ],
             [
              0.3333333333333333,
              "#9c179e"
             ],
             [
              0.4444444444444444,
              "#bd3786"
             ],
             [
              0.5555555555555556,
              "#d8576b"
             ],
             [
              0.6666666666666666,
              "#ed7953"
             ],
             [
              0.7777777777777778,
              "#fb9f3a"
             ],
             [
              0.8888888888888888,
              "#fdca26"
             ],
             [
              1,
              "#f0f921"
             ]
            ],
            "type": "heatmap"
           }
          ],
          "heatmapgl": [
           {
            "colorbar": {
             "outlinewidth": 0,
             "ticks": ""
            },
            "colorscale": [
             [
              0,
              "#0d0887"
             ],
             [
              0.1111111111111111,
              "#46039f"
             ],
             [
              0.2222222222222222,
              "#7201a8"
             ],
             [
              0.3333333333333333,
              "#9c179e"
             ],
             [
              0.4444444444444444,
              "#bd3786"
             ],
             [
              0.5555555555555556,
              "#d8576b"
             ],
             [
              0.6666666666666666,
              "#ed7953"
             ],
             [
              0.7777777777777778,
              "#fb9f3a"
             ],
             [
              0.8888888888888888,
              "#fdca26"
             ],
             [
              1,
              "#f0f921"
             ]
            ],
            "type": "heatmapgl"
           }
          ],
          "histogram": [
           {
            "marker": {
             "pattern": {
              "fillmode": "overlay",
              "size": 10,
              "solidity": 0.2
             }
            },
            "type": "histogram"
           }
          ],
          "histogram2d": [
           {
            "colorbar": {
             "outlinewidth": 0,
             "ticks": ""
            },
            "colorscale": [
             [
              0,
              "#0d0887"
             ],
             [
              0.1111111111111111,
              "#46039f"
             ],
             [
              0.2222222222222222,
              "#7201a8"
             ],
             [
              0.3333333333333333,
              "#9c179e"
             ],
             [
              0.4444444444444444,
              "#bd3786"
             ],
             [
              0.5555555555555556,
              "#d8576b"
             ],
             [
              0.6666666666666666,
              "#ed7953"
             ],
             [
              0.7777777777777778,
              "#fb9f3a"
             ],
             [
              0.8888888888888888,
              "#fdca26"
             ],
             [
              1,
              "#f0f921"
             ]
            ],
            "type": "histogram2d"
           }
          ],
          "histogram2dcontour": [
           {
            "colorbar": {
             "outlinewidth": 0,
             "ticks": ""
            },
            "colorscale": [
             [
              0,
              "#0d0887"
             ],
             [
              0.1111111111111111,
              "#46039f"
             ],
             [
              0.2222222222222222,
              "#7201a8"
             ],
             [
              0.3333333333333333,
              "#9c179e"
             ],
             [
              0.4444444444444444,
              "#bd3786"
             ],
             [
              0.5555555555555556,
              "#d8576b"
             ],
             [
              0.6666666666666666,
              "#ed7953"
             ],
             [
              0.7777777777777778,
              "#fb9f3a"
             ],
             [
              0.8888888888888888,
              "#fdca26"
             ],
             [
              1,
              "#f0f921"
             ]
            ],
            "type": "histogram2dcontour"
           }
          ],
          "mesh3d": [
           {
            "colorbar": {
             "outlinewidth": 0,
             "ticks": ""
            },
            "type": "mesh3d"
           }
          ],
          "parcoords": [
           {
            "line": {
             "colorbar": {
              "outlinewidth": 0,
              "ticks": ""
             }
            },
            "type": "parcoords"
           }
          ],
          "pie": [
           {
            "automargin": true,
            "type": "pie"
           }
          ],
          "scatter": [
           {
            "fillpattern": {
             "fillmode": "overlay",
             "size": 10,
             "solidity": 0.2
            },
            "type": "scatter"
           }
          ],
          "scatter3d": [
           {
            "line": {
             "colorbar": {
              "outlinewidth": 0,
              "ticks": ""
             }
            },
            "marker": {
             "colorbar": {
              "outlinewidth": 0,
              "ticks": ""
             }
            },
            "type": "scatter3d"
           }
          ],
          "scattercarpet": [
           {
            "marker": {
             "colorbar": {
              "outlinewidth": 0,
              "ticks": ""
             }
            },
            "type": "scattercarpet"
           }
          ],
          "scattergeo": [
           {
            "marker": {
             "colorbar": {
              "outlinewidth": 0,
              "ticks": ""
             }
            },
            "type": "scattergeo"
           }
          ],
          "scattergl": [
           {
            "marker": {
             "colorbar": {
              "outlinewidth": 0,
              "ticks": ""
             }
            },
            "type": "scattergl"
           }
          ],
          "scattermapbox": [
           {
            "marker": {
             "colorbar": {
              "outlinewidth": 0,
              "ticks": ""
             }
            },
            "type": "scattermapbox"
           }
          ],
          "scatterpolar": [
           {
            "marker": {
             "colorbar": {
              "outlinewidth": 0,
              "ticks": ""
             }
            },
            "type": "scatterpolar"
           }
          ],
          "scatterpolargl": [
           {
            "marker": {
             "colorbar": {
              "outlinewidth": 0,
              "ticks": ""
             }
            },
            "type": "scatterpolargl"
           }
          ],
          "scatterternary": [
           {
            "marker": {
             "colorbar": {
              "outlinewidth": 0,
              "ticks": ""
             }
            },
            "type": "scatterternary"
           }
          ],
          "surface": [
           {
            "colorbar": {
             "outlinewidth": 0,
             "ticks": ""
            },
            "colorscale": [
             [
              0,
              "#0d0887"
             ],
             [
              0.1111111111111111,
              "#46039f"
             ],
             [
              0.2222222222222222,
              "#7201a8"
             ],
             [
              0.3333333333333333,
              "#9c179e"
             ],
             [
              0.4444444444444444,
              "#bd3786"
             ],
             [
              0.5555555555555556,
              "#d8576b"
             ],
             [
              0.6666666666666666,
              "#ed7953"
             ],
             [
              0.7777777777777778,
              "#fb9f3a"
             ],
             [
              0.8888888888888888,
              "#fdca26"
             ],
             [
              1,
              "#f0f921"
             ]
            ],
            "type": "surface"
           }
          ],
          "table": [
           {
            "cells": {
             "fill": {
              "color": "#EBF0F8"
             },
             "line": {
              "color": "white"
             }
            },
            "header": {
             "fill": {
              "color": "#C8D4E3"
             },
             "line": {
              "color": "white"
             }
            },
            "type": "table"
           }
          ]
         },
         "layout": {
          "annotationdefaults": {
           "arrowcolor": "#2a3f5f",
           "arrowhead": 0,
           "arrowwidth": 1
          },
          "autotypenumbers": "strict",
          "coloraxis": {
           "colorbar": {
            "outlinewidth": 0,
            "ticks": ""
           }
          },
          "colorscale": {
           "diverging": [
            [
             0,
             "#8e0152"
            ],
            [
             0.1,
             "#c51b7d"
            ],
            [
             0.2,
             "#de77ae"
            ],
            [
             0.3,
             "#f1b6da"
            ],
            [
             0.4,
             "#fde0ef"
            ],
            [
             0.5,
             "#f7f7f7"
            ],
            [
             0.6,
             "#e6f5d0"
            ],
            [
             0.7,
             "#b8e186"
            ],
            [
             0.8,
             "#7fbc41"
            ],
            [
             0.9,
             "#4d9221"
            ],
            [
             1,
             "#276419"
            ]
           ],
           "sequential": [
            [
             0,
             "#0d0887"
            ],
            [
             0.1111111111111111,
             "#46039f"
            ],
            [
             0.2222222222222222,
             "#7201a8"
            ],
            [
             0.3333333333333333,
             "#9c179e"
            ],
            [
             0.4444444444444444,
             "#bd3786"
            ],
            [
             0.5555555555555556,
             "#d8576b"
            ],
            [
             0.6666666666666666,
             "#ed7953"
            ],
            [
             0.7777777777777778,
             "#fb9f3a"
            ],
            [
             0.8888888888888888,
             "#fdca26"
            ],
            [
             1,
             "#f0f921"
            ]
           ],
           "sequentialminus": [
            [
             0,
             "#0d0887"
            ],
            [
             0.1111111111111111,
             "#46039f"
            ],
            [
             0.2222222222222222,
             "#7201a8"
            ],
            [
             0.3333333333333333,
             "#9c179e"
            ],
            [
             0.4444444444444444,
             "#bd3786"
            ],
            [
             0.5555555555555556,
             "#d8576b"
            ],
            [
             0.6666666666666666,
             "#ed7953"
            ],
            [
             0.7777777777777778,
             "#fb9f3a"
            ],
            [
             0.8888888888888888,
             "#fdca26"
            ],
            [
             1,
             "#f0f921"
            ]
           ]
          },
          "colorway": [
           "#636efa",
           "#EF553B",
           "#00cc96",
           "#ab63fa",
           "#FFA15A",
           "#19d3f3",
           "#FF6692",
           "#B6E880",
           "#FF97FF",
           "#FECB52"
          ],
          "font": {
           "color": "#2a3f5f"
          },
          "geo": {
           "bgcolor": "white",
           "lakecolor": "white",
           "landcolor": "white",
           "showlakes": true,
           "showland": true,
           "subunitcolor": "#C8D4E3"
          },
          "hoverlabel": {
           "align": "left"
          },
          "hovermode": "closest",
          "mapbox": {
           "style": "light"
          },
          "paper_bgcolor": "white",
          "plot_bgcolor": "white",
          "polar": {
           "angularaxis": {
            "gridcolor": "#EBF0F8",
            "linecolor": "#EBF0F8",
            "ticks": ""
           },
           "bgcolor": "white",
           "radialaxis": {
            "gridcolor": "#EBF0F8",
            "linecolor": "#EBF0F8",
            "ticks": ""
           }
          },
          "scene": {
           "xaxis": {
            "backgroundcolor": "white",
            "gridcolor": "#DFE8F3",
            "gridwidth": 2,
            "linecolor": "#EBF0F8",
            "showbackground": true,
            "ticks": "",
            "zerolinecolor": "#EBF0F8"
           },
           "yaxis": {
            "backgroundcolor": "white",
            "gridcolor": "#DFE8F3",
            "gridwidth": 2,
            "linecolor": "#EBF0F8",
            "showbackground": true,
            "ticks": "",
            "zerolinecolor": "#EBF0F8"
           },
           "zaxis": {
            "backgroundcolor": "white",
            "gridcolor": "#DFE8F3",
            "gridwidth": 2,
            "linecolor": "#EBF0F8",
            "showbackground": true,
            "ticks": "",
            "zerolinecolor": "#EBF0F8"
           }
          },
          "shapedefaults": {
           "line": {
            "color": "#2a3f5f"
           }
          },
          "ternary": {
           "aaxis": {
            "gridcolor": "#DFE8F3",
            "linecolor": "#A2B1C6",
            "ticks": ""
           },
           "baxis": {
            "gridcolor": "#DFE8F3",
            "linecolor": "#A2B1C6",
            "ticks": ""
           },
           "bgcolor": "white",
           "caxis": {
            "gridcolor": "#DFE8F3",
            "linecolor": "#A2B1C6",
            "ticks": ""
           }
          },
          "title": {
           "x": 0.05
          },
          "xaxis": {
           "automargin": true,
           "gridcolor": "#EBF0F8",
           "linecolor": "#EBF0F8",
           "ticks": "",
           "title": {
            "standoff": 15
           },
           "zerolinecolor": "#EBF0F8",
           "zerolinewidth": 2
          },
          "yaxis": {
           "automargin": true,
           "gridcolor": "#EBF0F8",
           "linecolor": "#EBF0F8",
           "ticks": "",
           "title": {
            "standoff": 15
           },
           "zerolinecolor": "#EBF0F8",
           "zerolinewidth": 2
          }
         }
        },
        "title": {
         "text": "Pre- vs Post-Orientation Scores by Competency"
        },
        "xaxis": {
         "anchor": "y",
         "domain": [
          0,
          1
         ],
         "tickangle": -45,
         "title": {
          "text": "Competency"
         }
        },
        "yaxis": {
         "anchor": "x",
         "domain": [
          0,
          1
         ],
         "range": [
          0,
          5
         ],
         "title": {
          "text": "Average Score"
         }
        }
       }
      }
     },
     "metadata": {},
     "output_type": "display_data"
    }
   ],
   "source": [
    "# Create grouped bar chart\n",
    "fig = px.bar(\n",
    "    df_comp,\n",
    "    x=\"Competency\",\n",
    "    y=\"value\",\n",
    "    color=\"When\",\n",
    "    barmode=\"group\",\n",
    "    labels={\"value\": \"Average Score\", \"Competency\": \"Competency\"},\n",
    "    title=\"Pre- vs Post-Orientation Scores by Competency\"\n",
    ")\n",
    "\n",
    "fig.update_layout(xaxis_tickangle=-45, yaxis_range = [0,5])\n",
    "fig.show()"
   ]
  },
  {
   "cell_type": "code",
   "execution_count": 17,
   "id": "760e3a24",
   "metadata": {},
   "outputs": [
    {
     "name": "stdout",
     "output_type": "stream",
     "text": [
      "I can manage challenges without giving up\n",
      "shape: (6, 3)\n",
      "┌─────────────────────────────────┬─────┬──────┐\n",
      "│ I can manage challenges withou… ┆ len ┆ prop │\n",
      "│ ---                             ┆ --- ┆ ---  │\n",
      "│ str                             ┆ u32 ┆ f64  │\n",
      "╞═════════════════════════════════╪═════╪══════╡\n",
      "│ null                            ┆ 1   ┆ 0.01 │\n",
      "│ Disagree                        ┆ 1   ┆ 0.01 │\n",
      "│ Strongly agree                  ┆ 31  ┆ 0.31 │\n",
      "│ Neutral                         ┆ 20  ┆ 0.2  │\n",
      "│ Agree                           ┆ 45  ┆ 0.45 │\n",
      "│ Strongly disagree               ┆ 2   ┆ 0.02 │\n",
      "└─────────────────────────────────┴─────┴──────┘\n",
      "Stressed or overwhelmed\n",
      "shape: (6, 3)\n",
      "┌─────────────────────────┬─────┬──────┐\n",
      "│ Stressed or overwhelmed ┆ len ┆ prop │\n",
      "│ ---                     ┆ --- ┆ ---  │\n",
      "│ str                     ┆ u32 ┆ f64  │\n",
      "╞═════════════════════════╪═════╪══════╡\n",
      "│ Very Often              ┆ 16  ┆ 0.16 │\n",
      "│ Never                   ┆ 2   ┆ 0.02 │\n",
      "│ Rarely                  ┆ 13  ┆ 0.13 │\n",
      "│ null                    ┆ 1   ┆ 0.01 │\n",
      "│ Sometimes               ┆ 44  ┆ 0.44 │\n",
      "│ Often                   ┆ 24  ┆ 0.24 │\n",
      "└─────────────────────────┴─────┴──────┘\n",
      "Communicating professionally (verbal and written)\n",
      "shape: (5, 3)\n",
      "┌─────────────────────────────────┬─────┬──────┐\n",
      "│ Communicating professionally (… ┆ len ┆ prop │\n",
      "│ ---                             ┆ --- ┆ ---  │\n",
      "│ str                             ┆ u32 ┆ f64  │\n",
      "╞═════════════════════════════════╪═════╪══════╡\n",
      "│ Extremely                       ┆ 21  ┆ 0.21 │\n",
      "│ Slightly                        ┆ 5   ┆ 0.05 │\n",
      "│ Very                            ┆ 47  ┆ 0.47 │\n",
      "│ Not confident                   ┆ 7   ┆ 0.07 │\n",
      "│ Somewhat                        ┆ 20  ┆ 0.2  │\n",
      "└─────────────────────────────────┴─────┴──────┘\n",
      "Motivated to work toward your goals\n",
      "shape: (6, 3)\n",
      "┌─────────────────────────────────┬─────┬──────┐\n",
      "│ Motivated to work toward your … ┆ len ┆ prop │\n",
      "│ ---                             ┆ --- ┆ ---  │\n",
      "│ str                             ┆ u32 ┆ f64  │\n",
      "╞═════════════════════════════════╪═════╪══════╡\n",
      "│ Very Often                      ┆ 41  ┆ 0.41 │\n",
      "│ Rarely                          ┆ 2   ┆ 0.02 │\n",
      "│ Sometimes                       ┆ 19  ┆ 0.19 │\n",
      "│ Often                           ┆ 36  ┆ 0.36 │\n",
      "│ null                            ┆ 1   ┆ 0.01 │\n",
      "│ Never                           ┆ 1   ┆ 0.01 │\n",
      "└─────────────────────────────────┴─────┴──────┘\n",
      "Do you have a *career plan or clear next steps?*\n",
      "shape: (4, 3)\n",
      "┌─────────────────────────────────┬─────┬──────┐\n",
      "│ Do you have a *career plan or … ┆ len ┆ prop │\n",
      "│ ---                             ┆ --- ┆ ---  │\n",
      "│ str                             ┆ u32 ┆ f64  │\n",
      "╞═════════════════════════════════╪═════╪══════╡\n",
      "│ I have a general idea but need… ┆ 44  ┆ 0.44 │\n",
      "│ I’m still exploring and need g… ┆ 19  ┆ 0.19 │\n",
      "│ null                            ┆ 1   ┆ 0.01 │\n",
      "│ Yes, I have a clear plan I’m w… ┆ 36  ┆ 0.36 │\n",
      "└─────────────────────────────────┴─────┴──────┘\n",
      "Creating a personal budget\n",
      "shape: (5, 3)\n",
      "┌────────────────────────────┬─────┬──────┐\n",
      "│ Creating a personal budget ┆ len ┆ prop │\n",
      "│ ---                        ┆ --- ┆ ---  │\n",
      "│ str                        ┆ u32 ┆ f64  │\n",
      "╞════════════════════════════╪═════╪══════╡\n",
      "│ Slightly                   ┆ 11  ┆ 0.11 │\n",
      "│ Extremely                  ┆ 21  ┆ 0.21 │\n",
      "│ Very                       ┆ 37  ┆ 0.37 │\n",
      "│ Somewhat                   ┆ 25  ┆ 0.25 │\n",
      "│ Not familiar               ┆ 6   ┆ 0.06 │\n",
      "└────────────────────────────┴─────┴──────┘\n",
      "I know how to present myself professionally in different settings\n",
      "shape: (5, 3)\n",
      "┌─────────────────────────────────┬─────┬──────┐\n",
      "│ I know how to present myself p… ┆ len ┆ prop │\n",
      "│ ---                             ┆ --- ┆ ---  │\n",
      "│ str                             ┆ u32 ┆ f64  │\n",
      "╞═════════════════════════════════╪═════╪══════╡\n",
      "│ Strongly disagree               ┆ 2   ┆ 0.02 │\n",
      "│ Neutral                         ┆ 12  ┆ 0.12 │\n",
      "│ null                            ┆ 1   ┆ 0.01 │\n",
      "│ Agree                           ┆ 44  ┆ 0.44 │\n",
      "│ Strongly agree                  ┆ 41  ┆ 0.41 │\n",
      "└─────────────────────────────────┴─────┴──────┘\n"
     ]
    }
   ],
   "source": [
    "for c in df_pre.select(list(competency_to_item.values())).columns:\n",
    "    df_prop(df_pre, c, N_pre)"
   ]
  },
  {
   "cell_type": "code",
   "execution_count": null,
   "id": "8513bd0a",
   "metadata": {},
   "outputs": [
    {
     "name": "stdout",
     "output_type": "stream",
     "text": [
      "shape: (85,)\n",
      "Series: 'Confidence in Managing Emotions' [str]\n",
      "[\n",
      "\t\"Highly Confident\"\n",
      "\t\"Slightly Confident\"\n",
      "\t\"Slightly Confident\"\n",
      "\t\"Highly Confident\"\n",
      "\t\"Highly Confident\"\n",
      "\t…\n",
      "\t\"Very Confident\"\n",
      "\t\"Very Confident\"\n",
      "\t\"Very Confident\"\n",
      "\t\"Highly Confident\"\n",
      "\t\"Highly Confident\"\n",
      "]\n",
      "shape: (4, 3)\n",
      "┌─────────────────────────────────┬─────┬──────────┐\n",
      "│ Confidence in Managing Emotion… ┆ len ┆ prop     │\n",
      "│ ---                             ┆ --- ┆ ---      │\n",
      "│ str                             ┆ u32 ┆ f64      │\n",
      "╞═════════════════════════════════╪═════╪══════════╡\n",
      "│ Very Confident                  ┆ 45  ┆ 0.529412 │\n",
      "│ Not Confident At All            ┆ 1   ┆ 0.011765 │\n",
      "│ Slightly Confident              ┆ 10  ┆ 0.117647 │\n",
      "│ Highly Confident                ┆ 29  ┆ 0.341176 │\n",
      "└─────────────────────────────────┴─────┴──────────┘\n",
      "shape: (85,)\n",
      "Series: 'Recognizing Emotional Triggers' [str]\n",
      "[\n",
      "\t\"Significantly Better\"\n",
      "\t\"Much Better\"\n",
      "\t\"Much Better\"\n",
      "\t\"Significantly Better\"\n",
      "\t\"Significantly Better\"\n",
      "\t…\n",
      "\t\"Much Better\"\n",
      "\t\"Much Better\"\n",
      "\t\"Slightly Better\"\n",
      "\t\"Much Better\"\n",
      "\t\"Significantly Better\"\n",
      "]\n",
      "shape: (4, 3)\n",
      "┌────────────────────────────────┬─────┬──────────┐\n",
      "│ Recognizing Emotional Triggers ┆ len ┆ prop     │\n",
      "│ ---                            ┆ --- ┆ ---      │\n",
      "│ str                            ┆ u32 ┆ f64      │\n",
      "╞════════════════════════════════╪═════╪══════════╡\n",
      "│ Significantly Better           ┆ 28  ┆ 0.329412 │\n",
      "│ Not Better At All              ┆ 2   ┆ 0.023529 │\n",
      "│ Slightly Better                ┆ 10  ┆ 0.117647 │\n",
      "│ Much Better                    ┆ 45  ┆ 0.529412 │\n",
      "└────────────────────────────────┴─────┴──────────┘\n",
      "shape: (85,)\n",
      "Series: 'Understanding Communication Style' [str]\n",
      "[\n",
      "\t\"Clearly Understand\"\n",
      "\t\"General Understanding\"\n",
      "\t\"General Understanding\"\n",
      "\t\"Clearly Understand\"\n",
      "\t\"Clearly Understand\"\n",
      "\t…\n",
      "\t\"General Understanding\"\n",
      "\t\"General Understanding\"\n",
      "\t\"General Understanding\"\n",
      "\t\"Clearly Understand\"\n",
      "\t\"General Understanding\"\n",
      "]\n",
      "shape: (4, 3)\n",
      "┌─────────────────────────────────┬─────┬──────────┐\n",
      "│ Understanding Communication St… ┆ len ┆ prop     │\n",
      "│ ---                             ┆ --- ┆ ---      │\n",
      "│ str                             ┆ u32 ┆ f64      │\n",
      "╞═════════════════════════════════╪═════╪══════════╡\n",
      "│ Clearly Understand              ┆ 35  ┆ 0.411765 │\n",
      "│ Understand & Improving          ┆ 26  ┆ 0.305882 │\n",
      "│ Do Not Understand               ┆ 1   ┆ 0.011765 │\n",
      "│ General Understanding           ┆ 23  ┆ 0.270588 │\n",
      "└─────────────────────────────────┴─────┴──────────┘\n",
      "shape: (85,)\n",
      "Series: 'Motivation for Goal Setting' [str]\n",
      "[\n",
      "\t\"Much More Motivated\"\n",
      "\t\"Much More Motivated\"\n",
      "\t\"Much More Motivated\"\n",
      "\t\"Slightly More Motivated\"\n",
      "\t\"Much More Motivated\"\n",
      "\t…\n",
      "\t\"Slightly More Motivated\"\n",
      "\t\"Slightly More Motivated\"\n",
      "\t\"Much More Motivated\"\n",
      "\t\"Highly Motivated\"\n",
      "\t\"Much More Motivated\"\n",
      "]\n",
      "shape: (5, 3)\n",
      "┌─────────────────────────────┬─────┬──────────┐\n",
      "│ Motivation for Goal Setting ┆ len ┆ prop     │\n",
      "│ ---                         ┆ --- ┆ ---      │\n",
      "│ str                         ┆ u32 ┆ f64      │\n",
      "╞═════════════════════════════╪═════╪══════════╡\n",
      "│ Slightly More Motivated     ┆ 17  ┆ 0.2      │\n",
      "│ Highly Motivated            ┆ 23  ┆ 0.270588 │\n",
      "│ No Change                   ┆ 4   ┆ 0.047059 │\n",
      "│ Less Motivated              ┆ 2   ┆ 0.023529 │\n",
      "│ Much More Motivated         ┆ 39  ┆ 0.458824 │\n",
      "└─────────────────────────────┴─────┴──────────┘\n",
      "shape: (85,)\n",
      "Series: 'Clarity on Career Paths' [str]\n",
      "[\n",
      "\t\"Solid Ideas\"\n",
      "\t\"Solid Ideas\"\n",
      "\t\"Solid Ideas\"\n",
      "\t\"Slightly Clearer\"\n",
      "\t\"Solid Ideas\"\n",
      "\t…\n",
      "\t\"Solid Ideas\"\n",
      "\t\"Solid Ideas\"\n",
      "\t\"Slightly Clearer\"\n",
      "\t\"Very Clear\"\n",
      "\t\"Slightly Clearer\"\n",
      "]\n",
      "shape: (4, 3)\n",
      "┌─────────────────────────┬─────┬──────────┐\n",
      "│ Clarity on Career Paths ┆ len ┆ prop     │\n",
      "│ ---                     ┆ --- ┆ ---      │\n",
      "│ str                     ┆ u32 ┆ f64      │\n",
      "╞═════════════════════════╪═════╪══════════╡\n",
      "│ Slightly Clearer        ┆ 12  ┆ 0.141176 │\n",
      "│ Still Unsure            ┆ 5   ┆ 0.058824 │\n",
      "│ Solid Ideas             ┆ 46  ┆ 0.541176 │\n",
      "│ Very Clear              ┆ 22  ┆ 0.258824 │\n",
      "└─────────────────────────┴─────┴──────────┘\n",
      "shape: (85,)\n",
      "Series: 'Confidence in Money Management' [str]\n",
      "[\n",
      "\t\"Highly Confident\"\n",
      "\t\"Very Confident\"\n",
      "\t\"Somewhat Confident\"\n",
      "\t\"Very Confident\"\n",
      "\t\"Highly Confident\"\n",
      "\t…\n",
      "\t\"Highly Confident\"\n",
      "\t\"Somewhat Confident\"\n",
      "\t\"Very Confident\"\n",
      "\t\"Highly Confident\"\n",
      "\t\"Very Confident\"\n",
      "]\n",
      "shape: (4, 3)\n",
      "┌────────────────────────────────┬─────┬──────────┐\n",
      "│ Confidence in Money Management ┆ len ┆ prop     │\n",
      "│ ---                            ┆ --- ┆ ---      │\n",
      "│ str                            ┆ u32 ┆ f64      │\n",
      "╞════════════════════════════════╪═════╪══════════╡\n",
      "│ Somewhat Confident             ┆ 13  ┆ 0.152941 │\n",
      "│ Not Confident At All           ┆ 1   ┆ 0.011765 │\n",
      "│ Highly Confident               ┆ 31  ┆ 0.364706 │\n",
      "│ Very Confident                 ┆ 40  ┆ 0.470588 │\n",
      "└────────────────────────────────┴─────┴──────────┘\n",
      "shape: (85,)\n",
      "Series: 'Confidence in Professional Presence' [str]\n",
      "[\n",
      "\t\"Very Confident\"\n",
      "\t\"Somewhat Confident\"\n",
      "\t\"Very Confident\"\n",
      "\t\"Very Confident\"\n",
      "\t\"Very Confident\"\n",
      "\t…\n",
      "\t\"Slightly More Confident\"\n",
      "\t\"Very Confident\"\n",
      "\t\"Somewhat Confident\"\n",
      "\t\"Highly Confident\"\n",
      "\t\"Somewhat Confident\"\n",
      "]\n",
      "shape: (5, 3)\n",
      "┌─────────────────────────────────┬─────┬──────────┐\n",
      "│ Confidence in Professional Pre… ┆ len ┆ prop     │\n",
      "│ ---                             ┆ --- ┆ ---      │\n",
      "│ str                             ┆ u32 ┆ f64      │\n",
      "╞═════════════════════════════════╪═════╪══════════╡\n",
      "│ Highly Confident                ┆ 19  ┆ 0.223529 │\n",
      "│ Not Yet Confident               ┆ 1   ┆ 0.011765 │\n",
      "│ Very Confident                  ┆ 37  ┆ 0.435294 │\n",
      "│ Somewhat Confident              ┆ 20  ┆ 0.235294 │\n",
      "│ Slightly More Confident         ┆ 8   ┆ 0.094118 │\n",
      "└─────────────────────────────────┴─────┴──────────┘\n"
     ]
    }
   ],
   "source": [
    "for c in pl.DataFrame(df_growth).select(list(competency_to_item.keys())):\n",
    "    if \n",
    "    df_prop(df_growth, c, N_post)"
   ]
  },
  {
   "cell_type": "code",
   "execution_count": 51,
   "id": "5de6f8b1",
   "metadata": {},
   "outputs": [],
   "source": [
    "career_path_mapping = {'I feel very clear about my options and direction ': \"Very Clear of My Direction\",\n",
    " 'I have a little more clarity now ': \"Have a General Idea\",\n",
    " 'I have solid ideas ': \"Very Clear of My Direction\",\n",
    " 'I still feel unsure ': \"Unsure of My Direction\",\n",
    " 'I have a general idea but need help organizing it': \"Have a General Idea\",\n",
    " 'I’m still exploring and need guidance':\"Unsure of My Direction\",\n",
    " 'Yes, I have a clear plan I’m working on': \"Very Clear of My Direction\"}\n",
    "\n",
    "df_cp_pre = df_pre.select(\"Do you have a *career plan or clear next steps?*\").with_columns(\n",
    "    pl.col(\"Do you have a *career plan or clear next steps?*\").replace(career_path_mapping).alias(\"Clarity of Career Path\"),\n",
    "    pl.lit(\"Pre-Orientation\").alias(\"When\"),\n",
    "    pl.lit(N_pre).alias(\"N\")\n",
    ").drop(\"Do you have a *career plan or clear next steps?*\")"
   ]
  },
  {
   "cell_type": "code",
   "execution_count": 52,
   "id": "5f233310",
   "metadata": {},
   "outputs": [],
   "source": [
    "df_cp_post = df_post.select('What is your current clarity level about your possible career paths?').with_columns(\n",
    "    pl.col('What is your current clarity level about your possible career paths?').replace(career_path_mapping).alias(\"Clarity of Career Path\"),\n",
    "    pl.lit(\"Post-Orientation\").alias(\"When\"),\n",
    "    pl.lit(N_post).alias(\"N\")\n",
    ").drop('What is your current clarity level about your possible career paths?')"
   ]
  },
  {
   "cell_type": "code",
   "execution_count": 53,
   "id": "b4f66305",
   "metadata": {},
   "outputs": [],
   "source": [
    "df_cp = pl.concat([df_cp_pre, df_cp_post])"
   ]
  },
  {
   "cell_type": "code",
   "execution_count": 58,
   "id": "a349fd87",
   "metadata": {},
   "outputs": [
    {
     "data": {
      "text/html": [
       "<div><style>\n",
       ".dataframe > thead > tr,\n",
       ".dataframe > tbody > tr {\n",
       "  text-align: right;\n",
       "  white-space: pre-wrap;\n",
       "}\n",
       "</style>\n",
       "<small>shape: (6, 5)</small><table border=\"1\" class=\"dataframe\"><thead><tr><th>Clarity of Career Path</th><th>When</th><th>N</th><th>len</th><th>Proportion</th></tr><tr><td>str</td><td>str</td><td>i32</td><td>u32</td><td>f64</td></tr></thead><tbody><tr><td>&quot;Have a General Idea&quot;</td><td>&quot;Pre-Orientation&quot;</td><td>100</td><td>44</td><td>0.44</td></tr><tr><td>&quot;Have a General Idea&quot;</td><td>&quot;Post-Orientation&quot;</td><td>85</td><td>12</td><td>0.141176</td></tr><tr><td>&quot;Unsure of My Direction&quot;</td><td>&quot;Post-Orientation&quot;</td><td>85</td><td>5</td><td>0.058824</td></tr><tr><td>&quot;Unsure of My Direction&quot;</td><td>&quot;Pre-Orientation&quot;</td><td>100</td><td>19</td><td>0.19</td></tr><tr><td>&quot;Very Clear of My Direction&quot;</td><td>&quot;Pre-Orientation&quot;</td><td>100</td><td>36</td><td>0.36</td></tr><tr><td>&quot;Very Clear of My Direction&quot;</td><td>&quot;Post-Orientation&quot;</td><td>85</td><td>68</td><td>0.8</td></tr></tbody></table></div>"
      ],
      "text/plain": [
       "shape: (6, 5)\n",
       "┌────────────────────────────┬──────────────────┬─────┬─────┬────────────┐\n",
       "│ Clarity of Career Path     ┆ When             ┆ N   ┆ len ┆ Proportion │\n",
       "│ ---                        ┆ ---              ┆ --- ┆ --- ┆ ---        │\n",
       "│ str                        ┆ str              ┆ i32 ┆ u32 ┆ f64        │\n",
       "╞════════════════════════════╪══════════════════╪═════╪═════╪════════════╡\n",
       "│ Have a General Idea        ┆ Pre-Orientation  ┆ 100 ┆ 44  ┆ 0.44       │\n",
       "│ Have a General Idea        ┆ Post-Orientation ┆ 85  ┆ 12  ┆ 0.141176   │\n",
       "│ Unsure of My Direction     ┆ Post-Orientation ┆ 85  ┆ 5   ┆ 0.058824   │\n",
       "│ Unsure of My Direction     ┆ Pre-Orientation  ┆ 100 ┆ 19  ┆ 0.19       │\n",
       "│ Very Clear of My Direction ┆ Pre-Orientation  ┆ 100 ┆ 36  ┆ 0.36       │\n",
       "│ Very Clear of My Direction ┆ Post-Orientation ┆ 85  ┆ 68  ┆ 0.8        │\n",
       "└────────────────────────────┴──────────────────┴─────┴─────┴────────────┘"
      ]
     },
     "execution_count": 58,
     "metadata": {},
     "output_type": "execute_result"
    }
   ],
   "source": [
    "df_cp.group_by(df_cp.columns).len().drop_nulls().with_columns( (pl.col(\"len\")/pl.col(\"N\")).alias(\"Proportion\")).sort(by = \"Clarity of Career Path\")"
   ]
  },
  {
   "cell_type": "code",
   "execution_count": null,
   "id": "2fe328c0",
   "metadata": {},
   "outputs": [],
   "source": []
  }
 ],
 "metadata": {
  "kernelspec": {
   "display_name": "Python 3",
   "language": "python",
   "name": "python3"
  },
  "language_info": {
   "codemirror_mode": {
    "name": "ipython",
    "version": 3
   },
   "file_extension": ".py",
   "mimetype": "text/x-python",
   "name": "python",
   "nbconvert_exporter": "python",
   "pygments_lexer": "ipython3",
   "version": "3.12.3"
  }
 },
 "nbformat": 4,
 "nbformat_minor": 5
}
