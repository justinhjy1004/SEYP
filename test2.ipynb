{
 "cells": [
  {
   "cell_type": "code",
   "execution_count": 1,
   "id": "1ce850f9",
   "metadata": {},
   "outputs": [],
   "source": [
    "import polars as pl\n",
    "import plotly.graph_objects as go\n",
    "from plotly.subplots import make_subplots\n",
    "import plotly.io as pio\n",
    "import mappings\n",
    "\n",
    "# Set the theme once\n",
    "pio.templates.default = \"plotly_white\"\n",
    "\n",
    "from util import multi_select_counts, get_subplot_coords\n",
    "\n",
    "df_pre = pl.read_csv(\"OriginalData/Preprogram_Survey.csv\")\n",
    "df_post = pl.read_csv(\"OriginalData/PostOrientation_Survey.csv\")"
   ]
  },
  {
   "cell_type": "code",
   "execution_count": 2,
   "id": "452a5e61",
   "metadata": {},
   "outputs": [],
   "source": [
    "df_growth = df_post.select([\"#\"] + mappings.growth_questions).to_pandas()"
   ]
  },
  {
   "cell_type": "code",
   "execution_count": 3,
   "id": "378f402f",
   "metadata": {},
   "outputs": [],
   "source": [
    "df_growth = pl.DataFrame(df_growth.replace(mappings.all_post_orientation_entry_mappings).rename(columns=mappings.original_to_concise_question_names))\n",
    "\n",
    "# Define the logical order for each set of responses\n",
    "# These lists should contain the *standardized* entries in your desired order\n",
    "order_confidence_emotions = ['Highly Confident', 'Very Confident', 'Slightly Confident', 'Not Confident At All']\n",
    "order_emotional_triggers = ['Significantly Better', 'Much Better', 'Slightly Better', 'Not Better At All']\n",
    "order_communication_style = ['Clearly Understand', 'Understand & Improving', 'General Understanding', 'Do Not Understand']\n",
    "order_goal_motivation = ['Highly Motivated', 'Much More Motivated', 'Slightly More Motivated', 'No Change', 'Less Motivated']\n",
    "order_career_paths = ['Very Clear', 'Solid Ideas', 'Slightly Clearer', 'Still Unsure']\n",
    "order_money_management = ['Highly Confident', 'Very Confident', 'Somewhat Confident', 'Not Confident At All'] # Duplicate of confidence, but good to keep explicit\n",
    "order_professional_presence = ['Highly Confident', 'Very Confident', 'Somewhat Confident', 'Slightly More Confident', 'Not Yet Confident']\n",
    "order_overall_growth = ['More Than Expected', 'Significant Growth', 'Some Growth', 'Slight Growth', 'No Growth At All']\n",
    "\n",
    "# A dictionary to map question names (or a unique identifier for them) to their respective orders\n",
    "post_orientation_question_orders = {\n",
    "    \"Confidence in Managing Emotions\": order_confidence_emotions,\n",
    "    \"Recognizing Emotional Triggers\": order_emotional_triggers,\n",
    "    \"Understanding Communication Style\": order_communication_style,\n",
    "    \"Motivation for Goal Setting\": order_goal_motivation,\n",
    "    \"Clarity on Career Paths\": order_career_paths,\n",
    "    \"Confidence in Money Management\": order_money_management,\n",
    "    \"Confidence in Professional Presence\": order_professional_presence,\n",
    "    \"Overall Growth\": order_overall_growth\n",
    "}"
   ]
  },
  {
   "cell_type": "code",
   "execution_count": 4,
   "id": "5829ad47",
   "metadata": {},
   "outputs": [],
   "source": [
    "fig = make_subplots(rows=2, cols=4,\n",
    "                    subplot_titles=list(post_orientation_question_orders.keys()))\n",
    "\n",
    "for index, g in enumerate(df_growth.columns[1:]):\n",
    "    \n",
    "    position = get_subplot_coords(index, 2, 4)\n",
    "    \n",
    "    d = multi_select_counts(df_growth, [\"#\", g])\n",
    "    fig.add_trace(\n",
    "        go.Bar(y=d.values, x=d.index),\n",
    "        row=position[0], col=position[1])\n",
    "    \n",
    "    fig.update_xaxes(\n",
    "        categoryorder='array', # Ensure Plotly respects the order of the array\n",
    "        categoryarray=post_orientation_question_orders[g], # Pass the order directly to Plotly for good measure\n",
    "        tickangle=-45, # Adjust as needed for label readability\n",
    "        row=position[0], col=position[1]\n",
    "    )"
   ]
  },
  {
   "cell_type": "code",
   "execution_count": 5,
   "id": "ba950e99",
   "metadata": {},
   "outputs": [
    {
     "data": {
      "application/vnd.plotly.v1+json": {
       "config": {
        "plotlyServerURL": "https://plot.ly"
       },
       "data": [
        {
         "type": "bar",
         "x": [
          "Very Confident",
          "Highly Confident",
          "Slightly Confident",
          "Not Confident At All"
         ],
         "xaxis": "x",
         "y": [
          45,
          29,
          10,
          1
         ],
         "yaxis": "y"
        },
        {
         "type": "bar",
         "x": [
          "Much Better",
          "Significantly Better",
          "Slightly Better",
          "Not Better At All"
         ],
         "xaxis": "x2",
         "y": [
          45,
          28,
          10,
          2
         ],
         "yaxis": "y2"
        },
        {
         "type": "bar",
         "x": [
          "Clearly Understand",
          "Understand & Improving",
          "General Understanding",
          "Do Not Understand"
         ],
         "xaxis": "x3",
         "y": [
          35,
          26,
          23,
          1
         ],
         "yaxis": "y3"
        },
        {
         "type": "bar",
         "x": [
          "Much More Motivated",
          "Highly Motivated",
          "Slightly More Motivated",
          "No Change",
          "Less Motivated"
         ],
         "xaxis": "x4",
         "y": [
          39,
          23,
          17,
          4,
          2
         ],
         "yaxis": "y4"
        },
        {
         "type": "bar",
         "x": [
          "Solid Ideas",
          "Very Clear",
          "Slightly Clearer",
          "Still Unsure"
         ],
         "xaxis": "x5",
         "y": [
          46,
          22,
          12,
          5
         ],
         "yaxis": "y5"
        },
        {
         "type": "bar",
         "x": [
          "Very Confident",
          "Highly Confident",
          "Somewhat Confident",
          "Not Confident At All"
         ],
         "xaxis": "x6",
         "y": [
          40,
          31,
          13,
          1
         ],
         "yaxis": "y6"
        },
        {
         "type": "bar",
         "x": [
          "Very Confident",
          "Somewhat Confident",
          "Highly Confident",
          "Slightly More Confident",
          "Not Yet Confident"
         ],
         "xaxis": "x7",
         "y": [
          37,
          20,
          19,
          8,
          1
         ],
         "yaxis": "y7"
        },
        {
         "type": "bar",
         "x": [
          "Significant Growth",
          "Some Growth",
          "More Than Expected",
          "Slight Growth",
          "No Growth At All"
         ],
         "xaxis": "x8",
         "y": [
          31,
          28,
          18,
          6,
          2
         ],
         "yaxis": "y8"
        }
       ],
       "layout": {
        "annotations": [
         {
          "font": {
           "size": 16
          },
          "showarrow": false,
          "text": "Confidence in Managing Emotions",
          "x": 0.10625,
          "xanchor": "center",
          "xref": "paper",
          "y": 1,
          "yanchor": "bottom",
          "yref": "paper"
         },
         {
          "font": {
           "size": 16
          },
          "showarrow": false,
          "text": "Recognizing Emotional Triggers",
          "x": 0.36875,
          "xanchor": "center",
          "xref": "paper",
          "y": 1,
          "yanchor": "bottom",
          "yref": "paper"
         },
         {
          "font": {
           "size": 16
          },
          "showarrow": false,
          "text": "Understanding Communication Style",
          "x": 0.6312500000000001,
          "xanchor": "center",
          "xref": "paper",
          "y": 1,
          "yanchor": "bottom",
          "yref": "paper"
         },
         {
          "font": {
           "size": 16
          },
          "showarrow": false,
          "text": "Motivation for Goal Setting",
          "x": 0.89375,
          "xanchor": "center",
          "xref": "paper",
          "y": 1,
          "yanchor": "bottom",
          "yref": "paper"
         },
         {
          "font": {
           "size": 16
          },
          "showarrow": false,
          "text": "Clarity on Career Paths",
          "x": 0.10625,
          "xanchor": "center",
          "xref": "paper",
          "y": 0.375,
          "yanchor": "bottom",
          "yref": "paper"
         },
         {
          "font": {
           "size": 16
          },
          "showarrow": false,
          "text": "Confidence in Money Management",
          "x": 0.36875,
          "xanchor": "center",
          "xref": "paper",
          "y": 0.375,
          "yanchor": "bottom",
          "yref": "paper"
         },
         {
          "font": {
           "size": 16
          },
          "showarrow": false,
          "text": "Confidence in Professional Presence",
          "x": 0.6312500000000001,
          "xanchor": "center",
          "xref": "paper",
          "y": 0.375,
          "yanchor": "bottom",
          "yref": "paper"
         },
         {
          "font": {
           "size": 16
          },
          "showarrow": false,
          "text": "Overall Growth",
          "x": 0.89375,
          "xanchor": "center",
          "xref": "paper",
          "y": 0.375,
          "yanchor": "bottom",
          "yref": "paper"
         }
        ],
        "height": 1000,
        "showlegend": false,
        "template": {
         "data": {
          "bar": [
           {
            "error_x": {
             "color": "#2a3f5f"
            },
            "error_y": {
             "color": "#2a3f5f"
            },
            "marker": {
             "line": {
              "color": "white",
              "width": 0.5
             },
             "pattern": {
              "fillmode": "overlay",
              "size": 10,
              "solidity": 0.2
             }
            },
            "type": "bar"
           }
          ],
          "barpolar": [
           {
            "marker": {
             "line": {
              "color": "white",
              "width": 0.5
             },
             "pattern": {
              "fillmode": "overlay",
              "size": 10,
              "solidity": 0.2
             }
            },
            "type": "barpolar"
           }
          ],
          "carpet": [
           {
            "aaxis": {
             "endlinecolor": "#2a3f5f",
             "gridcolor": "#C8D4E3",
             "linecolor": "#C8D4E3",
             "minorgridcolor": "#C8D4E3",
             "startlinecolor": "#2a3f5f"
            },
            "baxis": {
             "endlinecolor": "#2a3f5f",
             "gridcolor": "#C8D4E3",
             "linecolor": "#C8D4E3",
             "minorgridcolor": "#C8D4E3",
             "startlinecolor": "#2a3f5f"
            },
            "type": "carpet"
           }
          ],
          "choropleth": [
           {
            "colorbar": {
             "outlinewidth": 0,
             "ticks": ""
            },
            "type": "choropleth"
           }
          ],
          "contour": [
           {
            "colorbar": {
             "outlinewidth": 0,
             "ticks": ""
            },
            "colorscale": [
             [
              0,
              "#0d0887"
             ],
             [
              0.1111111111111111,
              "#46039f"
             ],
             [
              0.2222222222222222,
              "#7201a8"
             ],
             [
              0.3333333333333333,
              "#9c179e"
             ],
             [
              0.4444444444444444,
              "#bd3786"
             ],
             [
              0.5555555555555556,
              "#d8576b"
             ],
             [
              0.6666666666666666,
              "#ed7953"
             ],
             [
              0.7777777777777778,
              "#fb9f3a"
             ],
             [
              0.8888888888888888,
              "#fdca26"
             ],
             [
              1,
              "#f0f921"
             ]
            ],
            "type": "contour"
           }
          ],
          "contourcarpet": [
           {
            "colorbar": {
             "outlinewidth": 0,
             "ticks": ""
            },
            "type": "contourcarpet"
           }
          ],
          "heatmap": [
           {
            "colorbar": {
             "outlinewidth": 0,
             "ticks": ""
            },
            "colorscale": [
             [
              0,
              "#0d0887"
             ],
             [
              0.1111111111111111,
              "#46039f"
             ],
             [
              0.2222222222222222,
              "#7201a8"
             ],
             [
              0.3333333333333333,
              "#9c179e"
             ],
             [
              0.4444444444444444,
              "#bd3786"
             ],
             [
              0.5555555555555556,
              "#d8576b"
             ],
             [
              0.6666666666666666,
              "#ed7953"
             ],
             [
              0.7777777777777778,
              "#fb9f3a"
             ],
             [
              0.8888888888888888,
              "#fdca26"
             ],
             [
              1,
              "#f0f921"
             ]
            ],
            "type": "heatmap"
           }
          ],
          "heatmapgl": [
           {
            "colorbar": {
             "outlinewidth": 0,
             "ticks": ""
            },
            "colorscale": [
             [
              0,
              "#0d0887"
             ],
             [
              0.1111111111111111,
              "#46039f"
             ],
             [
              0.2222222222222222,
              "#7201a8"
             ],
             [
              0.3333333333333333,
              "#9c179e"
             ],
             [
              0.4444444444444444,
              "#bd3786"
             ],
             [
              0.5555555555555556,
              "#d8576b"
             ],
             [
              0.6666666666666666,
              "#ed7953"
             ],
             [
              0.7777777777777778,
              "#fb9f3a"
             ],
             [
              0.8888888888888888,
              "#fdca26"
             ],
             [
              1,
              "#f0f921"
             ]
            ],
            "type": "heatmapgl"
           }
          ],
          "histogram": [
           {
            "marker": {
             "pattern": {
              "fillmode": "overlay",
              "size": 10,
              "solidity": 0.2
             }
            },
            "type": "histogram"
           }
          ],
          "histogram2d": [
           {
            "colorbar": {
             "outlinewidth": 0,
             "ticks": ""
            },
            "colorscale": [
             [
              0,
              "#0d0887"
             ],
             [
              0.1111111111111111,
              "#46039f"
             ],
             [
              0.2222222222222222,
              "#7201a8"
             ],
             [
              0.3333333333333333,
              "#9c179e"
             ],
             [
              0.4444444444444444,
              "#bd3786"
             ],
             [
              0.5555555555555556,
              "#d8576b"
             ],
             [
              0.6666666666666666,
              "#ed7953"
             ],
             [
              0.7777777777777778,
              "#fb9f3a"
             ],
             [
              0.8888888888888888,
              "#fdca26"
             ],
             [
              1,
              "#f0f921"
             ]
            ],
            "type": "histogram2d"
           }
          ],
          "histogram2dcontour": [
           {
            "colorbar": {
             "outlinewidth": 0,
             "ticks": ""
            },
            "colorscale": [
             [
              0,
              "#0d0887"
             ],
             [
              0.1111111111111111,
              "#46039f"
             ],
             [
              0.2222222222222222,
              "#7201a8"
             ],
             [
              0.3333333333333333,
              "#9c179e"
             ],
             [
              0.4444444444444444,
              "#bd3786"
             ],
             [
              0.5555555555555556,
              "#d8576b"
             ],
             [
              0.6666666666666666,
              "#ed7953"
             ],
             [
              0.7777777777777778,
              "#fb9f3a"
             ],
             [
              0.8888888888888888,
              "#fdca26"
             ],
             [
              1,
              "#f0f921"
             ]
            ],
            "type": "histogram2dcontour"
           }
          ],
          "mesh3d": [
           {
            "colorbar": {
             "outlinewidth": 0,
             "ticks": ""
            },
            "type": "mesh3d"
           }
          ],
          "parcoords": [
           {
            "line": {
             "colorbar": {
              "outlinewidth": 0,
              "ticks": ""
             }
            },
            "type": "parcoords"
           }
          ],
          "pie": [
           {
            "automargin": true,
            "type": "pie"
           }
          ],
          "scatter": [
           {
            "fillpattern": {
             "fillmode": "overlay",
             "size": 10,
             "solidity": 0.2
            },
            "type": "scatter"
           }
          ],
          "scatter3d": [
           {
            "line": {
             "colorbar": {
              "outlinewidth": 0,
              "ticks": ""
             }
            },
            "marker": {
             "colorbar": {
              "outlinewidth": 0,
              "ticks": ""
             }
            },
            "type": "scatter3d"
           }
          ],
          "scattercarpet": [
           {
            "marker": {
             "colorbar": {
              "outlinewidth": 0,
              "ticks": ""
             }
            },
            "type": "scattercarpet"
           }
          ],
          "scattergeo": [
           {
            "marker": {
             "colorbar": {
              "outlinewidth": 0,
              "ticks": ""
             }
            },
            "type": "scattergeo"
           }
          ],
          "scattergl": [
           {
            "marker": {
             "colorbar": {
              "outlinewidth": 0,
              "ticks": ""
             }
            },
            "type": "scattergl"
           }
          ],
          "scattermapbox": [
           {
            "marker": {
             "colorbar": {
              "outlinewidth": 0,
              "ticks": ""
             }
            },
            "type": "scattermapbox"
           }
          ],
          "scatterpolar": [
           {
            "marker": {
             "colorbar": {
              "outlinewidth": 0,
              "ticks": ""
             }
            },
            "type": "scatterpolar"
           }
          ],
          "scatterpolargl": [
           {
            "marker": {
             "colorbar": {
              "outlinewidth": 0,
              "ticks": ""
             }
            },
            "type": "scatterpolargl"
           }
          ],
          "scatterternary": [
           {
            "marker": {
             "colorbar": {
              "outlinewidth": 0,
              "ticks": ""
             }
            },
            "type": "scatterternary"
           }
          ],
          "surface": [
           {
            "colorbar": {
             "outlinewidth": 0,
             "ticks": ""
            },
            "colorscale": [
             [
              0,
              "#0d0887"
             ],
             [
              0.1111111111111111,
              "#46039f"
             ],
             [
              0.2222222222222222,
              "#7201a8"
             ],
             [
              0.3333333333333333,
              "#9c179e"
             ],
             [
              0.4444444444444444,
              "#bd3786"
             ],
             [
              0.5555555555555556,
              "#d8576b"
             ],
             [
              0.6666666666666666,
              "#ed7953"
             ],
             [
              0.7777777777777778,
              "#fb9f3a"
             ],
             [
              0.8888888888888888,
              "#fdca26"
             ],
             [
              1,
              "#f0f921"
             ]
            ],
            "type": "surface"
           }
          ],
          "table": [
           {
            "cells": {
             "fill": {
              "color": "#EBF0F8"
             },
             "line": {
              "color": "white"
             }
            },
            "header": {
             "fill": {
              "color": "#C8D4E3"
             },
             "line": {
              "color": "white"
             }
            },
            "type": "table"
           }
          ]
         },
         "layout": {
          "annotationdefaults": {
           "arrowcolor": "#2a3f5f",
           "arrowhead": 0,
           "arrowwidth": 1
          },
          "autotypenumbers": "strict",
          "coloraxis": {
           "colorbar": {
            "outlinewidth": 0,
            "ticks": ""
           }
          },
          "colorscale": {
           "diverging": [
            [
             0,
             "#8e0152"
            ],
            [
             0.1,
             "#c51b7d"
            ],
            [
             0.2,
             "#de77ae"
            ],
            [
             0.3,
             "#f1b6da"
            ],
            [
             0.4,
             "#fde0ef"
            ],
            [
             0.5,
             "#f7f7f7"
            ],
            [
             0.6,
             "#e6f5d0"
            ],
            [
             0.7,
             "#b8e186"
            ],
            [
             0.8,
             "#7fbc41"
            ],
            [
             0.9,
             "#4d9221"
            ],
            [
             1,
             "#276419"
            ]
           ],
           "sequential": [
            [
             0,
             "#0d0887"
            ],
            [
             0.1111111111111111,
             "#46039f"
            ],
            [
             0.2222222222222222,
             "#7201a8"
            ],
            [
             0.3333333333333333,
             "#9c179e"
            ],
            [
             0.4444444444444444,
             "#bd3786"
            ],
            [
             0.5555555555555556,
             "#d8576b"
            ],
            [
             0.6666666666666666,
             "#ed7953"
            ],
            [
             0.7777777777777778,
             "#fb9f3a"
            ],
            [
             0.8888888888888888,
             "#fdca26"
            ],
            [
             1,
             "#f0f921"
            ]
           ],
           "sequentialminus": [
            [
             0,
             "#0d0887"
            ],
            [
             0.1111111111111111,
             "#46039f"
            ],
            [
             0.2222222222222222,
             "#7201a8"
            ],
            [
             0.3333333333333333,
             "#9c179e"
            ],
            [
             0.4444444444444444,
             "#bd3786"
            ],
            [
             0.5555555555555556,
             "#d8576b"
            ],
            [
             0.6666666666666666,
             "#ed7953"
            ],
            [
             0.7777777777777778,
             "#fb9f3a"
            ],
            [
             0.8888888888888888,
             "#fdca26"
            ],
            [
             1,
             "#f0f921"
            ]
           ]
          },
          "colorway": [
           "#636efa",
           "#EF553B",
           "#00cc96",
           "#ab63fa",
           "#FFA15A",
           "#19d3f3",
           "#FF6692",
           "#B6E880",
           "#FF97FF",
           "#FECB52"
          ],
          "font": {
           "color": "#2a3f5f"
          },
          "geo": {
           "bgcolor": "white",
           "lakecolor": "white",
           "landcolor": "white",
           "showlakes": true,
           "showland": true,
           "subunitcolor": "#C8D4E3"
          },
          "hoverlabel": {
           "align": "left"
          },
          "hovermode": "closest",
          "mapbox": {
           "style": "light"
          },
          "paper_bgcolor": "white",
          "plot_bgcolor": "white",
          "polar": {
           "angularaxis": {
            "gridcolor": "#EBF0F8",
            "linecolor": "#EBF0F8",
            "ticks": ""
           },
           "bgcolor": "white",
           "radialaxis": {
            "gridcolor": "#EBF0F8",
            "linecolor": "#EBF0F8",
            "ticks": ""
           }
          },
          "scene": {
           "xaxis": {
            "backgroundcolor": "white",
            "gridcolor": "#DFE8F3",
            "gridwidth": 2,
            "linecolor": "#EBF0F8",
            "showbackground": true,
            "ticks": "",
            "zerolinecolor": "#EBF0F8"
           },
           "yaxis": {
            "backgroundcolor": "white",
            "gridcolor": "#DFE8F3",
            "gridwidth": 2,
            "linecolor": "#EBF0F8",
            "showbackground": true,
            "ticks": "",
            "zerolinecolor": "#EBF0F8"
           },
           "zaxis": {
            "backgroundcolor": "white",
            "gridcolor": "#DFE8F3",
            "gridwidth": 2,
            "linecolor": "#EBF0F8",
            "showbackground": true,
            "ticks": "",
            "zerolinecolor": "#EBF0F8"
           }
          },
          "shapedefaults": {
           "line": {
            "color": "#2a3f5f"
           }
          },
          "ternary": {
           "aaxis": {
            "gridcolor": "#DFE8F3",
            "linecolor": "#A2B1C6",
            "ticks": ""
           },
           "baxis": {
            "gridcolor": "#DFE8F3",
            "linecolor": "#A2B1C6",
            "ticks": ""
           },
           "bgcolor": "white",
           "caxis": {
            "gridcolor": "#DFE8F3",
            "linecolor": "#A2B1C6",
            "ticks": ""
           }
          },
          "title": {
           "x": 0.05
          },
          "xaxis": {
           "automargin": true,
           "gridcolor": "#EBF0F8",
           "linecolor": "#EBF0F8",
           "ticks": "",
           "title": {
            "standoff": 15
           },
           "zerolinecolor": "#EBF0F8",
           "zerolinewidth": 2
          },
          "yaxis": {
           "automargin": true,
           "gridcolor": "#EBF0F8",
           "linecolor": "#EBF0F8",
           "ticks": "",
           "title": {
            "standoff": 15
           },
           "zerolinecolor": "#EBF0F8",
           "zerolinewidth": 2
          }
         }
        },
        "title": {
         "text": ""
        },
        "width": 1800,
        "xaxis": {
         "anchor": "y",
         "categoryarray": [
          "Highly Confident",
          "Very Confident",
          "Slightly Confident",
          "Not Confident At All"
         ],
         "categoryorder": "array",
         "domain": [
          0,
          0.2125
         ],
         "tickangle": -45
        },
        "xaxis2": {
         "anchor": "y2",
         "categoryarray": [
          "Significantly Better",
          "Much Better",
          "Slightly Better",
          "Not Better At All"
         ],
         "categoryorder": "array",
         "domain": [
          0.2625,
          0.475
         ],
         "tickangle": -45
        },
        "xaxis3": {
         "anchor": "y3",
         "categoryarray": [
          "Clearly Understand",
          "Understand & Improving",
          "General Understanding",
          "Do Not Understand"
         ],
         "categoryorder": "array",
         "domain": [
          0.525,
          0.7375
         ],
         "tickangle": -45
        },
        "xaxis4": {
         "anchor": "y4",
         "categoryarray": [
          "Highly Motivated",
          "Much More Motivated",
          "Slightly More Motivated",
          "No Change",
          "Less Motivated"
         ],
         "categoryorder": "array",
         "domain": [
          0.7875,
          1
         ],
         "tickangle": -45
        },
        "xaxis5": {
         "anchor": "y5",
         "categoryarray": [
          "Very Clear",
          "Solid Ideas",
          "Slightly Clearer",
          "Still Unsure"
         ],
         "categoryorder": "array",
         "domain": [
          0,
          0.2125
         ],
         "tickangle": -45
        },
        "xaxis6": {
         "anchor": "y6",
         "categoryarray": [
          "Highly Confident",
          "Very Confident",
          "Somewhat Confident",
          "Not Confident At All"
         ],
         "categoryorder": "array",
         "domain": [
          0.2625,
          0.475
         ],
         "tickangle": -45
        },
        "xaxis7": {
         "anchor": "y7",
         "categoryarray": [
          "Highly Confident",
          "Very Confident",
          "Somewhat Confident",
          "Slightly More Confident",
          "Not Yet Confident"
         ],
         "categoryorder": "array",
         "domain": [
          0.525,
          0.7375
         ],
         "tickangle": -45
        },
        "xaxis8": {
         "anchor": "y8",
         "categoryarray": [
          "More Than Expected",
          "Significant Growth",
          "Some Growth",
          "Slight Growth",
          "No Growth At All"
         ],
         "categoryorder": "array",
         "domain": [
          0.7875,
          1
         ],
         "tickangle": -45
        },
        "yaxis": {
         "anchor": "x",
         "domain": [
          0.625,
          1
         ]
        },
        "yaxis2": {
         "anchor": "x2",
         "domain": [
          0.625,
          1
         ]
        },
        "yaxis3": {
         "anchor": "x3",
         "domain": [
          0.625,
          1
         ]
        },
        "yaxis4": {
         "anchor": "x4",
         "domain": [
          0.625,
          1
         ]
        },
        "yaxis5": {
         "anchor": "x5",
         "domain": [
          0,
          0.375
         ]
        },
        "yaxis6": {
         "anchor": "x6",
         "domain": [
          0,
          0.375
         ]
        },
        "yaxis7": {
         "anchor": "x7",
         "domain": [
          0,
          0.375
         ]
        },
        "yaxis8": {
         "anchor": "x8",
         "domain": [
          0,
          0.375
         ]
        }
       }
      }
     },
     "metadata": {},
     "output_type": "display_data"
    }
   ],
   "source": [
    "# Update layout\n",
    "fig.update_layout(height=1000, width=1800, title_text=\"\")\n",
    "fig.update_layout(showlegend=False)\n",
    "\"\"\"fig.update_xaxes(\n",
    "    categoryorder='array',\n",
    "    categoryarray=['Not at all', 'Slightly', 'Moderately','Very', 'Extremely'])\"\"\"\n",
    "fig.show()"
   ]
  },
  {
   "cell_type": "code",
   "execution_count": null,
   "id": "c563365a",
   "metadata": {},
   "outputs": [],
   "source": []
  },
  {
   "cell_type": "code",
   "execution_count": 6,
   "id": "d292484f",
   "metadata": {},
   "outputs": [],
   "source": [
    "post_orientation_mapping = {\n",
    "    \"How confident are you now in managing your emotions and staying calm when things get stressful at work or in life?\": [\n",
    "        \"I can manage challenges without giving up\"\n",
    "    ],\n",
    "    \"After learning about emotional intelligence, how are you at recognizing your personal emotional triggers?\": [\n",
    "        \"Stressed or overwhelmed\"\n",
    "    ],\n",
    "    \"After the Communication Styles workshop, how well do you understand your own communication style?\": [\n",
    "        \"Communicating professionally (verbal and written)\"\n",
    "    ],\n",
    "    \"Are you more or less motivated about setting and actually reaching your goals after the goals workshop?\": [\n",
    "        \"Motivated to work toward your goals\",\n",
    "        \"Focused and productive\"\n",
    "    ],\n",
    "    \"What is your current clarity level about your possible career paths?\": [\n",
    "        \"Do you have a *career plan or clear next steps?*\"\n",
    "    ],\n",
    "    \"How confident are you in your ability *to manage your money* this summer?\": [\n",
    "        \"Creating a personal budget\",\n",
    "        \"Understanding credit and credit scores\",\n",
    "    ],\n",
    "    \"After the personal branding session, how confident are you in *how you show up professionally*?\": [\n",
    "        \"I know how to present myself professionally in different settings\"\n",
    "    ],\n",
    "    \"Overall, how much do you feel you grew during the orientation?\": []\n",
    "}\n",
    "\n",
    "all_matched_columns = [col for cols in post_orientation_mapping.values() for col in cols]\n"
   ]
  },
  {
   "cell_type": "code",
   "execution_count": 7,
   "id": "d9d960cc",
   "metadata": {},
   "outputs": [
    {
     "data": {
      "text/html": [
       "<div><style>\n",
       ".dataframe > thead > tr,\n",
       ".dataframe > tbody > tr {\n",
       "  text-align: right;\n",
       "  white-space: pre-wrap;\n",
       "}\n",
       "</style>\n",
       "<small>shape: (100, 9)</small><table border=\"1\" class=\"dataframe\"><thead><tr><th>I can manage challenges without giving up</th><th>Stressed or overwhelmed</th><th>Communicating professionally (verbal and written)</th><th>Motivated to work toward your goals</th><th>Focused and productive</th><th>Do you have a *career plan or clear next steps?*</th><th>Creating a personal budget</th><th>Understanding credit and credit scores</th><th>I know how to present myself professionally in different settings</th></tr><tr><td>str</td><td>str</td><td>str</td><td>str</td><td>str</td><td>str</td><td>str</td><td>str</td><td>str</td></tr></thead><tbody><tr><td>&quot;Agree&quot;</td><td>&quot;Very Often&quot;</td><td>&quot;Very&quot;</td><td>&quot;Often&quot;</td><td>&quot;Often&quot;</td><td>&quot;I have a general idea but need…</td><td>&quot;Extremely&quot;</td><td>&quot;Somewhat&quot;</td><td>&quot;Agree&quot;</td></tr><tr><td>&quot;Agree&quot;</td><td>&quot;Sometimes&quot;</td><td>&quot;Slightly &quot;</td><td>&quot;Very Often&quot;</td><td>&quot;Sometimes&quot;</td><td>&quot;Yes, I have a clear plan I’m w…</td><td>&quot;Very&quot;</td><td>&quot;Somewhat&quot;</td><td>&quot;Neutral &quot;</td></tr><tr><td>&quot;Strongly agree&quot;</td><td>&quot;Sometimes&quot;</td><td>&quot;Extremely&quot;</td><td>&quot;Very Often&quot;</td><td>&quot;Very Often&quot;</td><td>&quot;I’m still exploring and need g…</td><td>&quot;Very&quot;</td><td>&quot;Very&quot;</td><td>&quot;Strongly agree&quot;</td></tr><tr><td>&quot;Strongly agree&quot;</td><td>&quot;Rarely&quot;</td><td>&quot;Somewhat&quot;</td><td>&quot;Very Often&quot;</td><td>&quot;Often&quot;</td><td>&quot;I have a general idea but need…</td><td>&quot;Very&quot;</td><td>&quot;Somewhat&quot;</td><td>&quot;Strongly agree&quot;</td></tr><tr><td>&quot;Neutral &quot;</td><td>&quot;Very Often&quot;</td><td>&quot;Somewhat&quot;</td><td>&quot;Very Often&quot;</td><td>&quot;Sometimes&quot;</td><td>&quot;I’m still exploring and need g…</td><td>&quot;Somewhat&quot;</td><td>&quot;Somewhat&quot;</td><td>&quot;Agree&quot;</td></tr><tr><td>&hellip;</td><td>&hellip;</td><td>&hellip;</td><td>&hellip;</td><td>&hellip;</td><td>&hellip;</td><td>&hellip;</td><td>&hellip;</td><td>&hellip;</td></tr><tr><td>&quot;Strongly disagree&quot;</td><td>&quot;Rarely&quot;</td><td>&quot;Not confident&quot;</td><td>&quot;Sometimes&quot;</td><td>&quot;Sometimes&quot;</td><td>&quot;I’m still exploring and need g…</td><td>&quot;Slightly&quot;</td><td>&quot;Not familiar&quot;</td><td>&quot;Strongly disagree&quot;</td></tr><tr><td>&quot;Neutral &quot;</td><td>&quot;Sometimes&quot;</td><td>&quot;Somewhat&quot;</td><td>&quot;Often&quot;</td><td>&quot;Often&quot;</td><td>&quot;I have a general idea but need…</td><td>&quot;Somewhat&quot;</td><td>&quot;Somewhat&quot;</td><td>&quot;Agree&quot;</td></tr><tr><td>&quot;Neutral &quot;</td><td>&quot;Sometimes&quot;</td><td>&quot;Somewhat&quot;</td><td>&quot;Often&quot;</td><td>&quot;Often&quot;</td><td>&quot;I have a general idea but need…</td><td>&quot;Somewhat&quot;</td><td>&quot;Extremely&quot;</td><td>&quot;Neutral &quot;</td></tr><tr><td>&quot;Agree&quot;</td><td>&quot;Sometimes&quot;</td><td>&quot;Very&quot;</td><td>&quot;Often&quot;</td><td>&quot;Often&quot;</td><td>&quot;I’m still exploring and need g…</td><td>&quot;Very&quot;</td><td>&quot;Extremely&quot;</td><td>&quot;Strongly agree&quot;</td></tr><tr><td>&quot;Agree&quot;</td><td>&quot;Often&quot;</td><td>&quot;Very&quot;</td><td>&quot;Rarely&quot;</td><td>&quot;Sometimes&quot;</td><td>&quot;I have a general idea but need…</td><td>&quot;Slightly&quot;</td><td>&quot;Very&quot;</td><td>&quot;Agree&quot;</td></tr></tbody></table></div>"
      ],
      "text/plain": [
       "shape: (100, 9)\n",
       "┌───────────┬───────────┬───────────┬───────────┬───┬───────────┬───────────┬───────────┬──────────┐\n",
       "│ I can     ┆ Stressed  ┆ Communica ┆ Motivated ┆ … ┆ Do you    ┆ Creating  ┆ Understan ┆ I know   │\n",
       "│ manage    ┆ or overwh ┆ ting prof ┆ to work   ┆   ┆ have a    ┆ a         ┆ ding      ┆ how to   │\n",
       "│ challenge ┆ elmed     ┆ essionall ┆ toward    ┆   ┆ *career   ┆ personal  ┆ credit    ┆ present  │\n",
       "│ s withou… ┆ ---       ┆ y (…      ┆ your …    ┆   ┆ plan or … ┆ budget    ┆ and       ┆ myself   │\n",
       "│ ---       ┆ str       ┆ ---       ┆ ---       ┆   ┆ ---       ┆ ---       ┆ credi…    ┆ p…       │\n",
       "│ str       ┆           ┆ str       ┆ str       ┆   ┆ str       ┆ str       ┆ ---       ┆ ---      │\n",
       "│           ┆           ┆           ┆           ┆   ┆           ┆           ┆ str       ┆ str      │\n",
       "╞═══════════╪═══════════╪═══════════╪═══════════╪═══╪═══════════╪═══════════╪═══════════╪══════════╡\n",
       "│ Agree     ┆ Very      ┆ Very      ┆ Often     ┆ … ┆ I have a  ┆ Extremely ┆ Somewhat  ┆ Agree    │\n",
       "│           ┆ Often     ┆           ┆           ┆   ┆ general   ┆           ┆           ┆          │\n",
       "│           ┆           ┆           ┆           ┆   ┆ idea but  ┆           ┆           ┆          │\n",
       "│           ┆           ┆           ┆           ┆   ┆ need…     ┆           ┆           ┆          │\n",
       "│ Agree     ┆ Sometimes ┆ Slightly  ┆ Very      ┆ … ┆ Yes, I    ┆ Very      ┆ Somewhat  ┆ Neutral  │\n",
       "│           ┆           ┆           ┆ Often     ┆   ┆ have a    ┆           ┆           ┆          │\n",
       "│           ┆           ┆           ┆           ┆   ┆ clear     ┆           ┆           ┆          │\n",
       "│           ┆           ┆           ┆           ┆   ┆ plan I’m  ┆           ┆           ┆          │\n",
       "│           ┆           ┆           ┆           ┆   ┆ w…        ┆           ┆           ┆          │\n",
       "│ Strongly  ┆ Sometimes ┆ Extremely ┆ Very      ┆ … ┆ I’m still ┆ Very      ┆ Very      ┆ Strongly │\n",
       "│ agree     ┆           ┆           ┆ Often     ┆   ┆ exploring ┆           ┆           ┆ agree    │\n",
       "│           ┆           ┆           ┆           ┆   ┆ and need  ┆           ┆           ┆          │\n",
       "│           ┆           ┆           ┆           ┆   ┆ g…        ┆           ┆           ┆          │\n",
       "│ Strongly  ┆ Rarely    ┆ Somewhat  ┆ Very      ┆ … ┆ I have a  ┆ Very      ┆ Somewhat  ┆ Strongly │\n",
       "│ agree     ┆           ┆           ┆ Often     ┆   ┆ general   ┆           ┆           ┆ agree    │\n",
       "│           ┆           ┆           ┆           ┆   ┆ idea but  ┆           ┆           ┆          │\n",
       "│           ┆           ┆           ┆           ┆   ┆ need…     ┆           ┆           ┆          │\n",
       "│ Neutral   ┆ Very      ┆ Somewhat  ┆ Very      ┆ … ┆ I’m still ┆ Somewhat  ┆ Somewhat  ┆ Agree    │\n",
       "│           ┆ Often     ┆           ┆ Often     ┆   ┆ exploring ┆           ┆           ┆          │\n",
       "│           ┆           ┆           ┆           ┆   ┆ and need  ┆           ┆           ┆          │\n",
       "│           ┆           ┆           ┆           ┆   ┆ g…        ┆           ┆           ┆          │\n",
       "│ …         ┆ …         ┆ …         ┆ …         ┆ … ┆ …         ┆ …         ┆ …         ┆ …        │\n",
       "│ Strongly  ┆ Rarely    ┆ Not       ┆ Sometimes ┆ … ┆ I’m still ┆ Slightly  ┆ Not       ┆ Strongly │\n",
       "│ disagree  ┆           ┆ confident ┆           ┆   ┆ exploring ┆           ┆ familiar  ┆ disagree │\n",
       "│           ┆           ┆           ┆           ┆   ┆ and need  ┆           ┆           ┆          │\n",
       "│           ┆           ┆           ┆           ┆   ┆ g…        ┆           ┆           ┆          │\n",
       "│ Neutral   ┆ Sometimes ┆ Somewhat  ┆ Often     ┆ … ┆ I have a  ┆ Somewhat  ┆ Somewhat  ┆ Agree    │\n",
       "│           ┆           ┆           ┆           ┆   ┆ general   ┆           ┆           ┆          │\n",
       "│           ┆           ┆           ┆           ┆   ┆ idea but  ┆           ┆           ┆          │\n",
       "│           ┆           ┆           ┆           ┆   ┆ need…     ┆           ┆           ┆          │\n",
       "│ Neutral   ┆ Sometimes ┆ Somewhat  ┆ Often     ┆ … ┆ I have a  ┆ Somewhat  ┆ Extremely ┆ Neutral  │\n",
       "│           ┆           ┆           ┆           ┆   ┆ general   ┆           ┆           ┆          │\n",
       "│           ┆           ┆           ┆           ┆   ┆ idea but  ┆           ┆           ┆          │\n",
       "│           ┆           ┆           ┆           ┆   ┆ need…     ┆           ┆           ┆          │\n",
       "│ Agree     ┆ Sometimes ┆ Very      ┆ Often     ┆ … ┆ I’m still ┆ Very      ┆ Extremely ┆ Strongly │\n",
       "│           ┆           ┆           ┆           ┆   ┆ exploring ┆           ┆           ┆ agree    │\n",
       "│           ┆           ┆           ┆           ┆   ┆ and need  ┆           ┆           ┆          │\n",
       "│           ┆           ┆           ┆           ┆   ┆ g…        ┆           ┆           ┆          │\n",
       "│ Agree     ┆ Often     ┆ Very      ┆ Rarely    ┆ … ┆ I have a  ┆ Slightly  ┆ Very      ┆ Agree    │\n",
       "│           ┆           ┆           ┆           ┆   ┆ general   ┆           ┆           ┆          │\n",
       "│           ┆           ┆           ┆           ┆   ┆ idea but  ┆           ┆           ┆          │\n",
       "│           ┆           ┆           ┆           ┆   ┆ need…     ┆           ┆           ┆          │\n",
       "└───────────┴───────────┴───────────┴───────────┴───┴───────────┴───────────┴───────────┴──────────┘"
      ]
     },
     "execution_count": 7,
     "metadata": {},
     "output_type": "execute_result"
    }
   ],
   "source": [
    "df_pre.select(all_matched_columns)"
   ]
  },
  {
   "cell_type": "code",
   "execution_count": 8,
   "id": "64485268",
   "metadata": {},
   "outputs": [
    {
     "data": {
      "text/plain": [
       "['I can manage challenges without giving up',\n",
       " 'Stressed or overwhelmed',\n",
       " 'Communicating professionally (verbal and written)',\n",
       " 'Motivated to work toward your goals',\n",
       " 'Focused and productive',\n",
       " 'Do you have a *career plan or clear next steps?*',\n",
       " 'Creating a personal budget',\n",
       " 'Understanding credit and credit scores',\n",
       " 'I know how to present myself professionally in different settings']"
      ]
     },
     "execution_count": 8,
     "metadata": {},
     "output_type": "execute_result"
    }
   ],
   "source": [
    "all_matched_columns"
   ]
  }
 ],
 "metadata": {
  "kernelspec": {
   "display_name": "Python 3",
   "language": "python",
   "name": "python3"
  },
  "language_info": {
   "codemirror_mode": {
    "name": "ipython",
    "version": 3
   },
   "file_extension": ".py",
   "mimetype": "text/x-python",
   "name": "python",
   "nbconvert_exporter": "python",
   "pygments_lexer": "ipython3",
   "version": "3.12.3"
  }
 },
 "nbformat": 4,
 "nbformat_minor": 5
}
