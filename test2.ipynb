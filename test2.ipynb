{
 "cells": [
  {
   "cell_type": "code",
   "execution_count": 1,
   "id": "1ce850f9",
   "metadata": {},
   "outputs": [],
   "source": [
    "import polars as pl\n",
    "import plotly.graph_objects as go\n",
    "from plotly.subplots import make_subplots\n",
    "import plotly.io as pio\n",
    "import mappings\n",
    "\n",
    "# Set the theme once\n",
    "pio.templates.default = \"plotly_white\"\n",
    "\n",
    "from util import multi_select_counts, get_subplot_coords\n",
    "\n",
    "df_pre = pl.read_csv(\"OriginalData/Preprogram_Survey.csv\")\n",
    "df_post = pl.read_csv(\"OriginalData/PostOrientation_Survey.csv\")"
   ]
  },
  {
   "cell_type": "code",
   "execution_count": 2,
   "id": "abc01674",
   "metadata": {},
   "outputs": [
    {
     "data": {
      "text/html": [
       "<div><style>\n",
       ".dataframe > thead > tr,\n",
       ".dataframe > tbody > tr {\n",
       "  text-align: right;\n",
       "  white-space: pre-wrap;\n",
       "}\n",
       "</style>\n",
       "<small>shape: (85, 61)</small><table border=\"1\" class=\"dataframe\"><thead><tr><th>#</th><th>How confident are you now in managing your emotions and staying calm when things get stressful at work or in life?</th><th>After learning about emotional intelligence, how are you at recognizing your personal emotional triggers?</th><th>Understanding common workplace triggers </th><th>Seeing the difference between low vs. high emotional intelligence </th><th>Creating my Emotional Pause Plan </th><th>Learning ways to stay calm and in control </th><th>Talking with others about emotional stress </th><th>Visualizing myself responding better in tough situations </th><th>Identifying how others see me when I’m stressed </th><th>Other</th><th>After the Communication Styles workshop, *how well do you understand your own communication style?*</th><th>What’s the communication habit _*you most want to work on this summer?*_</th><th>Other_duplicated_0</th><th>Are you more or less motivated about setting and actually reaching your goals after the goals workshop?</th><th>What is *ONE specific personal or professional goal* you plan to work on this summer?</th><th>What is your current clarity level about your possible career paths?</th><th>Exploring what I’m naturally good at </th><th>Seeing how hobbies or skills connect to real careers </th><th>Talking with others about dream jobs and paths </th><th>Identifying what I don’t want in a job </th><th>Learning that career paths can change over time </th><th>Getting new ideas I never considered before </th><th>Realizing I don’t need a full plan, just a direction </th><th>Other_duplicated_1</th><th>How confident are you in your ability *to manage your money* this summer?</th><th>Which lessons from the *Money Moves workshop *do you think will help you most? *(Select TWO)*</th><th>Other_duplicated_2</th><th>After the personal branding session, how confident are you in *how you show up professionally*?</th><th>Practice my elevator pitch </th><th>Start or improve a professional social media profile </th><th>Ask for feedback about how I come across to others </th><th>Be more intentional about how I speak and carry myself </th><th>Make a better first impression in new spaces </th><th>Network and build relationships </th><th>Post content that shows who I am professionally </th><th>Other_duplicated_3</th><th>Overall, how much do you feel you grew during the orientation?</th><th>Would you recommend this orientation and program to a friend or peer?</th><th>What are *TWO topics or focus areas* you wish we included in orientation that weren’t covered?</th><th>What’s *ONE SUGGESTION* you have for how we can make orientation even better next time?</th><th>What were *TWO THINGS* about this orientation that you enjoyed or found most valuable?</th><th>How old are you?\n",
       "</th><th>What is your current education status?</th><th>Other_duplicated_4</th><th>What is your gender identity?</th><th>Other_duplicated_5</th><th>Black or African American </th><th>Hispanic or Latino </th><th>White </th><th>Asian or Pacific Islander </th><th>American Indian or Alaska Native </th><th>Have you signed up to receive your paycheck with &quot;&quot;Direct Deposit&quot;&quot; and have a bank account?</th><th>If you are set up for &quot;&quot;direct deposit&quot;&quot;, what is the name of your bank?</th><th>Response Type</th><th>Start Date (UTC)</th><th>Stage Date (UTC)</th><th>Submit Date (UTC)</th><th>Network ID</th><th>Tags</th><th>Ending</th></tr><tr><td>str</td><td>str</td><td>str</td><td>str</td><td>str</td><td>str</td><td>str</td><td>str</td><td>str</td><td>str</td><td>str</td><td>str</td><td>str</td><td>str</td><td>str</td><td>str</td><td>str</td><td>str</td><td>str</td><td>str</td><td>str</td><td>str</td><td>str</td><td>str</td><td>str</td><td>str</td><td>str</td><td>str</td><td>str</td><td>str</td><td>str</td><td>str</td><td>str</td><td>str</td><td>str</td><td>str</td><td>str</td><td>str</td><td>str</td><td>str</td><td>str</td><td>str</td><td>str</td><td>str</td><td>str</td><td>str</td><td>str</td><td>str</td><td>str</td><td>str</td><td>str</td><td>str</td><td>str</td><td>str</td><td>str</td><td>str</td><td>str</td><td>str</td><td>str</td><td>str</td><td>str</td></tr></thead><tbody><tr><td>&quot;3r116t1hh4jn7wq63r116toyehnbqx…</td><td>&quot;Extremely confident &quot;</td><td>&quot;A lot better, I understand the…</td><td>null</td><td>null</td><td>null</td><td>&quot;Learning ways to stay calm and…</td><td>null</td><td>&quot;Visualizing myself responding …</td><td>null</td><td>null</td><td>&quot;I understand it clearly &quot;</td><td>&quot;Knowing how to adjust dependin…</td><td>null</td><td>&quot;Much more motivated &quot;</td><td>&quot;Working out&quot;</td><td>&quot;I have solid ideas &quot;</td><td>&quot;Exploring what I’m naturally g…</td><td>null</td><td>null</td><td>null</td><td>null</td><td>null</td><td>&quot;Realizing I don’t need a full …</td><td>null</td><td>&quot;Extremely confident &quot;</td><td>&quot;Prioritizing needs vs. wants &quot;</td><td>null</td><td>&quot;Very confident &quot;</td><td>null</td><td>null</td><td>null</td><td>&quot;Be more intentional about how …</td><td>null</td><td>&quot;Network and build relationship…</td><td>null</td><td>null</td><td>&quot;A lot &quot;</td><td>&quot;Absolutely yes &quot;</td><td>&quot;Everything was good&quot;</td><td>&quot;Food Food Food 9amto2pm no foo…</td><td>&quot;The people and the atmosphere …</td><td>&quot;14-17&quot;</td><td>&quot;In high school &quot;</td><td>null</td><td>&quot;Male &quot;</td><td>null</td><td>&quot;Black or African American &quot;</td><td>&quot;Hispanic or Latino &quot;</td><td>null</td><td>null</td><td>null</td><td>&quot;YES&quot;</td><td>&quot;Bank of America&quot;</td><td>&quot;completed&quot;</td><td>&quot;2025-06-10 22:38:40&quot;</td><td>null</td><td>&quot;2025-06-10 22:44:49&quot;</td><td>&quot;da683d36d2&quot;</td><td>null</td><td>null</td></tr><tr><td>&quot;5pw9w5nvzrtf5pw977xk00jo2vl30v…</td><td>&quot;A little confident &quot;</td><td>&quot;Much better &quot;</td><td>null</td><td>null</td><td>null</td><td>&quot;Learning ways to stay calm and…</td><td>null</td><td>&quot;Visualizing myself responding …</td><td>null</td><td>null</td><td>&quot;I have a general idea &quot;</td><td>&quot;Speaking with a professional t…</td><td>null</td><td>&quot;Much more motivated &quot;</td><td>&quot;Getting better at my job&quot;</td><td>&quot;I have solid ideas &quot;</td><td>null</td><td>null</td><td>null</td><td>&quot;Identifying what I don’t want …</td><td>&quot;Learning that career paths can…</td><td>null</td><td>null</td><td>null</td><td>&quot;Very confident &quot;</td><td>&quot;Prioritizing needs vs. wants &quot;</td><td>null</td><td>&quot;Somewhat confident &quot;</td><td>null</td><td>null</td><td>&quot;Ask for feedback about how I c…</td><td>null</td><td>&quot;Make a better first impression…</td><td>null</td><td>null</td><td>null</td><td>&quot;A lot &quot;</td><td>&quot;Absolutely yes &quot;</td><td>&quot;I feel like everything was cov…</td><td>&quot;I guess have more people, expr…</td><td>&quot;OK, just talking to people and…</td><td>&quot;21&quot;</td><td>&quot;Currently enrolled in 2/4-year…</td><td>null</td><td>&quot;Female &quot;</td><td>null</td><td>null</td><td>&quot;Hispanic or Latino &quot;</td><td>null</td><td>null</td><td>null</td><td>&quot;YES&quot;</td><td>&quot;Bank of America&quot;</td><td>&quot;completed&quot;</td><td>&quot;2025-06-10 20:44:41&quot;</td><td>null</td><td>&quot;2025-06-10 20:56:35&quot;</td><td>&quot;371b1074b8&quot;</td><td>null</td><td>null</td></tr><tr><td>&quot;8phhspzlh9jx7h8phhjukj0rddkoxl…</td><td>&quot;A little confident &quot;</td><td>&quot;Much better &quot;</td><td>&quot;Understanding common workplace…</td><td>null</td><td>null</td><td>null</td><td>null</td><td>null</td><td>&quot;Identifying how others see me …</td><td>null</td><td>&quot;I have a general idea &quot;</td><td>&quot;Being more confident when I sp…</td><td>null</td><td>&quot;Much more motivated &quot;</td><td>&quot;Saving money&quot;</td><td>&quot;I have solid ideas &quot;</td><td>null</td><td>&quot;Seeing how hobbies or skills c…</td><td>&quot;Talking with others about drea…</td><td>null</td><td>null</td><td>null</td><td>null</td><td>null</td><td>&quot;Somewhat confident &quot;</td><td>&quot;Prioritizing needs vs. wants &quot;</td><td>null</td><td>&quot;Very confident &quot;</td><td>null</td><td>null</td><td>&quot;Ask for feedback about how I c…</td><td>null</td><td>&quot;Make a better first impression…</td><td>null</td><td>null</td><td>null</td><td>&quot;A lot &quot;</td><td>&quot;Absolutely yes &quot;</td><td>&quot;Nothing&quot;</td><td>&quot;Snacks&quot;</td><td>&quot;The friends made and the advic…</td><td>&quot;20&quot;</td><td>&quot;Currently enrolled in 2/4-year…</td><td>null</td><td>&quot;Female &quot;</td><td>null</td><td>&quot;Black or African American &quot;</td><td>null</td><td>null</td><td>null</td><td>null</td><td>null</td><td>&quot;Wells Fargo&quot;</td><td>&quot;completed&quot;</td><td>&quot;2025-06-10 18:59:16&quot;</td><td>null</td><td>&quot;2025-06-10 19:00:47&quot;</td><td>&quot;9580fece05&quot;</td><td>null</td><td>null</td></tr><tr><td>&quot;k26pi6bicbsvzd2yfk26pi67a2u4fh…</td><td>&quot;Extremely confident &quot;</td><td>&quot;A lot better, I understand the…</td><td>null</td><td>&quot;Seeing the difference between …</td><td>null</td><td>null</td><td>null</td><td>&quot;Visualizing myself responding …</td><td>null</td><td>null</td><td>&quot;I understand it clearly &quot;</td><td>&quot;Being more confident when I sp…</td><td>null</td><td>&quot;A little more motivated &quot;</td><td>&quot;Learning a trade&quot;</td><td>&quot;I have a little more clarity n…</td><td>null</td><td>&quot;Seeing how hobbies or skills c…</td><td>null</td><td>null</td><td>null</td><td>null</td><td>&quot;Realizing I don’t need a full …</td><td>null</td><td>&quot;Very confident &quot;</td><td>&quot;Prioritizing needs vs. wants &quot;</td><td>null</td><td>&quot;Very confident &quot;</td><td>null</td><td>null</td><td>null</td><td>null</td><td>&quot;Make a better first impression…</td><td>&quot;Network and build relationship…</td><td>null</td><td>null</td><td>&quot;Somewhat &quot;</td><td>&quot;Probably yes &quot;</td><td>&quot;None where needed&quot;</td><td>&quot;None&quot;</td><td>&quot;The people and the help&quot;</td><td>&quot;22&quot;</td><td>&quot;High school graduate (not in s…</td><td>null</td><td>&quot;Male &quot;</td><td>null</td><td>&quot;Black or African American &quot;</td><td>null</td><td>null</td><td>null</td><td>null</td><td>&quot;YES&quot;</td><td>&quot;Wells Fargo&quot;</td><td>&quot;completed&quot;</td><td>&quot;2025-06-10 17:06:13&quot;</td><td>null</td><td>&quot;2025-06-10 17:20:48&quot;</td><td>&quot;751a38f519&quot;</td><td>null</td><td>null</td></tr><tr><td>&quot;6pb6dn5vxn2itktj6pb6eidta6hte2…</td><td>&quot;Extremely confident &quot;</td><td>&quot;A lot better, I understand the…</td><td>null</td><td>&quot;Seeing the difference between …</td><td>null</td><td>&quot;Learning ways to stay calm and…</td><td>null</td><td>null</td><td>null</td><td>null</td><td>&quot;I understand it clearly &quot;</td><td>&quot;Knowing how to adjust dependin…</td><td>null</td><td>&quot;Much more motivated &quot;</td><td>&quot;Growing and moving up to get b…</td><td>&quot;I have solid ideas &quot;</td><td>null</td><td>&quot;Seeing how hobbies or skills c…</td><td>null</td><td>null</td><td>null</td><td>&quot;Getting new ideas I never cons…</td><td>null</td><td>null</td><td>&quot;Extremely confident &quot;</td><td>&quot;Understanding how to start sav…</td><td>null</td><td>&quot;Very confident &quot;</td><td>null</td><td>&quot;Start or improve a professiona…</td><td>null</td><td>null</td><td>null</td><td>&quot;Network and build relationship…</td><td>null</td><td>null</td><td>&quot;More than expected&quot;</td><td>&quot;Absolutely yes &quot;</td><td>&quot;Money move and emotional intel…</td><td>&quot;By talking more and getting to…</td><td>&quot;Money move and motivation&quot;</td><td>&quot;22&quot;</td><td>null</td><td>&quot;Working&quot;</td><td>&quot;Female &quot;</td><td>null</td><td>&quot;Black or African American &quot;</td><td>null</td><td>null</td><td>null</td><td>null</td><td>&quot;YES&quot;</td><td>&quot;Chime&quot;</td><td>&quot;completed&quot;</td><td>&quot;2025-06-10 17:05:45&quot;</td><td>null</td><td>&quot;2025-06-10 17:14:07&quot;</td><td>&quot;0db6c797c0&quot;</td><td>null</td><td>null</td></tr><tr><td>&hellip;</td><td>&hellip;</td><td>&hellip;</td><td>&hellip;</td><td>&hellip;</td><td>&hellip;</td><td>&hellip;</td><td>&hellip;</td><td>&hellip;</td><td>&hellip;</td><td>&hellip;</td><td>&hellip;</td><td>&hellip;</td><td>&hellip;</td><td>&hellip;</td><td>&hellip;</td><td>&hellip;</td><td>&hellip;</td><td>&hellip;</td><td>&hellip;</td><td>&hellip;</td><td>&hellip;</td><td>&hellip;</td><td>&hellip;</td><td>&hellip;</td><td>&hellip;</td><td>&hellip;</td><td>&hellip;</td><td>&hellip;</td><td>&hellip;</td><td>&hellip;</td><td>&hellip;</td><td>&hellip;</td><td>&hellip;</td><td>&hellip;</td><td>&hellip;</td><td>&hellip;</td><td>&hellip;</td><td>&hellip;</td><td>&hellip;</td><td>&hellip;</td><td>&hellip;</td><td>&hellip;</td><td>&hellip;</td><td>&hellip;</td><td>&hellip;</td><td>&hellip;</td><td>&hellip;</td><td>&hellip;</td><td>&hellip;</td><td>&hellip;</td><td>&hellip;</td><td>&hellip;</td><td>&hellip;</td><td>&hellip;</td><td>&hellip;</td><td>&hellip;</td><td>&hellip;</td><td>&hellip;</td><td>&hellip;</td><td>&hellip;</td></tr><tr><td>&quot;2erc4226su0ht44yld522erc42gyew…</td><td>&quot;Very confident &quot;</td><td>&quot;Much better &quot;</td><td>null</td><td>null</td><td>null</td><td>null</td><td>&quot;Talking with others about emot…</td><td>&quot;Visualizing myself responding …</td><td>null</td><td>null</td><td>&quot;I have a general idea &quot;</td><td>&quot;Being more confident when I sp…</td><td>null</td><td>&quot;A little more motivated &quot;</td><td>&quot;Being more confident when spea…</td><td>&quot;I have solid ideas &quot;</td><td>null</td><td>null</td><td>null</td><td>&quot;Identifying what I don’t want …</td><td>null</td><td>null</td><td>&quot;Realizing I don’t need a full …</td><td>null</td><td>&quot;Extremely confident &quot;</td><td>&quot;Seeing how fast money can disa…</td><td>null</td><td>&quot;A little more confident &quot;</td><td>null</td><td>&quot;Start or improve a professiona…</td><td>null</td><td>null</td><td>null</td><td>&quot;Network and build relationship…</td><td>null</td><td>null</td><td>&quot;Somewhat &quot;</td><td>&quot;Probably yes &quot;</td><td>&quot;Dressing professionally and mo…</td><td>&quot;Maybe a way to have a separate…</td><td>&quot;Learning about how to build yo…</td><td>&quot;19&quot;</td><td>&quot;Currently enrolled in 2/4-year…</td><td>null</td><td>&quot;Female &quot;</td><td>null</td><td>null</td><td>&quot;Hispanic or Latino &quot;</td><td>null</td><td>null</td><td>null</td><td>&quot;YES&quot;</td><td>&quot;Wells Fargo&quot;</td><td>&quot;completed&quot;</td><td>&quot;2025-06-10 16:57:31&quot;</td><td>null</td><td>&quot;2025-06-10 17:04:01&quot;</td><td>&quot;f38a2d0cbb&quot;</td><td>null</td><td>null</td></tr><tr><td>&quot;je289s3qu2nabiqhkg2m7g2je28lpy…</td><td>&quot;Very confident &quot;</td><td>&quot;Much better &quot;</td><td>&quot;Understanding common workplace…</td><td>null</td><td>null</td><td>null</td><td>&quot;Talking with others about emot…</td><td>null</td><td>null</td><td>null</td><td>&quot;I have a general idea &quot;</td><td>&quot;Being more confident when I sp…</td><td>null</td><td>&quot;A little more motivated &quot;</td><td>&quot;To invest in myself directly i…</td><td>&quot;I have solid ideas &quot;</td><td>null</td><td>&quot;Seeing how hobbies or skills c…</td><td>null</td><td>null</td><td>&quot;Learning that career paths can…</td><td>null</td><td>null</td><td>null</td><td>&quot;Somewhat confident &quot;</td><td>&quot;Learning the real cost of thin…</td><td>null</td><td>&quot;Very confident &quot;</td><td>null</td><td>null</td><td>null</td><td>null</td><td>null</td><td>&quot;Network and build relationship…</td><td>&quot;Post content that shows who I …</td><td>null</td><td>&quot;More than expected&quot;</td><td>&quot;Probably yes &quot;</td><td>&quot;I’m not sure&quot;</td><td>&quot;Starting on time&quot;</td><td>&quot;Meeting new people, emotional …</td><td>&quot;18&quot;</td><td>&quot;Currently enrolled in 2/4-year…</td><td>null</td><td>&quot;Female &quot;</td><td>null</td><td>&quot;Black or African American &quot;</td><td>null</td><td>null</td><td>null</td><td>null</td><td>&quot;YES&quot;</td><td>&quot;Wells Fargo&quot;</td><td>&quot;completed&quot;</td><td>&quot;2025-06-10 16:57:29&quot;</td><td>null</td><td>&quot;2025-06-10 17:17:50&quot;</td><td>&quot;3b56f1a422&quot;</td><td>null</td><td>null</td></tr><tr><td>&quot;oq7lvo5xhpvpcdv2toq7lvhz221pid…</td><td>&quot;Very confident &quot;</td><td>&quot;Slightly better &quot;</td><td>null</td><td>&quot;Seeing the difference between …</td><td>&quot;Creating my Emotional Pause Pl…</td><td>null</td><td>null</td><td>null</td><td>null</td><td>null</td><td>&quot;I have a general idea &quot;</td><td>&quot;Listening more and interruptin…</td><td>null</td><td>&quot;Much more motivated &quot;</td><td>&quot;learn how to budget and create…</td><td>&quot;I have a little more clarity n…</td><td>null</td><td>null</td><td>&quot;Talking with others about drea…</td><td>&quot;Identifying what I don’t want …</td><td>null</td><td>null</td><td>null</td><td>null</td><td>&quot;Very confident &quot;</td><td>&quot;Knowing how to create a basic …</td><td>null</td><td>&quot;Somewhat confident &quot;</td><td>&quot;Practice my elevator pitch &quot;</td><td>null</td><td>null</td><td>null</td><td>&quot;Make a better first impression…</td><td>null</td><td>null</td><td>null</td><td>&quot;Somewhat &quot;</td><td>&quot;Probably not &quot;</td><td>&quot;n/a&quot;</td><td>&quot;be more organized&quot;</td><td>&quot;how to keep calm and behave in…</td><td>&quot;23&quot;</td><td>&quot;High school graduate (not in s…</td><td>null</td><td>&quot;Female &quot;</td><td>null</td><td>&quot;Black or African American &quot;</td><td>null</td><td>null</td><td>null</td><td>null</td><td>&quot;YES&quot;</td><td>&quot;Valley Bank&quot;</td><td>&quot;completed&quot;</td><td>&quot;2025-06-10 16:57:23&quot;</td><td>null</td><td>&quot;2025-06-10 16:59:58&quot;</td><td>&quot;cb0ea651b1&quot;</td><td>null</td><td>null</td></tr><tr><td>&quot;ddp4knxhyob5o1j2gddp4k9vd7rs3t…</td><td>&quot;Extremely confident &quot;</td><td>&quot;Much better &quot;</td><td>&quot;Understanding common workplace…</td><td>null</td><td>null</td><td>null</td><td>null</td><td>&quot;Visualizing myself responding …</td><td>null</td><td>null</td><td>&quot;I understand it clearly &quot;</td><td>&quot;Managing body language and non…</td><td>null</td><td>&quot;Extremely motivated to take ac…</td><td>&quot;networking&quot;</td><td>&quot;I feel very clear about my opt…</td><td>&quot;Exploring what I’m naturally g…</td><td>null</td><td>&quot;Talking with others about drea…</td><td>null</td><td>null</td><td>null</td><td>null</td><td>null</td><td>&quot;Extremely confident &quot;</td><td>&quot;Prioritizing needs vs. wants &quot;</td><td>null</td><td>&quot;Extremely confident in how I p…</td><td>null</td><td>&quot;Start or improve a professiona…</td><td>null</td><td>null</td><td>null</td><td>&quot;Network and build relationship…</td><td>null</td><td>null</td><td>&quot;More than expected&quot;</td><td>&quot;Absolutely yes &quot;</td><td>&quot;business attire and profession…</td><td>&quot;longer groups&quot;</td><td>&quot;networking lessons and money m…</td><td>&quot;20&quot;</td><td>&quot;Currently enrolled in 2/4-year…</td><td>null</td><td>&quot;Male &quot;</td><td>null</td><td>&quot;Black or African American &quot;</td><td>null</td><td>null</td><td>null</td><td>null</td><td>&quot;YES&quot;</td><td>&quot;Wells Fargo&quot;</td><td>&quot;completed&quot;</td><td>&quot;2025-06-10 16:57:23&quot;</td><td>null</td><td>&quot;2025-06-10 17:04:41&quot;</td><td>&quot;87098cabe1&quot;</td><td>null</td><td>null</td></tr><tr><td>&quot;zli9lylt3k8p874zflbgqzli90j7v7…</td><td>&quot;Extremely confident &quot;</td><td>&quot;A lot better, I understand the…</td><td>null</td><td>null</td><td>null</td><td>null</td><td>&quot;Talking with others about emot…</td><td>null</td><td>&quot;Identifying how others see me …</td><td>null</td><td>&quot;I have a general idea &quot;</td><td>&quot;Managing body language and non…</td><td>null</td><td>&quot;Much more motivated &quot;</td><td>&quot;Djing&quot;</td><td>&quot;I have a little more clarity n…</td><td>null</td><td>&quot;Seeing how hobbies or skills c…</td><td>null</td><td>null</td><td>null</td><td>&quot;Getting new ideas I never cons…</td><td>null</td><td>null</td><td>&quot;Very confident &quot;</td><td>&quot;Seeing how fast money can disa…</td><td>null</td><td>&quot;Somewhat confident &quot;</td><td>null</td><td>null</td><td>null</td><td>&quot;Be more intentional about how …</td><td>null</td><td>&quot;Network and build relationship…</td><td>null</td><td>null</td><td>&quot;A lot &quot;</td><td>&quot;Probably yes &quot;</td><td>&quot;Stress relief&quot;</td><td>&quot;N/A&quot;</td><td>&quot;Making new friends and talking&quot;</td><td>&quot;20&quot;</td><td>&quot;High school graduate (not in s…</td><td>null</td><td>&quot;Non-binary &quot;</td><td>null</td><td>&quot;Black or African American &quot;</td><td>null</td><td>null</td><td>null</td><td>null</td><td>&quot;NO&quot;</td><td>&quot;Sofi&quot;</td><td>&quot;completed&quot;</td><td>&quot;2025-06-10 16:57:22&quot;</td><td>null</td><td>&quot;2025-06-10 17:01:29&quot;</td><td>&quot;050134482c&quot;</td><td>null</td><td>null</td></tr></tbody></table></div>"
      ],
      "text/plain": [
       "shape: (85, 61)\n",
       "┌─────────────┬────────────┬────────────┬────────────┬───┬────────────┬────────────┬──────┬────────┐\n",
       "│ #           ┆ How        ┆ After      ┆ Understand ┆ … ┆ Submit     ┆ Network ID ┆ Tags ┆ Ending │\n",
       "│ ---         ┆ confident  ┆ learning   ┆ ing common ┆   ┆ Date (UTC) ┆ ---        ┆ ---  ┆ ---    │\n",
       "│ str         ┆ are you    ┆ about      ┆ workplace… ┆   ┆ ---        ┆ str        ┆ str  ┆ str    │\n",
       "│             ┆ now in m…  ┆ emotional… ┆ ---        ┆   ┆ str        ┆            ┆      ┆        │\n",
       "│             ┆ ---        ┆ ---        ┆ str        ┆   ┆            ┆            ┆      ┆        │\n",
       "│             ┆ str        ┆ str        ┆            ┆   ┆            ┆            ┆      ┆        │\n",
       "╞═════════════╪════════════╪════════════╪════════════╪═══╪════════════╪════════════╪══════╪════════╡\n",
       "│ 3r116t1hh4j ┆ Extremely  ┆ A lot      ┆ null       ┆ … ┆ 2025-06-10 ┆ da683d36d2 ┆ null ┆ null   │\n",
       "│ n7wq63r116t ┆ confident  ┆ better, I  ┆            ┆   ┆ 22:44:49   ┆            ┆      ┆        │\n",
       "│ oyehnbqx…   ┆            ┆ understand ┆            ┆   ┆            ┆            ┆      ┆        │\n",
       "│             ┆            ┆ the…       ┆            ┆   ┆            ┆            ┆      ┆        │\n",
       "│ 5pw9w5nvzrt ┆ A little   ┆ Much       ┆ null       ┆ … ┆ 2025-06-10 ┆ 371b1074b8 ┆ null ┆ null   │\n",
       "│ f5pw977xk00 ┆ confident  ┆ better     ┆            ┆   ┆ 20:56:35   ┆            ┆      ┆        │\n",
       "│ jo2vl30v…   ┆            ┆            ┆            ┆   ┆            ┆            ┆      ┆        │\n",
       "│ 8phhspzlh9j ┆ A little   ┆ Much       ┆ Understand ┆ … ┆ 2025-06-10 ┆ 9580fece05 ┆ null ┆ null   │\n",
       "│ x7h8phhjukj ┆ confident  ┆ better     ┆ ing common ┆   ┆ 19:00:47   ┆            ┆      ┆        │\n",
       "│ 0rddkoxl…   ┆            ┆            ┆ workplace… ┆   ┆            ┆            ┆      ┆        │\n",
       "│ k26pi6bicbs ┆ Extremely  ┆ A lot      ┆ null       ┆ … ┆ 2025-06-10 ┆ 751a38f519 ┆ null ┆ null   │\n",
       "│ vzd2yfk26pi ┆ confident  ┆ better, I  ┆            ┆   ┆ 17:20:48   ┆            ┆      ┆        │\n",
       "│ 67a2u4fh…   ┆            ┆ understand ┆            ┆   ┆            ┆            ┆      ┆        │\n",
       "│             ┆            ┆ the…       ┆            ┆   ┆            ┆            ┆      ┆        │\n",
       "│ 6pb6dn5vxn2 ┆ Extremely  ┆ A lot      ┆ null       ┆ … ┆ 2025-06-10 ┆ 0db6c797c0 ┆ null ┆ null   │\n",
       "│ itktj6pb6ei ┆ confident  ┆ better, I  ┆            ┆   ┆ 17:14:07   ┆            ┆      ┆        │\n",
       "│ dta6hte2…   ┆            ┆ understand ┆            ┆   ┆            ┆            ┆      ┆        │\n",
       "│             ┆            ┆ the…       ┆            ┆   ┆            ┆            ┆      ┆        │\n",
       "│ …           ┆ …          ┆ …          ┆ …          ┆ … ┆ …          ┆ …          ┆ …    ┆ …      │\n",
       "│ 2erc4226su0 ┆ Very       ┆ Much       ┆ null       ┆ … ┆ 2025-06-10 ┆ f38a2d0cbb ┆ null ┆ null   │\n",
       "│ ht44yld522e ┆ confident  ┆ better     ┆            ┆   ┆ 17:04:01   ┆            ┆      ┆        │\n",
       "│ rc42gyew…   ┆            ┆            ┆            ┆   ┆            ┆            ┆      ┆        │\n",
       "│ je289s3qu2n ┆ Very       ┆ Much       ┆ Understand ┆ … ┆ 2025-06-10 ┆ 3b56f1a422 ┆ null ┆ null   │\n",
       "│ abiqhkg2m7g ┆ confident  ┆ better     ┆ ing common ┆   ┆ 17:17:50   ┆            ┆      ┆        │\n",
       "│ 2je28lpy…   ┆            ┆            ┆ workplace… ┆   ┆            ┆            ┆      ┆        │\n",
       "│ oq7lvo5xhpv ┆ Very       ┆ Slightly   ┆ null       ┆ … ┆ 2025-06-10 ┆ cb0ea651b1 ┆ null ┆ null   │\n",
       "│ pcdv2toq7lv ┆ confident  ┆ better     ┆            ┆   ┆ 16:59:58   ┆            ┆      ┆        │\n",
       "│ hz221pid…   ┆            ┆            ┆            ┆   ┆            ┆            ┆      ┆        │\n",
       "│ ddp4knxhyob ┆ Extremely  ┆ Much       ┆ Understand ┆ … ┆ 2025-06-10 ┆ 87098cabe1 ┆ null ┆ null   │\n",
       "│ 5o1j2gddp4k ┆ confident  ┆ better     ┆ ing common ┆   ┆ 17:04:41   ┆            ┆      ┆        │\n",
       "│ 9vd7rs3t…   ┆            ┆            ┆ workplace… ┆   ┆            ┆            ┆      ┆        │\n",
       "│ zli9lylt3k8 ┆ Extremely  ┆ A lot      ┆ null       ┆ … ┆ 2025-06-10 ┆ 050134482c ┆ null ┆ null   │\n",
       "│ p874zflbgqz ┆ confident  ┆ better, I  ┆            ┆   ┆ 17:01:29   ┆            ┆      ┆        │\n",
       "│ li90j7v7…   ┆            ┆ understand ┆            ┆   ┆            ┆            ┆      ┆        │\n",
       "│             ┆            ┆ the…       ┆            ┆   ┆            ┆            ┆      ┆        │\n",
       "└─────────────┴────────────┴────────────┴────────────┴───┴────────────┴────────────┴──────┴────────┘"
      ]
     },
     "execution_count": 2,
     "metadata": {},
     "output_type": "execute_result"
    }
   ],
   "source": [
    "df_post"
   ]
  },
  {
   "cell_type": "code",
   "execution_count": 3,
   "id": "452a5e61",
   "metadata": {},
   "outputs": [],
   "source": [
    "df_growth = df_post.select([\"#\"] + mappings.growth_questions).to_pandas()"
   ]
  },
  {
   "cell_type": "code",
   "execution_count": 4,
   "id": "378f402f",
   "metadata": {},
   "outputs": [],
   "source": [
    "df_growth = pl.DataFrame(df_growth.replace(mappings.all_post_orientation_entry_mappings).rename(columns=mappings.original_to_concise_question_names))\n",
    "\n",
    "# Define the logical order for each set of responses\n",
    "# These lists should contain the *standardized* entries in your desired order\n",
    "order_confidence_emotions = ['Highly Confident', 'Very Confident', 'Slightly Confident', 'Not Confident At All']\n",
    "order_emotional_triggers = ['Significantly Better', 'Much Better', 'Slightly Better', 'Not Better At All']\n",
    "order_communication_style = ['Clearly Understand', 'Understand & Improving', 'General Understanding', 'Do Not Understand']\n",
    "order_goal_motivation = ['Highly Motivated', 'Much More Motivated', 'Slightly More Motivated', 'No Change', 'Less Motivated']\n",
    "order_career_paths = ['Very Clear', 'Solid Ideas', 'Slightly Clearer', 'Still Unsure']\n",
    "order_money_management = ['Highly Confident', 'Very Confident', 'Somewhat Confident', 'Not Confident At All'] # Duplicate of confidence, but good to keep explicit\n",
    "order_professional_presence = ['Highly Confident', 'Very Confident', 'Somewhat Confident', 'Slightly More Confident', 'Not Yet Confident']\n",
    "order_overall_growth = ['More Than Expected', 'Significant Growth', 'Some Growth', 'Slight Growth', 'No Growth At All']\n",
    "\n",
    "# A dictionary to map question names (or a unique identifier for them) to their respective orders\n",
    "post_orientation_question_orders = {\n",
    "    \"Confidence in Managing Emotions\": order_confidence_emotions,\n",
    "    \"Recognizing Emotional Triggers\": order_emotional_triggers,\n",
    "    \"Understanding Communication Style\": order_communication_style,\n",
    "    \"Motivation for Goal Setting\": order_goal_motivation,\n",
    "    \"Clarity on Career Paths\": order_career_paths,\n",
    "    \"Confidence in Money Management\": order_money_management,\n",
    "    \"Confidence in Professional Presence\": order_professional_presence,\n",
    "    \"Overall Growth\": order_overall_growth\n",
    "}"
   ]
  },
  {
   "cell_type": "code",
   "execution_count": 5,
   "id": "5829ad47",
   "metadata": {},
   "outputs": [],
   "source": [
    "fig = make_subplots(rows=2, cols=4,\n",
    "                    subplot_titles=list(post_orientation_question_orders.keys()))\n",
    "\n",
    "for index, g in enumerate(df_growth.columns[1:]):\n",
    "    \n",
    "    position = get_subplot_coords(index, 2, 4)\n",
    "    \n",
    "    d = multi_select_counts(df_growth, [\"#\", g])\n",
    "    fig.add_trace(\n",
    "        go.Bar(y=d.values, x=d.index),\n",
    "        row=position[0], col=position[1])\n",
    "    \n",
    "    fig.update_xaxes(\n",
    "        categoryorder='array', # Ensure Plotly respects the order of the array\n",
    "        categoryarray=post_orientation_question_orders[g], # Pass the order directly to Plotly for good measure\n",
    "        tickangle=-45, # Adjust as needed for label readability\n",
    "        row=position[0], col=position[1]\n",
    "    )"
   ]
  },
  {
   "cell_type": "code",
   "execution_count": 6,
   "id": "ba950e99",
   "metadata": {},
   "outputs": [
    {
     "data": {
      "application/vnd.plotly.v1+json": {
       "config": {
        "plotlyServerURL": "https://plot.ly"
       },
       "data": [
        {
         "type": "bar",
         "x": [
          "Very Confident",
          "Highly Confident",
          "Slightly Confident",
          "Not Confident At All"
         ],
         "xaxis": "x",
         "y": [
          45,
          29,
          10,
          1
         ],
         "yaxis": "y"
        },
        {
         "type": "bar",
         "x": [
          "Much Better",
          "Significantly Better",
          "Slightly Better",
          "Not Better At All"
         ],
         "xaxis": "x2",
         "y": [
          45,
          28,
          10,
          2
         ],
         "yaxis": "y2"
        },
        {
         "type": "bar",
         "x": [
          "Clearly Understand",
          "Understand & Improving",
          "General Understanding",
          "Do Not Understand"
         ],
         "xaxis": "x3",
         "y": [
          35,
          26,
          23,
          1
         ],
         "yaxis": "y3"
        },
        {
         "type": "bar",
         "x": [
          "Much More Motivated",
          "Highly Motivated",
          "Slightly More Motivated",
          "No Change",
          "Less Motivated"
         ],
         "xaxis": "x4",
         "y": [
          39,
          23,
          17,
          4,
          2
         ],
         "yaxis": "y4"
        },
        {
         "type": "bar",
         "x": [
          "Solid Ideas",
          "Very Clear",
          "Slightly Clearer",
          "Still Unsure"
         ],
         "xaxis": "x5",
         "y": [
          46,
          22,
          12,
          5
         ],
         "yaxis": "y5"
        },
        {
         "type": "bar",
         "x": [
          "Very Confident",
          "Highly Confident",
          "Somewhat Confident",
          "Not Confident At All"
         ],
         "xaxis": "x6",
         "y": [
          40,
          31,
          13,
          1
         ],
         "yaxis": "y6"
        },
        {
         "type": "bar",
         "x": [
          "Very Confident",
          "Somewhat Confident",
          "Highly Confident",
          "Slightly More Confident",
          "Not Yet Confident"
         ],
         "xaxis": "x7",
         "y": [
          37,
          20,
          19,
          8,
          1
         ],
         "yaxis": "y7"
        },
        {
         "type": "bar",
         "x": [
          "Significant Growth",
          "Some Growth",
          "More Than Expected",
          "Slight Growth",
          "No Growth At All"
         ],
         "xaxis": "x8",
         "y": [
          31,
          28,
          18,
          6,
          2
         ],
         "yaxis": "y8"
        }
       ],
       "layout": {
        "annotations": [
         {
          "font": {
           "size": 16
          },
          "showarrow": false,
          "text": "Confidence in Managing Emotions",
          "x": 0.10625,
          "xanchor": "center",
          "xref": "paper",
          "y": 1,
          "yanchor": "bottom",
          "yref": "paper"
         },
         {
          "font": {
           "size": 16
          },
          "showarrow": false,
          "text": "Recognizing Emotional Triggers",
          "x": 0.36875,
          "xanchor": "center",
          "xref": "paper",
          "y": 1,
          "yanchor": "bottom",
          "yref": "paper"
         },
         {
          "font": {
           "size": 16
          },
          "showarrow": false,
          "text": "Understanding Communication Style",
          "x": 0.6312500000000001,
          "xanchor": "center",
          "xref": "paper",
          "y": 1,
          "yanchor": "bottom",
          "yref": "paper"
         },
         {
          "font": {
           "size": 16
          },
          "showarrow": false,
          "text": "Motivation for Goal Setting",
          "x": 0.89375,
          "xanchor": "center",
          "xref": "paper",
          "y": 1,
          "yanchor": "bottom",
          "yref": "paper"
         },
         {
          "font": {
           "size": 16
          },
          "showarrow": false,
          "text": "Clarity on Career Paths",
          "x": 0.10625,
          "xanchor": "center",
          "xref": "paper",
          "y": 0.375,
          "yanchor": "bottom",
          "yref": "paper"
         },
         {
          "font": {
           "size": 16
          },
          "showarrow": false,
          "text": "Confidence in Money Management",
          "x": 0.36875,
          "xanchor": "center",
          "xref": "paper",
          "y": 0.375,
          "yanchor": "bottom",
          "yref": "paper"
         },
         {
          "font": {
           "size": 16
          },
          "showarrow": false,
          "text": "Confidence in Professional Presence",
          "x": 0.6312500000000001,
          "xanchor": "center",
          "xref": "paper",
          "y": 0.375,
          "yanchor": "bottom",
          "yref": "paper"
         },
         {
          "font": {
           "size": 16
          },
          "showarrow": false,
          "text": "Overall Growth",
          "x": 0.89375,
          "xanchor": "center",
          "xref": "paper",
          "y": 0.375,
          "yanchor": "bottom",
          "yref": "paper"
         }
        ],
        "height": 1000,
        "showlegend": false,
        "template": {
         "data": {
          "bar": [
           {
            "error_x": {
             "color": "#2a3f5f"
            },
            "error_y": {
             "color": "#2a3f5f"
            },
            "marker": {
             "line": {
              "color": "white",
              "width": 0.5
             },
             "pattern": {
              "fillmode": "overlay",
              "size": 10,
              "solidity": 0.2
             }
            },
            "type": "bar"
           }
          ],
          "barpolar": [
           {
            "marker": {
             "line": {
              "color": "white",
              "width": 0.5
             },
             "pattern": {
              "fillmode": "overlay",
              "size": 10,
              "solidity": 0.2
             }
            },
            "type": "barpolar"
           }
          ],
          "carpet": [
           {
            "aaxis": {
             "endlinecolor": "#2a3f5f",
             "gridcolor": "#C8D4E3",
             "linecolor": "#C8D4E3",
             "minorgridcolor": "#C8D4E3",
             "startlinecolor": "#2a3f5f"
            },
            "baxis": {
             "endlinecolor": "#2a3f5f",
             "gridcolor": "#C8D4E3",
             "linecolor": "#C8D4E3",
             "minorgridcolor": "#C8D4E3",
             "startlinecolor": "#2a3f5f"
            },
            "type": "carpet"
           }
          ],
          "choropleth": [
           {
            "colorbar": {
             "outlinewidth": 0,
             "ticks": ""
            },
            "type": "choropleth"
           }
          ],
          "contour": [
           {
            "colorbar": {
             "outlinewidth": 0,
             "ticks": ""
            },
            "colorscale": [
             [
              0,
              "#0d0887"
             ],
             [
              0.1111111111111111,
              "#46039f"
             ],
             [
              0.2222222222222222,
              "#7201a8"
             ],
             [
              0.3333333333333333,
              "#9c179e"
             ],
             [
              0.4444444444444444,
              "#bd3786"
             ],
             [
              0.5555555555555556,
              "#d8576b"
             ],
             [
              0.6666666666666666,
              "#ed7953"
             ],
             [
              0.7777777777777778,
              "#fb9f3a"
             ],
             [
              0.8888888888888888,
              "#fdca26"
             ],
             [
              1,
              "#f0f921"
             ]
            ],
            "type": "contour"
           }
          ],
          "contourcarpet": [
           {
            "colorbar": {
             "outlinewidth": 0,
             "ticks": ""
            },
            "type": "contourcarpet"
           }
          ],
          "heatmap": [
           {
            "colorbar": {
             "outlinewidth": 0,
             "ticks": ""
            },
            "colorscale": [
             [
              0,
              "#0d0887"
             ],
             [
              0.1111111111111111,
              "#46039f"
             ],
             [
              0.2222222222222222,
              "#7201a8"
             ],
             [
              0.3333333333333333,
              "#9c179e"
             ],
             [
              0.4444444444444444,
              "#bd3786"
             ],
             [
              0.5555555555555556,
              "#d8576b"
             ],
             [
              0.6666666666666666,
              "#ed7953"
             ],
             [
              0.7777777777777778,
              "#fb9f3a"
             ],
             [
              0.8888888888888888,
              "#fdca26"
             ],
             [
              1,
              "#f0f921"
             ]
            ],
            "type": "heatmap"
           }
          ],
          "heatmapgl": [
           {
            "colorbar": {
             "outlinewidth": 0,
             "ticks": ""
            },
            "colorscale": [
             [
              0,
              "#0d0887"
             ],
             [
              0.1111111111111111,
              "#46039f"
             ],
             [
              0.2222222222222222,
              "#7201a8"
             ],
             [
              0.3333333333333333,
              "#9c179e"
             ],
             [
              0.4444444444444444,
              "#bd3786"
             ],
             [
              0.5555555555555556,
              "#d8576b"
             ],
             [
              0.6666666666666666,
              "#ed7953"
             ],
             [
              0.7777777777777778,
              "#fb9f3a"
             ],
             [
              0.8888888888888888,
              "#fdca26"
             ],
             [
              1,
              "#f0f921"
             ]
            ],
            "type": "heatmapgl"
           }
          ],
          "histogram": [
           {
            "marker": {
             "pattern": {
              "fillmode": "overlay",
              "size": 10,
              "solidity": 0.2
             }
            },
            "type": "histogram"
           }
          ],
          "histogram2d": [
           {
            "colorbar": {
             "outlinewidth": 0,
             "ticks": ""
            },
            "colorscale": [
             [
              0,
              "#0d0887"
             ],
             [
              0.1111111111111111,
              "#46039f"
             ],
             [
              0.2222222222222222,
              "#7201a8"
             ],
             [
              0.3333333333333333,
              "#9c179e"
             ],
             [
              0.4444444444444444,
              "#bd3786"
             ],
             [
              0.5555555555555556,
              "#d8576b"
             ],
             [
              0.6666666666666666,
              "#ed7953"
             ],
             [
              0.7777777777777778,
              "#fb9f3a"
             ],
             [
              0.8888888888888888,
              "#fdca26"
             ],
             [
              1,
              "#f0f921"
             ]
            ],
            "type": "histogram2d"
           }
          ],
          "histogram2dcontour": [
           {
            "colorbar": {
             "outlinewidth": 0,
             "ticks": ""
            },
            "colorscale": [
             [
              0,
              "#0d0887"
             ],
             [
              0.1111111111111111,
              "#46039f"
             ],
             [
              0.2222222222222222,
              "#7201a8"
             ],
             [
              0.3333333333333333,
              "#9c179e"
             ],
             [
              0.4444444444444444,
              "#bd3786"
             ],
             [
              0.5555555555555556,
              "#d8576b"
             ],
             [
              0.6666666666666666,
              "#ed7953"
             ],
             [
              0.7777777777777778,
              "#fb9f3a"
             ],
             [
              0.8888888888888888,
              "#fdca26"
             ],
             [
              1,
              "#f0f921"
             ]
            ],
            "type": "histogram2dcontour"
           }
          ],
          "mesh3d": [
           {
            "colorbar": {
             "outlinewidth": 0,
             "ticks": ""
            },
            "type": "mesh3d"
           }
          ],
          "parcoords": [
           {
            "line": {
             "colorbar": {
              "outlinewidth": 0,
              "ticks": ""
             }
            },
            "type": "parcoords"
           }
          ],
          "pie": [
           {
            "automargin": true,
            "type": "pie"
           }
          ],
          "scatter": [
           {
            "fillpattern": {
             "fillmode": "overlay",
             "size": 10,
             "solidity": 0.2
            },
            "type": "scatter"
           }
          ],
          "scatter3d": [
           {
            "line": {
             "colorbar": {
              "outlinewidth": 0,
              "ticks": ""
             }
            },
            "marker": {
             "colorbar": {
              "outlinewidth": 0,
              "ticks": ""
             }
            },
            "type": "scatter3d"
           }
          ],
          "scattercarpet": [
           {
            "marker": {
             "colorbar": {
              "outlinewidth": 0,
              "ticks": ""
             }
            },
            "type": "scattercarpet"
           }
          ],
          "scattergeo": [
           {
            "marker": {
             "colorbar": {
              "outlinewidth": 0,
              "ticks": ""
             }
            },
            "type": "scattergeo"
           }
          ],
          "scattergl": [
           {
            "marker": {
             "colorbar": {
              "outlinewidth": 0,
              "ticks": ""
             }
            },
            "type": "scattergl"
           }
          ],
          "scattermapbox": [
           {
            "marker": {
             "colorbar": {
              "outlinewidth": 0,
              "ticks": ""
             }
            },
            "type": "scattermapbox"
           }
          ],
          "scatterpolar": [
           {
            "marker": {
             "colorbar": {
              "outlinewidth": 0,
              "ticks": ""
             }
            },
            "type": "scatterpolar"
           }
          ],
          "scatterpolargl": [
           {
            "marker": {
             "colorbar": {
              "outlinewidth": 0,
              "ticks": ""
             }
            },
            "type": "scatterpolargl"
           }
          ],
          "scatterternary": [
           {
            "marker": {
             "colorbar": {
              "outlinewidth": 0,
              "ticks": ""
             }
            },
            "type": "scatterternary"
           }
          ],
          "surface": [
           {
            "colorbar": {
             "outlinewidth": 0,
             "ticks": ""
            },
            "colorscale": [
             [
              0,
              "#0d0887"
             ],
             [
              0.1111111111111111,
              "#46039f"
             ],
             [
              0.2222222222222222,
              "#7201a8"
             ],
             [
              0.3333333333333333,
              "#9c179e"
             ],
             [
              0.4444444444444444,
              "#bd3786"
             ],
             [
              0.5555555555555556,
              "#d8576b"
             ],
             [
              0.6666666666666666,
              "#ed7953"
             ],
             [
              0.7777777777777778,
              "#fb9f3a"
             ],
             [
              0.8888888888888888,
              "#fdca26"
             ],
             [
              1,
              "#f0f921"
             ]
            ],
            "type": "surface"
           }
          ],
          "table": [
           {
            "cells": {
             "fill": {
              "color": "#EBF0F8"
             },
             "line": {
              "color": "white"
             }
            },
            "header": {
             "fill": {
              "color": "#C8D4E3"
             },
             "line": {
              "color": "white"
             }
            },
            "type": "table"
           }
          ]
         },
         "layout": {
          "annotationdefaults": {
           "arrowcolor": "#2a3f5f",
           "arrowhead": 0,
           "arrowwidth": 1
          },
          "autotypenumbers": "strict",
          "coloraxis": {
           "colorbar": {
            "outlinewidth": 0,
            "ticks": ""
           }
          },
          "colorscale": {
           "diverging": [
            [
             0,
             "#8e0152"
            ],
            [
             0.1,
             "#c51b7d"
            ],
            [
             0.2,
             "#de77ae"
            ],
            [
             0.3,
             "#f1b6da"
            ],
            [
             0.4,
             "#fde0ef"
            ],
            [
             0.5,
             "#f7f7f7"
            ],
            [
             0.6,
             "#e6f5d0"
            ],
            [
             0.7,
             "#b8e186"
            ],
            [
             0.8,
             "#7fbc41"
            ],
            [
             0.9,
             "#4d9221"
            ],
            [
             1,
             "#276419"
            ]
           ],
           "sequential": [
            [
             0,
             "#0d0887"
            ],
            [
             0.1111111111111111,
             "#46039f"
            ],
            [
             0.2222222222222222,
             "#7201a8"
            ],
            [
             0.3333333333333333,
             "#9c179e"
            ],
            [
             0.4444444444444444,
             "#bd3786"
            ],
            [
             0.5555555555555556,
             "#d8576b"
            ],
            [
             0.6666666666666666,
             "#ed7953"
            ],
            [
             0.7777777777777778,
             "#fb9f3a"
            ],
            [
             0.8888888888888888,
             "#fdca26"
            ],
            [
             1,
             "#f0f921"
            ]
           ],
           "sequentialminus": [
            [
             0,
             "#0d0887"
            ],
            [
             0.1111111111111111,
             "#46039f"
            ],
            [
             0.2222222222222222,
             "#7201a8"
            ],
            [
             0.3333333333333333,
             "#9c179e"
            ],
            [
             0.4444444444444444,
             "#bd3786"
            ],
            [
             0.5555555555555556,
             "#d8576b"
            ],
            [
             0.6666666666666666,
             "#ed7953"
            ],
            [
             0.7777777777777778,
             "#fb9f3a"
            ],
            [
             0.8888888888888888,
             "#fdca26"
            ],
            [
             1,
             "#f0f921"
            ]
           ]
          },
          "colorway": [
           "#636efa",
           "#EF553B",
           "#00cc96",
           "#ab63fa",
           "#FFA15A",
           "#19d3f3",
           "#FF6692",
           "#B6E880",
           "#FF97FF",
           "#FECB52"
          ],
          "font": {
           "color": "#2a3f5f"
          },
          "geo": {
           "bgcolor": "white",
           "lakecolor": "white",
           "landcolor": "white",
           "showlakes": true,
           "showland": true,
           "subunitcolor": "#C8D4E3"
          },
          "hoverlabel": {
           "align": "left"
          },
          "hovermode": "closest",
          "mapbox": {
           "style": "light"
          },
          "paper_bgcolor": "white",
          "plot_bgcolor": "white",
          "polar": {
           "angularaxis": {
            "gridcolor": "#EBF0F8",
            "linecolor": "#EBF0F8",
            "ticks": ""
           },
           "bgcolor": "white",
           "radialaxis": {
            "gridcolor": "#EBF0F8",
            "linecolor": "#EBF0F8",
            "ticks": ""
           }
          },
          "scene": {
           "xaxis": {
            "backgroundcolor": "white",
            "gridcolor": "#DFE8F3",
            "gridwidth": 2,
            "linecolor": "#EBF0F8",
            "showbackground": true,
            "ticks": "",
            "zerolinecolor": "#EBF0F8"
           },
           "yaxis": {
            "backgroundcolor": "white",
            "gridcolor": "#DFE8F3",
            "gridwidth": 2,
            "linecolor": "#EBF0F8",
            "showbackground": true,
            "ticks": "",
            "zerolinecolor": "#EBF0F8"
           },
           "zaxis": {
            "backgroundcolor": "white",
            "gridcolor": "#DFE8F3",
            "gridwidth": 2,
            "linecolor": "#EBF0F8",
            "showbackground": true,
            "ticks": "",
            "zerolinecolor": "#EBF0F8"
           }
          },
          "shapedefaults": {
           "line": {
            "color": "#2a3f5f"
           }
          },
          "ternary": {
           "aaxis": {
            "gridcolor": "#DFE8F3",
            "linecolor": "#A2B1C6",
            "ticks": ""
           },
           "baxis": {
            "gridcolor": "#DFE8F3",
            "linecolor": "#A2B1C6",
            "ticks": ""
           },
           "bgcolor": "white",
           "caxis": {
            "gridcolor": "#DFE8F3",
            "linecolor": "#A2B1C6",
            "ticks": ""
           }
          },
          "title": {
           "x": 0.05
          },
          "xaxis": {
           "automargin": true,
           "gridcolor": "#EBF0F8",
           "linecolor": "#EBF0F8",
           "ticks": "",
           "title": {
            "standoff": 15
           },
           "zerolinecolor": "#EBF0F8",
           "zerolinewidth": 2
          },
          "yaxis": {
           "automargin": true,
           "gridcolor": "#EBF0F8",
           "linecolor": "#EBF0F8",
           "ticks": "",
           "title": {
            "standoff": 15
           },
           "zerolinecolor": "#EBF0F8",
           "zerolinewidth": 2
          }
         }
        },
        "title": {
         "text": ""
        },
        "width": 1800,
        "xaxis": {
         "anchor": "y",
         "categoryarray": [
          "Highly Confident",
          "Very Confident",
          "Slightly Confident",
          "Not Confident At All"
         ],
         "categoryorder": "array",
         "domain": [
          0,
          0.2125
         ],
         "tickangle": -45
        },
        "xaxis2": {
         "anchor": "y2",
         "categoryarray": [
          "Significantly Better",
          "Much Better",
          "Slightly Better",
          "Not Better At All"
         ],
         "categoryorder": "array",
         "domain": [
          0.2625,
          0.475
         ],
         "tickangle": -45
        },
        "xaxis3": {
         "anchor": "y3",
         "categoryarray": [
          "Clearly Understand",
          "Understand & Improving",
          "General Understanding",
          "Do Not Understand"
         ],
         "categoryorder": "array",
         "domain": [
          0.525,
          0.7375
         ],
         "tickangle": -45
        },
        "xaxis4": {
         "anchor": "y4",
         "categoryarray": [
          "Highly Motivated",
          "Much More Motivated",
          "Slightly More Motivated",
          "No Change",
          "Less Motivated"
         ],
         "categoryorder": "array",
         "domain": [
          0.7875,
          1
         ],
         "tickangle": -45
        },
        "xaxis5": {
         "anchor": "y5",
         "categoryarray": [
          "Very Clear",
          "Solid Ideas",
          "Slightly Clearer",
          "Still Unsure"
         ],
         "categoryorder": "array",
         "domain": [
          0,
          0.2125
         ],
         "tickangle": -45
        },
        "xaxis6": {
         "anchor": "y6",
         "categoryarray": [
          "Highly Confident",
          "Very Confident",
          "Somewhat Confident",
          "Not Confident At All"
         ],
         "categoryorder": "array",
         "domain": [
          0.2625,
          0.475
         ],
         "tickangle": -45
        },
        "xaxis7": {
         "anchor": "y7",
         "categoryarray": [
          "Highly Confident",
          "Very Confident",
          "Somewhat Confident",
          "Slightly More Confident",
          "Not Yet Confident"
         ],
         "categoryorder": "array",
         "domain": [
          0.525,
          0.7375
         ],
         "tickangle": -45
        },
        "xaxis8": {
         "anchor": "y8",
         "categoryarray": [
          "More Than Expected",
          "Significant Growth",
          "Some Growth",
          "Slight Growth",
          "No Growth At All"
         ],
         "categoryorder": "array",
         "domain": [
          0.7875,
          1
         ],
         "tickangle": -45
        },
        "yaxis": {
         "anchor": "x",
         "domain": [
          0.625,
          1
         ]
        },
        "yaxis2": {
         "anchor": "x2",
         "domain": [
          0.625,
          1
         ]
        },
        "yaxis3": {
         "anchor": "x3",
         "domain": [
          0.625,
          1
         ]
        },
        "yaxis4": {
         "anchor": "x4",
         "domain": [
          0.625,
          1
         ]
        },
        "yaxis5": {
         "anchor": "x5",
         "domain": [
          0,
          0.375
         ]
        },
        "yaxis6": {
         "anchor": "x6",
         "domain": [
          0,
          0.375
         ]
        },
        "yaxis7": {
         "anchor": "x7",
         "domain": [
          0,
          0.375
         ]
        },
        "yaxis8": {
         "anchor": "x8",
         "domain": [
          0,
          0.375
         ]
        }
       }
      }
     },
     "metadata": {},
     "output_type": "display_data"
    }
   ],
   "source": [
    "# Update layout\n",
    "fig.update_layout(height=1000, width=1800, title_text=\"\")\n",
    "fig.update_layout(showlegend=False)\n",
    "\"\"\"fig.update_xaxes(\n",
    "    categoryorder='array',\n",
    "    categoryarray=['Not at all', 'Slightly', 'Moderately','Very', 'Extremely'])\"\"\"\n",
    "fig.show()"
   ]
  },
  {
   "cell_type": "code",
   "execution_count": 7,
   "id": "e3db64f7",
   "metadata": {},
   "outputs": [
    {
     "data": {
      "text/html": [
       "<div><style>\n",
       ".dataframe > thead > tr,\n",
       ".dataframe > tbody > tr {\n",
       "  text-align: right;\n",
       "  white-space: pre-wrap;\n",
       "}\n",
       "</style>\n",
       "<small>shape: (85, 9)</small><table border=\"1\" class=\"dataframe\"><thead><tr><th>#</th><th>Confidence in Managing Emotions</th><th>Recognizing Emotional Triggers</th><th>Understanding Communication Style</th><th>Motivation for Goal Setting</th><th>Clarity on Career Paths</th><th>Confidence in Money Management</th><th>Confidence in Professional Presence</th><th>Overall Growth</th></tr><tr><td>str</td><td>str</td><td>str</td><td>str</td><td>str</td><td>str</td><td>str</td><td>str</td><td>str</td></tr></thead><tbody><tr><td>&quot;3r116t1hh4jn7wq63r116toyehnbqx…</td><td>&quot;Highly Confident&quot;</td><td>&quot;Significantly Better&quot;</td><td>&quot;Clearly Understand&quot;</td><td>&quot;Much More Motivated&quot;</td><td>&quot;Solid Ideas&quot;</td><td>&quot;Highly Confident&quot;</td><td>&quot;Very Confident&quot;</td><td>&quot;Significant Growth&quot;</td></tr><tr><td>&quot;5pw9w5nvzrtf5pw977xk00jo2vl30v…</td><td>&quot;Slightly Confident&quot;</td><td>&quot;Much Better&quot;</td><td>&quot;General Understanding&quot;</td><td>&quot;Much More Motivated&quot;</td><td>&quot;Solid Ideas&quot;</td><td>&quot;Very Confident&quot;</td><td>&quot;Somewhat Confident&quot;</td><td>&quot;Significant Growth&quot;</td></tr><tr><td>&quot;8phhspzlh9jx7h8phhjukj0rddkoxl…</td><td>&quot;Slightly Confident&quot;</td><td>&quot;Much Better&quot;</td><td>&quot;General Understanding&quot;</td><td>&quot;Much More Motivated&quot;</td><td>&quot;Solid Ideas&quot;</td><td>&quot;Somewhat Confident&quot;</td><td>&quot;Very Confident&quot;</td><td>&quot;Significant Growth&quot;</td></tr><tr><td>&quot;k26pi6bicbsvzd2yfk26pi67a2u4fh…</td><td>&quot;Highly Confident&quot;</td><td>&quot;Significantly Better&quot;</td><td>&quot;Clearly Understand&quot;</td><td>&quot;Slightly More Motivated&quot;</td><td>&quot;Slightly Clearer&quot;</td><td>&quot;Very Confident&quot;</td><td>&quot;Very Confident&quot;</td><td>&quot;Some Growth&quot;</td></tr><tr><td>&quot;6pb6dn5vxn2itktj6pb6eidta6hte2…</td><td>&quot;Highly Confident&quot;</td><td>&quot;Significantly Better&quot;</td><td>&quot;Clearly Understand&quot;</td><td>&quot;Much More Motivated&quot;</td><td>&quot;Solid Ideas&quot;</td><td>&quot;Highly Confident&quot;</td><td>&quot;Very Confident&quot;</td><td>&quot;More Than Expected&quot;</td></tr><tr><td>&hellip;</td><td>&hellip;</td><td>&hellip;</td><td>&hellip;</td><td>&hellip;</td><td>&hellip;</td><td>&hellip;</td><td>&hellip;</td><td>&hellip;</td></tr><tr><td>&quot;2erc4226su0ht44yld522erc42gyew…</td><td>&quot;Very Confident&quot;</td><td>&quot;Much Better&quot;</td><td>&quot;General Understanding&quot;</td><td>&quot;Slightly More Motivated&quot;</td><td>&quot;Solid Ideas&quot;</td><td>&quot;Highly Confident&quot;</td><td>&quot;Slightly More Confident&quot;</td><td>&quot;Some Growth&quot;</td></tr><tr><td>&quot;je289s3qu2nabiqhkg2m7g2je28lpy…</td><td>&quot;Very Confident&quot;</td><td>&quot;Much Better&quot;</td><td>&quot;General Understanding&quot;</td><td>&quot;Slightly More Motivated&quot;</td><td>&quot;Solid Ideas&quot;</td><td>&quot;Somewhat Confident&quot;</td><td>&quot;Very Confident&quot;</td><td>&quot;More Than Expected&quot;</td></tr><tr><td>&quot;oq7lvo5xhpvpcdv2toq7lvhz221pid…</td><td>&quot;Very Confident&quot;</td><td>&quot;Slightly Better&quot;</td><td>&quot;General Understanding&quot;</td><td>&quot;Much More Motivated&quot;</td><td>&quot;Slightly Clearer&quot;</td><td>&quot;Very Confident&quot;</td><td>&quot;Somewhat Confident&quot;</td><td>&quot;Some Growth&quot;</td></tr><tr><td>&quot;ddp4knxhyob5o1j2gddp4k9vd7rs3t…</td><td>&quot;Highly Confident&quot;</td><td>&quot;Much Better&quot;</td><td>&quot;Clearly Understand&quot;</td><td>&quot;Highly Motivated&quot;</td><td>&quot;Very Clear&quot;</td><td>&quot;Highly Confident&quot;</td><td>&quot;Highly Confident&quot;</td><td>&quot;More Than Expected&quot;</td></tr><tr><td>&quot;zli9lylt3k8p874zflbgqzli90j7v7…</td><td>&quot;Highly Confident&quot;</td><td>&quot;Significantly Better&quot;</td><td>&quot;General Understanding&quot;</td><td>&quot;Much More Motivated&quot;</td><td>&quot;Slightly Clearer&quot;</td><td>&quot;Very Confident&quot;</td><td>&quot;Somewhat Confident&quot;</td><td>&quot;Significant Growth&quot;</td></tr></tbody></table></div>"
      ],
      "text/plain": [
       "shape: (85, 9)\n",
       "┌───────────┬───────────┬───────────┬───────────┬───┬───────────┬───────────┬───────────┬──────────┐\n",
       "│ #         ┆ Confidenc ┆ Recognizi ┆ Understan ┆ … ┆ Clarity   ┆ Confidenc ┆ Confidenc ┆ Overall  │\n",
       "│ ---       ┆ e in      ┆ ng        ┆ ding Comm ┆   ┆ on Career ┆ e in      ┆ e in Prof ┆ Growth   │\n",
       "│ str       ┆ Managing  ┆ Emotional ┆ unication ┆   ┆ Paths     ┆ Money Man ┆ essional  ┆ ---      │\n",
       "│           ┆ Emotion…  ┆ Triggers  ┆ St…       ┆   ┆ ---       ┆ agement   ┆ Pre…      ┆ str      │\n",
       "│           ┆ ---       ┆ ---       ┆ ---       ┆   ┆ str       ┆ ---       ┆ ---       ┆          │\n",
       "│           ┆ str       ┆ str       ┆ str       ┆   ┆           ┆ str       ┆ str       ┆          │\n",
       "╞═══════════╪═══════════╪═══════════╪═══════════╪═══╪═══════════╪═══════════╪═══════════╪══════════╡\n",
       "│ 3r116t1hh ┆ Highly    ┆ Significa ┆ Clearly   ┆ … ┆ Solid     ┆ Highly    ┆ Very      ┆ Signific │\n",
       "│ 4jn7wq63r ┆ Confident ┆ ntly      ┆ Understan ┆   ┆ Ideas     ┆ Confident ┆ Confident ┆ ant      │\n",
       "│ 116toyehn ┆           ┆ Better    ┆ d         ┆   ┆           ┆           ┆           ┆ Growth   │\n",
       "│ bqx…      ┆           ┆           ┆           ┆   ┆           ┆           ┆           ┆          │\n",
       "│ 5pw9w5nvz ┆ Slightly  ┆ Much      ┆ General   ┆ … ┆ Solid     ┆ Very      ┆ Somewhat  ┆ Signific │\n",
       "│ rtf5pw977 ┆ Confident ┆ Better    ┆ Understan ┆   ┆ Ideas     ┆ Confident ┆ Confident ┆ ant      │\n",
       "│ xk00jo2vl ┆           ┆           ┆ ding      ┆   ┆           ┆           ┆           ┆ Growth   │\n",
       "│ 30v…      ┆           ┆           ┆           ┆   ┆           ┆           ┆           ┆          │\n",
       "│ 8phhspzlh ┆ Slightly  ┆ Much      ┆ General   ┆ … ┆ Solid     ┆ Somewhat  ┆ Very      ┆ Signific │\n",
       "│ 9jx7h8phh ┆ Confident ┆ Better    ┆ Understan ┆   ┆ Ideas     ┆ Confident ┆ Confident ┆ ant      │\n",
       "│ jukj0rddk ┆           ┆           ┆ ding      ┆   ┆           ┆           ┆           ┆ Growth   │\n",
       "│ oxl…      ┆           ┆           ┆           ┆   ┆           ┆           ┆           ┆          │\n",
       "│ k26pi6bic ┆ Highly    ┆ Significa ┆ Clearly   ┆ … ┆ Slightly  ┆ Very      ┆ Very      ┆ Some     │\n",
       "│ bsvzd2yfk ┆ Confident ┆ ntly      ┆ Understan ┆   ┆ Clearer   ┆ Confident ┆ Confident ┆ Growth   │\n",
       "│ 26pi67a2u ┆           ┆ Better    ┆ d         ┆   ┆           ┆           ┆           ┆          │\n",
       "│ 4fh…      ┆           ┆           ┆           ┆   ┆           ┆           ┆           ┆          │\n",
       "│ 6pb6dn5vx ┆ Highly    ┆ Significa ┆ Clearly   ┆ … ┆ Solid     ┆ Highly    ┆ Very      ┆ More     │\n",
       "│ n2itktj6p ┆ Confident ┆ ntly      ┆ Understan ┆   ┆ Ideas     ┆ Confident ┆ Confident ┆ Than     │\n",
       "│ b6eidta6h ┆           ┆ Better    ┆ d         ┆   ┆           ┆           ┆           ┆ Expected │\n",
       "│ te2…      ┆           ┆           ┆           ┆   ┆           ┆           ┆           ┆          │\n",
       "│ …         ┆ …         ┆ …         ┆ …         ┆ … ┆ …         ┆ …         ┆ …         ┆ …        │\n",
       "│ 2erc4226s ┆ Very      ┆ Much      ┆ General   ┆ … ┆ Solid     ┆ Highly    ┆ Slightly  ┆ Some     │\n",
       "│ u0ht44yld ┆ Confident ┆ Better    ┆ Understan ┆   ┆ Ideas     ┆ Confident ┆ More      ┆ Growth   │\n",
       "│ 522erc42g ┆           ┆           ┆ ding      ┆   ┆           ┆           ┆ Confident ┆          │\n",
       "│ yew…      ┆           ┆           ┆           ┆   ┆           ┆           ┆           ┆          │\n",
       "│ je289s3qu ┆ Very      ┆ Much      ┆ General   ┆ … ┆ Solid     ┆ Somewhat  ┆ Very      ┆ More     │\n",
       "│ 2nabiqhkg ┆ Confident ┆ Better    ┆ Understan ┆   ┆ Ideas     ┆ Confident ┆ Confident ┆ Than     │\n",
       "│ 2m7g2je28 ┆           ┆           ┆ ding      ┆   ┆           ┆           ┆           ┆ Expected │\n",
       "│ lpy…      ┆           ┆           ┆           ┆   ┆           ┆           ┆           ┆          │\n",
       "│ oq7lvo5xh ┆ Very      ┆ Slightly  ┆ General   ┆ … ┆ Slightly  ┆ Very      ┆ Somewhat  ┆ Some     │\n",
       "│ pvpcdv2to ┆ Confident ┆ Better    ┆ Understan ┆   ┆ Clearer   ┆ Confident ┆ Confident ┆ Growth   │\n",
       "│ q7lvhz221 ┆           ┆           ┆ ding      ┆   ┆           ┆           ┆           ┆          │\n",
       "│ pid…      ┆           ┆           ┆           ┆   ┆           ┆           ┆           ┆          │\n",
       "│ ddp4knxhy ┆ Highly    ┆ Much      ┆ Clearly   ┆ … ┆ Very      ┆ Highly    ┆ Highly    ┆ More     │\n",
       "│ ob5o1j2gd ┆ Confident ┆ Better    ┆ Understan ┆   ┆ Clear     ┆ Confident ┆ Confident ┆ Than     │\n",
       "│ dp4k9vd7r ┆           ┆           ┆ d         ┆   ┆           ┆           ┆           ┆ Expected │\n",
       "│ s3t…      ┆           ┆           ┆           ┆   ┆           ┆           ┆           ┆          │\n",
       "│ zli9lylt3 ┆ Highly    ┆ Significa ┆ General   ┆ … ┆ Slightly  ┆ Very      ┆ Somewhat  ┆ Signific │\n",
       "│ k8p874zfl ┆ Confident ┆ ntly      ┆ Understan ┆   ┆ Clearer   ┆ Confident ┆ Confident ┆ ant      │\n",
       "│ bgqzli90j ┆           ┆ Better    ┆ ding      ┆   ┆           ┆           ┆           ┆ Growth   │\n",
       "│ 7v7…      ┆           ┆           ┆           ┆   ┆           ┆           ┆           ┆          │\n",
       "└───────────┴───────────┴───────────┴───────────┴───┴───────────┴───────────┴───────────┴──────────┘"
      ]
     },
     "execution_count": 7,
     "metadata": {},
     "output_type": "execute_result"
    }
   ],
   "source": [
    "df_growth"
   ]
  },
  {
   "cell_type": "code",
   "execution_count": 8,
   "id": "c563365a",
   "metadata": {},
   "outputs": [
    {
     "name": "stderr",
     "output_type": "stream",
     "text": [
      "/tmp/ipykernel_30362/2021950361.py:1: FutureWarning:\n",
      "\n",
      "Downcasting behavior in `replace` is deprecated and will be removed in a future version. To retain the old behavior, explicitly call `result.infer_objects(copy=False)`. To opt-in to the future behavior, set `pd.set_option('future.no_silent_downcasting', True)`\n",
      "\n"
     ]
    },
    {
     "data": {
      "application/vnd.plotly.v1+json": {
       "config": {
        "plotlyServerURL": "https://plot.ly"
       },
       "data": [
        {
         "fill": "toself",
         "name": "Average Scores",
         "r": [
          4.070588235294117,
          4.164705882352941,
          4.117647058823529,
          3.9058823529411764,
          4,
          4.1764705882352935,
          3.764705882352941,
          3.6705882352941175
         ],
         "theta": [
          "Confidence in Managing Emotions",
          "Recognizing Emotional Triggers",
          "Understanding Communication Style",
          "Motivation for Goal Setting",
          "Clarity on Career Paths",
          "Confidence in Money Management",
          "Confidence in Professional Presence",
          "Overall Growth"
         ],
         "type": "scatterpolar"
        }
       ],
       "layout": {
        "polar": {
         "radialaxis": {
          "range": [
           1,
           5
          ],
          "ticktext": [
           "Low",
           "High"
          ],
          "tickvals": [
           1,
           5
          ],
          "visible": true
         }
        },
        "showlegend": false,
        "template": {
         "data": {
          "bar": [
           {
            "error_x": {
             "color": "#2a3f5f"
            },
            "error_y": {
             "color": "#2a3f5f"
            },
            "marker": {
             "line": {
              "color": "white",
              "width": 0.5
             },
             "pattern": {
              "fillmode": "overlay",
              "size": 10,
              "solidity": 0.2
             }
            },
            "type": "bar"
           }
          ],
          "barpolar": [
           {
            "marker": {
             "line": {
              "color": "white",
              "width": 0.5
             },
             "pattern": {
              "fillmode": "overlay",
              "size": 10,
              "solidity": 0.2
             }
            },
            "type": "barpolar"
           }
          ],
          "carpet": [
           {
            "aaxis": {
             "endlinecolor": "#2a3f5f",
             "gridcolor": "#C8D4E3",
             "linecolor": "#C8D4E3",
             "minorgridcolor": "#C8D4E3",
             "startlinecolor": "#2a3f5f"
            },
            "baxis": {
             "endlinecolor": "#2a3f5f",
             "gridcolor": "#C8D4E3",
             "linecolor": "#C8D4E3",
             "minorgridcolor": "#C8D4E3",
             "startlinecolor": "#2a3f5f"
            },
            "type": "carpet"
           }
          ],
          "choropleth": [
           {
            "colorbar": {
             "outlinewidth": 0,
             "ticks": ""
            },
            "type": "choropleth"
           }
          ],
          "contour": [
           {
            "colorbar": {
             "outlinewidth": 0,
             "ticks": ""
            },
            "colorscale": [
             [
              0,
              "#0d0887"
             ],
             [
              0.1111111111111111,
              "#46039f"
             ],
             [
              0.2222222222222222,
              "#7201a8"
             ],
             [
              0.3333333333333333,
              "#9c179e"
             ],
             [
              0.4444444444444444,
              "#bd3786"
             ],
             [
              0.5555555555555556,
              "#d8576b"
             ],
             [
              0.6666666666666666,
              "#ed7953"
             ],
             [
              0.7777777777777778,
              "#fb9f3a"
             ],
             [
              0.8888888888888888,
              "#fdca26"
             ],
             [
              1,
              "#f0f921"
             ]
            ],
            "type": "contour"
           }
          ],
          "contourcarpet": [
           {
            "colorbar": {
             "outlinewidth": 0,
             "ticks": ""
            },
            "type": "contourcarpet"
           }
          ],
          "heatmap": [
           {
            "colorbar": {
             "outlinewidth": 0,
             "ticks": ""
            },
            "colorscale": [
             [
              0,
              "#0d0887"
             ],
             [
              0.1111111111111111,
              "#46039f"
             ],
             [
              0.2222222222222222,
              "#7201a8"
             ],
             [
              0.3333333333333333,
              "#9c179e"
             ],
             [
              0.4444444444444444,
              "#bd3786"
             ],
             [
              0.5555555555555556,
              "#d8576b"
             ],
             [
              0.6666666666666666,
              "#ed7953"
             ],
             [
              0.7777777777777778,
              "#fb9f3a"
             ],
             [
              0.8888888888888888,
              "#fdca26"
             ],
             [
              1,
              "#f0f921"
             ]
            ],
            "type": "heatmap"
           }
          ],
          "heatmapgl": [
           {
            "colorbar": {
             "outlinewidth": 0,
             "ticks": ""
            },
            "colorscale": [
             [
              0,
              "#0d0887"
             ],
             [
              0.1111111111111111,
              "#46039f"
             ],
             [
              0.2222222222222222,
              "#7201a8"
             ],
             [
              0.3333333333333333,
              "#9c179e"
             ],
             [
              0.4444444444444444,
              "#bd3786"
             ],
             [
              0.5555555555555556,
              "#d8576b"
             ],
             [
              0.6666666666666666,
              "#ed7953"
             ],
             [
              0.7777777777777778,
              "#fb9f3a"
             ],
             [
              0.8888888888888888,
              "#fdca26"
             ],
             [
              1,
              "#f0f921"
             ]
            ],
            "type": "heatmapgl"
           }
          ],
          "histogram": [
           {
            "marker": {
             "pattern": {
              "fillmode": "overlay",
              "size": 10,
              "solidity": 0.2
             }
            },
            "type": "histogram"
           }
          ],
          "histogram2d": [
           {
            "colorbar": {
             "outlinewidth": 0,
             "ticks": ""
            },
            "colorscale": [
             [
              0,
              "#0d0887"
             ],
             [
              0.1111111111111111,
              "#46039f"
             ],
             [
              0.2222222222222222,
              "#7201a8"
             ],
             [
              0.3333333333333333,
              "#9c179e"
             ],
             [
              0.4444444444444444,
              "#bd3786"
             ],
             [
              0.5555555555555556,
              "#d8576b"
             ],
             [
              0.6666666666666666,
              "#ed7953"
             ],
             [
              0.7777777777777778,
              "#fb9f3a"
             ],
             [
              0.8888888888888888,
              "#fdca26"
             ],
             [
              1,
              "#f0f921"
             ]
            ],
            "type": "histogram2d"
           }
          ],
          "histogram2dcontour": [
           {
            "colorbar": {
             "outlinewidth": 0,
             "ticks": ""
            },
            "colorscale": [
             [
              0,
              "#0d0887"
             ],
             [
              0.1111111111111111,
              "#46039f"
             ],
             [
              0.2222222222222222,
              "#7201a8"
             ],
             [
              0.3333333333333333,
              "#9c179e"
             ],
             [
              0.4444444444444444,
              "#bd3786"
             ],
             [
              0.5555555555555556,
              "#d8576b"
             ],
             [
              0.6666666666666666,
              "#ed7953"
             ],
             [
              0.7777777777777778,
              "#fb9f3a"
             ],
             [
              0.8888888888888888,
              "#fdca26"
             ],
             [
              1,
              "#f0f921"
             ]
            ],
            "type": "histogram2dcontour"
           }
          ],
          "mesh3d": [
           {
            "colorbar": {
             "outlinewidth": 0,
             "ticks": ""
            },
            "type": "mesh3d"
           }
          ],
          "parcoords": [
           {
            "line": {
             "colorbar": {
              "outlinewidth": 0,
              "ticks": ""
             }
            },
            "type": "parcoords"
           }
          ],
          "pie": [
           {
            "automargin": true,
            "type": "pie"
           }
          ],
          "scatter": [
           {
            "fillpattern": {
             "fillmode": "overlay",
             "size": 10,
             "solidity": 0.2
            },
            "type": "scatter"
           }
          ],
          "scatter3d": [
           {
            "line": {
             "colorbar": {
              "outlinewidth": 0,
              "ticks": ""
             }
            },
            "marker": {
             "colorbar": {
              "outlinewidth": 0,
              "ticks": ""
             }
            },
            "type": "scatter3d"
           }
          ],
          "scattercarpet": [
           {
            "marker": {
             "colorbar": {
              "outlinewidth": 0,
              "ticks": ""
             }
            },
            "type": "scattercarpet"
           }
          ],
          "scattergeo": [
           {
            "marker": {
             "colorbar": {
              "outlinewidth": 0,
              "ticks": ""
             }
            },
            "type": "scattergeo"
           }
          ],
          "scattergl": [
           {
            "marker": {
             "colorbar": {
              "outlinewidth": 0,
              "ticks": ""
             }
            },
            "type": "scattergl"
           }
          ],
          "scattermapbox": [
           {
            "marker": {
             "colorbar": {
              "outlinewidth": 0,
              "ticks": ""
             }
            },
            "type": "scattermapbox"
           }
          ],
          "scatterpolar": [
           {
            "marker": {
             "colorbar": {
              "outlinewidth": 0,
              "ticks": ""
             }
            },
            "type": "scatterpolar"
           }
          ],
          "scatterpolargl": [
           {
            "marker": {
             "colorbar": {
              "outlinewidth": 0,
              "ticks": ""
             }
            },
            "type": "scatterpolargl"
           }
          ],
          "scatterternary": [
           {
            "marker": {
             "colorbar": {
              "outlinewidth": 0,
              "ticks": ""
             }
            },
            "type": "scatterternary"
           }
          ],
          "surface": [
           {
            "colorbar": {
             "outlinewidth": 0,
             "ticks": ""
            },
            "colorscale": [
             [
              0,
              "#0d0887"
             ],
             [
              0.1111111111111111,
              "#46039f"
             ],
             [
              0.2222222222222222,
              "#7201a8"
             ],
             [
              0.3333333333333333,
              "#9c179e"
             ],
             [
              0.4444444444444444,
              "#bd3786"
             ],
             [
              0.5555555555555556,
              "#d8576b"
             ],
             [
              0.6666666666666666,
              "#ed7953"
             ],
             [
              0.7777777777777778,
              "#fb9f3a"
             ],
             [
              0.8888888888888888,
              "#fdca26"
             ],
             [
              1,
              "#f0f921"
             ]
            ],
            "type": "surface"
           }
          ],
          "table": [
           {
            "cells": {
             "fill": {
              "color": "#EBF0F8"
             },
             "line": {
              "color": "white"
             }
            },
            "header": {
             "fill": {
              "color": "#C8D4E3"
             },
             "line": {
              "color": "white"
             }
            },
            "type": "table"
           }
          ]
         },
         "layout": {
          "annotationdefaults": {
           "arrowcolor": "#2a3f5f",
           "arrowhead": 0,
           "arrowwidth": 1
          },
          "autotypenumbers": "strict",
          "coloraxis": {
           "colorbar": {
            "outlinewidth": 0,
            "ticks": ""
           }
          },
          "colorscale": {
           "diverging": [
            [
             0,
             "#8e0152"
            ],
            [
             0.1,
             "#c51b7d"
            ],
            [
             0.2,
             "#de77ae"
            ],
            [
             0.3,
             "#f1b6da"
            ],
            [
             0.4,
             "#fde0ef"
            ],
            [
             0.5,
             "#f7f7f7"
            ],
            [
             0.6,
             "#e6f5d0"
            ],
            [
             0.7,
             "#b8e186"
            ],
            [
             0.8,
             "#7fbc41"
            ],
            [
             0.9,
             "#4d9221"
            ],
            [
             1,
             "#276419"
            ]
           ],
           "sequential": [
            [
             0,
             "#0d0887"
            ],
            [
             0.1111111111111111,
             "#46039f"
            ],
            [
             0.2222222222222222,
             "#7201a8"
            ],
            [
             0.3333333333333333,
             "#9c179e"
            ],
            [
             0.4444444444444444,
             "#bd3786"
            ],
            [
             0.5555555555555556,
             "#d8576b"
            ],
            [
             0.6666666666666666,
             "#ed7953"
            ],
            [
             0.7777777777777778,
             "#fb9f3a"
            ],
            [
             0.8888888888888888,
             "#fdca26"
            ],
            [
             1,
             "#f0f921"
            ]
           ],
           "sequentialminus": [
            [
             0,
             "#0d0887"
            ],
            [
             0.1111111111111111,
             "#46039f"
            ],
            [
             0.2222222222222222,
             "#7201a8"
            ],
            [
             0.3333333333333333,
             "#9c179e"
            ],
            [
             0.4444444444444444,
             "#bd3786"
            ],
            [
             0.5555555555555556,
             "#d8576b"
            ],
            [
             0.6666666666666666,
             "#ed7953"
            ],
            [
             0.7777777777777778,
             "#fb9f3a"
            ],
            [
             0.8888888888888888,
             "#fdca26"
            ],
            [
             1,
             "#f0f921"
            ]
           ]
          },
          "colorway": [
           "#636efa",
           "#EF553B",
           "#00cc96",
           "#ab63fa",
           "#FFA15A",
           "#19d3f3",
           "#FF6692",
           "#B6E880",
           "#FF97FF",
           "#FECB52"
          ],
          "font": {
           "color": "#2a3f5f"
          },
          "geo": {
           "bgcolor": "white",
           "lakecolor": "white",
           "landcolor": "white",
           "showlakes": true,
           "showland": true,
           "subunitcolor": "#C8D4E3"
          },
          "hoverlabel": {
           "align": "left"
          },
          "hovermode": "closest",
          "mapbox": {
           "style": "light"
          },
          "paper_bgcolor": "white",
          "plot_bgcolor": "white",
          "polar": {
           "angularaxis": {
            "gridcolor": "#EBF0F8",
            "linecolor": "#EBF0F8",
            "ticks": ""
           },
           "bgcolor": "white",
           "radialaxis": {
            "gridcolor": "#EBF0F8",
            "linecolor": "#EBF0F8",
            "ticks": ""
           }
          },
          "scene": {
           "xaxis": {
            "backgroundcolor": "white",
            "gridcolor": "#DFE8F3",
            "gridwidth": 2,
            "linecolor": "#EBF0F8",
            "showbackground": true,
            "ticks": "",
            "zerolinecolor": "#EBF0F8"
           },
           "yaxis": {
            "backgroundcolor": "white",
            "gridcolor": "#DFE8F3",
            "gridwidth": 2,
            "linecolor": "#EBF0F8",
            "showbackground": true,
            "ticks": "",
            "zerolinecolor": "#EBF0F8"
           },
           "zaxis": {
            "backgroundcolor": "white",
            "gridcolor": "#DFE8F3",
            "gridwidth": 2,
            "linecolor": "#EBF0F8",
            "showbackground": true,
            "ticks": "",
            "zerolinecolor": "#EBF0F8"
           }
          },
          "shapedefaults": {
           "line": {
            "color": "#2a3f5f"
           }
          },
          "ternary": {
           "aaxis": {
            "gridcolor": "#DFE8F3",
            "linecolor": "#A2B1C6",
            "ticks": ""
           },
           "baxis": {
            "gridcolor": "#DFE8F3",
            "linecolor": "#A2B1C6",
            "ticks": ""
           },
           "bgcolor": "white",
           "caxis": {
            "gridcolor": "#DFE8F3",
            "linecolor": "#A2B1C6",
            "ticks": ""
           }
          },
          "title": {
           "x": 0.05
          },
          "xaxis": {
           "automargin": true,
           "gridcolor": "#EBF0F8",
           "linecolor": "#EBF0F8",
           "ticks": "",
           "title": {
            "standoff": 15
           },
           "zerolinecolor": "#EBF0F8",
           "zerolinewidth": 2
          },
          "yaxis": {
           "automargin": true,
           "gridcolor": "#EBF0F8",
           "linecolor": "#EBF0F8",
           "ticks": "",
           "title": {
            "standoff": 15
           },
           "zerolinecolor": "#EBF0F8",
           "zerolinewidth": 2
          }
         }
        },
        "title": {
         "text": "Post Orientation Self-Assessment Across Key Skills"
        }
       }
      }
     },
     "metadata": {},
     "output_type": "display_data"
    }
   ],
   "source": [
    "df_numeric = df_growth.drop([\"#\"]).to_pandas().replace(mappings.all_post_orientation_score_map)\n",
    "\n",
    "# Step 3: Average across all responses per skill\n",
    "avg_scores = df_numeric.mean() + 1\n",
    "\n",
    "# Step 4: Plot using Plotly\n",
    "fig = go.Figure()\n",
    "\n",
    "fig.add_trace(go.Scatterpolar(\n",
    "    r=avg_scores.tolist(),\n",
    "    theta=avg_scores.index.tolist(),\n",
    "    fill='toself',\n",
    "    name='Average Scores'\n",
    "))\n",
    "\n",
    "fig.update_layout(\n",
    "    polar=dict(\n",
    "        radialaxis=dict(\n",
    "            visible=True,\n",
    "            range=[1, 5],\n",
    "            tickvals=[1, 5],  \n",
    "            ticktext=[\"Low\", \"High\"]  \n",
    "        )\n",
    "    ),\n",
    "    title=\"Post Orientation Self-Assessment Across Key Skills\",\n",
    "    showlegend=False\n",
    ")\n",
    "\n",
    "fig.show()"
   ]
  },
  {
   "cell_type": "code",
   "execution_count": 9,
   "id": "d292484f",
   "metadata": {},
   "outputs": [],
   "source": [
    "post_orientation_mapping = {\n",
    "    \"How confident are you now in managing your emotions and staying calm when things get stressful at work or in life?\": [\n",
    "        \"I can manage challenges without giving up\"\n",
    "    ],\n",
    "    \"After learning about emotional intelligence, how are you at recognizing your personal emotional triggers?\": [\n",
    "        \"Stressed or overwhelmed\"\n",
    "    ],\n",
    "    \"After the Communication Styles workshop, how well do you understand your own communication style?\": [\n",
    "        \"Communicating professionally (verbal and written)\"\n",
    "    ],\n",
    "    \"Are you more or less motivated about setting and actually reaching your goals after the goals workshop?\": [\n",
    "        \"Motivated to work toward your goals\",\n",
    "        \"Focused and productive\"\n",
    "    ],\n",
    "    \"What is your current clarity level about your possible career paths?\": [\n",
    "        \"Do you have a *career plan or clear next steps?*\"\n",
    "    ],\n",
    "    \"How confident are you in your ability *to manage your money* this summer?\": [\n",
    "        \"Creating a personal budget\",\n",
    "        \"Understanding credit and credit scores\",\n",
    "    ],\n",
    "    \"After the personal branding session, how confident are you in *how you show up professionally*?\": [\n",
    "        \"I know how to present myself professionally in different settings\"\n",
    "    ],\n",
    "    \"Overall, how much do you feel you grew during the orientation?\": []\n",
    "}\n",
    "\n",
    "all_matched_columns = [col for cols in post_orientation_mapping.values() for col in cols]\n"
   ]
  },
  {
   "cell_type": "code",
   "execution_count": 10,
   "id": "d9d960cc",
   "metadata": {},
   "outputs": [],
   "source": [
    "df_pre_comp = df_pre.select(all_matched_columns).to_pandas()"
   ]
  },
  {
   "cell_type": "code",
   "execution_count": 11,
   "id": "78f8535d",
   "metadata": {},
   "outputs": [],
   "source": [
    "response_mapping = {\n",
    "    \"I can manage challenges without giving up\": {\n",
    "        'Strongly disagree': 0,\n",
    "        'Disagree': 1,\n",
    "        'Neutral ': 2,\n",
    "        'Agree': 3,\n",
    "        'Strongly agree': 4,\n",
    "        None: None\n",
    "    },\n",
    "    \"Stressed or overwhelmed\": {\n",
    "        'Very Often': 0,\n",
    "        'Often': 1,\n",
    "        'Sometimes': 2,\n",
    "        'Rarely': 3,\n",
    "        'Never': 4,\n",
    "        None: None\n",
    "    },\n",
    "    \"Communicating professionally (verbal and written)\": {\n",
    "        'Not confident': 0,\n",
    "        'Slightly ': 1,\n",
    "        'Somewhat': 2,\n",
    "        'Very': 3,\n",
    "        'Extremely': 4\n",
    "    },\n",
    "    \"Motivated to work toward your goals\": {\n",
    "        'Very Often': 4,\n",
    "        'Often': 3,\n",
    "        'Sometimes': 2,\n",
    "        'Rarely': 1,\n",
    "        'Never': 0,\n",
    "        None: None\n",
    "    },\n",
    "    \"Focused and productive\": {\n",
    "        'Very Often': 4,\n",
    "        'Often': 3,\n",
    "        'Sometimes': 2,\n",
    "        'Rarely': 1,\n",
    "        'Never': 0,\n",
    "        None: None\n",
    "    },\n",
    "    \"Do you have a *career plan or clear next steps?*\": {\n",
    "        \"I’m still exploring and need guidance\": 0,\n",
    "        'I have a general idea but need help organizing it': 1,\n",
    "        \"Yes, I have a clear plan I’m working on\": 2,\n",
    "        None: None\n",
    "    },\n",
    "    \"Creating a personal budget\": {\n",
    "        'Not familiar': 0,\n",
    "        'Slightly': 1,\n",
    "        'Somewhat': 2,\n",
    "        'Very': 3,\n",
    "        'Extremely': 4\n",
    "    },\n",
    "    \"Understanding credit and credit scores\": {\n",
    "        'Not familiar': 0,\n",
    "        'Slightly': 1,\n",
    "        'Somewhat': 2,\n",
    "        'Very': 3,\n",
    "        'Extremely': 4\n",
    "    },\n",
    "    \"I know how to present myself professionally in different settings\": {\n",
    "        'Strongly disagree': 0,\n",
    "        'Neutral ': 1,\n",
    "        'Agree': 2,\n",
    "        'Strongly agree': 3,\n",
    "        None: None\n",
    "    }\n",
    "}\n"
   ]
  },
  {
   "cell_type": "code",
   "execution_count": 12,
   "id": "cb7a465c",
   "metadata": {},
   "outputs": [
    {
     "name": "stderr",
     "output_type": "stream",
     "text": [
      "/tmp/ipykernel_30362/2928776004.py:3: FutureWarning:\n",
      "\n",
      "Downcasting behavior in `replace` is deprecated and will be removed in a future version. To retain the old behavior, explicitly call `result.infer_objects(copy=False)`. To opt-in to the future behavior, set `pd.set_option('future.no_silent_downcasting', True)`\n",
      "\n"
     ]
    }
   ],
   "source": [
    "for column, mapping in response_mapping.items():\n",
    "    if column in df_pre_comp.columns:\n",
    "        df_pre_comp[column] = df_pre_comp[column].replace(mapping)"
   ]
  },
  {
   "cell_type": "code",
   "execution_count": 13,
   "id": "cd8ab512",
   "metadata": {},
   "outputs": [],
   "source": [
    "competency_to_item = {\n",
    "    'Confidence in Managing Emotions': 'I can manage challenges without giving up',\n",
    "    'Recognizing Emotional Triggers': 'Stressed or overwhelmed',\n",
    "    'Understanding Communication Style': 'Communicating professionally (verbal and written)',\n",
    "    'Motivation for Goal Setting': 'Motivated to work toward your goals',\n",
    "    'Clarity on Career Paths': 'Do you have a *career plan or clear next steps?*',\n",
    "    'Confidence in Money Management': 'Creating a personal budget',\n",
    "    'Confidence in Professional Presence': 'I know how to present myself professionally in different settings'\n",
    "}"
   ]
  },
  {
   "cell_type": "code",
   "execution_count": 14,
   "id": "2453a821",
   "metadata": {},
   "outputs": [],
   "source": [
    "reversed_dict = {v: k for k, v in competency_to_item.items()}\n",
    "\n",
    "pre_std = pl.DataFrame(df_pre_comp).select(competency_to_item.values()).rename(reversed_dict)"
   ]
  },
  {
   "cell_type": "code",
   "execution_count": 15,
   "id": "ea612b76",
   "metadata": {},
   "outputs": [],
   "source": [
    "pre_std = pre_std.unpivot(pre_std.columns, variable_name = \"Competency\", value_name = \"value\").group_by(\"Competency\").mean().with_columns( pl.lit(\"Pre-Orientation\"))"
   ]
  },
  {
   "cell_type": "code",
   "execution_count": 16,
   "id": "b7795de2",
   "metadata": {},
   "outputs": [
    {
     "data": {
      "text/html": [
       "<div><style>\n",
       ".dataframe > thead > tr,\n",
       ".dataframe > tbody > tr {\n",
       "  text-align: right;\n",
       "  white-space: pre-wrap;\n",
       "}\n",
       "</style>\n",
       "<small>shape: (7, 3)</small><table border=\"1\" class=\"dataframe\"><thead><tr><th>Competency</th><th>value</th><th>literal</th></tr><tr><td>str</td><td>f64</td><td>str</td></tr></thead><tbody><tr><td>&quot;Confidence in Money Management&quot;</td><td>2.56</td><td>&quot;Pre-Orientation&quot;</td></tr><tr><td>&quot;Clarity on Career Paths&quot;</td><td>1.171717</td><td>&quot;Pre-Orientation&quot;</td></tr><tr><td>&quot;Confidence in Managing Emotion…</td><td>3.030303</td><td>&quot;Pre-Orientation&quot;</td></tr><tr><td>&quot;Understanding Communication St…</td><td>2.7</td><td>&quot;Pre-Orientation&quot;</td></tr><tr><td>&quot;Motivation for Goal Setting&quot;</td><td>3.151515</td><td>&quot;Pre-Orientation&quot;</td></tr><tr><td>&quot;Recognizing Emotional Triggers&quot;</td><td>1.606061</td><td>&quot;Pre-Orientation&quot;</td></tr><tr><td>&quot;Confidence in Professional Pre…</td><td>2.252525</td><td>&quot;Pre-Orientation&quot;</td></tr></tbody></table></div>"
      ],
      "text/plain": [
       "shape: (7, 3)\n",
       "┌─────────────────────────────────┬──────────┬─────────────────┐\n",
       "│ Competency                      ┆ value    ┆ literal         │\n",
       "│ ---                             ┆ ---      ┆ ---             │\n",
       "│ str                             ┆ f64      ┆ str             │\n",
       "╞═════════════════════════════════╪══════════╪═════════════════╡\n",
       "│ Confidence in Money Management  ┆ 2.56     ┆ Pre-Orientation │\n",
       "│ Clarity on Career Paths         ┆ 1.171717 ┆ Pre-Orientation │\n",
       "│ Confidence in Managing Emotion… ┆ 3.030303 ┆ Pre-Orientation │\n",
       "│ Understanding Communication St… ┆ 2.7      ┆ Pre-Orientation │\n",
       "│ Motivation for Goal Setting     ┆ 3.151515 ┆ Pre-Orientation │\n",
       "│ Recognizing Emotional Triggers  ┆ 1.606061 ┆ Pre-Orientation │\n",
       "│ Confidence in Professional Pre… ┆ 2.252525 ┆ Pre-Orientation │\n",
       "└─────────────────────────────────┴──────────┴─────────────────┘"
      ]
     },
     "execution_count": 16,
     "metadata": {},
     "output_type": "execute_result"
    }
   ],
   "source": [
    "pre_std"
   ]
  },
  {
   "cell_type": "code",
   "execution_count": 17,
   "id": "583ef311",
   "metadata": {},
   "outputs": [],
   "source": [
    "post_std = pl.DataFrame(df_numeric).unpivot(df_numeric.columns, variable_name = \"Competency\").group_by(\"Competency\").mean().with_columns( pl.lit(\"Post-Orientation\")).filter(pl.col(\"Competency\").is_in(pre_std[\"Competency\"]))"
   ]
  },
  {
   "cell_type": "code",
   "execution_count": 18,
   "id": "24e6f44a",
   "metadata": {},
   "outputs": [],
   "source": [
    "df_comp = pl.concat([pre_std, post_std]).rename({\"literal\": \"When\"}).filter(\n",
    "    pl.col(\"Competency\") != \"Confidence in Managing Emotions\",\n",
    "    pl.col(\"Competency\") != \"Motivation for Goal Setting\"\n",
    ")"
   ]
  },
  {
   "cell_type": "code",
   "execution_count": 19,
   "id": "f466d889",
   "metadata": {},
   "outputs": [],
   "source": [
    "df_comp = df_comp.with_columns(pl.col(\"value\") + 1)"
   ]
  },
  {
   "cell_type": "code",
   "execution_count": 20,
   "id": "8fc07112",
   "metadata": {},
   "outputs": [
    {
     "name": "stderr",
     "output_type": "stream",
     "text": [
      "/usr/lib/python3/dist-packages/plotly/express/_core.py:1992: FutureWarning:\n",
      "\n",
      "When grouping with a length-1 list-like, you will need to pass a length-1 tuple to get_group in a future version of pandas. Pass `(name,)` instead of `name` to silence this warning.\n",
      "\n"
     ]
    },
    {
     "data": {
      "application/vnd.plotly.v1+json": {
       "config": {
        "plotlyServerURL": "https://plot.ly"
       },
       "data": [
        {
         "alignmentgroup": "True",
         "hovertemplate": "When=Pre-Orientation<br>Competency=%{x}<br>Average Score=%{y}<extra></extra>",
         "legendgroup": "Pre-Orientation",
         "marker": {
          "color": "#636efa",
          "pattern": {
           "shape": ""
          }
         },
         "name": "Pre-Orientation",
         "offsetgroup": "Pre-Orientation",
         "orientation": "v",
         "showlegend": true,
         "textposition": "auto",
         "type": "bar",
         "x": [
          "Confidence in Money Management",
          "Clarity on Career Paths",
          "Understanding Communication Style",
          "Recognizing Emotional Triggers",
          "Confidence in Professional Presence"
         ],
         "xaxis": "x",
         "y": [
          3.56,
          2.1717171717171717,
          3.7,
          2.606060606060606,
          3.2525252525252526
         ],
         "yaxis": "y"
        },
        {
         "alignmentgroup": "True",
         "hovertemplate": "When=Post-Orientation<br>Competency=%{x}<br>Average Score=%{y}<extra></extra>",
         "legendgroup": "Post-Orientation",
         "marker": {
          "color": "#EF553B",
          "pattern": {
           "shape": ""
          }
         },
         "name": "Post-Orientation",
         "offsetgroup": "Post-Orientation",
         "orientation": "v",
         "showlegend": true,
         "textposition": "auto",
         "type": "bar",
         "x": [
          "Confidence in Professional Presence",
          "Clarity on Career Paths",
          "Recognizing Emotional Triggers",
          "Understanding Communication Style",
          "Confidence in Money Management"
         ],
         "xaxis": "x",
         "y": [
          3.764705882352941,
          4,
          4.164705882352941,
          4.117647058823529,
          4.1764705882352935
         ],
         "yaxis": "y"
        }
       ],
       "layout": {
        "barmode": "group",
        "legend": {
         "title": {
          "text": "When"
         },
         "tracegroupgap": 0
        },
        "template": {
         "data": {
          "bar": [
           {
            "error_x": {
             "color": "#2a3f5f"
            },
            "error_y": {
             "color": "#2a3f5f"
            },
            "marker": {
             "line": {
              "color": "white",
              "width": 0.5
             },
             "pattern": {
              "fillmode": "overlay",
              "size": 10,
              "solidity": 0.2
             }
            },
            "type": "bar"
           }
          ],
          "barpolar": [
           {
            "marker": {
             "line": {
              "color": "white",
              "width": 0.5
             },
             "pattern": {
              "fillmode": "overlay",
              "size": 10,
              "solidity": 0.2
             }
            },
            "type": "barpolar"
           }
          ],
          "carpet": [
           {
            "aaxis": {
             "endlinecolor": "#2a3f5f",
             "gridcolor": "#C8D4E3",
             "linecolor": "#C8D4E3",
             "minorgridcolor": "#C8D4E3",
             "startlinecolor": "#2a3f5f"
            },
            "baxis": {
             "endlinecolor": "#2a3f5f",
             "gridcolor": "#C8D4E3",
             "linecolor": "#C8D4E3",
             "minorgridcolor": "#C8D4E3",
             "startlinecolor": "#2a3f5f"
            },
            "type": "carpet"
           }
          ],
          "choropleth": [
           {
            "colorbar": {
             "outlinewidth": 0,
             "ticks": ""
            },
            "type": "choropleth"
           }
          ],
          "contour": [
           {
            "colorbar": {
             "outlinewidth": 0,
             "ticks": ""
            },
            "colorscale": [
             [
              0,
              "#0d0887"
             ],
             [
              0.1111111111111111,
              "#46039f"
             ],
             [
              0.2222222222222222,
              "#7201a8"
             ],
             [
              0.3333333333333333,
              "#9c179e"
             ],
             [
              0.4444444444444444,
              "#bd3786"
             ],
             [
              0.5555555555555556,
              "#d8576b"
             ],
             [
              0.6666666666666666,
              "#ed7953"
             ],
             [
              0.7777777777777778,
              "#fb9f3a"
             ],
             [
              0.8888888888888888,
              "#fdca26"
             ],
             [
              1,
              "#f0f921"
             ]
            ],
            "type": "contour"
           }
          ],
          "contourcarpet": [
           {
            "colorbar": {
             "outlinewidth": 0,
             "ticks": ""
            },
            "type": "contourcarpet"
           }
          ],
          "heatmap": [
           {
            "colorbar": {
             "outlinewidth": 0,
             "ticks": ""
            },
            "colorscale": [
             [
              0,
              "#0d0887"
             ],
             [
              0.1111111111111111,
              "#46039f"
             ],
             [
              0.2222222222222222,
              "#7201a8"
             ],
             [
              0.3333333333333333,
              "#9c179e"
             ],
             [
              0.4444444444444444,
              "#bd3786"
             ],
             [
              0.5555555555555556,
              "#d8576b"
             ],
             [
              0.6666666666666666,
              "#ed7953"
             ],
             [
              0.7777777777777778,
              "#fb9f3a"
             ],
             [
              0.8888888888888888,
              "#fdca26"
             ],
             [
              1,
              "#f0f921"
             ]
            ],
            "type": "heatmap"
           }
          ],
          "heatmapgl": [
           {
            "colorbar": {
             "outlinewidth": 0,
             "ticks": ""
            },
            "colorscale": [
             [
              0,
              "#0d0887"
             ],
             [
              0.1111111111111111,
              "#46039f"
             ],
             [
              0.2222222222222222,
              "#7201a8"
             ],
             [
              0.3333333333333333,
              "#9c179e"
             ],
             [
              0.4444444444444444,
              "#bd3786"
             ],
             [
              0.5555555555555556,
              "#d8576b"
             ],
             [
              0.6666666666666666,
              "#ed7953"
             ],
             [
              0.7777777777777778,
              "#fb9f3a"
             ],
             [
              0.8888888888888888,
              "#fdca26"
             ],
             [
              1,
              "#f0f921"
             ]
            ],
            "type": "heatmapgl"
           }
          ],
          "histogram": [
           {
            "marker": {
             "pattern": {
              "fillmode": "overlay",
              "size": 10,
              "solidity": 0.2
             }
            },
            "type": "histogram"
           }
          ],
          "histogram2d": [
           {
            "colorbar": {
             "outlinewidth": 0,
             "ticks": ""
            },
            "colorscale": [
             [
              0,
              "#0d0887"
             ],
             [
              0.1111111111111111,
              "#46039f"
             ],
             [
              0.2222222222222222,
              "#7201a8"
             ],
             [
              0.3333333333333333,
              "#9c179e"
             ],
             [
              0.4444444444444444,
              "#bd3786"
             ],
             [
              0.5555555555555556,
              "#d8576b"
             ],
             [
              0.6666666666666666,
              "#ed7953"
             ],
             [
              0.7777777777777778,
              "#fb9f3a"
             ],
             [
              0.8888888888888888,
              "#fdca26"
             ],
             [
              1,
              "#f0f921"
             ]
            ],
            "type": "histogram2d"
           }
          ],
          "histogram2dcontour": [
           {
            "colorbar": {
             "outlinewidth": 0,
             "ticks": ""
            },
            "colorscale": [
             [
              0,
              "#0d0887"
             ],
             [
              0.1111111111111111,
              "#46039f"
             ],
             [
              0.2222222222222222,
              "#7201a8"
             ],
             [
              0.3333333333333333,
              "#9c179e"
             ],
             [
              0.4444444444444444,
              "#bd3786"
             ],
             [
              0.5555555555555556,
              "#d8576b"
             ],
             [
              0.6666666666666666,
              "#ed7953"
             ],
             [
              0.7777777777777778,
              "#fb9f3a"
             ],
             [
              0.8888888888888888,
              "#fdca26"
             ],
             [
              1,
              "#f0f921"
             ]
            ],
            "type": "histogram2dcontour"
           }
          ],
          "mesh3d": [
           {
            "colorbar": {
             "outlinewidth": 0,
             "ticks": ""
            },
            "type": "mesh3d"
           }
          ],
          "parcoords": [
           {
            "line": {
             "colorbar": {
              "outlinewidth": 0,
              "ticks": ""
             }
            },
            "type": "parcoords"
           }
          ],
          "pie": [
           {
            "automargin": true,
            "type": "pie"
           }
          ],
          "scatter": [
           {
            "fillpattern": {
             "fillmode": "overlay",
             "size": 10,
             "solidity": 0.2
            },
            "type": "scatter"
           }
          ],
          "scatter3d": [
           {
            "line": {
             "colorbar": {
              "outlinewidth": 0,
              "ticks": ""
             }
            },
            "marker": {
             "colorbar": {
              "outlinewidth": 0,
              "ticks": ""
             }
            },
            "type": "scatter3d"
           }
          ],
          "scattercarpet": [
           {
            "marker": {
             "colorbar": {
              "outlinewidth": 0,
              "ticks": ""
             }
            },
            "type": "scattercarpet"
           }
          ],
          "scattergeo": [
           {
            "marker": {
             "colorbar": {
              "outlinewidth": 0,
              "ticks": ""
             }
            },
            "type": "scattergeo"
           }
          ],
          "scattergl": [
           {
            "marker": {
             "colorbar": {
              "outlinewidth": 0,
              "ticks": ""
             }
            },
            "type": "scattergl"
           }
          ],
          "scattermapbox": [
           {
            "marker": {
             "colorbar": {
              "outlinewidth": 0,
              "ticks": ""
             }
            },
            "type": "scattermapbox"
           }
          ],
          "scatterpolar": [
           {
            "marker": {
             "colorbar": {
              "outlinewidth": 0,
              "ticks": ""
             }
            },
            "type": "scatterpolar"
           }
          ],
          "scatterpolargl": [
           {
            "marker": {
             "colorbar": {
              "outlinewidth": 0,
              "ticks": ""
             }
            },
            "type": "scatterpolargl"
           }
          ],
          "scatterternary": [
           {
            "marker": {
             "colorbar": {
              "outlinewidth": 0,
              "ticks": ""
             }
            },
            "type": "scatterternary"
           }
          ],
          "surface": [
           {
            "colorbar": {
             "outlinewidth": 0,
             "ticks": ""
            },
            "colorscale": [
             [
              0,
              "#0d0887"
             ],
             [
              0.1111111111111111,
              "#46039f"
             ],
             [
              0.2222222222222222,
              "#7201a8"
             ],
             [
              0.3333333333333333,
              "#9c179e"
             ],
             [
              0.4444444444444444,
              "#bd3786"
             ],
             [
              0.5555555555555556,
              "#d8576b"
             ],
             [
              0.6666666666666666,
              "#ed7953"
             ],
             [
              0.7777777777777778,
              "#fb9f3a"
             ],
             [
              0.8888888888888888,
              "#fdca26"
             ],
             [
              1,
              "#f0f921"
             ]
            ],
            "type": "surface"
           }
          ],
          "table": [
           {
            "cells": {
             "fill": {
              "color": "#EBF0F8"
             },
             "line": {
              "color": "white"
             }
            },
            "header": {
             "fill": {
              "color": "#C8D4E3"
             },
             "line": {
              "color": "white"
             }
            },
            "type": "table"
           }
          ]
         },
         "layout": {
          "annotationdefaults": {
           "arrowcolor": "#2a3f5f",
           "arrowhead": 0,
           "arrowwidth": 1
          },
          "autotypenumbers": "strict",
          "coloraxis": {
           "colorbar": {
            "outlinewidth": 0,
            "ticks": ""
           }
          },
          "colorscale": {
           "diverging": [
            [
             0,
             "#8e0152"
            ],
            [
             0.1,
             "#c51b7d"
            ],
            [
             0.2,
             "#de77ae"
            ],
            [
             0.3,
             "#f1b6da"
            ],
            [
             0.4,
             "#fde0ef"
            ],
            [
             0.5,
             "#f7f7f7"
            ],
            [
             0.6,
             "#e6f5d0"
            ],
            [
             0.7,
             "#b8e186"
            ],
            [
             0.8,
             "#7fbc41"
            ],
            [
             0.9,
             "#4d9221"
            ],
            [
             1,
             "#276419"
            ]
           ],
           "sequential": [
            [
             0,
             "#0d0887"
            ],
            [
             0.1111111111111111,
             "#46039f"
            ],
            [
             0.2222222222222222,
             "#7201a8"
            ],
            [
             0.3333333333333333,
             "#9c179e"
            ],
            [
             0.4444444444444444,
             "#bd3786"
            ],
            [
             0.5555555555555556,
             "#d8576b"
            ],
            [
             0.6666666666666666,
             "#ed7953"
            ],
            [
             0.7777777777777778,
             "#fb9f3a"
            ],
            [
             0.8888888888888888,
             "#fdca26"
            ],
            [
             1,
             "#f0f921"
            ]
           ],
           "sequentialminus": [
            [
             0,
             "#0d0887"
            ],
            [
             0.1111111111111111,
             "#46039f"
            ],
            [
             0.2222222222222222,
             "#7201a8"
            ],
            [
             0.3333333333333333,
             "#9c179e"
            ],
            [
             0.4444444444444444,
             "#bd3786"
            ],
            [
             0.5555555555555556,
             "#d8576b"
            ],
            [
             0.6666666666666666,
             "#ed7953"
            ],
            [
             0.7777777777777778,
             "#fb9f3a"
            ],
            [
             0.8888888888888888,
             "#fdca26"
            ],
            [
             1,
             "#f0f921"
            ]
           ]
          },
          "colorway": [
           "#636efa",
           "#EF553B",
           "#00cc96",
           "#ab63fa",
           "#FFA15A",
           "#19d3f3",
           "#FF6692",
           "#B6E880",
           "#FF97FF",
           "#FECB52"
          ],
          "font": {
           "color": "#2a3f5f"
          },
          "geo": {
           "bgcolor": "white",
           "lakecolor": "white",
           "landcolor": "white",
           "showlakes": true,
           "showland": true,
           "subunitcolor": "#C8D4E3"
          },
          "hoverlabel": {
           "align": "left"
          },
          "hovermode": "closest",
          "mapbox": {
           "style": "light"
          },
          "paper_bgcolor": "white",
          "plot_bgcolor": "white",
          "polar": {
           "angularaxis": {
            "gridcolor": "#EBF0F8",
            "linecolor": "#EBF0F8",
            "ticks": ""
           },
           "bgcolor": "white",
           "radialaxis": {
            "gridcolor": "#EBF0F8",
            "linecolor": "#EBF0F8",
            "ticks": ""
           }
          },
          "scene": {
           "xaxis": {
            "backgroundcolor": "white",
            "gridcolor": "#DFE8F3",
            "gridwidth": 2,
            "linecolor": "#EBF0F8",
            "showbackground": true,
            "ticks": "",
            "zerolinecolor": "#EBF0F8"
           },
           "yaxis": {
            "backgroundcolor": "white",
            "gridcolor": "#DFE8F3",
            "gridwidth": 2,
            "linecolor": "#EBF0F8",
            "showbackground": true,
            "ticks": "",
            "zerolinecolor": "#EBF0F8"
           },
           "zaxis": {
            "backgroundcolor": "white",
            "gridcolor": "#DFE8F3",
            "gridwidth": 2,
            "linecolor": "#EBF0F8",
            "showbackground": true,
            "ticks": "",
            "zerolinecolor": "#EBF0F8"
           }
          },
          "shapedefaults": {
           "line": {
            "color": "#2a3f5f"
           }
          },
          "ternary": {
           "aaxis": {
            "gridcolor": "#DFE8F3",
            "linecolor": "#A2B1C6",
            "ticks": ""
           },
           "baxis": {
            "gridcolor": "#DFE8F3",
            "linecolor": "#A2B1C6",
            "ticks": ""
           },
           "bgcolor": "white",
           "caxis": {
            "gridcolor": "#DFE8F3",
            "linecolor": "#A2B1C6",
            "ticks": ""
           }
          },
          "title": {
           "x": 0.05
          },
          "xaxis": {
           "automargin": true,
           "gridcolor": "#EBF0F8",
           "linecolor": "#EBF0F8",
           "ticks": "",
           "title": {
            "standoff": 15
           },
           "zerolinecolor": "#EBF0F8",
           "zerolinewidth": 2
          },
          "yaxis": {
           "automargin": true,
           "gridcolor": "#EBF0F8",
           "linecolor": "#EBF0F8",
           "ticks": "",
           "title": {
            "standoff": 15
           },
           "zerolinecolor": "#EBF0F8",
           "zerolinewidth": 2
          }
         }
        },
        "title": {
         "text": "Pre- vs Post-Orientation Scores by Competency"
        },
        "xaxis": {
         "anchor": "y",
         "domain": [
          0,
          1
         ],
         "tickangle": -45,
         "title": {
          "text": "Competency"
         }
        },
        "yaxis": {
         "anchor": "x",
         "domain": [
          0,
          1
         ],
         "title": {
          "text": "Average Score"
         }
        }
       }
      }
     },
     "metadata": {},
     "output_type": "display_data"
    }
   ],
   "source": [
    "import plotly.express as px\n",
    "\n",
    "# Create grouped bar chart\n",
    "fig = px.bar(\n",
    "    df_comp,\n",
    "    x=\"Competency\",\n",
    "    y=\"value\",\n",
    "    color=\"When\",\n",
    "    barmode=\"group\",\n",
    "    labels={\"value\": \"Average Score\", \"Competency\": \"Competency\"},\n",
    "    title=\"Pre- vs Post-Orientation Scores by Competency\"\n",
    ")\n",
    "\n",
    "fig.update_layout(xaxis_tickangle=-45)\n",
    "fig.show()"
   ]
  },
  {
   "cell_type": "code",
   "execution_count": 21,
   "id": "b0efd5f1",
   "metadata": {},
   "outputs": [
    {
     "data": {
      "text/plain": [
       "['#',\n",
       " 'How confident are you now in managing your emotions and staying calm when things get stressful at work or in life?',\n",
       " 'After learning about emotional intelligence, how are you at recognizing your personal emotional triggers?',\n",
       " 'Understanding common workplace triggers ',\n",
       " 'Seeing the difference between low vs. high emotional intelligence ',\n",
       " 'Creating my Emotional Pause Plan ',\n",
       " 'Learning ways to stay calm and in control ',\n",
       " 'Talking with others about emotional stress ',\n",
       " 'Visualizing myself responding better in tough situations ',\n",
       " 'Identifying how others see me when I’m stressed ',\n",
       " 'Other',\n",
       " 'After the Communication Styles workshop, *how well do you understand your own communication style?*',\n",
       " 'What’s the communication habit _*you most want to work on this summer?*_',\n",
       " 'Other_duplicated_0',\n",
       " 'Are you more or less motivated about setting and actually reaching your goals after the goals workshop?',\n",
       " 'What is *ONE specific personal or professional goal* you plan to work on this summer?',\n",
       " 'What is your current clarity level about your possible career paths?',\n",
       " 'Exploring what I’m naturally good at ',\n",
       " 'Seeing how hobbies or skills connect to real careers ',\n",
       " 'Talking with others about dream jobs and paths ',\n",
       " 'Identifying what I don’t want in a job ',\n",
       " 'Learning that career paths can change over time ',\n",
       " 'Getting new ideas I never considered before ',\n",
       " 'Realizing I don’t need a full plan, just a direction ',\n",
       " 'Other_duplicated_1',\n",
       " 'How confident are you in your ability *to manage your money* this summer?',\n",
       " 'Which lessons from the *Money Moves workshop *do you think will help you most? *(Select TWO)*',\n",
       " 'Other_duplicated_2',\n",
       " 'After the personal branding session, how confident are you in *how you show up professionally*?',\n",
       " 'Practice my elevator pitch ',\n",
       " 'Start or improve a professional social media profile ',\n",
       " 'Ask for feedback about how I come across to others ',\n",
       " 'Be more intentional about how I speak and carry myself ',\n",
       " 'Make a better first impression in new spaces ',\n",
       " 'Network and build relationships ',\n",
       " 'Post content that shows who I am professionally ',\n",
       " 'Other_duplicated_3',\n",
       " 'Overall, how much do you feel you grew during the orientation?',\n",
       " 'Would you recommend this orientation and program to a friend or peer?',\n",
       " 'What are *TWO topics or focus areas* you wish we included in orientation that weren’t covered?',\n",
       " 'What’s *ONE SUGGESTION* you have for how we can make orientation even better next time?',\n",
       " 'What were *TWO THINGS* about this orientation that you enjoyed or found most valuable?',\n",
       " 'How old are you?\\n',\n",
       " 'What is your current education status?',\n",
       " 'Other_duplicated_4',\n",
       " 'What is your gender identity?',\n",
       " 'Other_duplicated_5',\n",
       " 'Black or African American ',\n",
       " 'Hispanic or Latino ',\n",
       " 'White ',\n",
       " 'Asian or Pacific Islander ',\n",
       " 'American Indian or Alaska Native ',\n",
       " 'Have you signed up to receive your paycheck with \"\"Direct Deposit\"\" and have a bank account?',\n",
       " 'If you are set up for \"\"direct deposit\"\", what is the name of your bank?',\n",
       " 'Response Type',\n",
       " 'Start Date (UTC)',\n",
       " 'Stage Date (UTC)',\n",
       " 'Submit Date (UTC)',\n",
       " 'Network ID',\n",
       " 'Tags',\n",
       " 'Ending']"
      ]
     },
     "execution_count": 21,
     "metadata": {},
     "output_type": "execute_result"
    }
   ],
   "source": [
    "df_post.columns"
   ]
  },
  {
   "cell_type": "code",
   "execution_count": 22,
   "id": "3a42cf55",
   "metadata": {},
   "outputs": [],
   "source": [
    "emo_col = ['Understanding common workplace triggers ',\n",
    " 'Seeing the difference between low vs. high emotional intelligence ',\n",
    " 'Creating my Emotional Pause Plan ',\n",
    " 'Learning ways to stay calm and in control ',\n",
    " 'Talking with others about emotional stress ',\n",
    " 'Visualizing myself responding better in tough situations ',\n",
    " 'Identifying how others see me when I’m stressed ']\n",
    "\n",
    "clarity_col = ['Exploring what I’m naturally good at ',\n",
    " 'Seeing how hobbies or skills connect to real careers ',\n",
    " 'Talking with others about dream jobs and paths ',\n",
    " 'Identifying what I don’t want in a job ',\n",
    " 'Learning that career paths can change over time ',\n",
    " 'Getting new ideas I never considered before ',\n",
    " 'Realizing I don’t need a full plan, just a direction ']\n",
    "\n",
    "competency_mapping = {\n",
    "    # Emotional Intelligence\n",
    "    'Understanding common workplace triggers ': 'Recognizing emotional triggers',\n",
    "    'Seeing the difference between low vs. high emotional intelligence ': 'Understanding emotional intelligence',\n",
    "    'Creating my Emotional Pause Plan ': 'Creating a pause plan',\n",
    "    'Learning ways to stay calm and in control ': 'Staying calm under pressure',\n",
    "    'Talking with others about emotional stress ': 'Discussing emotional stress',\n",
    "    'Visualizing myself responding better in tough situations ': 'Visualizing better responses',\n",
    "    'Identifying how others see me when I’m stressed ': 'Understanding how others see me when stressed',\n",
    "    \n",
    "    # Career Clarity\n",
    "    'Exploring what I’m naturally good at ': 'Identifying strengths',\n",
    "    'Seeing how hobbies or skills connect to real careers ': 'Connecting hobbies to careers',\n",
    "    'Talking with others about dream jobs and paths ': 'Discussing career dreams',\n",
    "    'Identifying what I don’t want in a job ': 'Knowing what I don’t want',\n",
    "    'Learning that career paths can change over time ': 'Understanding career flexibility',\n",
    "    'Getting new ideas I never considered before ': 'Considering new ideas',\n",
    "    'Realizing I don’t need a full plan, just a direction ': 'Accepting direction over full plans'\n",
    "}\n"
   ]
  },
  {
   "cell_type": "code",
   "execution_count": 26,
   "id": "fa4ef7e8",
   "metadata": {},
   "outputs": [
    {
     "data": {
      "application/vnd.plotly.v1+json": {
       "config": {
        "plotlyServerURL": "https://plot.ly"
       },
       "data": [
        {
         "type": "bar",
         "x": [
          "Recognizing emotional triggers",
          "Visualizing better responses",
          "Staying calm under pressure",
          "Understanding emotional intelligence",
          "Discussing emotional stress",
          "Understanding how others see me when stressed",
          "Creating a pause plan"
         ],
         "xaxis": "x",
         "y": [
          35,
          34,
          28,
          27,
          17,
          16,
          13
         ],
         "yaxis": "y"
        },
        {
         "type": "bar",
         "x": [
          "Connecting hobbies to careers",
          "Understanding career flexibility",
          "Accepting direction over full plans",
          "Discussing career dreams",
          "Considering new ideas",
          "Identifying strengths",
          "Knowing what I don’t want"
         ],
         "xaxis": "x2",
         "y": [
          33,
          27,
          25,
          24,
          22,
          21,
          18
         ],
         "yaxis": "y2"
        }
       ],
       "layout": {
        "annotations": [
         {
          "font": {
           "size": 16
          },
          "showarrow": false,
          "text": "Emotional Intelligence and Regulation",
          "x": 0.225,
          "xanchor": "center",
          "xref": "paper",
          "y": 1,
          "yanchor": "bottom",
          "yref": "paper"
         },
         {
          "font": {
           "size": 16
          },
          "showarrow": false,
          "text": "Career and Personal Development",
          "x": 0.775,
          "xanchor": "center",
          "xref": "paper",
          "y": 1,
          "yanchor": "bottom",
          "yref": "paper"
         }
        ],
        "height": 600,
        "showlegend": false,
        "template": {
         "data": {
          "bar": [
           {
            "error_x": {
             "color": "#2a3f5f"
            },
            "error_y": {
             "color": "#2a3f5f"
            },
            "marker": {
             "line": {
              "color": "white",
              "width": 0.5
             },
             "pattern": {
              "fillmode": "overlay",
              "size": 10,
              "solidity": 0.2
             }
            },
            "type": "bar"
           }
          ],
          "barpolar": [
           {
            "marker": {
             "line": {
              "color": "white",
              "width": 0.5
             },
             "pattern": {
              "fillmode": "overlay",
              "size": 10,
              "solidity": 0.2
             }
            },
            "type": "barpolar"
           }
          ],
          "carpet": [
           {
            "aaxis": {
             "endlinecolor": "#2a3f5f",
             "gridcolor": "#C8D4E3",
             "linecolor": "#C8D4E3",
             "minorgridcolor": "#C8D4E3",
             "startlinecolor": "#2a3f5f"
            },
            "baxis": {
             "endlinecolor": "#2a3f5f",
             "gridcolor": "#C8D4E3",
             "linecolor": "#C8D4E3",
             "minorgridcolor": "#C8D4E3",
             "startlinecolor": "#2a3f5f"
            },
            "type": "carpet"
           }
          ],
          "choropleth": [
           {
            "colorbar": {
             "outlinewidth": 0,
             "ticks": ""
            },
            "type": "choropleth"
           }
          ],
          "contour": [
           {
            "colorbar": {
             "outlinewidth": 0,
             "ticks": ""
            },
            "colorscale": [
             [
              0,
              "#0d0887"
             ],
             [
              0.1111111111111111,
              "#46039f"
             ],
             [
              0.2222222222222222,
              "#7201a8"
             ],
             [
              0.3333333333333333,
              "#9c179e"
             ],
             [
              0.4444444444444444,
              "#bd3786"
             ],
             [
              0.5555555555555556,
              "#d8576b"
             ],
             [
              0.6666666666666666,
              "#ed7953"
             ],
             [
              0.7777777777777778,
              "#fb9f3a"
             ],
             [
              0.8888888888888888,
              "#fdca26"
             ],
             [
              1,
              "#f0f921"
             ]
            ],
            "type": "contour"
           }
          ],
          "contourcarpet": [
           {
            "colorbar": {
             "outlinewidth": 0,
             "ticks": ""
            },
            "type": "contourcarpet"
           }
          ],
          "heatmap": [
           {
            "colorbar": {
             "outlinewidth": 0,
             "ticks": ""
            },
            "colorscale": [
             [
              0,
              "#0d0887"
             ],
             [
              0.1111111111111111,
              "#46039f"
             ],
             [
              0.2222222222222222,
              "#7201a8"
             ],
             [
              0.3333333333333333,
              "#9c179e"
             ],
             [
              0.4444444444444444,
              "#bd3786"
             ],
             [
              0.5555555555555556,
              "#d8576b"
             ],
             [
              0.6666666666666666,
              "#ed7953"
             ],
             [
              0.7777777777777778,
              "#fb9f3a"
             ],
             [
              0.8888888888888888,
              "#fdca26"
             ],
             [
              1,
              "#f0f921"
             ]
            ],
            "type": "heatmap"
           }
          ],
          "heatmapgl": [
           {
            "colorbar": {
             "outlinewidth": 0,
             "ticks": ""
            },
            "colorscale": [
             [
              0,
              "#0d0887"
             ],
             [
              0.1111111111111111,
              "#46039f"
             ],
             [
              0.2222222222222222,
              "#7201a8"
             ],
             [
              0.3333333333333333,
              "#9c179e"
             ],
             [
              0.4444444444444444,
              "#bd3786"
             ],
             [
              0.5555555555555556,
              "#d8576b"
             ],
             [
              0.6666666666666666,
              "#ed7953"
             ],
             [
              0.7777777777777778,
              "#fb9f3a"
             ],
             [
              0.8888888888888888,
              "#fdca26"
             ],
             [
              1,
              "#f0f921"
             ]
            ],
            "type": "heatmapgl"
           }
          ],
          "histogram": [
           {
            "marker": {
             "pattern": {
              "fillmode": "overlay",
              "size": 10,
              "solidity": 0.2
             }
            },
            "type": "histogram"
           }
          ],
          "histogram2d": [
           {
            "colorbar": {
             "outlinewidth": 0,
             "ticks": ""
            },
            "colorscale": [
             [
              0,
              "#0d0887"
             ],
             [
              0.1111111111111111,
              "#46039f"
             ],
             [
              0.2222222222222222,
              "#7201a8"
             ],
             [
              0.3333333333333333,
              "#9c179e"
             ],
             [
              0.4444444444444444,
              "#bd3786"
             ],
             [
              0.5555555555555556,
              "#d8576b"
             ],
             [
              0.6666666666666666,
              "#ed7953"
             ],
             [
              0.7777777777777778,
              "#fb9f3a"
             ],
             [
              0.8888888888888888,
              "#fdca26"
             ],
             [
              1,
              "#f0f921"
             ]
            ],
            "type": "histogram2d"
           }
          ],
          "histogram2dcontour": [
           {
            "colorbar": {
             "outlinewidth": 0,
             "ticks": ""
            },
            "colorscale": [
             [
              0,
              "#0d0887"
             ],
             [
              0.1111111111111111,
              "#46039f"
             ],
             [
              0.2222222222222222,
              "#7201a8"
             ],
             [
              0.3333333333333333,
              "#9c179e"
             ],
             [
              0.4444444444444444,
              "#bd3786"
             ],
             [
              0.5555555555555556,
              "#d8576b"
             ],
             [
              0.6666666666666666,
              "#ed7953"
             ],
             [
              0.7777777777777778,
              "#fb9f3a"
             ],
             [
              0.8888888888888888,
              "#fdca26"
             ],
             [
              1,
              "#f0f921"
             ]
            ],
            "type": "histogram2dcontour"
           }
          ],
          "mesh3d": [
           {
            "colorbar": {
             "outlinewidth": 0,
             "ticks": ""
            },
            "type": "mesh3d"
           }
          ],
          "parcoords": [
           {
            "line": {
             "colorbar": {
              "outlinewidth": 0,
              "ticks": ""
             }
            },
            "type": "parcoords"
           }
          ],
          "pie": [
           {
            "automargin": true,
            "type": "pie"
           }
          ],
          "scatter": [
           {
            "fillpattern": {
             "fillmode": "overlay",
             "size": 10,
             "solidity": 0.2
            },
            "type": "scatter"
           }
          ],
          "scatter3d": [
           {
            "line": {
             "colorbar": {
              "outlinewidth": 0,
              "ticks": ""
             }
            },
            "marker": {
             "colorbar": {
              "outlinewidth": 0,
              "ticks": ""
             }
            },
            "type": "scatter3d"
           }
          ],
          "scattercarpet": [
           {
            "marker": {
             "colorbar": {
              "outlinewidth": 0,
              "ticks": ""
             }
            },
            "type": "scattercarpet"
           }
          ],
          "scattergeo": [
           {
            "marker": {
             "colorbar": {
              "outlinewidth": 0,
              "ticks": ""
             }
            },
            "type": "scattergeo"
           }
          ],
          "scattergl": [
           {
            "marker": {
             "colorbar": {
              "outlinewidth": 0,
              "ticks": ""
             }
            },
            "type": "scattergl"
           }
          ],
          "scattermapbox": [
           {
            "marker": {
             "colorbar": {
              "outlinewidth": 0,
              "ticks": ""
             }
            },
            "type": "scattermapbox"
           }
          ],
          "scatterpolar": [
           {
            "marker": {
             "colorbar": {
              "outlinewidth": 0,
              "ticks": ""
             }
            },
            "type": "scatterpolar"
           }
          ],
          "scatterpolargl": [
           {
            "marker": {
             "colorbar": {
              "outlinewidth": 0,
              "ticks": ""
             }
            },
            "type": "scatterpolargl"
           }
          ],
          "scatterternary": [
           {
            "marker": {
             "colorbar": {
              "outlinewidth": 0,
              "ticks": ""
             }
            },
            "type": "scatterternary"
           }
          ],
          "surface": [
           {
            "colorbar": {
             "outlinewidth": 0,
             "ticks": ""
            },
            "colorscale": [
             [
              0,
              "#0d0887"
             ],
             [
              0.1111111111111111,
              "#46039f"
             ],
             [
              0.2222222222222222,
              "#7201a8"
             ],
             [
              0.3333333333333333,
              "#9c179e"
             ],
             [
              0.4444444444444444,
              "#bd3786"
             ],
             [
              0.5555555555555556,
              "#d8576b"
             ],
             [
              0.6666666666666666,
              "#ed7953"
             ],
             [
              0.7777777777777778,
              "#fb9f3a"
             ],
             [
              0.8888888888888888,
              "#fdca26"
             ],
             [
              1,
              "#f0f921"
             ]
            ],
            "type": "surface"
           }
          ],
          "table": [
           {
            "cells": {
             "fill": {
              "color": "#EBF0F8"
             },
             "line": {
              "color": "white"
             }
            },
            "header": {
             "fill": {
              "color": "#C8D4E3"
             },
             "line": {
              "color": "white"
             }
            },
            "type": "table"
           }
          ]
         },
         "layout": {
          "annotationdefaults": {
           "arrowcolor": "#2a3f5f",
           "arrowhead": 0,
           "arrowwidth": 1
          },
          "autotypenumbers": "strict",
          "coloraxis": {
           "colorbar": {
            "outlinewidth": 0,
            "ticks": ""
           }
          },
          "colorscale": {
           "diverging": [
            [
             0,
             "#8e0152"
            ],
            [
             0.1,
             "#c51b7d"
            ],
            [
             0.2,
             "#de77ae"
            ],
            [
             0.3,
             "#f1b6da"
            ],
            [
             0.4,
             "#fde0ef"
            ],
            [
             0.5,
             "#f7f7f7"
            ],
            [
             0.6,
             "#e6f5d0"
            ],
            [
             0.7,
             "#b8e186"
            ],
            [
             0.8,
             "#7fbc41"
            ],
            [
             0.9,
             "#4d9221"
            ],
            [
             1,
             "#276419"
            ]
           ],
           "sequential": [
            [
             0,
             "#0d0887"
            ],
            [
             0.1111111111111111,
             "#46039f"
            ],
            [
             0.2222222222222222,
             "#7201a8"
            ],
            [
             0.3333333333333333,
             "#9c179e"
            ],
            [
             0.4444444444444444,
             "#bd3786"
            ],
            [
             0.5555555555555556,
             "#d8576b"
            ],
            [
             0.6666666666666666,
             "#ed7953"
            ],
            [
             0.7777777777777778,
             "#fb9f3a"
            ],
            [
             0.8888888888888888,
             "#fdca26"
            ],
            [
             1,
             "#f0f921"
            ]
           ],
           "sequentialminus": [
            [
             0,
             "#0d0887"
            ],
            [
             0.1111111111111111,
             "#46039f"
            ],
            [
             0.2222222222222222,
             "#7201a8"
            ],
            [
             0.3333333333333333,
             "#9c179e"
            ],
            [
             0.4444444444444444,
             "#bd3786"
            ],
            [
             0.5555555555555556,
             "#d8576b"
            ],
            [
             0.6666666666666666,
             "#ed7953"
            ],
            [
             0.7777777777777778,
             "#fb9f3a"
            ],
            [
             0.8888888888888888,
             "#fdca26"
            ],
            [
             1,
             "#f0f921"
            ]
           ]
          },
          "colorway": [
           "#636efa",
           "#EF553B",
           "#00cc96",
           "#ab63fa",
           "#FFA15A",
           "#19d3f3",
           "#FF6692",
           "#B6E880",
           "#FF97FF",
           "#FECB52"
          ],
          "font": {
           "color": "#2a3f5f"
          },
          "geo": {
           "bgcolor": "white",
           "lakecolor": "white",
           "landcolor": "white",
           "showlakes": true,
           "showland": true,
           "subunitcolor": "#C8D4E3"
          },
          "hoverlabel": {
           "align": "left"
          },
          "hovermode": "closest",
          "mapbox": {
           "style": "light"
          },
          "paper_bgcolor": "white",
          "plot_bgcolor": "white",
          "polar": {
           "angularaxis": {
            "gridcolor": "#EBF0F8",
            "linecolor": "#EBF0F8",
            "ticks": ""
           },
           "bgcolor": "white",
           "radialaxis": {
            "gridcolor": "#EBF0F8",
            "linecolor": "#EBF0F8",
            "ticks": ""
           }
          },
          "scene": {
           "xaxis": {
            "backgroundcolor": "white",
            "gridcolor": "#DFE8F3",
            "gridwidth": 2,
            "linecolor": "#EBF0F8",
            "showbackground": true,
            "ticks": "",
            "zerolinecolor": "#EBF0F8"
           },
           "yaxis": {
            "backgroundcolor": "white",
            "gridcolor": "#DFE8F3",
            "gridwidth": 2,
            "linecolor": "#EBF0F8",
            "showbackground": true,
            "ticks": "",
            "zerolinecolor": "#EBF0F8"
           },
           "zaxis": {
            "backgroundcolor": "white",
            "gridcolor": "#DFE8F3",
            "gridwidth": 2,
            "linecolor": "#EBF0F8",
            "showbackground": true,
            "ticks": "",
            "zerolinecolor": "#EBF0F8"
           }
          },
          "shapedefaults": {
           "line": {
            "color": "#2a3f5f"
           }
          },
          "ternary": {
           "aaxis": {
            "gridcolor": "#DFE8F3",
            "linecolor": "#A2B1C6",
            "ticks": ""
           },
           "baxis": {
            "gridcolor": "#DFE8F3",
            "linecolor": "#A2B1C6",
            "ticks": ""
           },
           "bgcolor": "white",
           "caxis": {
            "gridcolor": "#DFE8F3",
            "linecolor": "#A2B1C6",
            "ticks": ""
           }
          },
          "title": {
           "x": 0.05
          },
          "xaxis": {
           "automargin": true,
           "gridcolor": "#EBF0F8",
           "linecolor": "#EBF0F8",
           "ticks": "",
           "title": {
            "standoff": 15
           },
           "zerolinecolor": "#EBF0F8",
           "zerolinewidth": 2
          },
          "yaxis": {
           "automargin": true,
           "gridcolor": "#EBF0F8",
           "linecolor": "#EBF0F8",
           "ticks": "",
           "title": {
            "standoff": 15
           },
           "zerolinecolor": "#EBF0F8",
           "zerolinewidth": 2
          }
         }
        },
        "title": {
         "text": "Areas of Identified Improvements"
        },
        "width": 1200,
        "xaxis": {
         "anchor": "y",
         "domain": [
          0,
          0.45
         ]
        },
        "xaxis2": {
         "anchor": "y2",
         "domain": [
          0.55,
          1
         ]
        },
        "yaxis": {
         "anchor": "x",
         "domain": [
          0,
          1
         ]
        },
        "yaxis2": {
         "anchor": "x2",
         "domain": [
          0,
          1
         ]
        }
       }
      }
     },
     "metadata": {},
     "output_type": "display_data"
    }
   ],
   "source": [
    "fig = make_subplots(rows=1, cols=2,\n",
    "                    subplot_titles=[\"Emotional Intelligence and Regulation\", \"Career and Personal Development\"])\n",
    "\n",
    "# Previous Job Exp Bar Chart (Row 1, Col 1)\n",
    "emo = multi_select_counts(df_post, [\"#\"] + emo_col, competency_mapping)\n",
    "fig.add_trace(\n",
    "    go.Bar(x=emo.index, y=emo.values),\n",
    "    row=1, col=1\n",
    ")\n",
    "\n",
    "# Clarity Bar Chart (Row 1, Col 2)\n",
    "clarity = multi_select_counts(df_post, [\"#\"] + clarity_col, competency_mapping)\n",
    "fig.add_trace(\n",
    "    go.Bar(x=clarity.index, y=clarity.values),\n",
    "    row=1, col=2\n",
    ")\n",
    "\n",
    "# Update layout\n",
    "fig.update_layout(height=600, width=1200, title_text=\"Areas of Identified Improvements\")\n",
    "fig.update_layout(showlegend=False)\n",
    "fig.show( )\n"
   ]
  },
  {
   "cell_type": "code",
   "execution_count": null,
   "id": "760e3a24",
   "metadata": {},
   "outputs": [],
   "source": []
  }
 ],
 "metadata": {
  "kernelspec": {
   "display_name": "Python 3",
   "language": "python",
   "name": "python3"
  },
  "language_info": {
   "codemirror_mode": {
    "name": "ipython",
    "version": 3
   },
   "file_extension": ".py",
   "mimetype": "text/x-python",
   "name": "python",
   "nbconvert_exporter": "python",
   "pygments_lexer": "ipython3",
   "version": "3.12.3"
  }
 },
 "nbformat": 4,
 "nbformat_minor": 5
}
