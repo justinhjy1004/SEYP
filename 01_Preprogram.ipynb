{
 "cells": [
  {
   "cell_type": "code",
   "execution_count": 1,
   "id": "e3e5d819",
   "metadata": {},
   "outputs": [],
   "source": [
    "import polars as pl\n",
    "import plotly.graph_objects as go\n",
    "from plotly.subplots import make_subplots\n",
    "import plotly.io as pio\n",
    "import plotly.express as px\n",
    "\n",
    "# Set the theme once\n",
    "pio.templates.default = \"plotly_white\"\n",
    "\n",
    "from util import multi_select_counts, get_subplot_coords, df_prop, df_multiselect_prop\n",
    "import mappings"
   ]
  },
  {
   "cell_type": "code",
   "execution_count": 2,
   "id": "5b7a3483",
   "metadata": {},
   "outputs": [],
   "source": [
    "df = pl.read_csv(\"OriginalData/Preprogram_Survey.csv\")"
   ]
  },
  {
   "cell_type": "code",
   "execution_count": 3,
   "id": "3c564106",
   "metadata": {},
   "outputs": [
    {
     "data": {
      "text/plain": [
       "['#',\n",
       " 'How old are you?',\n",
       " 'What is your current education status?',\n",
       " 'Other',\n",
       " 'What college, high school, or program are you currently attending (if any)?',\n",
       " 'What is your gender identity?',\n",
       " 'Other_duplicated_0',\n",
       " 'Hispanic or Latino',\n",
       " 'White',\n",
       " 'Asian or Pacific Islander',\n",
       " 'American Indian or Alaska Native',\n",
       " 'Black or African American',\n",
       " 'Other_duplicated_1',\n",
       " 'Have you held a paid job before?',\n",
       " 'Retail / customer service',\n",
       " 'Food service / hospitality',\n",
       " 'Office or clerical work',\n",
       " 'Youth mentoring or childcare',\n",
       " 'Internship / fellowship',\n",
       " 'Family business / informal work',\n",
       " 'Other_duplicated_2',\n",
       " 'Build professional experience',\n",
       " 'Improve job readiness and soft skills',\n",
       " 'Learn about career options',\n",
       " 'Grow my resume or LinkedIn profile',\n",
       " 'Network with professionals',\n",
       " 'Gain mentorship and guidance',\n",
       " 'Improve my financial knowledge',\n",
       " 'Other_duplicated_3',\n",
       " 'Communicating professionally (verbal and written)',\n",
       " 'Navigating workplace expectations and culture',\n",
       " 'Time management and organization',\n",
       " 'Problem-solving and critical thinking',\n",
       " 'Receiving and applying feedback',\n",
       " 'Leading a project or initiative',\n",
       " 'Financial knowledge and money management',\n",
       " 'What do you believe is *your biggest professional challenge* right now?',\n",
       " 'Do you currently have a bank account?',\n",
       " 'Online/mobile banking app',\n",
       " 'Cash App / Venmo / Zelle / PayPal',\n",
       " 'Savings account',\n",
       " 'Budgeting app or spreadsheet',\n",
       " 'None of the above',\n",
       " 'Robinhood/Fidelity/Acorns (Investment Apps)',\n",
       " 'Other_duplicated_4',\n",
       " 'How often do you save money *(beyond daily spending)*?',\n",
       " 'Creating a personal budget',\n",
       " 'Understanding credit and credit scores',\n",
       " 'Opening and managing a bank account',\n",
       " 'Differences between checking/savings/investment accounts',\n",
       " 'Using financial apps or online banking tools',\n",
       " 'Investing your money for future wealth',\n",
       " 'What is *one financial goal* you have for this year?',\n",
       " 'What industry or career fields are you most interested in right now? _*(List up to 3)*_',\n",
       " 'Personal passion',\n",
       " 'High salary potential',\n",
       " 'Flexibility and lifestyle fit',\n",
       " 'Job market demand',\n",
       " 'Role models or mentors in that field',\n",
       " 'Alignment with my values and interests',\n",
       " 'Previous experience or exposure',\n",
       " 'Related to my natural skills and abilities',\n",
       " 'Other_duplicated_5',\n",
       " 'Do you have a *career plan or clear next steps?*',\n",
       " 'Other_duplicated_6',\n",
       " 'How confident do you feel in your ability to reach your career goals?',\n",
       " 'What’s one step/action you plan to take this summer to get closer to your career goals?',\n",
       " 'I know how to present myself professionally in different settings',\n",
       " 'I believe in my ability to grow and improve through effort',\n",
       " 'I have a support system (family, friends, etc.) that encourages my success',\n",
       " 'I can manage challenges without giving up',\n",
       " 'I am clear about the type of person I want to become',\n",
       " 'Motivated to work toward your goals',\n",
       " 'Focused and productive',\n",
       " 'Stressed or overwhelmed',\n",
       " 'Confident about your future',\n",
       " 'Supported by others',\n",
       " 'Resume or LinkedIn help',\n",
       " 'Interview prep and mock interviews',\n",
       " 'Career coaching or mentorship',\n",
       " 'Budgeting, money management and investing',\n",
       " 'Emotional or mental health support',\n",
       " 'Time management strategies',\n",
       " 'Networking',\n",
       " 'Professional attire',\n",
       " 'Other_duplicated_7',\n",
       " 'What are *you most looking forward* to in the NextGen Leaders program this summer?',\n",
       " \"Any additional comments or things you'd like us to know as we support you this summer?\",\n",
       " 'First name',\n",
       " 'Last name',\n",
       " 'Phone number',\n",
       " 'Email',\n",
       " 'Response Type',\n",
       " 'Start Date (UTC)',\n",
       " 'Stage Date (UTC)',\n",
       " 'Submit Date (UTC)',\n",
       " 'Network ID',\n",
       " 'Tags',\n",
       " 'Ending']"
      ]
     },
     "execution_count": 3,
     "metadata": {},
     "output_type": "execute_result"
    }
   ],
   "source": [
    "df.columns"
   ]
  },
  {
   "cell_type": "code",
   "execution_count": 4,
   "id": "af4a53f2",
   "metadata": {},
   "outputs": [
    {
     "data": {
      "text/html": [
       "<div><style>\n",
       ".dataframe > thead > tr,\n",
       ".dataframe > tbody > tr {\n",
       "  text-align: right;\n",
       "  white-space: pre-wrap;\n",
       "}\n",
       "</style>\n",
       "<small>shape: (6, 3)</small><table border=\"1\" class=\"dataframe\"><thead><tr><th>What is your current education status?</th><th>len</th><th>prop</th></tr><tr><td>str</td><td>u32</td><td>f64</td></tr></thead><tbody><tr><td>&quot;High school graduate* (not in …</td><td>24</td><td>0.24</td></tr><tr><td>&quot;Currently enrolled in 2/4-year…</td><td>53</td><td>0.53</td></tr><tr><td>&quot;Enrolled in a trade or apprent…</td><td>5</td><td>0.05</td></tr><tr><td>null</td><td>3</td><td>0.03</td></tr><tr><td>&quot;Recently graduated from colleg…</td><td>8</td><td>0.08</td></tr><tr><td>&quot;In high school&quot;</td><td>7</td><td>0.07</td></tr></tbody></table></div>"
      ],
      "text/plain": [
       "shape: (6, 3)\n",
       "┌─────────────────────────────────┬─────┬──────┐\n",
       "│ What is your current education… ┆ len ┆ prop │\n",
       "│ ---                             ┆ --- ┆ ---  │\n",
       "│ str                             ┆ u32 ┆ f64  │\n",
       "╞═════════════════════════════════╪═════╪══════╡\n",
       "│ High school graduate* (not in … ┆ 24  ┆ 0.24 │\n",
       "│ Currently enrolled in 2/4-year… ┆ 53  ┆ 0.53 │\n",
       "│ Enrolled in a trade or apprent… ┆ 5   ┆ 0.05 │\n",
       "│ null                            ┆ 3   ┆ 0.03 │\n",
       "│ Recently graduated from colleg… ┆ 8   ┆ 0.08 │\n",
       "│ In high school                  ┆ 7   ┆ 0.07 │\n",
       "└─────────────────────────────────┴─────┴──────┘"
      ]
     },
     "execution_count": 4,
     "metadata": {},
     "output_type": "execute_result"
    }
   ],
   "source": [
    "df_prop(df, 'What is your current education status?', 100)"
   ]
  },
  {
   "cell_type": "code",
   "execution_count": 5,
   "id": "26841feb",
   "metadata": {},
   "outputs": [
    {
     "data": {
      "text/html": [
       "<div><style>\n",
       ".dataframe > thead > tr,\n",
       ".dataframe > tbody > tr {\n",
       "  text-align: right;\n",
       "  white-space: pre-wrap;\n",
       "}\n",
       "</style>\n",
       "<small>shape: (5, 3)</small><table border=\"1\" class=\"dataframe\"><thead><tr><th>What is your gender identity?</th><th>len</th><th>prop</th></tr><tr><td>str</td><td>u32</td><td>f64</td></tr></thead><tbody><tr><td>&quot;Female&quot;</td><td>57</td><td>0.57</td></tr><tr><td>&quot;Non-binary&quot;</td><td>2</td><td>0.02</td></tr><tr><td>&quot;Male&quot;</td><td>39</td><td>0.39</td></tr><tr><td>&quot;Prefer not to answer&quot;</td><td>1</td><td>0.01</td></tr><tr><td>null</td><td>1</td><td>0.01</td></tr></tbody></table></div>"
      ],
      "text/plain": [
       "shape: (5, 3)\n",
       "┌───────────────────────────────┬─────┬──────┐\n",
       "│ What is your gender identity? ┆ len ┆ prop │\n",
       "│ ---                           ┆ --- ┆ ---  │\n",
       "│ str                           ┆ u32 ┆ f64  │\n",
       "╞═══════════════════════════════╪═════╪══════╡\n",
       "│ Female                        ┆ 57  ┆ 0.57 │\n",
       "│ Non-binary                    ┆ 2   ┆ 0.02 │\n",
       "│ Male                          ┆ 39  ┆ 0.39 │\n",
       "│ Prefer not to answer          ┆ 1   ┆ 0.01 │\n",
       "│ null                          ┆ 1   ┆ 0.01 │\n",
       "└───────────────────────────────┴─────┴──────┘"
      ]
     },
     "execution_count": 5,
     "metadata": {},
     "output_type": "execute_result"
    }
   ],
   "source": [
    "df_prop(df, 'What is your gender identity?', 100)"
   ]
  },
  {
   "cell_type": "code",
   "execution_count": 6,
   "id": "71dbbbc9",
   "metadata": {},
   "outputs": [],
   "source": [
    "df = df.with_columns(\n",
    "    pl.col(\"What is your current education status?\").map_elements(lambda x: \"True\" if (\"Currently\" in x) else \"False\", return_dtype=pl.String).alias(\"College Student\"),\n",
    "    pl.col(\"What is your gender identity?\").map_elements(lambda x: \"Female\" if (\"Female\" == x) else \"Not Female\", return_dtype=pl.String).alias(\"Gender\"),\n",
    "    pl.lit(1).alias(\"Count\") \n",
    ")"
   ]
  },
  {
   "cell_type": "code",
   "execution_count": 7,
   "id": "894b9113",
   "metadata": {},
   "outputs": [
    {
     "name": "stderr",
     "output_type": "stream",
     "text": [
      "/usr/lib/python3/dist-packages/plotly/express/_core.py:1992: FutureWarning: When grouping with a length-1 list-like, you will need to pass a length-1 tuple to get_group in a future version of pandas. Pass `(name,)` instead of `name` to silence this warning.\n",
      "  sf: grouped.get_group(s if len(s) > 1 else s[0])\n"
     ]
    },
    {
     "data": {
      "application/vnd.plotly.v1+json": {
       "config": {
        "plotlyServerURL": "https://plot.ly"
       },
       "data": [
        {
         "alignmentgroup": "True",
         "bingroup": "x",
         "histfunc": "sum",
         "hovertemplate": "College Student=True<br>Gender=%{x}<br>sum of Count=%{y}<extra></extra>",
         "legendgroup": "True",
         "marker": {
          "color": "rgb(102, 197, 204)",
          "pattern": {
           "shape": ""
          }
         },
         "name": "True",
         "offsetgroup": "True",
         "orientation": "v",
         "showlegend": true,
         "textfont": {
          "size": 12
         },
         "textposition": "inside",
         "texttemplate": "%{value}",
         "type": "histogram",
         "x": [
          "Female",
          "Female",
          "Not Female",
          "Not Female",
          "Female",
          "Not Female",
          "Not Female",
          "Female",
          "Female",
          "Not Female",
          "Not Female",
          "Not Female",
          "Female",
          "Not Female",
          "Not Female",
          "Female",
          "Not Female",
          "Not Female",
          "Female",
          "Not Female",
          "Female",
          "Not Female",
          "Female",
          "Female",
          "Female",
          "Female",
          "Female",
          "Female",
          "Female",
          "Female",
          "Female",
          "Not Female",
          "Female",
          "Not Female",
          "Female",
          "Not Female",
          "Not Female",
          "Not Female",
          "Female",
          "Female",
          "Female",
          "Female",
          "Female",
          "Female",
          "Female",
          "Not Female",
          "Female",
          "Female",
          "Not Female",
          "Female",
          "Not Female",
          "Female",
          "Not Female"
         ],
         "xaxis": "x",
         "y": [
          1,
          1,
          1,
          1,
          1,
          1,
          1,
          1,
          1,
          1,
          1,
          1,
          1,
          1,
          1,
          1,
          1,
          1,
          1,
          1,
          1,
          1,
          1,
          1,
          1,
          1,
          1,
          1,
          1,
          1,
          1,
          1,
          1,
          1,
          1,
          1,
          1,
          1,
          1,
          1,
          1,
          1,
          1,
          1,
          1,
          1,
          1,
          1,
          1,
          1,
          1,
          1,
          1
         ],
         "yaxis": "y"
        },
        {
         "alignmentgroup": "True",
         "bingroup": "x",
         "histfunc": "sum",
         "hovertemplate": "College Student=False<br>Gender=%{x}<br>sum of Count=%{y}<extra></extra>",
         "legendgroup": "False",
         "marker": {
          "color": "rgb(246, 207, 113)",
          "pattern": {
           "shape": ""
          }
         },
         "name": "False",
         "offsetgroup": "False",
         "orientation": "v",
         "showlegend": true,
         "textfont": {
          "size": 12
         },
         "textposition": "inside",
         "texttemplate": "%{value}",
         "type": "histogram",
         "x": [
          "Not Female",
          "Not Female",
          "Female",
          "Not Female",
          "Female",
          "Not Female",
          "Female",
          "Not Female",
          "Female",
          "Female",
          "Female",
          "Female",
          "Not Female",
          "Not Female",
          null,
          "Not Female",
          "Female",
          "Not Female",
          "Female",
          "Female",
          "Not Female",
          "Female",
          "Female",
          "Not Female",
          "Not Female",
          "Not Female",
          "Not Female",
          "Female",
          "Female",
          "Female",
          "Not Female",
          "Female",
          "Female",
          "Female",
          "Female",
          "Female",
          "Female",
          "Not Female",
          "Not Female",
          "Female",
          "Not Female",
          "Not Female",
          "Female",
          "Female"
         ],
         "xaxis": "x",
         "y": [
          1,
          1,
          1,
          1,
          1,
          1,
          1,
          1,
          1,
          1,
          1,
          1,
          1,
          1,
          1,
          1,
          1,
          1,
          1,
          1,
          1,
          1,
          1,
          1,
          1,
          1,
          1,
          1,
          1,
          1,
          1,
          1,
          1,
          1,
          1,
          1,
          1,
          1,
          1,
          1,
          1,
          1,
          1,
          1
         ],
         "yaxis": "y"
        }
       ],
       "layout": {
        "barmode": "group",
        "height": 400,
        "legend": {
         "title": {
          "text": "College Student"
         },
         "tracegroupgap": 0
        },
        "margin": {
         "t": 60
        },
        "template": {
         "data": {
          "bar": [
           {
            "error_x": {
             "color": "#2a3f5f"
            },
            "error_y": {
             "color": "#2a3f5f"
            },
            "marker": {
             "line": {
              "color": "white",
              "width": 0.5
             },
             "pattern": {
              "fillmode": "overlay",
              "size": 10,
              "solidity": 0.2
             }
            },
            "type": "bar"
           }
          ],
          "barpolar": [
           {
            "marker": {
             "line": {
              "color": "white",
              "width": 0.5
             },
             "pattern": {
              "fillmode": "overlay",
              "size": 10,
              "solidity": 0.2
             }
            },
            "type": "barpolar"
           }
          ],
          "carpet": [
           {
            "aaxis": {
             "endlinecolor": "#2a3f5f",
             "gridcolor": "#C8D4E3",
             "linecolor": "#C8D4E3",
             "minorgridcolor": "#C8D4E3",
             "startlinecolor": "#2a3f5f"
            },
            "baxis": {
             "endlinecolor": "#2a3f5f",
             "gridcolor": "#C8D4E3",
             "linecolor": "#C8D4E3",
             "minorgridcolor": "#C8D4E3",
             "startlinecolor": "#2a3f5f"
            },
            "type": "carpet"
           }
          ],
          "choropleth": [
           {
            "colorbar": {
             "outlinewidth": 0,
             "ticks": ""
            },
            "type": "choropleth"
           }
          ],
          "contour": [
           {
            "colorbar": {
             "outlinewidth": 0,
             "ticks": ""
            },
            "colorscale": [
             [
              0,
              "#0d0887"
             ],
             [
              0.1111111111111111,
              "#46039f"
             ],
             [
              0.2222222222222222,
              "#7201a8"
             ],
             [
              0.3333333333333333,
              "#9c179e"
             ],
             [
              0.4444444444444444,
              "#bd3786"
             ],
             [
              0.5555555555555556,
              "#d8576b"
             ],
             [
              0.6666666666666666,
              "#ed7953"
             ],
             [
              0.7777777777777778,
              "#fb9f3a"
             ],
             [
              0.8888888888888888,
              "#fdca26"
             ],
             [
              1,
              "#f0f921"
             ]
            ],
            "type": "contour"
           }
          ],
          "contourcarpet": [
           {
            "colorbar": {
             "outlinewidth": 0,
             "ticks": ""
            },
            "type": "contourcarpet"
           }
          ],
          "heatmap": [
           {
            "colorbar": {
             "outlinewidth": 0,
             "ticks": ""
            },
            "colorscale": [
             [
              0,
              "#0d0887"
             ],
             [
              0.1111111111111111,
              "#46039f"
             ],
             [
              0.2222222222222222,
              "#7201a8"
             ],
             [
              0.3333333333333333,
              "#9c179e"
             ],
             [
              0.4444444444444444,
              "#bd3786"
             ],
             [
              0.5555555555555556,
              "#d8576b"
             ],
             [
              0.6666666666666666,
              "#ed7953"
             ],
             [
              0.7777777777777778,
              "#fb9f3a"
             ],
             [
              0.8888888888888888,
              "#fdca26"
             ],
             [
              1,
              "#f0f921"
             ]
            ],
            "type": "heatmap"
           }
          ],
          "heatmapgl": [
           {
            "colorbar": {
             "outlinewidth": 0,
             "ticks": ""
            },
            "colorscale": [
             [
              0,
              "#0d0887"
             ],
             [
              0.1111111111111111,
              "#46039f"
             ],
             [
              0.2222222222222222,
              "#7201a8"
             ],
             [
              0.3333333333333333,
              "#9c179e"
             ],
             [
              0.4444444444444444,
              "#bd3786"
             ],
             [
              0.5555555555555556,
              "#d8576b"
             ],
             [
              0.6666666666666666,
              "#ed7953"
             ],
             [
              0.7777777777777778,
              "#fb9f3a"
             ],
             [
              0.8888888888888888,
              "#fdca26"
             ],
             [
              1,
              "#f0f921"
             ]
            ],
            "type": "heatmapgl"
           }
          ],
          "histogram": [
           {
            "marker": {
             "pattern": {
              "fillmode": "overlay",
              "size": 10,
              "solidity": 0.2
             }
            },
            "type": "histogram"
           }
          ],
          "histogram2d": [
           {
            "colorbar": {
             "outlinewidth": 0,
             "ticks": ""
            },
            "colorscale": [
             [
              0,
              "#0d0887"
             ],
             [
              0.1111111111111111,
              "#46039f"
             ],
             [
              0.2222222222222222,
              "#7201a8"
             ],
             [
              0.3333333333333333,
              "#9c179e"
             ],
             [
              0.4444444444444444,
              "#bd3786"
             ],
             [
              0.5555555555555556,
              "#d8576b"
             ],
             [
              0.6666666666666666,
              "#ed7953"
             ],
             [
              0.7777777777777778,
              "#fb9f3a"
             ],
             [
              0.8888888888888888,
              "#fdca26"
             ],
             [
              1,
              "#f0f921"
             ]
            ],
            "type": "histogram2d"
           }
          ],
          "histogram2dcontour": [
           {
            "colorbar": {
             "outlinewidth": 0,
             "ticks": ""
            },
            "colorscale": [
             [
              0,
              "#0d0887"
             ],
             [
              0.1111111111111111,
              "#46039f"
             ],
             [
              0.2222222222222222,
              "#7201a8"
             ],
             [
              0.3333333333333333,
              "#9c179e"
             ],
             [
              0.4444444444444444,
              "#bd3786"
             ],
             [
              0.5555555555555556,
              "#d8576b"
             ],
             [
              0.6666666666666666,
              "#ed7953"
             ],
             [
              0.7777777777777778,
              "#fb9f3a"
             ],
             [
              0.8888888888888888,
              "#fdca26"
             ],
             [
              1,
              "#f0f921"
             ]
            ],
            "type": "histogram2dcontour"
           }
          ],
          "mesh3d": [
           {
            "colorbar": {
             "outlinewidth": 0,
             "ticks": ""
            },
            "type": "mesh3d"
           }
          ],
          "parcoords": [
           {
            "line": {
             "colorbar": {
              "outlinewidth": 0,
              "ticks": ""
             }
            },
            "type": "parcoords"
           }
          ],
          "pie": [
           {
            "automargin": true,
            "type": "pie"
           }
          ],
          "scatter": [
           {
            "fillpattern": {
             "fillmode": "overlay",
             "size": 10,
             "solidity": 0.2
            },
            "type": "scatter"
           }
          ],
          "scatter3d": [
           {
            "line": {
             "colorbar": {
              "outlinewidth": 0,
              "ticks": ""
             }
            },
            "marker": {
             "colorbar": {
              "outlinewidth": 0,
              "ticks": ""
             }
            },
            "type": "scatter3d"
           }
          ],
          "scattercarpet": [
           {
            "marker": {
             "colorbar": {
              "outlinewidth": 0,
              "ticks": ""
             }
            },
            "type": "scattercarpet"
           }
          ],
          "scattergeo": [
           {
            "marker": {
             "colorbar": {
              "outlinewidth": 0,
              "ticks": ""
             }
            },
            "type": "scattergeo"
           }
          ],
          "scattergl": [
           {
            "marker": {
             "colorbar": {
              "outlinewidth": 0,
              "ticks": ""
             }
            },
            "type": "scattergl"
           }
          ],
          "scattermapbox": [
           {
            "marker": {
             "colorbar": {
              "outlinewidth": 0,
              "ticks": ""
             }
            },
            "type": "scattermapbox"
           }
          ],
          "scatterpolar": [
           {
            "marker": {
             "colorbar": {
              "outlinewidth": 0,
              "ticks": ""
             }
            },
            "type": "scatterpolar"
           }
          ],
          "scatterpolargl": [
           {
            "marker": {
             "colorbar": {
              "outlinewidth": 0,
              "ticks": ""
             }
            },
            "type": "scatterpolargl"
           }
          ],
          "scatterternary": [
           {
            "marker": {
             "colorbar": {
              "outlinewidth": 0,
              "ticks": ""
             }
            },
            "type": "scatterternary"
           }
          ],
          "surface": [
           {
            "colorbar": {
             "outlinewidth": 0,
             "ticks": ""
            },
            "colorscale": [
             [
              0,
              "#0d0887"
             ],
             [
              0.1111111111111111,
              "#46039f"
             ],
             [
              0.2222222222222222,
              "#7201a8"
             ],
             [
              0.3333333333333333,
              "#9c179e"
             ],
             [
              0.4444444444444444,
              "#bd3786"
             ],
             [
              0.5555555555555556,
              "#d8576b"
             ],
             [
              0.6666666666666666,
              "#ed7953"
             ],
             [
              0.7777777777777778,
              "#fb9f3a"
             ],
             [
              0.8888888888888888,
              "#fdca26"
             ],
             [
              1,
              "#f0f921"
             ]
            ],
            "type": "surface"
           }
          ],
          "table": [
           {
            "cells": {
             "fill": {
              "color": "#EBF0F8"
             },
             "line": {
              "color": "white"
             }
            },
            "header": {
             "fill": {
              "color": "#C8D4E3"
             },
             "line": {
              "color": "white"
             }
            },
            "type": "table"
           }
          ]
         },
         "layout": {
          "annotationdefaults": {
           "arrowcolor": "#2a3f5f",
           "arrowhead": 0,
           "arrowwidth": 1
          },
          "autotypenumbers": "strict",
          "coloraxis": {
           "colorbar": {
            "outlinewidth": 0,
            "ticks": ""
           }
          },
          "colorscale": {
           "diverging": [
            [
             0,
             "#8e0152"
            ],
            [
             0.1,
             "#c51b7d"
            ],
            [
             0.2,
             "#de77ae"
            ],
            [
             0.3,
             "#f1b6da"
            ],
            [
             0.4,
             "#fde0ef"
            ],
            [
             0.5,
             "#f7f7f7"
            ],
            [
             0.6,
             "#e6f5d0"
            ],
            [
             0.7,
             "#b8e186"
            ],
            [
             0.8,
             "#7fbc41"
            ],
            [
             0.9,
             "#4d9221"
            ],
            [
             1,
             "#276419"
            ]
           ],
           "sequential": [
            [
             0,
             "#0d0887"
            ],
            [
             0.1111111111111111,
             "#46039f"
            ],
            [
             0.2222222222222222,
             "#7201a8"
            ],
            [
             0.3333333333333333,
             "#9c179e"
            ],
            [
             0.4444444444444444,
             "#bd3786"
            ],
            [
             0.5555555555555556,
             "#d8576b"
            ],
            [
             0.6666666666666666,
             "#ed7953"
            ],
            [
             0.7777777777777778,
             "#fb9f3a"
            ],
            [
             0.8888888888888888,
             "#fdca26"
            ],
            [
             1,
             "#f0f921"
            ]
           ],
           "sequentialminus": [
            [
             0,
             "#0d0887"
            ],
            [
             0.1111111111111111,
             "#46039f"
            ],
            [
             0.2222222222222222,
             "#7201a8"
            ],
            [
             0.3333333333333333,
             "#9c179e"
            ],
            [
             0.4444444444444444,
             "#bd3786"
            ],
            [
             0.5555555555555556,
             "#d8576b"
            ],
            [
             0.6666666666666666,
             "#ed7953"
            ],
            [
             0.7777777777777778,
             "#fb9f3a"
            ],
            [
             0.8888888888888888,
             "#fdca26"
            ],
            [
             1,
             "#f0f921"
            ]
           ]
          },
          "colorway": [
           "#636efa",
           "#EF553B",
           "#00cc96",
           "#ab63fa",
           "#FFA15A",
           "#19d3f3",
           "#FF6692",
           "#B6E880",
           "#FF97FF",
           "#FECB52"
          ],
          "font": {
           "color": "#2a3f5f"
          },
          "geo": {
           "bgcolor": "white",
           "lakecolor": "white",
           "landcolor": "white",
           "showlakes": true,
           "showland": true,
           "subunitcolor": "#C8D4E3"
          },
          "hoverlabel": {
           "align": "left"
          },
          "hovermode": "closest",
          "mapbox": {
           "style": "light"
          },
          "paper_bgcolor": "white",
          "plot_bgcolor": "white",
          "polar": {
           "angularaxis": {
            "gridcolor": "#EBF0F8",
            "linecolor": "#EBF0F8",
            "ticks": ""
           },
           "bgcolor": "white",
           "radialaxis": {
            "gridcolor": "#EBF0F8",
            "linecolor": "#EBF0F8",
            "ticks": ""
           }
          },
          "scene": {
           "xaxis": {
            "backgroundcolor": "white",
            "gridcolor": "#DFE8F3",
            "gridwidth": 2,
            "linecolor": "#EBF0F8",
            "showbackground": true,
            "ticks": "",
            "zerolinecolor": "#EBF0F8"
           },
           "yaxis": {
            "backgroundcolor": "white",
            "gridcolor": "#DFE8F3",
            "gridwidth": 2,
            "linecolor": "#EBF0F8",
            "showbackground": true,
            "ticks": "",
            "zerolinecolor": "#EBF0F8"
           },
           "zaxis": {
            "backgroundcolor": "white",
            "gridcolor": "#DFE8F3",
            "gridwidth": 2,
            "linecolor": "#EBF0F8",
            "showbackground": true,
            "ticks": "",
            "zerolinecolor": "#EBF0F8"
           }
          },
          "shapedefaults": {
           "line": {
            "color": "#2a3f5f"
           }
          },
          "ternary": {
           "aaxis": {
            "gridcolor": "#DFE8F3",
            "linecolor": "#A2B1C6",
            "ticks": ""
           },
           "baxis": {
            "gridcolor": "#DFE8F3",
            "linecolor": "#A2B1C6",
            "ticks": ""
           },
           "bgcolor": "white",
           "caxis": {
            "gridcolor": "#DFE8F3",
            "linecolor": "#A2B1C6",
            "ticks": ""
           }
          },
          "title": {
           "x": 0.05
          },
          "xaxis": {
           "automargin": true,
           "gridcolor": "#EBF0F8",
           "linecolor": "#EBF0F8",
           "ticks": "",
           "title": {
            "standoff": 15
           },
           "zerolinecolor": "#EBF0F8",
           "zerolinewidth": 2
          },
          "yaxis": {
           "automargin": true,
           "gridcolor": "#EBF0F8",
           "linecolor": "#EBF0F8",
           "ticks": "",
           "title": {
            "standoff": 15
           },
           "zerolinecolor": "#EBF0F8",
           "zerolinewidth": 2
          }
         }
        },
        "width": 600,
        "xaxis": {
         "anchor": "y",
         "domain": [
          0,
          1
         ],
         "title": {
          "text": "Gender"
         }
        },
        "yaxis": {
         "anchor": "x",
         "domain": [
          0,
          1
         ],
         "title": {
          "text": "Number of Participants"
         }
        }
       }
      }
     },
     "metadata": {},
     "output_type": "display_data"
    }
   ],
   "source": [
    "fig = px.histogram(df, x=\"Gender\", y=\"Count\",\n",
    "             color='College Student', barmode='group', \n",
    "             height=400, width = 600, text_auto=True, color_discrete_sequence=px.colors.qualitative.Pastel)\n",
    "fig.update_traces(textfont_size=12, textposition=\"inside\")\n",
    "fig.update_layout(yaxis_title=\"Number of Participants\")\n",
    "fig.show()"
   ]
  },
  {
   "cell_type": "markdown",
   "id": "acde7d25",
   "metadata": {},
   "source": []
  },
  {
   "cell_type": "code",
   "execution_count": 8,
   "id": "103fbc05",
   "metadata": {},
   "outputs": [
    {
     "data": {
      "text/html": [
       "<div><style>\n",
       ".dataframe > thead > tr,\n",
       ".dataframe > tbody > tr {\n",
       "  text-align: right;\n",
       "  white-space: pre-wrap;\n",
       "}\n",
       "</style>\n",
       "<small>shape: (2, 3)</small><table border=\"1\" class=\"dataframe\"><thead><tr><th>Have you held a paid job before?</th><th>len</th><th>prop</th></tr><tr><td>str</td><td>u32</td><td>f64</td></tr></thead><tbody><tr><td>&quot;No&quot;</td><td>18</td><td>0.18</td></tr><tr><td>&quot;Yes&quot;</td><td>82</td><td>0.82</td></tr></tbody></table></div>"
      ],
      "text/plain": [
       "shape: (2, 3)\n",
       "┌─────────────────────────────────┬─────┬──────┐\n",
       "│ Have you held a paid job befor… ┆ len ┆ prop │\n",
       "│ ---                             ┆ --- ┆ ---  │\n",
       "│ str                             ┆ u32 ┆ f64  │\n",
       "╞═════════════════════════════════╪═════╪══════╡\n",
       "│ No                              ┆ 18  ┆ 0.18 │\n",
       "│ Yes                             ┆ 82  ┆ 0.82 │\n",
       "└─────────────────────────────────┴─────┴──────┘"
      ]
     },
     "execution_count": 8,
     "metadata": {},
     "output_type": "execute_result"
    }
   ],
   "source": [
    "df_prop(df, 'Have you held a paid job before?', 100)"
   ]
  },
  {
   "cell_type": "code",
   "execution_count": 9,
   "id": "e182229d",
   "metadata": {},
   "outputs": [
    {
     "data": {
      "text/html": [
       "<div><style>\n",
       ".dataframe > thead > tr,\n",
       ".dataframe > tbody > tr {\n",
       "  text-align: right;\n",
       "  white-space: pre-wrap;\n",
       "}\n",
       "</style>\n",
       "<small>shape: (5, 3)</small><table border=\"1\" class=\"dataframe\"><thead><tr><th>What is your gender identity?</th><th>len</th><th>prop</th></tr><tr><td>str</td><td>u32</td><td>f64</td></tr></thead><tbody><tr><td>&quot;Prefer not to answer&quot;</td><td>1</td><td>0.01</td></tr><tr><td>null</td><td>1</td><td>0.01</td></tr><tr><td>&quot;Female&quot;</td><td>57</td><td>0.57</td></tr><tr><td>&quot;Male&quot;</td><td>39</td><td>0.39</td></tr><tr><td>&quot;Non-binary&quot;</td><td>2</td><td>0.02</td></tr></tbody></table></div>"
      ],
      "text/plain": [
       "shape: (5, 3)\n",
       "┌───────────────────────────────┬─────┬──────┐\n",
       "│ What is your gender identity? ┆ len ┆ prop │\n",
       "│ ---                           ┆ --- ┆ ---  │\n",
       "│ str                           ┆ u32 ┆ f64  │\n",
       "╞═══════════════════════════════╪═════╪══════╡\n",
       "│ Prefer not to answer          ┆ 1   ┆ 0.01 │\n",
       "│ null                          ┆ 1   ┆ 0.01 │\n",
       "│ Female                        ┆ 57  ┆ 0.57 │\n",
       "│ Male                          ┆ 39  ┆ 0.39 │\n",
       "│ Non-binary                    ┆ 2   ┆ 0.02 │\n",
       "└───────────────────────────────┴─────┴──────┘"
      ]
     },
     "execution_count": 9,
     "metadata": {},
     "output_type": "execute_result"
    }
   ],
   "source": [
    "df_prop(df, 'What is your gender identity?', 100)"
   ]
  },
  {
   "cell_type": "code",
   "execution_count": 10,
   "id": "52191c64",
   "metadata": {},
   "outputs": [
    {
     "data": {
      "text/html": [
       "<div>\n",
       "<style scoped>\n",
       "    .dataframe tbody tr th:only-of-type {\n",
       "        vertical-align: middle;\n",
       "    }\n",
       "\n",
       "    .dataframe tbody tr th {\n",
       "        vertical-align: top;\n",
       "    }\n",
       "\n",
       "    .dataframe thead th {\n",
       "        text-align: right;\n",
       "    }\n",
       "</style>\n",
       "<table border=\"1\" class=\"dataframe\">\n",
       "  <thead>\n",
       "    <tr style=\"text-align: right;\">\n",
       "      <th></th>\n",
       "      <th>value</th>\n",
       "      <th>count</th>\n",
       "      <th>prop</th>\n",
       "    </tr>\n",
       "  </thead>\n",
       "  <tbody>\n",
       "    <tr>\n",
       "      <th>0</th>\n",
       "      <td>Black or African American</td>\n",
       "      <td>90</td>\n",
       "      <td>0.90</td>\n",
       "    </tr>\n",
       "    <tr>\n",
       "      <th>1</th>\n",
       "      <td>Hispanic or Latino</td>\n",
       "      <td>12</td>\n",
       "      <td>0.12</td>\n",
       "    </tr>\n",
       "    <tr>\n",
       "      <th>2</th>\n",
       "      <td>White</td>\n",
       "      <td>2</td>\n",
       "      <td>0.02</td>\n",
       "    </tr>\n",
       "    <tr>\n",
       "      <th>3</th>\n",
       "      <td>Asian or Pacific Islander</td>\n",
       "      <td>1</td>\n",
       "      <td>0.01</td>\n",
       "    </tr>\n",
       "  </tbody>\n",
       "</table>\n",
       "</div>"
      ],
      "text/plain": [
       "                       value  count  prop\n",
       "0  Black or African American     90  0.90\n",
       "1         Hispanic or Latino     12  0.12\n",
       "2                      White      2  0.02\n",
       "3  Asian or Pacific Islander      1  0.01"
      ]
     },
     "execution_count": 10,
     "metadata": {},
     "output_type": "execute_result"
    }
   ],
   "source": [
    "df_multiselect_prop(df, [\"Hispanic or Latino\", 'White', 'Asian or Pacific Islander', 'American Indian or Alaska Native', 'Black or African American'], 100)"
   ]
  },
  {
   "cell_type": "code",
   "execution_count": 11,
   "id": "ada38bab",
   "metadata": {},
   "outputs": [
    {
     "data": {
      "text/html": [
       "<div><style>\n",
       ".dataframe > thead > tr,\n",
       ".dataframe > tbody > tr {\n",
       "  text-align: right;\n",
       "  white-space: pre-wrap;\n",
       "}\n",
       "</style>\n",
       "<small>shape: (2, 3)</small><table border=\"1\" class=\"dataframe\"><thead><tr><th>Have you held a paid job before?</th><th>len</th><th>prop</th></tr><tr><td>str</td><td>u32</td><td>f64</td></tr></thead><tbody><tr><td>&quot;Yes&quot;</td><td>82</td><td>0.82</td></tr><tr><td>&quot;No&quot;</td><td>18</td><td>0.18</td></tr></tbody></table></div>"
      ],
      "text/plain": [
       "shape: (2, 3)\n",
       "┌─────────────────────────────────┬─────┬──────┐\n",
       "│ Have you held a paid job befor… ┆ len ┆ prop │\n",
       "│ ---                             ┆ --- ┆ ---  │\n",
       "│ str                             ┆ u32 ┆ f64  │\n",
       "╞═════════════════════════════════╪═════╪══════╡\n",
       "│ Yes                             ┆ 82  ┆ 0.82 │\n",
       "│ No                              ┆ 18  ┆ 0.18 │\n",
       "└─────────────────────────────────┴─────┴──────┘"
      ]
     },
     "execution_count": 11,
     "metadata": {},
     "output_type": "execute_result"
    }
   ],
   "source": [
    "df_prop(df, 'Have you held a paid job before?', 100)"
   ]
  },
  {
   "cell_type": "code",
   "execution_count": 12,
   "id": "f7195c25",
   "metadata": {},
   "outputs": [
    {
     "data": {
      "text/html": [
       "<div>\n",
       "<style scoped>\n",
       "    .dataframe tbody tr th:only-of-type {\n",
       "        vertical-align: middle;\n",
       "    }\n",
       "\n",
       "    .dataframe tbody tr th {\n",
       "        vertical-align: top;\n",
       "    }\n",
       "\n",
       "    .dataframe thead th {\n",
       "        text-align: right;\n",
       "    }\n",
       "</style>\n",
       "<table border=\"1\" class=\"dataframe\">\n",
       "  <thead>\n",
       "    <tr style=\"text-align: right;\">\n",
       "      <th></th>\n",
       "      <th>value</th>\n",
       "      <th>count</th>\n",
       "      <th>prop</th>\n",
       "    </tr>\n",
       "  </thead>\n",
       "  <tbody>\n",
       "    <tr>\n",
       "      <th>0</th>\n",
       "      <td>Internship / fellowship</td>\n",
       "      <td>38</td>\n",
       "      <td>0.38</td>\n",
       "    </tr>\n",
       "    <tr>\n",
       "      <th>1</th>\n",
       "      <td>Retail / customer service</td>\n",
       "      <td>37</td>\n",
       "      <td>0.37</td>\n",
       "    </tr>\n",
       "    <tr>\n",
       "      <th>2</th>\n",
       "      <td>Food service / hospitality</td>\n",
       "      <td>29</td>\n",
       "      <td>0.29</td>\n",
       "    </tr>\n",
       "    <tr>\n",
       "      <th>3</th>\n",
       "      <td>Office or clerical work</td>\n",
       "      <td>26</td>\n",
       "      <td>0.26</td>\n",
       "    </tr>\n",
       "    <tr>\n",
       "      <th>4</th>\n",
       "      <td>Youth mentoring or childcare</td>\n",
       "      <td>21</td>\n",
       "      <td>0.21</td>\n",
       "    </tr>\n",
       "    <tr>\n",
       "      <th>5</th>\n",
       "      <td>Family business / informal work</td>\n",
       "      <td>7</td>\n",
       "      <td>0.07</td>\n",
       "    </tr>\n",
       "  </tbody>\n",
       "</table>\n",
       "</div>"
      ],
      "text/plain": [
       "                             value  count  prop\n",
       "0          Internship / fellowship     38  0.38\n",
       "1        Retail / customer service     37  0.37\n",
       "2       Food service / hospitality     29  0.29\n",
       "3          Office or clerical work     26  0.26\n",
       "4     Youth mentoring or childcare     21  0.21\n",
       "5  Family business / informal work      7  0.07"
      ]
     },
     "execution_count": 12,
     "metadata": {},
     "output_type": "execute_result"
    }
   ],
   "source": [
    "df_multiselect_prop(df, mappings.prev_job_col[1:], 100)"
   ]
  },
  {
   "cell_type": "code",
   "execution_count": 13,
   "id": "5557edf8",
   "metadata": {},
   "outputs": [
    {
     "data": {
      "application/vnd.plotly.v1+json": {
       "config": {
        "plotlyServerURL": "https://plot.ly"
       },
       "data": [
        {
         "marker": {
          "color": "darkblue"
         },
         "name": "Previous Job Experience",
         "type": "bar",
         "x": [
          "Internship",
          "Retail/service",
          "Food/hospitality",
          "Office work",
          "Youth/childcare",
          "Family/informal"
         ],
         "y": [
          38,
          37,
          29,
          26,
          21,
          7
         ]
        }
       ],
       "layout": {
        "template": {
         "data": {
          "bar": [
           {
            "error_x": {
             "color": "#2a3f5f"
            },
            "error_y": {
             "color": "#2a3f5f"
            },
            "marker": {
             "line": {
              "color": "white",
              "width": 0.5
             },
             "pattern": {
              "fillmode": "overlay",
              "size": 10,
              "solidity": 0.2
             }
            },
            "type": "bar"
           }
          ],
          "barpolar": [
           {
            "marker": {
             "line": {
              "color": "white",
              "width": 0.5
             },
             "pattern": {
              "fillmode": "overlay",
              "size": 10,
              "solidity": 0.2
             }
            },
            "type": "barpolar"
           }
          ],
          "carpet": [
           {
            "aaxis": {
             "endlinecolor": "#2a3f5f",
             "gridcolor": "#C8D4E3",
             "linecolor": "#C8D4E3",
             "minorgridcolor": "#C8D4E3",
             "startlinecolor": "#2a3f5f"
            },
            "baxis": {
             "endlinecolor": "#2a3f5f",
             "gridcolor": "#C8D4E3",
             "linecolor": "#C8D4E3",
             "minorgridcolor": "#C8D4E3",
             "startlinecolor": "#2a3f5f"
            },
            "type": "carpet"
           }
          ],
          "choropleth": [
           {
            "colorbar": {
             "outlinewidth": 0,
             "ticks": ""
            },
            "type": "choropleth"
           }
          ],
          "contour": [
           {
            "colorbar": {
             "outlinewidth": 0,
             "ticks": ""
            },
            "colorscale": [
             [
              0,
              "#0d0887"
             ],
             [
              0.1111111111111111,
              "#46039f"
             ],
             [
              0.2222222222222222,
              "#7201a8"
             ],
             [
              0.3333333333333333,
              "#9c179e"
             ],
             [
              0.4444444444444444,
              "#bd3786"
             ],
             [
              0.5555555555555556,
              "#d8576b"
             ],
             [
              0.6666666666666666,
              "#ed7953"
             ],
             [
              0.7777777777777778,
              "#fb9f3a"
             ],
             [
              0.8888888888888888,
              "#fdca26"
             ],
             [
              1,
              "#f0f921"
             ]
            ],
            "type": "contour"
           }
          ],
          "contourcarpet": [
           {
            "colorbar": {
             "outlinewidth": 0,
             "ticks": ""
            },
            "type": "contourcarpet"
           }
          ],
          "heatmap": [
           {
            "colorbar": {
             "outlinewidth": 0,
             "ticks": ""
            },
            "colorscale": [
             [
              0,
              "#0d0887"
             ],
             [
              0.1111111111111111,
              "#46039f"
             ],
             [
              0.2222222222222222,
              "#7201a8"
             ],
             [
              0.3333333333333333,
              "#9c179e"
             ],
             [
              0.4444444444444444,
              "#bd3786"
             ],
             [
              0.5555555555555556,
              "#d8576b"
             ],
             [
              0.6666666666666666,
              "#ed7953"
             ],
             [
              0.7777777777777778,
              "#fb9f3a"
             ],
             [
              0.8888888888888888,
              "#fdca26"
             ],
             [
              1,
              "#f0f921"
             ]
            ],
            "type": "heatmap"
           }
          ],
          "heatmapgl": [
           {
            "colorbar": {
             "outlinewidth": 0,
             "ticks": ""
            },
            "colorscale": [
             [
              0,
              "#0d0887"
             ],
             [
              0.1111111111111111,
              "#46039f"
             ],
             [
              0.2222222222222222,
              "#7201a8"
             ],
             [
              0.3333333333333333,
              "#9c179e"
             ],
             [
              0.4444444444444444,
              "#bd3786"
             ],
             [
              0.5555555555555556,
              "#d8576b"
             ],
             [
              0.6666666666666666,
              "#ed7953"
             ],
             [
              0.7777777777777778,
              "#fb9f3a"
             ],
             [
              0.8888888888888888,
              "#fdca26"
             ],
             [
              1,
              "#f0f921"
             ]
            ],
            "type": "heatmapgl"
           }
          ],
          "histogram": [
           {
            "marker": {
             "pattern": {
              "fillmode": "overlay",
              "size": 10,
              "solidity": 0.2
             }
            },
            "type": "histogram"
           }
          ],
          "histogram2d": [
           {
            "colorbar": {
             "outlinewidth": 0,
             "ticks": ""
            },
            "colorscale": [
             [
              0,
              "#0d0887"
             ],
             [
              0.1111111111111111,
              "#46039f"
             ],
             [
              0.2222222222222222,
              "#7201a8"
             ],
             [
              0.3333333333333333,
              "#9c179e"
             ],
             [
              0.4444444444444444,
              "#bd3786"
             ],
             [
              0.5555555555555556,
              "#d8576b"
             ],
             [
              0.6666666666666666,
              "#ed7953"
             ],
             [
              0.7777777777777778,
              "#fb9f3a"
             ],
             [
              0.8888888888888888,
              "#fdca26"
             ],
             [
              1,
              "#f0f921"
             ]
            ],
            "type": "histogram2d"
           }
          ],
          "histogram2dcontour": [
           {
            "colorbar": {
             "outlinewidth": 0,
             "ticks": ""
            },
            "colorscale": [
             [
              0,
              "#0d0887"
             ],
             [
              0.1111111111111111,
              "#46039f"
             ],
             [
              0.2222222222222222,
              "#7201a8"
             ],
             [
              0.3333333333333333,
              "#9c179e"
             ],
             [
              0.4444444444444444,
              "#bd3786"
             ],
             [
              0.5555555555555556,
              "#d8576b"
             ],
             [
              0.6666666666666666,
              "#ed7953"
             ],
             [
              0.7777777777777778,
              "#fb9f3a"
             ],
             [
              0.8888888888888888,
              "#fdca26"
             ],
             [
              1,
              "#f0f921"
             ]
            ],
            "type": "histogram2dcontour"
           }
          ],
          "mesh3d": [
           {
            "colorbar": {
             "outlinewidth": 0,
             "ticks": ""
            },
            "type": "mesh3d"
           }
          ],
          "parcoords": [
           {
            "line": {
             "colorbar": {
              "outlinewidth": 0,
              "ticks": ""
             }
            },
            "type": "parcoords"
           }
          ],
          "pie": [
           {
            "automargin": true,
            "type": "pie"
           }
          ],
          "scatter": [
           {
            "fillpattern": {
             "fillmode": "overlay",
             "size": 10,
             "solidity": 0.2
            },
            "type": "scatter"
           }
          ],
          "scatter3d": [
           {
            "line": {
             "colorbar": {
              "outlinewidth": 0,
              "ticks": ""
             }
            },
            "marker": {
             "colorbar": {
              "outlinewidth": 0,
              "ticks": ""
             }
            },
            "type": "scatter3d"
           }
          ],
          "scattercarpet": [
           {
            "marker": {
             "colorbar": {
              "outlinewidth": 0,
              "ticks": ""
             }
            },
            "type": "scattercarpet"
           }
          ],
          "scattergeo": [
           {
            "marker": {
             "colorbar": {
              "outlinewidth": 0,
              "ticks": ""
             }
            },
            "type": "scattergeo"
           }
          ],
          "scattergl": [
           {
            "marker": {
             "colorbar": {
              "outlinewidth": 0,
              "ticks": ""
             }
            },
            "type": "scattergl"
           }
          ],
          "scattermapbox": [
           {
            "marker": {
             "colorbar": {
              "outlinewidth": 0,
              "ticks": ""
             }
            },
            "type": "scattermapbox"
           }
          ],
          "scatterpolar": [
           {
            "marker": {
             "colorbar": {
              "outlinewidth": 0,
              "ticks": ""
             }
            },
            "type": "scatterpolar"
           }
          ],
          "scatterpolargl": [
           {
            "marker": {
             "colorbar": {
              "outlinewidth": 0,
              "ticks": ""
             }
            },
            "type": "scatterpolargl"
           }
          ],
          "scatterternary": [
           {
            "marker": {
             "colorbar": {
              "outlinewidth": 0,
              "ticks": ""
             }
            },
            "type": "scatterternary"
           }
          ],
          "surface": [
           {
            "colorbar": {
             "outlinewidth": 0,
             "ticks": ""
            },
            "colorscale": [
             [
              0,
              "#0d0887"
             ],
             [
              0.1111111111111111,
              "#46039f"
             ],
             [
              0.2222222222222222,
              "#7201a8"
             ],
             [
              0.3333333333333333,
              "#9c179e"
             ],
             [
              0.4444444444444444,
              "#bd3786"
             ],
             [
              0.5555555555555556,
              "#d8576b"
             ],
             [
              0.6666666666666666,
              "#ed7953"
             ],
             [
              0.7777777777777778,
              "#fb9f3a"
             ],
             [
              0.8888888888888888,
              "#fdca26"
             ],
             [
              1,
              "#f0f921"
             ]
            ],
            "type": "surface"
           }
          ],
          "table": [
           {
            "cells": {
             "fill": {
              "color": "#EBF0F8"
             },
             "line": {
              "color": "white"
             }
            },
            "header": {
             "fill": {
              "color": "#C8D4E3"
             },
             "line": {
              "color": "white"
             }
            },
            "type": "table"
           }
          ]
         },
         "layout": {
          "annotationdefaults": {
           "arrowcolor": "#2a3f5f",
           "arrowhead": 0,
           "arrowwidth": 1
          },
          "autotypenumbers": "strict",
          "coloraxis": {
           "colorbar": {
            "outlinewidth": 0,
            "ticks": ""
           }
          },
          "colorscale": {
           "diverging": [
            [
             0,
             "#8e0152"
            ],
            [
             0.1,
             "#c51b7d"
            ],
            [
             0.2,
             "#de77ae"
            ],
            [
             0.3,
             "#f1b6da"
            ],
            [
             0.4,
             "#fde0ef"
            ],
            [
             0.5,
             "#f7f7f7"
            ],
            [
             0.6,
             "#e6f5d0"
            ],
            [
             0.7,
             "#b8e186"
            ],
            [
             0.8,
             "#7fbc41"
            ],
            [
             0.9,
             "#4d9221"
            ],
            [
             1,
             "#276419"
            ]
           ],
           "sequential": [
            [
             0,
             "#0d0887"
            ],
            [
             0.1111111111111111,
             "#46039f"
            ],
            [
             0.2222222222222222,
             "#7201a8"
            ],
            [
             0.3333333333333333,
             "#9c179e"
            ],
            [
             0.4444444444444444,
             "#bd3786"
            ],
            [
             0.5555555555555556,
             "#d8576b"
            ],
            [
             0.6666666666666666,
             "#ed7953"
            ],
            [
             0.7777777777777778,
             "#fb9f3a"
            ],
            [
             0.8888888888888888,
             "#fdca26"
            ],
            [
             1,
             "#f0f921"
            ]
           ],
           "sequentialminus": [
            [
             0,
             "#0d0887"
            ],
            [
             0.1111111111111111,
             "#46039f"
            ],
            [
             0.2222222222222222,
             "#7201a8"
            ],
            [
             0.3333333333333333,
             "#9c179e"
            ],
            [
             0.4444444444444444,
             "#bd3786"
            ],
            [
             0.5555555555555556,
             "#d8576b"
            ],
            [
             0.6666666666666666,
             "#ed7953"
            ],
            [
             0.7777777777777778,
             "#fb9f3a"
            ],
            [
             0.8888888888888888,
             "#fdca26"
            ],
            [
             1,
             "#f0f921"
            ]
           ]
          },
          "colorway": [
           "#636efa",
           "#EF553B",
           "#00cc96",
           "#ab63fa",
           "#FFA15A",
           "#19d3f3",
           "#FF6692",
           "#B6E880",
           "#FF97FF",
           "#FECB52"
          ],
          "font": {
           "color": "#2a3f5f"
          },
          "geo": {
           "bgcolor": "white",
           "lakecolor": "white",
           "landcolor": "white",
           "showlakes": true,
           "showland": true,
           "subunitcolor": "#C8D4E3"
          },
          "hoverlabel": {
           "align": "left"
          },
          "hovermode": "closest",
          "mapbox": {
           "style": "light"
          },
          "paper_bgcolor": "white",
          "plot_bgcolor": "white",
          "polar": {
           "angularaxis": {
            "gridcolor": "#EBF0F8",
            "linecolor": "#EBF0F8",
            "ticks": ""
           },
           "bgcolor": "white",
           "radialaxis": {
            "gridcolor": "#EBF0F8",
            "linecolor": "#EBF0F8",
            "ticks": ""
           }
          },
          "scene": {
           "xaxis": {
            "backgroundcolor": "white",
            "gridcolor": "#DFE8F3",
            "gridwidth": 2,
            "linecolor": "#EBF0F8",
            "showbackground": true,
            "ticks": "",
            "zerolinecolor": "#EBF0F8"
           },
           "yaxis": {
            "backgroundcolor": "white",
            "gridcolor": "#DFE8F3",
            "gridwidth": 2,
            "linecolor": "#EBF0F8",
            "showbackground": true,
            "ticks": "",
            "zerolinecolor": "#EBF0F8"
           },
           "zaxis": {
            "backgroundcolor": "white",
            "gridcolor": "#DFE8F3",
            "gridwidth": 2,
            "linecolor": "#EBF0F8",
            "showbackground": true,
            "ticks": "",
            "zerolinecolor": "#EBF0F8"
           }
          },
          "shapedefaults": {
           "line": {
            "color": "#2a3f5f"
           }
          },
          "ternary": {
           "aaxis": {
            "gridcolor": "#DFE8F3",
            "linecolor": "#A2B1C6",
            "ticks": ""
           },
           "baxis": {
            "gridcolor": "#DFE8F3",
            "linecolor": "#A2B1C6",
            "ticks": ""
           },
           "bgcolor": "white",
           "caxis": {
            "gridcolor": "#DFE8F3",
            "linecolor": "#A2B1C6",
            "ticks": ""
           }
          },
          "title": {
           "x": 0.05
          },
          "xaxis": {
           "automargin": true,
           "gridcolor": "#EBF0F8",
           "linecolor": "#EBF0F8",
           "ticks": "",
           "title": {
            "standoff": 15
           },
           "zerolinecolor": "#EBF0F8",
           "zerolinewidth": 2
          },
          "yaxis": {
           "automargin": true,
           "gridcolor": "#EBF0F8",
           "linecolor": "#EBF0F8",
           "ticks": "",
           "title": {
            "standoff": 15
           },
           "zerolinecolor": "#EBF0F8",
           "zerolinewidth": 2
          }
         }
        },
        "title": {
         "text": "Previous Job Experience"
        },
        "xaxis": {
         "title": {
          "text": "Job Type"
         }
        },
        "yaxis": {
         "title": {
          "text": "Count"
         }
        }
       }
      }
     },
     "metadata": {},
     "output_type": "display_data"
    }
   ],
   "source": [
    "prev_job = multi_select_counts(df, mappings.prev_job_col, mappings.prev_job_map)\n",
    "\n",
    "# Create standalone bar chart\n",
    "fig = go.Figure(\n",
    "    data=[\n",
    "        go.Bar(\n",
    "            x=prev_job.index,\n",
    "            y=prev_job.values,\n",
    "            name=\"Previous Job Experience\",\n",
    "            marker=dict(color='darkblue')\n",
    "        )\n",
    "    ]\n",
    ")\n",
    "\n",
    "fig.update_layout(\n",
    "    title=\"Previous Job Experience\",\n",
    "    xaxis_title=\"Job Type\",\n",
    "    yaxis_title=\"Count\",\n",
    "    template=\"plotly_white\"\n",
    ")\n",
    "\n",
    "fig.show()"
   ]
  },
  {
   "cell_type": "code",
   "execution_count": 14,
   "id": "7cd79f99",
   "metadata": {},
   "outputs": [
    {
     "data": {
      "text/plain": [
       "['#',\n",
       " 'How old are you?',\n",
       " 'What is your current education status?',\n",
       " 'Other',\n",
       " 'What college, high school, or program are you currently attending (if any)?',\n",
       " 'What is your gender identity?',\n",
       " 'Other_duplicated_0',\n",
       " 'Hispanic or Latino',\n",
       " 'White',\n",
       " 'Asian or Pacific Islander',\n",
       " 'American Indian or Alaska Native',\n",
       " 'Black or African American',\n",
       " 'Other_duplicated_1',\n",
       " 'Have you held a paid job before?',\n",
       " 'Retail / customer service',\n",
       " 'Food service / hospitality',\n",
       " 'Office or clerical work',\n",
       " 'Youth mentoring or childcare',\n",
       " 'Internship / fellowship',\n",
       " 'Family business / informal work',\n",
       " 'Other_duplicated_2',\n",
       " 'Build professional experience',\n",
       " 'Improve job readiness and soft skills',\n",
       " 'Learn about career options',\n",
       " 'Grow my resume or LinkedIn profile',\n",
       " 'Network with professionals',\n",
       " 'Gain mentorship and guidance',\n",
       " 'Improve my financial knowledge',\n",
       " 'Other_duplicated_3',\n",
       " 'Communicating professionally (verbal and written)',\n",
       " 'Navigating workplace expectations and culture',\n",
       " 'Time management and organization',\n",
       " 'Problem-solving and critical thinking',\n",
       " 'Receiving and applying feedback',\n",
       " 'Leading a project or initiative',\n",
       " 'Financial knowledge and money management',\n",
       " 'What do you believe is *your biggest professional challenge* right now?',\n",
       " 'Do you currently have a bank account?',\n",
       " 'Online/mobile banking app',\n",
       " 'Cash App / Venmo / Zelle / PayPal',\n",
       " 'Savings account',\n",
       " 'Budgeting app or spreadsheet',\n",
       " 'None of the above',\n",
       " 'Robinhood/Fidelity/Acorns (Investment Apps)',\n",
       " 'Other_duplicated_4',\n",
       " 'How often do you save money *(beyond daily spending)*?',\n",
       " 'Creating a personal budget',\n",
       " 'Understanding credit and credit scores',\n",
       " 'Opening and managing a bank account',\n",
       " 'Differences between checking/savings/investment accounts',\n",
       " 'Using financial apps or online banking tools',\n",
       " 'Investing your money for future wealth',\n",
       " 'What is *one financial goal* you have for this year?',\n",
       " 'What industry or career fields are you most interested in right now? _*(List up to 3)*_',\n",
       " 'Personal passion',\n",
       " 'High salary potential',\n",
       " 'Flexibility and lifestyle fit',\n",
       " 'Job market demand',\n",
       " 'Role models or mentors in that field',\n",
       " 'Alignment with my values and interests',\n",
       " 'Previous experience or exposure',\n",
       " 'Related to my natural skills and abilities',\n",
       " 'Other_duplicated_5',\n",
       " 'Do you have a *career plan or clear next steps?*',\n",
       " 'Other_duplicated_6',\n",
       " 'How confident do you feel in your ability to reach your career goals?',\n",
       " 'What’s one step/action you plan to take this summer to get closer to your career goals?',\n",
       " 'I know how to present myself professionally in different settings',\n",
       " 'I believe in my ability to grow and improve through effort',\n",
       " 'I have a support system (family, friends, etc.) that encourages my success',\n",
       " 'I can manage challenges without giving up',\n",
       " 'I am clear about the type of person I want to become',\n",
       " 'Motivated to work toward your goals',\n",
       " 'Focused and productive',\n",
       " 'Stressed or overwhelmed',\n",
       " 'Confident about your future',\n",
       " 'Supported by others',\n",
       " 'Resume or LinkedIn help',\n",
       " 'Interview prep and mock interviews',\n",
       " 'Career coaching or mentorship',\n",
       " 'Budgeting, money management and investing',\n",
       " 'Emotional or mental health support',\n",
       " 'Time management strategies',\n",
       " 'Networking',\n",
       " 'Professional attire',\n",
       " 'Other_duplicated_7',\n",
       " 'What are *you most looking forward* to in the NextGen Leaders program this summer?',\n",
       " \"Any additional comments or things you'd like us to know as we support you this summer?\",\n",
       " 'First name',\n",
       " 'Last name',\n",
       " 'Phone number',\n",
       " 'Email',\n",
       " 'Response Type',\n",
       " 'Start Date (UTC)',\n",
       " 'Stage Date (UTC)',\n",
       " 'Submit Date (UTC)',\n",
       " 'Network ID',\n",
       " 'Tags',\n",
       " 'Ending',\n",
       " 'College Student',\n",
       " 'Gender',\n",
       " 'Count']"
      ]
     },
     "execution_count": 14,
     "metadata": {},
     "output_type": "execute_result"
    }
   ],
   "source": [
    "df.columns"
   ]
  },
  {
   "cell_type": "code",
   "execution_count": 15,
   "id": "5d90dc86",
   "metadata": {},
   "outputs": [
    {
     "data": {
      "text/html": [
       "<div>\n",
       "<style scoped>\n",
       "    .dataframe tbody tr th:only-of-type {\n",
       "        vertical-align: middle;\n",
       "    }\n",
       "\n",
       "    .dataframe tbody tr th {\n",
       "        vertical-align: top;\n",
       "    }\n",
       "\n",
       "    .dataframe thead th {\n",
       "        text-align: right;\n",
       "    }\n",
       "</style>\n",
       "<table border=\"1\" class=\"dataframe\">\n",
       "  <thead>\n",
       "    <tr style=\"text-align: right;\">\n",
       "      <th></th>\n",
       "      <th>value</th>\n",
       "      <th>count</th>\n",
       "      <th>prop</th>\n",
       "    </tr>\n",
       "  </thead>\n",
       "  <tbody>\n",
       "    <tr>\n",
       "      <th>0</th>\n",
       "      <td>Build professional experience</td>\n",
       "      <td>68</td>\n",
       "      <td>0.68</td>\n",
       "    </tr>\n",
       "    <tr>\n",
       "      <th>1</th>\n",
       "      <td>Improve job readiness and soft skills</td>\n",
       "      <td>43</td>\n",
       "      <td>0.43</td>\n",
       "    </tr>\n",
       "    <tr>\n",
       "      <th>2</th>\n",
       "      <td>Grow my resume or LinkedIn profile</td>\n",
       "      <td>39</td>\n",
       "      <td>0.39</td>\n",
       "    </tr>\n",
       "    <tr>\n",
       "      <th>3</th>\n",
       "      <td>Network with professionals</td>\n",
       "      <td>33</td>\n",
       "      <td>0.33</td>\n",
       "    </tr>\n",
       "    <tr>\n",
       "      <th>4</th>\n",
       "      <td>Gain mentorship and guidance</td>\n",
       "      <td>29</td>\n",
       "      <td>0.29</td>\n",
       "    </tr>\n",
       "    <tr>\n",
       "      <th>5</th>\n",
       "      <td>Improve my financial knowledge</td>\n",
       "      <td>20</td>\n",
       "      <td>0.20</td>\n",
       "    </tr>\n",
       "    <tr>\n",
       "      <th>6</th>\n",
       "      <td>Learn about career options</td>\n",
       "      <td>13</td>\n",
       "      <td>0.13</td>\n",
       "    </tr>\n",
       "  </tbody>\n",
       "</table>\n",
       "</div>"
      ],
      "text/plain": [
       "                                   value  count  prop\n",
       "0          Build professional experience     68  0.68\n",
       "1  Improve job readiness and soft skills     43  0.43\n",
       "2     Grow my resume or LinkedIn profile     39  0.39\n",
       "3             Network with professionals     33  0.33\n",
       "4           Gain mentorship and guidance     29  0.29\n",
       "5         Improve my financial knowledge     20  0.20\n",
       "6             Learn about career options     13  0.13"
      ]
     },
     "execution_count": 15,
     "metadata": {},
     "output_type": "execute_result"
    }
   ],
   "source": [
    "df_multiselect_prop(df, ['Build professional experience',\n",
    " 'Improve job readiness and soft skills',\n",
    " 'Learn about career options',\n",
    " 'Grow my resume or LinkedIn profile',\n",
    " 'Network with professionals',\n",
    " 'Gain mentorship and guidance',\n",
    " 'Improve my financial knowledge'], 100)"
   ]
  },
  {
   "cell_type": "code",
   "execution_count": 16,
   "id": "6d8e1368",
   "metadata": {},
   "outputs": [
    {
     "data": {
      "application/vnd.plotly.v1+json": {
       "config": {
        "plotlyServerURL": "https://plot.ly"
       },
       "data": [
        {
         "name": "Goal of Participation",
         "type": "bar",
         "x": [
          "Build professional experience",
          "Improve job readiness and soft skills",
          "Grow my resume or LinkedIn profile",
          "Network with professionals",
          "Gain mentorship and guidance",
          "Improve my financial knowledge",
          "Learn about career options"
         ],
         "y": [
          68,
          43,
          39,
          33,
          29,
          20,
          13
         ]
        }
       ],
       "layout": {
        "template": {
         "data": {
          "bar": [
           {
            "error_x": {
             "color": "#2a3f5f"
            },
            "error_y": {
             "color": "#2a3f5f"
            },
            "marker": {
             "line": {
              "color": "white",
              "width": 0.5
             },
             "pattern": {
              "fillmode": "overlay",
              "size": 10,
              "solidity": 0.2
             }
            },
            "type": "bar"
           }
          ],
          "barpolar": [
           {
            "marker": {
             "line": {
              "color": "white",
              "width": 0.5
             },
             "pattern": {
              "fillmode": "overlay",
              "size": 10,
              "solidity": 0.2
             }
            },
            "type": "barpolar"
           }
          ],
          "carpet": [
           {
            "aaxis": {
             "endlinecolor": "#2a3f5f",
             "gridcolor": "#C8D4E3",
             "linecolor": "#C8D4E3",
             "minorgridcolor": "#C8D4E3",
             "startlinecolor": "#2a3f5f"
            },
            "baxis": {
             "endlinecolor": "#2a3f5f",
             "gridcolor": "#C8D4E3",
             "linecolor": "#C8D4E3",
             "minorgridcolor": "#C8D4E3",
             "startlinecolor": "#2a3f5f"
            },
            "type": "carpet"
           }
          ],
          "choropleth": [
           {
            "colorbar": {
             "outlinewidth": 0,
             "ticks": ""
            },
            "type": "choropleth"
           }
          ],
          "contour": [
           {
            "colorbar": {
             "outlinewidth": 0,
             "ticks": ""
            },
            "colorscale": [
             [
              0,
              "#0d0887"
             ],
             [
              0.1111111111111111,
              "#46039f"
             ],
             [
              0.2222222222222222,
              "#7201a8"
             ],
             [
              0.3333333333333333,
              "#9c179e"
             ],
             [
              0.4444444444444444,
              "#bd3786"
             ],
             [
              0.5555555555555556,
              "#d8576b"
             ],
             [
              0.6666666666666666,
              "#ed7953"
             ],
             [
              0.7777777777777778,
              "#fb9f3a"
             ],
             [
              0.8888888888888888,
              "#fdca26"
             ],
             [
              1,
              "#f0f921"
             ]
            ],
            "type": "contour"
           }
          ],
          "contourcarpet": [
           {
            "colorbar": {
             "outlinewidth": 0,
             "ticks": ""
            },
            "type": "contourcarpet"
           }
          ],
          "heatmap": [
           {
            "colorbar": {
             "outlinewidth": 0,
             "ticks": ""
            },
            "colorscale": [
             [
              0,
              "#0d0887"
             ],
             [
              0.1111111111111111,
              "#46039f"
             ],
             [
              0.2222222222222222,
              "#7201a8"
             ],
             [
              0.3333333333333333,
              "#9c179e"
             ],
             [
              0.4444444444444444,
              "#bd3786"
             ],
             [
              0.5555555555555556,
              "#d8576b"
             ],
             [
              0.6666666666666666,
              "#ed7953"
             ],
             [
              0.7777777777777778,
              "#fb9f3a"
             ],
             [
              0.8888888888888888,
              "#fdca26"
             ],
             [
              1,
              "#f0f921"
             ]
            ],
            "type": "heatmap"
           }
          ],
          "heatmapgl": [
           {
            "colorbar": {
             "outlinewidth": 0,
             "ticks": ""
            },
            "colorscale": [
             [
              0,
              "#0d0887"
             ],
             [
              0.1111111111111111,
              "#46039f"
             ],
             [
              0.2222222222222222,
              "#7201a8"
             ],
             [
              0.3333333333333333,
              "#9c179e"
             ],
             [
              0.4444444444444444,
              "#bd3786"
             ],
             [
              0.5555555555555556,
              "#d8576b"
             ],
             [
              0.6666666666666666,
              "#ed7953"
             ],
             [
              0.7777777777777778,
              "#fb9f3a"
             ],
             [
              0.8888888888888888,
              "#fdca26"
             ],
             [
              1,
              "#f0f921"
             ]
            ],
            "type": "heatmapgl"
           }
          ],
          "histogram": [
           {
            "marker": {
             "pattern": {
              "fillmode": "overlay",
              "size": 10,
              "solidity": 0.2
             }
            },
            "type": "histogram"
           }
          ],
          "histogram2d": [
           {
            "colorbar": {
             "outlinewidth": 0,
             "ticks": ""
            },
            "colorscale": [
             [
              0,
              "#0d0887"
             ],
             [
              0.1111111111111111,
              "#46039f"
             ],
             [
              0.2222222222222222,
              "#7201a8"
             ],
             [
              0.3333333333333333,
              "#9c179e"
             ],
             [
              0.4444444444444444,
              "#bd3786"
             ],
             [
              0.5555555555555556,
              "#d8576b"
             ],
             [
              0.6666666666666666,
              "#ed7953"
             ],
             [
              0.7777777777777778,
              "#fb9f3a"
             ],
             [
              0.8888888888888888,
              "#fdca26"
             ],
             [
              1,
              "#f0f921"
             ]
            ],
            "type": "histogram2d"
           }
          ],
          "histogram2dcontour": [
           {
            "colorbar": {
             "outlinewidth": 0,
             "ticks": ""
            },
            "colorscale": [
             [
              0,
              "#0d0887"
             ],
             [
              0.1111111111111111,
              "#46039f"
             ],
             [
              0.2222222222222222,
              "#7201a8"
             ],
             [
              0.3333333333333333,
              "#9c179e"
             ],
             [
              0.4444444444444444,
              "#bd3786"
             ],
             [
              0.5555555555555556,
              "#d8576b"
             ],
             [
              0.6666666666666666,
              "#ed7953"
             ],
             [
              0.7777777777777778,
              "#fb9f3a"
             ],
             [
              0.8888888888888888,
              "#fdca26"
             ],
             [
              1,
              "#f0f921"
             ]
            ],
            "type": "histogram2dcontour"
           }
          ],
          "mesh3d": [
           {
            "colorbar": {
             "outlinewidth": 0,
             "ticks": ""
            },
            "type": "mesh3d"
           }
          ],
          "parcoords": [
           {
            "line": {
             "colorbar": {
              "outlinewidth": 0,
              "ticks": ""
             }
            },
            "type": "parcoords"
           }
          ],
          "pie": [
           {
            "automargin": true,
            "type": "pie"
           }
          ],
          "scatter": [
           {
            "fillpattern": {
             "fillmode": "overlay",
             "size": 10,
             "solidity": 0.2
            },
            "type": "scatter"
           }
          ],
          "scatter3d": [
           {
            "line": {
             "colorbar": {
              "outlinewidth": 0,
              "ticks": ""
             }
            },
            "marker": {
             "colorbar": {
              "outlinewidth": 0,
              "ticks": ""
             }
            },
            "type": "scatter3d"
           }
          ],
          "scattercarpet": [
           {
            "marker": {
             "colorbar": {
              "outlinewidth": 0,
              "ticks": ""
             }
            },
            "type": "scattercarpet"
           }
          ],
          "scattergeo": [
           {
            "marker": {
             "colorbar": {
              "outlinewidth": 0,
              "ticks": ""
             }
            },
            "type": "scattergeo"
           }
          ],
          "scattergl": [
           {
            "marker": {
             "colorbar": {
              "outlinewidth": 0,
              "ticks": ""
             }
            },
            "type": "scattergl"
           }
          ],
          "scattermapbox": [
           {
            "marker": {
             "colorbar": {
              "outlinewidth": 0,
              "ticks": ""
             }
            },
            "type": "scattermapbox"
           }
          ],
          "scatterpolar": [
           {
            "marker": {
             "colorbar": {
              "outlinewidth": 0,
              "ticks": ""
             }
            },
            "type": "scatterpolar"
           }
          ],
          "scatterpolargl": [
           {
            "marker": {
             "colorbar": {
              "outlinewidth": 0,
              "ticks": ""
             }
            },
            "type": "scatterpolargl"
           }
          ],
          "scatterternary": [
           {
            "marker": {
             "colorbar": {
              "outlinewidth": 0,
              "ticks": ""
             }
            },
            "type": "scatterternary"
           }
          ],
          "surface": [
           {
            "colorbar": {
             "outlinewidth": 0,
             "ticks": ""
            },
            "colorscale": [
             [
              0,
              "#0d0887"
             ],
             [
              0.1111111111111111,
              "#46039f"
             ],
             [
              0.2222222222222222,
              "#7201a8"
             ],
             [
              0.3333333333333333,
              "#9c179e"
             ],
             [
              0.4444444444444444,
              "#bd3786"
             ],
             [
              0.5555555555555556,
              "#d8576b"
             ],
             [
              0.6666666666666666,
              "#ed7953"
             ],
             [
              0.7777777777777778,
              "#fb9f3a"
             ],
             [
              0.8888888888888888,
              "#fdca26"
             ],
             [
              1,
              "#f0f921"
             ]
            ],
            "type": "surface"
           }
          ],
          "table": [
           {
            "cells": {
             "fill": {
              "color": "#EBF0F8"
             },
             "line": {
              "color": "white"
             }
            },
            "header": {
             "fill": {
              "color": "#C8D4E3"
             },
             "line": {
              "color": "white"
             }
            },
            "type": "table"
           }
          ]
         },
         "layout": {
          "annotationdefaults": {
           "arrowcolor": "#2a3f5f",
           "arrowhead": 0,
           "arrowwidth": 1
          },
          "autotypenumbers": "strict",
          "coloraxis": {
           "colorbar": {
            "outlinewidth": 0,
            "ticks": ""
           }
          },
          "colorscale": {
           "diverging": [
            [
             0,
             "#8e0152"
            ],
            [
             0.1,
             "#c51b7d"
            ],
            [
             0.2,
             "#de77ae"
            ],
            [
             0.3,
             "#f1b6da"
            ],
            [
             0.4,
             "#fde0ef"
            ],
            [
             0.5,
             "#f7f7f7"
            ],
            [
             0.6,
             "#e6f5d0"
            ],
            [
             0.7,
             "#b8e186"
            ],
            [
             0.8,
             "#7fbc41"
            ],
            [
             0.9,
             "#4d9221"
            ],
            [
             1,
             "#276419"
            ]
           ],
           "sequential": [
            [
             0,
             "#0d0887"
            ],
            [
             0.1111111111111111,
             "#46039f"
            ],
            [
             0.2222222222222222,
             "#7201a8"
            ],
            [
             0.3333333333333333,
             "#9c179e"
            ],
            [
             0.4444444444444444,
             "#bd3786"
            ],
            [
             0.5555555555555556,
             "#d8576b"
            ],
            [
             0.6666666666666666,
             "#ed7953"
            ],
            [
             0.7777777777777778,
             "#fb9f3a"
            ],
            [
             0.8888888888888888,
             "#fdca26"
            ],
            [
             1,
             "#f0f921"
            ]
           ],
           "sequentialminus": [
            [
             0,
             "#0d0887"
            ],
            [
             0.1111111111111111,
             "#46039f"
            ],
            [
             0.2222222222222222,
             "#7201a8"
            ],
            [
             0.3333333333333333,
             "#9c179e"
            ],
            [
             0.4444444444444444,
             "#bd3786"
            ],
            [
             0.5555555555555556,
             "#d8576b"
            ],
            [
             0.6666666666666666,
             "#ed7953"
            ],
            [
             0.7777777777777778,
             "#fb9f3a"
            ],
            [
             0.8888888888888888,
             "#fdca26"
            ],
            [
             1,
             "#f0f921"
            ]
           ]
          },
          "colorway": [
           "#636efa",
           "#EF553B",
           "#00cc96",
           "#ab63fa",
           "#FFA15A",
           "#19d3f3",
           "#FF6692",
           "#B6E880",
           "#FF97FF",
           "#FECB52"
          ],
          "font": {
           "color": "#2a3f5f"
          },
          "geo": {
           "bgcolor": "white",
           "lakecolor": "white",
           "landcolor": "white",
           "showlakes": true,
           "showland": true,
           "subunitcolor": "#C8D4E3"
          },
          "hoverlabel": {
           "align": "left"
          },
          "hovermode": "closest",
          "mapbox": {
           "style": "light"
          },
          "paper_bgcolor": "white",
          "plot_bgcolor": "white",
          "polar": {
           "angularaxis": {
            "gridcolor": "#EBF0F8",
            "linecolor": "#EBF0F8",
            "ticks": ""
           },
           "bgcolor": "white",
           "radialaxis": {
            "gridcolor": "#EBF0F8",
            "linecolor": "#EBF0F8",
            "ticks": ""
           }
          },
          "scene": {
           "xaxis": {
            "backgroundcolor": "white",
            "gridcolor": "#DFE8F3",
            "gridwidth": 2,
            "linecolor": "#EBF0F8",
            "showbackground": true,
            "ticks": "",
            "zerolinecolor": "#EBF0F8"
           },
           "yaxis": {
            "backgroundcolor": "white",
            "gridcolor": "#DFE8F3",
            "gridwidth": 2,
            "linecolor": "#EBF0F8",
            "showbackground": true,
            "ticks": "",
            "zerolinecolor": "#EBF0F8"
           },
           "zaxis": {
            "backgroundcolor": "white",
            "gridcolor": "#DFE8F3",
            "gridwidth": 2,
            "linecolor": "#EBF0F8",
            "showbackground": true,
            "ticks": "",
            "zerolinecolor": "#EBF0F8"
           }
          },
          "shapedefaults": {
           "line": {
            "color": "#2a3f5f"
           }
          },
          "ternary": {
           "aaxis": {
            "gridcolor": "#DFE8F3",
            "linecolor": "#A2B1C6",
            "ticks": ""
           },
           "baxis": {
            "gridcolor": "#DFE8F3",
            "linecolor": "#A2B1C6",
            "ticks": ""
           },
           "bgcolor": "white",
           "caxis": {
            "gridcolor": "#DFE8F3",
            "linecolor": "#A2B1C6",
            "ticks": ""
           }
          },
          "title": {
           "x": 0.05
          },
          "xaxis": {
           "automargin": true,
           "gridcolor": "#EBF0F8",
           "linecolor": "#EBF0F8",
           "ticks": "",
           "title": {
            "standoff": 15
           },
           "zerolinecolor": "#EBF0F8",
           "zerolinewidth": 2
          },
          "yaxis": {
           "automargin": true,
           "gridcolor": "#EBF0F8",
           "linecolor": "#EBF0F8",
           "ticks": "",
           "title": {
            "standoff": 15
           },
           "zerolinecolor": "#EBF0F8",
           "zerolinewidth": 2
          }
         }
        },
        "title": {
         "text": "Goal of Participation"
        },
        "xaxis": {
         "title": {
          "text": "Identified Goal"
         }
        },
        "yaxis": {
         "title": {
          "text": "Count"
         }
        }
       }
      }
     },
     "metadata": {},
     "output_type": "display_data"
    }
   ],
   "source": [
    "goal = multi_select_counts(df, ['#','Build professional experience',\n",
    " 'Improve job readiness and soft skills',\n",
    " 'Learn about career options',\n",
    " 'Grow my resume or LinkedIn profile',\n",
    " 'Network with professionals',\n",
    " 'Gain mentorship and guidance',\n",
    " 'Improve my financial knowledge'])\n",
    "\n",
    "# Create standalone bar chart\n",
    "fig = go.Figure(\n",
    "    data=[\n",
    "        go.Bar(\n",
    "            x=goal.index,\n",
    "            y=goal.values,\n",
    "            name=\"Goal of Participation\",\n",
    "            \n",
    "        )\n",
    "    ]\n",
    ")\n",
    "\n",
    "fig.update_layout(\n",
    "    title=\"Goal of Participation\",\n",
    "    xaxis_title=\"Identified Goal\",\n",
    "    yaxis_title=\"Count\",\n",
    "    template=\"plotly_white\"\n",
    ")\n",
    "\n",
    "fig.show()"
   ]
  },
  {
   "cell_type": "code",
   "execution_count": 17,
   "id": "06481fc0",
   "metadata": {},
   "outputs": [
    {
     "data": {
      "application/vnd.plotly.v1+json": {
       "config": {
        "plotlyServerURL": "https://plot.ly"
       },
       "data": [
        {
         "hole": 0.4,
         "labels": [
          "Passion",
          "Natural strengths",
          "High salary",
          "Values alignment",
          "Flexibility/lifestyle",
          "Prior experience",
          "Role models",
          "Market demand"
         ],
         "textinfo": "percent+label",
         "type": "pie",
         "values": [
          74,
          54,
          52,
          52,
          38,
          35,
          24,
          16
         ]
        }
       ],
       "layout": {
        "height": 500,
        "template": {
         "data": {
          "bar": [
           {
            "error_x": {
             "color": "#2a3f5f"
            },
            "error_y": {
             "color": "#2a3f5f"
            },
            "marker": {
             "line": {
              "color": "white",
              "width": 0.5
             },
             "pattern": {
              "fillmode": "overlay",
              "size": 10,
              "solidity": 0.2
             }
            },
            "type": "bar"
           }
          ],
          "barpolar": [
           {
            "marker": {
             "line": {
              "color": "white",
              "width": 0.5
             },
             "pattern": {
              "fillmode": "overlay",
              "size": 10,
              "solidity": 0.2
             }
            },
            "type": "barpolar"
           }
          ],
          "carpet": [
           {
            "aaxis": {
             "endlinecolor": "#2a3f5f",
             "gridcolor": "#C8D4E3",
             "linecolor": "#C8D4E3",
             "minorgridcolor": "#C8D4E3",
             "startlinecolor": "#2a3f5f"
            },
            "baxis": {
             "endlinecolor": "#2a3f5f",
             "gridcolor": "#C8D4E3",
             "linecolor": "#C8D4E3",
             "minorgridcolor": "#C8D4E3",
             "startlinecolor": "#2a3f5f"
            },
            "type": "carpet"
           }
          ],
          "choropleth": [
           {
            "colorbar": {
             "outlinewidth": 0,
             "ticks": ""
            },
            "type": "choropleth"
           }
          ],
          "contour": [
           {
            "colorbar": {
             "outlinewidth": 0,
             "ticks": ""
            },
            "colorscale": [
             [
              0,
              "#0d0887"
             ],
             [
              0.1111111111111111,
              "#46039f"
             ],
             [
              0.2222222222222222,
              "#7201a8"
             ],
             [
              0.3333333333333333,
              "#9c179e"
             ],
             [
              0.4444444444444444,
              "#bd3786"
             ],
             [
              0.5555555555555556,
              "#d8576b"
             ],
             [
              0.6666666666666666,
              "#ed7953"
             ],
             [
              0.7777777777777778,
              "#fb9f3a"
             ],
             [
              0.8888888888888888,
              "#fdca26"
             ],
             [
              1,
              "#f0f921"
             ]
            ],
            "type": "contour"
           }
          ],
          "contourcarpet": [
           {
            "colorbar": {
             "outlinewidth": 0,
             "ticks": ""
            },
            "type": "contourcarpet"
           }
          ],
          "heatmap": [
           {
            "colorbar": {
             "outlinewidth": 0,
             "ticks": ""
            },
            "colorscale": [
             [
              0,
              "#0d0887"
             ],
             [
              0.1111111111111111,
              "#46039f"
             ],
             [
              0.2222222222222222,
              "#7201a8"
             ],
             [
              0.3333333333333333,
              "#9c179e"
             ],
             [
              0.4444444444444444,
              "#bd3786"
             ],
             [
              0.5555555555555556,
              "#d8576b"
             ],
             [
              0.6666666666666666,
              "#ed7953"
             ],
             [
              0.7777777777777778,
              "#fb9f3a"
             ],
             [
              0.8888888888888888,
              "#fdca26"
             ],
             [
              1,
              "#f0f921"
             ]
            ],
            "type": "heatmap"
           }
          ],
          "heatmapgl": [
           {
            "colorbar": {
             "outlinewidth": 0,
             "ticks": ""
            },
            "colorscale": [
             [
              0,
              "#0d0887"
             ],
             [
              0.1111111111111111,
              "#46039f"
             ],
             [
              0.2222222222222222,
              "#7201a8"
             ],
             [
              0.3333333333333333,
              "#9c179e"
             ],
             [
              0.4444444444444444,
              "#bd3786"
             ],
             [
              0.5555555555555556,
              "#d8576b"
             ],
             [
              0.6666666666666666,
              "#ed7953"
             ],
             [
              0.7777777777777778,
              "#fb9f3a"
             ],
             [
              0.8888888888888888,
              "#fdca26"
             ],
             [
              1,
              "#f0f921"
             ]
            ],
            "type": "heatmapgl"
           }
          ],
          "histogram": [
           {
            "marker": {
             "pattern": {
              "fillmode": "overlay",
              "size": 10,
              "solidity": 0.2
             }
            },
            "type": "histogram"
           }
          ],
          "histogram2d": [
           {
            "colorbar": {
             "outlinewidth": 0,
             "ticks": ""
            },
            "colorscale": [
             [
              0,
              "#0d0887"
             ],
             [
              0.1111111111111111,
              "#46039f"
             ],
             [
              0.2222222222222222,
              "#7201a8"
             ],
             [
              0.3333333333333333,
              "#9c179e"
             ],
             [
              0.4444444444444444,
              "#bd3786"
             ],
             [
              0.5555555555555556,
              "#d8576b"
             ],
             [
              0.6666666666666666,
              "#ed7953"
             ],
             [
              0.7777777777777778,
              "#fb9f3a"
             ],
             [
              0.8888888888888888,
              "#fdca26"
             ],
             [
              1,
              "#f0f921"
             ]
            ],
            "type": "histogram2d"
           }
          ],
          "histogram2dcontour": [
           {
            "colorbar": {
             "outlinewidth": 0,
             "ticks": ""
            },
            "colorscale": [
             [
              0,
              "#0d0887"
             ],
             [
              0.1111111111111111,
              "#46039f"
             ],
             [
              0.2222222222222222,
              "#7201a8"
             ],
             [
              0.3333333333333333,
              "#9c179e"
             ],
             [
              0.4444444444444444,
              "#bd3786"
             ],
             [
              0.5555555555555556,
              "#d8576b"
             ],
             [
              0.6666666666666666,
              "#ed7953"
             ],
             [
              0.7777777777777778,
              "#fb9f3a"
             ],
             [
              0.8888888888888888,
              "#fdca26"
             ],
             [
              1,
              "#f0f921"
             ]
            ],
            "type": "histogram2dcontour"
           }
          ],
          "mesh3d": [
           {
            "colorbar": {
             "outlinewidth": 0,
             "ticks": ""
            },
            "type": "mesh3d"
           }
          ],
          "parcoords": [
           {
            "line": {
             "colorbar": {
              "outlinewidth": 0,
              "ticks": ""
             }
            },
            "type": "parcoords"
           }
          ],
          "pie": [
           {
            "automargin": true,
            "type": "pie"
           }
          ],
          "scatter": [
           {
            "fillpattern": {
             "fillmode": "overlay",
             "size": 10,
             "solidity": 0.2
            },
            "type": "scatter"
           }
          ],
          "scatter3d": [
           {
            "line": {
             "colorbar": {
              "outlinewidth": 0,
              "ticks": ""
             }
            },
            "marker": {
             "colorbar": {
              "outlinewidth": 0,
              "ticks": ""
             }
            },
            "type": "scatter3d"
           }
          ],
          "scattercarpet": [
           {
            "marker": {
             "colorbar": {
              "outlinewidth": 0,
              "ticks": ""
             }
            },
            "type": "scattercarpet"
           }
          ],
          "scattergeo": [
           {
            "marker": {
             "colorbar": {
              "outlinewidth": 0,
              "ticks": ""
             }
            },
            "type": "scattergeo"
           }
          ],
          "scattergl": [
           {
            "marker": {
             "colorbar": {
              "outlinewidth": 0,
              "ticks": ""
             }
            },
            "type": "scattergl"
           }
          ],
          "scattermapbox": [
           {
            "marker": {
             "colorbar": {
              "outlinewidth": 0,
              "ticks": ""
             }
            },
            "type": "scattermapbox"
           }
          ],
          "scatterpolar": [
           {
            "marker": {
             "colorbar": {
              "outlinewidth": 0,
              "ticks": ""
             }
            },
            "type": "scatterpolar"
           }
          ],
          "scatterpolargl": [
           {
            "marker": {
             "colorbar": {
              "outlinewidth": 0,
              "ticks": ""
             }
            },
            "type": "scatterpolargl"
           }
          ],
          "scatterternary": [
           {
            "marker": {
             "colorbar": {
              "outlinewidth": 0,
              "ticks": ""
             }
            },
            "type": "scatterternary"
           }
          ],
          "surface": [
           {
            "colorbar": {
             "outlinewidth": 0,
             "ticks": ""
            },
            "colorscale": [
             [
              0,
              "#0d0887"
             ],
             [
              0.1111111111111111,
              "#46039f"
             ],
             [
              0.2222222222222222,
              "#7201a8"
             ],
             [
              0.3333333333333333,
              "#9c179e"
             ],
             [
              0.4444444444444444,
              "#bd3786"
             ],
             [
              0.5555555555555556,
              "#d8576b"
             ],
             [
              0.6666666666666666,
              "#ed7953"
             ],
             [
              0.7777777777777778,
              "#fb9f3a"
             ],
             [
              0.8888888888888888,
              "#fdca26"
             ],
             [
              1,
              "#f0f921"
             ]
            ],
            "type": "surface"
           }
          ],
          "table": [
           {
            "cells": {
             "fill": {
              "color": "#EBF0F8"
             },
             "line": {
              "color": "white"
             }
            },
            "header": {
             "fill": {
              "color": "#C8D4E3"
             },
             "line": {
              "color": "white"
             }
            },
            "type": "table"
           }
          ]
         },
         "layout": {
          "annotationdefaults": {
           "arrowcolor": "#2a3f5f",
           "arrowhead": 0,
           "arrowwidth": 1
          },
          "autotypenumbers": "strict",
          "coloraxis": {
           "colorbar": {
            "outlinewidth": 0,
            "ticks": ""
           }
          },
          "colorscale": {
           "diverging": [
            [
             0,
             "#8e0152"
            ],
            [
             0.1,
             "#c51b7d"
            ],
            [
             0.2,
             "#de77ae"
            ],
            [
             0.3,
             "#f1b6da"
            ],
            [
             0.4,
             "#fde0ef"
            ],
            [
             0.5,
             "#f7f7f7"
            ],
            [
             0.6,
             "#e6f5d0"
            ],
            [
             0.7,
             "#b8e186"
            ],
            [
             0.8,
             "#7fbc41"
            ],
            [
             0.9,
             "#4d9221"
            ],
            [
             1,
             "#276419"
            ]
           ],
           "sequential": [
            [
             0,
             "#0d0887"
            ],
            [
             0.1111111111111111,
             "#46039f"
            ],
            [
             0.2222222222222222,
             "#7201a8"
            ],
            [
             0.3333333333333333,
             "#9c179e"
            ],
            [
             0.4444444444444444,
             "#bd3786"
            ],
            [
             0.5555555555555556,
             "#d8576b"
            ],
            [
             0.6666666666666666,
             "#ed7953"
            ],
            [
             0.7777777777777778,
             "#fb9f3a"
            ],
            [
             0.8888888888888888,
             "#fdca26"
            ],
            [
             1,
             "#f0f921"
            ]
           ],
           "sequentialminus": [
            [
             0,
             "#0d0887"
            ],
            [
             0.1111111111111111,
             "#46039f"
            ],
            [
             0.2222222222222222,
             "#7201a8"
            ],
            [
             0.3333333333333333,
             "#9c179e"
            ],
            [
             0.4444444444444444,
             "#bd3786"
            ],
            [
             0.5555555555555556,
             "#d8576b"
            ],
            [
             0.6666666666666666,
             "#ed7953"
            ],
            [
             0.7777777777777778,
             "#fb9f3a"
            ],
            [
             0.8888888888888888,
             "#fdca26"
            ],
            [
             1,
             "#f0f921"
            ]
           ]
          },
          "colorway": [
           "#636efa",
           "#EF553B",
           "#00cc96",
           "#ab63fa",
           "#FFA15A",
           "#19d3f3",
           "#FF6692",
           "#B6E880",
           "#FF97FF",
           "#FECB52"
          ],
          "font": {
           "color": "#2a3f5f"
          },
          "geo": {
           "bgcolor": "white",
           "lakecolor": "white",
           "landcolor": "white",
           "showlakes": true,
           "showland": true,
           "subunitcolor": "#C8D4E3"
          },
          "hoverlabel": {
           "align": "left"
          },
          "hovermode": "closest",
          "mapbox": {
           "style": "light"
          },
          "paper_bgcolor": "white",
          "plot_bgcolor": "white",
          "polar": {
           "angularaxis": {
            "gridcolor": "#EBF0F8",
            "linecolor": "#EBF0F8",
            "ticks": ""
           },
           "bgcolor": "white",
           "radialaxis": {
            "gridcolor": "#EBF0F8",
            "linecolor": "#EBF0F8",
            "ticks": ""
           }
          },
          "scene": {
           "xaxis": {
            "backgroundcolor": "white",
            "gridcolor": "#DFE8F3",
            "gridwidth": 2,
            "linecolor": "#EBF0F8",
            "showbackground": true,
            "ticks": "",
            "zerolinecolor": "#EBF0F8"
           },
           "yaxis": {
            "backgroundcolor": "white",
            "gridcolor": "#DFE8F3",
            "gridwidth": 2,
            "linecolor": "#EBF0F8",
            "showbackground": true,
            "ticks": "",
            "zerolinecolor": "#EBF0F8"
           },
           "zaxis": {
            "backgroundcolor": "white",
            "gridcolor": "#DFE8F3",
            "gridwidth": 2,
            "linecolor": "#EBF0F8",
            "showbackground": true,
            "ticks": "",
            "zerolinecolor": "#EBF0F8"
           }
          },
          "shapedefaults": {
           "line": {
            "color": "#2a3f5f"
           }
          },
          "ternary": {
           "aaxis": {
            "gridcolor": "#DFE8F3",
            "linecolor": "#A2B1C6",
            "ticks": ""
           },
           "baxis": {
            "gridcolor": "#DFE8F3",
            "linecolor": "#A2B1C6",
            "ticks": ""
           },
           "bgcolor": "white",
           "caxis": {
            "gridcolor": "#DFE8F3",
            "linecolor": "#A2B1C6",
            "ticks": ""
           }
          },
          "title": {
           "x": 0.05
          },
          "xaxis": {
           "automargin": true,
           "gridcolor": "#EBF0F8",
           "linecolor": "#EBF0F8",
           "ticks": "",
           "title": {
            "standoff": 15
           },
           "zerolinecolor": "#EBF0F8",
           "zerolinewidth": 2
          },
          "yaxis": {
           "automargin": true,
           "gridcolor": "#EBF0F8",
           "linecolor": "#EBF0F8",
           "ticks": "",
           "title": {
            "standoff": 15
           },
           "zerolinecolor": "#EBF0F8",
           "zerolinewidth": 2
          }
         }
        },
        "title": {
         "text": "Key Drivers of Career Decisions"
        },
        "width": 800
       }
      }
     },
     "metadata": {},
     "output_type": "display_data"
    }
   ],
   "source": [
    "career = multi_select_counts(df, mappings.career_consideration_col, mappings.career_consideration_map)\n",
    "\n",
    "fig = go.Figure(\n",
    "    data=[\n",
    "        go.Pie(\n",
    "            labels=career.index,\n",
    "            values=career.values,\n",
    "            hole=0.4,  # Set to 0.4 for a donut chart\n",
    "            textinfo='percent+label',  # Options: 'label', 'value', 'percent', 'label+percent'\n",
    "        )\n",
    "    ]\n",
    ")\n",
    "\n",
    "fig.update_layout(\n",
    "    title=\"Key Drivers of Career Decisions\",\n",
    "    template=\"plotly_white\",\n",
    "    width = 800,\n",
    "    height = 500\n",
    ")\n",
    "\n",
    "fig.show()"
   ]
  },
  {
   "cell_type": "code",
   "execution_count": 18,
   "id": "890ef01e",
   "metadata": {},
   "outputs": [
    {
     "data": {
      "application/vnd.plotly.v1+json": {
       "config": {
        "plotlyServerURL": "https://plot.ly"
       },
       "data": [
        {
         "hole": 0.4,
         "labels": [
          "Networking",
          "Budgeting, money management and investing",
          "Career coaching or mentorship",
          "Interview prep and mock interviews",
          "Time management strategies",
          "Resume or LinkedIn help",
          "Emotional or mental health support",
          "Professional attire"
         ],
         "textinfo": "percent+label",
         "type": "pie",
         "values": [
          66,
          55,
          50,
          41,
          35,
          31,
          25,
          22
         ]
        }
       ],
       "layout": {
        "height": 500,
        "template": {
         "data": {
          "bar": [
           {
            "error_x": {
             "color": "#2a3f5f"
            },
            "error_y": {
             "color": "#2a3f5f"
            },
            "marker": {
             "line": {
              "color": "white",
              "width": 0.5
             },
             "pattern": {
              "fillmode": "overlay",
              "size": 10,
              "solidity": 0.2
             }
            },
            "type": "bar"
           }
          ],
          "barpolar": [
           {
            "marker": {
             "line": {
              "color": "white",
              "width": 0.5
             },
             "pattern": {
              "fillmode": "overlay",
              "size": 10,
              "solidity": 0.2
             }
            },
            "type": "barpolar"
           }
          ],
          "carpet": [
           {
            "aaxis": {
             "endlinecolor": "#2a3f5f",
             "gridcolor": "#C8D4E3",
             "linecolor": "#C8D4E3",
             "minorgridcolor": "#C8D4E3",
             "startlinecolor": "#2a3f5f"
            },
            "baxis": {
             "endlinecolor": "#2a3f5f",
             "gridcolor": "#C8D4E3",
             "linecolor": "#C8D4E3",
             "minorgridcolor": "#C8D4E3",
             "startlinecolor": "#2a3f5f"
            },
            "type": "carpet"
           }
          ],
          "choropleth": [
           {
            "colorbar": {
             "outlinewidth": 0,
             "ticks": ""
            },
            "type": "choropleth"
           }
          ],
          "contour": [
           {
            "colorbar": {
             "outlinewidth": 0,
             "ticks": ""
            },
            "colorscale": [
             [
              0,
              "#0d0887"
             ],
             [
              0.1111111111111111,
              "#46039f"
             ],
             [
              0.2222222222222222,
              "#7201a8"
             ],
             [
              0.3333333333333333,
              "#9c179e"
             ],
             [
              0.4444444444444444,
              "#bd3786"
             ],
             [
              0.5555555555555556,
              "#d8576b"
             ],
             [
              0.6666666666666666,
              "#ed7953"
             ],
             [
              0.7777777777777778,
              "#fb9f3a"
             ],
             [
              0.8888888888888888,
              "#fdca26"
             ],
             [
              1,
              "#f0f921"
             ]
            ],
            "type": "contour"
           }
          ],
          "contourcarpet": [
           {
            "colorbar": {
             "outlinewidth": 0,
             "ticks": ""
            },
            "type": "contourcarpet"
           }
          ],
          "heatmap": [
           {
            "colorbar": {
             "outlinewidth": 0,
             "ticks": ""
            },
            "colorscale": [
             [
              0,
              "#0d0887"
             ],
             [
              0.1111111111111111,
              "#46039f"
             ],
             [
              0.2222222222222222,
              "#7201a8"
             ],
             [
              0.3333333333333333,
              "#9c179e"
             ],
             [
              0.4444444444444444,
              "#bd3786"
             ],
             [
              0.5555555555555556,
              "#d8576b"
             ],
             [
              0.6666666666666666,
              "#ed7953"
             ],
             [
              0.7777777777777778,
              "#fb9f3a"
             ],
             [
              0.8888888888888888,
              "#fdca26"
             ],
             [
              1,
              "#f0f921"
             ]
            ],
            "type": "heatmap"
           }
          ],
          "heatmapgl": [
           {
            "colorbar": {
             "outlinewidth": 0,
             "ticks": ""
            },
            "colorscale": [
             [
              0,
              "#0d0887"
             ],
             [
              0.1111111111111111,
              "#46039f"
             ],
             [
              0.2222222222222222,
              "#7201a8"
             ],
             [
              0.3333333333333333,
              "#9c179e"
             ],
             [
              0.4444444444444444,
              "#bd3786"
             ],
             [
              0.5555555555555556,
              "#d8576b"
             ],
             [
              0.6666666666666666,
              "#ed7953"
             ],
             [
              0.7777777777777778,
              "#fb9f3a"
             ],
             [
              0.8888888888888888,
              "#fdca26"
             ],
             [
              1,
              "#f0f921"
             ]
            ],
            "type": "heatmapgl"
           }
          ],
          "histogram": [
           {
            "marker": {
             "pattern": {
              "fillmode": "overlay",
              "size": 10,
              "solidity": 0.2
             }
            },
            "type": "histogram"
           }
          ],
          "histogram2d": [
           {
            "colorbar": {
             "outlinewidth": 0,
             "ticks": ""
            },
            "colorscale": [
             [
              0,
              "#0d0887"
             ],
             [
              0.1111111111111111,
              "#46039f"
             ],
             [
              0.2222222222222222,
              "#7201a8"
             ],
             [
              0.3333333333333333,
              "#9c179e"
             ],
             [
              0.4444444444444444,
              "#bd3786"
             ],
             [
              0.5555555555555556,
              "#d8576b"
             ],
             [
              0.6666666666666666,
              "#ed7953"
             ],
             [
              0.7777777777777778,
              "#fb9f3a"
             ],
             [
              0.8888888888888888,
              "#fdca26"
             ],
             [
              1,
              "#f0f921"
             ]
            ],
            "type": "histogram2d"
           }
          ],
          "histogram2dcontour": [
           {
            "colorbar": {
             "outlinewidth": 0,
             "ticks": ""
            },
            "colorscale": [
             [
              0,
              "#0d0887"
             ],
             [
              0.1111111111111111,
              "#46039f"
             ],
             [
              0.2222222222222222,
              "#7201a8"
             ],
             [
              0.3333333333333333,
              "#9c179e"
             ],
             [
              0.4444444444444444,
              "#bd3786"
             ],
             [
              0.5555555555555556,
              "#d8576b"
             ],
             [
              0.6666666666666666,
              "#ed7953"
             ],
             [
              0.7777777777777778,
              "#fb9f3a"
             ],
             [
              0.8888888888888888,
              "#fdca26"
             ],
             [
              1,
              "#f0f921"
             ]
            ],
            "type": "histogram2dcontour"
           }
          ],
          "mesh3d": [
           {
            "colorbar": {
             "outlinewidth": 0,
             "ticks": ""
            },
            "type": "mesh3d"
           }
          ],
          "parcoords": [
           {
            "line": {
             "colorbar": {
              "outlinewidth": 0,
              "ticks": ""
             }
            },
            "type": "parcoords"
           }
          ],
          "pie": [
           {
            "automargin": true,
            "type": "pie"
           }
          ],
          "scatter": [
           {
            "fillpattern": {
             "fillmode": "overlay",
             "size": 10,
             "solidity": 0.2
            },
            "type": "scatter"
           }
          ],
          "scatter3d": [
           {
            "line": {
             "colorbar": {
              "outlinewidth": 0,
              "ticks": ""
             }
            },
            "marker": {
             "colorbar": {
              "outlinewidth": 0,
              "ticks": ""
             }
            },
            "type": "scatter3d"
           }
          ],
          "scattercarpet": [
           {
            "marker": {
             "colorbar": {
              "outlinewidth": 0,
              "ticks": ""
             }
            },
            "type": "scattercarpet"
           }
          ],
          "scattergeo": [
           {
            "marker": {
             "colorbar": {
              "outlinewidth": 0,
              "ticks": ""
             }
            },
            "type": "scattergeo"
           }
          ],
          "scattergl": [
           {
            "marker": {
             "colorbar": {
              "outlinewidth": 0,
              "ticks": ""
             }
            },
            "type": "scattergl"
           }
          ],
          "scattermapbox": [
           {
            "marker": {
             "colorbar": {
              "outlinewidth": 0,
              "ticks": ""
             }
            },
            "type": "scattermapbox"
           }
          ],
          "scatterpolar": [
           {
            "marker": {
             "colorbar": {
              "outlinewidth": 0,
              "ticks": ""
             }
            },
            "type": "scatterpolar"
           }
          ],
          "scatterpolargl": [
           {
            "marker": {
             "colorbar": {
              "outlinewidth": 0,
              "ticks": ""
             }
            },
            "type": "scatterpolargl"
           }
          ],
          "scatterternary": [
           {
            "marker": {
             "colorbar": {
              "outlinewidth": 0,
              "ticks": ""
             }
            },
            "type": "scatterternary"
           }
          ],
          "surface": [
           {
            "colorbar": {
             "outlinewidth": 0,
             "ticks": ""
            },
            "colorscale": [
             [
              0,
              "#0d0887"
             ],
             [
              0.1111111111111111,
              "#46039f"
             ],
             [
              0.2222222222222222,
              "#7201a8"
             ],
             [
              0.3333333333333333,
              "#9c179e"
             ],
             [
              0.4444444444444444,
              "#bd3786"
             ],
             [
              0.5555555555555556,
              "#d8576b"
             ],
             [
              0.6666666666666666,
              "#ed7953"
             ],
             [
              0.7777777777777778,
              "#fb9f3a"
             ],
             [
              0.8888888888888888,
              "#fdca26"
             ],
             [
              1,
              "#f0f921"
             ]
            ],
            "type": "surface"
           }
          ],
          "table": [
           {
            "cells": {
             "fill": {
              "color": "#EBF0F8"
             },
             "line": {
              "color": "white"
             }
            },
            "header": {
             "fill": {
              "color": "#C8D4E3"
             },
             "line": {
              "color": "white"
             }
            },
            "type": "table"
           }
          ]
         },
         "layout": {
          "annotationdefaults": {
           "arrowcolor": "#2a3f5f",
           "arrowhead": 0,
           "arrowwidth": 1
          },
          "autotypenumbers": "strict",
          "coloraxis": {
           "colorbar": {
            "outlinewidth": 0,
            "ticks": ""
           }
          },
          "colorscale": {
           "diverging": [
            [
             0,
             "#8e0152"
            ],
            [
             0.1,
             "#c51b7d"
            ],
            [
             0.2,
             "#de77ae"
            ],
            [
             0.3,
             "#f1b6da"
            ],
            [
             0.4,
             "#fde0ef"
            ],
            [
             0.5,
             "#f7f7f7"
            ],
            [
             0.6,
             "#e6f5d0"
            ],
            [
             0.7,
             "#b8e186"
            ],
            [
             0.8,
             "#7fbc41"
            ],
            [
             0.9,
             "#4d9221"
            ],
            [
             1,
             "#276419"
            ]
           ],
           "sequential": [
            [
             0,
             "#0d0887"
            ],
            [
             0.1111111111111111,
             "#46039f"
            ],
            [
             0.2222222222222222,
             "#7201a8"
            ],
            [
             0.3333333333333333,
             "#9c179e"
            ],
            [
             0.4444444444444444,
             "#bd3786"
            ],
            [
             0.5555555555555556,
             "#d8576b"
            ],
            [
             0.6666666666666666,
             "#ed7953"
            ],
            [
             0.7777777777777778,
             "#fb9f3a"
            ],
            [
             0.8888888888888888,
             "#fdca26"
            ],
            [
             1,
             "#f0f921"
            ]
           ],
           "sequentialminus": [
            [
             0,
             "#0d0887"
            ],
            [
             0.1111111111111111,
             "#46039f"
            ],
            [
             0.2222222222222222,
             "#7201a8"
            ],
            [
             0.3333333333333333,
             "#9c179e"
            ],
            [
             0.4444444444444444,
             "#bd3786"
            ],
            [
             0.5555555555555556,
             "#d8576b"
            ],
            [
             0.6666666666666666,
             "#ed7953"
            ],
            [
             0.7777777777777778,
             "#fb9f3a"
            ],
            [
             0.8888888888888888,
             "#fdca26"
            ],
            [
             1,
             "#f0f921"
            ]
           ]
          },
          "colorway": [
           "#636efa",
           "#EF553B",
           "#00cc96",
           "#ab63fa",
           "#FFA15A",
           "#19d3f3",
           "#FF6692",
           "#B6E880",
           "#FF97FF",
           "#FECB52"
          ],
          "font": {
           "color": "#2a3f5f"
          },
          "geo": {
           "bgcolor": "white",
           "lakecolor": "white",
           "landcolor": "white",
           "showlakes": true,
           "showland": true,
           "subunitcolor": "#C8D4E3"
          },
          "hoverlabel": {
           "align": "left"
          },
          "hovermode": "closest",
          "mapbox": {
           "style": "light"
          },
          "paper_bgcolor": "white",
          "plot_bgcolor": "white",
          "polar": {
           "angularaxis": {
            "gridcolor": "#EBF0F8",
            "linecolor": "#EBF0F8",
            "ticks": ""
           },
           "bgcolor": "white",
           "radialaxis": {
            "gridcolor": "#EBF0F8",
            "linecolor": "#EBF0F8",
            "ticks": ""
           }
          },
          "scene": {
           "xaxis": {
            "backgroundcolor": "white",
            "gridcolor": "#DFE8F3",
            "gridwidth": 2,
            "linecolor": "#EBF0F8",
            "showbackground": true,
            "ticks": "",
            "zerolinecolor": "#EBF0F8"
           },
           "yaxis": {
            "backgroundcolor": "white",
            "gridcolor": "#DFE8F3",
            "gridwidth": 2,
            "linecolor": "#EBF0F8",
            "showbackground": true,
            "ticks": "",
            "zerolinecolor": "#EBF0F8"
           },
           "zaxis": {
            "backgroundcolor": "white",
            "gridcolor": "#DFE8F3",
            "gridwidth": 2,
            "linecolor": "#EBF0F8",
            "showbackground": true,
            "ticks": "",
            "zerolinecolor": "#EBF0F8"
           }
          },
          "shapedefaults": {
           "line": {
            "color": "#2a3f5f"
           }
          },
          "ternary": {
           "aaxis": {
            "gridcolor": "#DFE8F3",
            "linecolor": "#A2B1C6",
            "ticks": ""
           },
           "baxis": {
            "gridcolor": "#DFE8F3",
            "linecolor": "#A2B1C6",
            "ticks": ""
           },
           "bgcolor": "white",
           "caxis": {
            "gridcolor": "#DFE8F3",
            "linecolor": "#A2B1C6",
            "ticks": ""
           }
          },
          "title": {
           "x": 0.05
          },
          "xaxis": {
           "automargin": true,
           "gridcolor": "#EBF0F8",
           "linecolor": "#EBF0F8",
           "ticks": "",
           "title": {
            "standoff": 15
           },
           "zerolinecolor": "#EBF0F8",
           "zerolinewidth": 2
          },
          "yaxis": {
           "automargin": true,
           "gridcolor": "#EBF0F8",
           "linecolor": "#EBF0F8",
           "ticks": "",
           "title": {
            "standoff": 15
           },
           "zerolinecolor": "#EBF0F8",
           "zerolinewidth": 2
          }
         }
        },
        "title": {
         "text": "Development Needs"
        },
        "width": 800
       }
      }
     },
     "metadata": {},
     "output_type": "display_data"
    }
   ],
   "source": [
    "dev_needs = multi_select_counts(df, mappings.help_needed_col)\n",
    "\n",
    "fig = go.Figure(\n",
    "    data=[\n",
    "        go.Pie(\n",
    "            labels=dev_needs.index,\n",
    "            values=dev_needs.values,\n",
    "            hole=0.4,  # Set to 0.4 for a donut chart\n",
    "            textinfo='percent+label',  # Options: 'label', 'value', 'percent', 'label+percent'\n",
    "        )\n",
    "    ]\n",
    ")\n",
    "\n",
    "fig.update_layout(\n",
    "    title=\"Development Needs\",\n",
    "    template=\"plotly_white\",\n",
    "    width = 800,\n",
    "    height = 500\n",
    ")\n",
    "\n",
    "fig.show()"
   ]
  },
  {
   "cell_type": "code",
   "execution_count": 19,
   "id": "ed51f846",
   "metadata": {},
   "outputs": [
    {
     "data": {
      "application/vnd.plotly.v1+json": {
       "config": {
        "plotlyServerURL": "https://plot.ly"
       },
       "data": [
        {
         "hole": 0.4,
         "labels": [
          "Healthcare & Wellness",
          "Business & Finance",
          "Technology & IT",
          "Law & Public Safety",
          "Education & Human Services",
          "Creative Arts & Media",
          "Trades & Skilled Labor",
          "Science & Research (General)",
          "Other/Vague"
         ],
         "textinfo": "percent+label",
         "type": "pie",
         "values": [
          35,
          28,
          15,
          14,
          13,
          10,
          8,
          5,
          4
         ]
        }
       ],
       "layout": {
        "height": 500,
        "template": {
         "data": {
          "bar": [
           {
            "error_x": {
             "color": "#2a3f5f"
            },
            "error_y": {
             "color": "#2a3f5f"
            },
            "marker": {
             "line": {
              "color": "white",
              "width": 0.5
             },
             "pattern": {
              "fillmode": "overlay",
              "size": 10,
              "solidity": 0.2
             }
            },
            "type": "bar"
           }
          ],
          "barpolar": [
           {
            "marker": {
             "line": {
              "color": "white",
              "width": 0.5
             },
             "pattern": {
              "fillmode": "overlay",
              "size": 10,
              "solidity": 0.2
             }
            },
            "type": "barpolar"
           }
          ],
          "carpet": [
           {
            "aaxis": {
             "endlinecolor": "#2a3f5f",
             "gridcolor": "#C8D4E3",
             "linecolor": "#C8D4E3",
             "minorgridcolor": "#C8D4E3",
             "startlinecolor": "#2a3f5f"
            },
            "baxis": {
             "endlinecolor": "#2a3f5f",
             "gridcolor": "#C8D4E3",
             "linecolor": "#C8D4E3",
             "minorgridcolor": "#C8D4E3",
             "startlinecolor": "#2a3f5f"
            },
            "type": "carpet"
           }
          ],
          "choropleth": [
           {
            "colorbar": {
             "outlinewidth": 0,
             "ticks": ""
            },
            "type": "choropleth"
           }
          ],
          "contour": [
           {
            "colorbar": {
             "outlinewidth": 0,
             "ticks": ""
            },
            "colorscale": [
             [
              0,
              "#0d0887"
             ],
             [
              0.1111111111111111,
              "#46039f"
             ],
             [
              0.2222222222222222,
              "#7201a8"
             ],
             [
              0.3333333333333333,
              "#9c179e"
             ],
             [
              0.4444444444444444,
              "#bd3786"
             ],
             [
              0.5555555555555556,
              "#d8576b"
             ],
             [
              0.6666666666666666,
              "#ed7953"
             ],
             [
              0.7777777777777778,
              "#fb9f3a"
             ],
             [
              0.8888888888888888,
              "#fdca26"
             ],
             [
              1,
              "#f0f921"
             ]
            ],
            "type": "contour"
           }
          ],
          "contourcarpet": [
           {
            "colorbar": {
             "outlinewidth": 0,
             "ticks": ""
            },
            "type": "contourcarpet"
           }
          ],
          "heatmap": [
           {
            "colorbar": {
             "outlinewidth": 0,
             "ticks": ""
            },
            "colorscale": [
             [
              0,
              "#0d0887"
             ],
             [
              0.1111111111111111,
              "#46039f"
             ],
             [
              0.2222222222222222,
              "#7201a8"
             ],
             [
              0.3333333333333333,
              "#9c179e"
             ],
             [
              0.4444444444444444,
              "#bd3786"
             ],
             [
              0.5555555555555556,
              "#d8576b"
             ],
             [
              0.6666666666666666,
              "#ed7953"
             ],
             [
              0.7777777777777778,
              "#fb9f3a"
             ],
             [
              0.8888888888888888,
              "#fdca26"
             ],
             [
              1,
              "#f0f921"
             ]
            ],
            "type": "heatmap"
           }
          ],
          "heatmapgl": [
           {
            "colorbar": {
             "outlinewidth": 0,
             "ticks": ""
            },
            "colorscale": [
             [
              0,
              "#0d0887"
             ],
             [
              0.1111111111111111,
              "#46039f"
             ],
             [
              0.2222222222222222,
              "#7201a8"
             ],
             [
              0.3333333333333333,
              "#9c179e"
             ],
             [
              0.4444444444444444,
              "#bd3786"
             ],
             [
              0.5555555555555556,
              "#d8576b"
             ],
             [
              0.6666666666666666,
              "#ed7953"
             ],
             [
              0.7777777777777778,
              "#fb9f3a"
             ],
             [
              0.8888888888888888,
              "#fdca26"
             ],
             [
              1,
              "#f0f921"
             ]
            ],
            "type": "heatmapgl"
           }
          ],
          "histogram": [
           {
            "marker": {
             "pattern": {
              "fillmode": "overlay",
              "size": 10,
              "solidity": 0.2
             }
            },
            "type": "histogram"
           }
          ],
          "histogram2d": [
           {
            "colorbar": {
             "outlinewidth": 0,
             "ticks": ""
            },
            "colorscale": [
             [
              0,
              "#0d0887"
             ],
             [
              0.1111111111111111,
              "#46039f"
             ],
             [
              0.2222222222222222,
              "#7201a8"
             ],
             [
              0.3333333333333333,
              "#9c179e"
             ],
             [
              0.4444444444444444,
              "#bd3786"
             ],
             [
              0.5555555555555556,
              "#d8576b"
             ],
             [
              0.6666666666666666,
              "#ed7953"
             ],
             [
              0.7777777777777778,
              "#fb9f3a"
             ],
             [
              0.8888888888888888,
              "#fdca26"
             ],
             [
              1,
              "#f0f921"
             ]
            ],
            "type": "histogram2d"
           }
          ],
          "histogram2dcontour": [
           {
            "colorbar": {
             "outlinewidth": 0,
             "ticks": ""
            },
            "colorscale": [
             [
              0,
              "#0d0887"
             ],
             [
              0.1111111111111111,
              "#46039f"
             ],
             [
              0.2222222222222222,
              "#7201a8"
             ],
             [
              0.3333333333333333,
              "#9c179e"
             ],
             [
              0.4444444444444444,
              "#bd3786"
             ],
             [
              0.5555555555555556,
              "#d8576b"
             ],
             [
              0.6666666666666666,
              "#ed7953"
             ],
             [
              0.7777777777777778,
              "#fb9f3a"
             ],
             [
              0.8888888888888888,
              "#fdca26"
             ],
             [
              1,
              "#f0f921"
             ]
            ],
            "type": "histogram2dcontour"
           }
          ],
          "mesh3d": [
           {
            "colorbar": {
             "outlinewidth": 0,
             "ticks": ""
            },
            "type": "mesh3d"
           }
          ],
          "parcoords": [
           {
            "line": {
             "colorbar": {
              "outlinewidth": 0,
              "ticks": ""
             }
            },
            "type": "parcoords"
           }
          ],
          "pie": [
           {
            "automargin": true,
            "type": "pie"
           }
          ],
          "scatter": [
           {
            "fillpattern": {
             "fillmode": "overlay",
             "size": 10,
             "solidity": 0.2
            },
            "type": "scatter"
           }
          ],
          "scatter3d": [
           {
            "line": {
             "colorbar": {
              "outlinewidth": 0,
              "ticks": ""
             }
            },
            "marker": {
             "colorbar": {
              "outlinewidth": 0,
              "ticks": ""
             }
            },
            "type": "scatter3d"
           }
          ],
          "scattercarpet": [
           {
            "marker": {
             "colorbar": {
              "outlinewidth": 0,
              "ticks": ""
             }
            },
            "type": "scattercarpet"
           }
          ],
          "scattergeo": [
           {
            "marker": {
             "colorbar": {
              "outlinewidth": 0,
              "ticks": ""
             }
            },
            "type": "scattergeo"
           }
          ],
          "scattergl": [
           {
            "marker": {
             "colorbar": {
              "outlinewidth": 0,
              "ticks": ""
             }
            },
            "type": "scattergl"
           }
          ],
          "scattermapbox": [
           {
            "marker": {
             "colorbar": {
              "outlinewidth": 0,
              "ticks": ""
             }
            },
            "type": "scattermapbox"
           }
          ],
          "scatterpolar": [
           {
            "marker": {
             "colorbar": {
              "outlinewidth": 0,
              "ticks": ""
             }
            },
            "type": "scatterpolar"
           }
          ],
          "scatterpolargl": [
           {
            "marker": {
             "colorbar": {
              "outlinewidth": 0,
              "ticks": ""
             }
            },
            "type": "scatterpolargl"
           }
          ],
          "scatterternary": [
           {
            "marker": {
             "colorbar": {
              "outlinewidth": 0,
              "ticks": ""
             }
            },
            "type": "scatterternary"
           }
          ],
          "surface": [
           {
            "colorbar": {
             "outlinewidth": 0,
             "ticks": ""
            },
            "colorscale": [
             [
              0,
              "#0d0887"
             ],
             [
              0.1111111111111111,
              "#46039f"
             ],
             [
              0.2222222222222222,
              "#7201a8"
             ],
             [
              0.3333333333333333,
              "#9c179e"
             ],
             [
              0.4444444444444444,
              "#bd3786"
             ],
             [
              0.5555555555555556,
              "#d8576b"
             ],
             [
              0.6666666666666666,
              "#ed7953"
             ],
             [
              0.7777777777777778,
              "#fb9f3a"
             ],
             [
              0.8888888888888888,
              "#fdca26"
             ],
             [
              1,
              "#f0f921"
             ]
            ],
            "type": "surface"
           }
          ],
          "table": [
           {
            "cells": {
             "fill": {
              "color": "#EBF0F8"
             },
             "line": {
              "color": "white"
             }
            },
            "header": {
             "fill": {
              "color": "#C8D4E3"
             },
             "line": {
              "color": "white"
             }
            },
            "type": "table"
           }
          ]
         },
         "layout": {
          "annotationdefaults": {
           "arrowcolor": "#2a3f5f",
           "arrowhead": 0,
           "arrowwidth": 1
          },
          "autotypenumbers": "strict",
          "coloraxis": {
           "colorbar": {
            "outlinewidth": 0,
            "ticks": ""
           }
          },
          "colorscale": {
           "diverging": [
            [
             0,
             "#8e0152"
            ],
            [
             0.1,
             "#c51b7d"
            ],
            [
             0.2,
             "#de77ae"
            ],
            [
             0.3,
             "#f1b6da"
            ],
            [
             0.4,
             "#fde0ef"
            ],
            [
             0.5,
             "#f7f7f7"
            ],
            [
             0.6,
             "#e6f5d0"
            ],
            [
             0.7,
             "#b8e186"
            ],
            [
             0.8,
             "#7fbc41"
            ],
            [
             0.9,
             "#4d9221"
            ],
            [
             1,
             "#276419"
            ]
           ],
           "sequential": [
            [
             0,
             "#0d0887"
            ],
            [
             0.1111111111111111,
             "#46039f"
            ],
            [
             0.2222222222222222,
             "#7201a8"
            ],
            [
             0.3333333333333333,
             "#9c179e"
            ],
            [
             0.4444444444444444,
             "#bd3786"
            ],
            [
             0.5555555555555556,
             "#d8576b"
            ],
            [
             0.6666666666666666,
             "#ed7953"
            ],
            [
             0.7777777777777778,
             "#fb9f3a"
            ],
            [
             0.8888888888888888,
             "#fdca26"
            ],
            [
             1,
             "#f0f921"
            ]
           ],
           "sequentialminus": [
            [
             0,
             "#0d0887"
            ],
            [
             0.1111111111111111,
             "#46039f"
            ],
            [
             0.2222222222222222,
             "#7201a8"
            ],
            [
             0.3333333333333333,
             "#9c179e"
            ],
            [
             0.4444444444444444,
             "#bd3786"
            ],
            [
             0.5555555555555556,
             "#d8576b"
            ],
            [
             0.6666666666666666,
             "#ed7953"
            ],
            [
             0.7777777777777778,
             "#fb9f3a"
            ],
            [
             0.8888888888888888,
             "#fdca26"
            ],
            [
             1,
             "#f0f921"
            ]
           ]
          },
          "colorway": [
           "#636efa",
           "#EF553B",
           "#00cc96",
           "#ab63fa",
           "#FFA15A",
           "#19d3f3",
           "#FF6692",
           "#B6E880",
           "#FF97FF",
           "#FECB52"
          ],
          "font": {
           "color": "#2a3f5f"
          },
          "geo": {
           "bgcolor": "white",
           "lakecolor": "white",
           "landcolor": "white",
           "showlakes": true,
           "showland": true,
           "subunitcolor": "#C8D4E3"
          },
          "hoverlabel": {
           "align": "left"
          },
          "hovermode": "closest",
          "mapbox": {
           "style": "light"
          },
          "paper_bgcolor": "white",
          "plot_bgcolor": "white",
          "polar": {
           "angularaxis": {
            "gridcolor": "#EBF0F8",
            "linecolor": "#EBF0F8",
            "ticks": ""
           },
           "bgcolor": "white",
           "radialaxis": {
            "gridcolor": "#EBF0F8",
            "linecolor": "#EBF0F8",
            "ticks": ""
           }
          },
          "scene": {
           "xaxis": {
            "backgroundcolor": "white",
            "gridcolor": "#DFE8F3",
            "gridwidth": 2,
            "linecolor": "#EBF0F8",
            "showbackground": true,
            "ticks": "",
            "zerolinecolor": "#EBF0F8"
           },
           "yaxis": {
            "backgroundcolor": "white",
            "gridcolor": "#DFE8F3",
            "gridwidth": 2,
            "linecolor": "#EBF0F8",
            "showbackground": true,
            "ticks": "",
            "zerolinecolor": "#EBF0F8"
           },
           "zaxis": {
            "backgroundcolor": "white",
            "gridcolor": "#DFE8F3",
            "gridwidth": 2,
            "linecolor": "#EBF0F8",
            "showbackground": true,
            "ticks": "",
            "zerolinecolor": "#EBF0F8"
           }
          },
          "shapedefaults": {
           "line": {
            "color": "#2a3f5f"
           }
          },
          "ternary": {
           "aaxis": {
            "gridcolor": "#DFE8F3",
            "linecolor": "#A2B1C6",
            "ticks": ""
           },
           "baxis": {
            "gridcolor": "#DFE8F3",
            "linecolor": "#A2B1C6",
            "ticks": ""
           },
           "bgcolor": "white",
           "caxis": {
            "gridcolor": "#DFE8F3",
            "linecolor": "#A2B1C6",
            "ticks": ""
           }
          },
          "title": {
           "x": 0.05
          },
          "xaxis": {
           "automargin": true,
           "gridcolor": "#EBF0F8",
           "linecolor": "#EBF0F8",
           "ticks": "",
           "title": {
            "standoff": 15
           },
           "zerolinecolor": "#EBF0F8",
           "zerolinewidth": 2
          },
          "yaxis": {
           "automargin": true,
           "gridcolor": "#EBF0F8",
           "linecolor": "#EBF0F8",
           "ticks": "",
           "title": {
            "standoff": 15
           },
           "zerolinecolor": "#EBF0F8",
           "zerolinewidth": 2
          }
         }
        },
        "title": {
         "text": "Job Interest Breakdown by Career Category"
        },
        "width": 800
       }
      }
     },
     "metadata": {},
     "output_type": "display_data"
    }
   ],
   "source": [
    "jobs_desired = {\n",
    "    'Healthcare & Wellness': 35,\n",
    "    'Business & Finance': 28,\n",
    "    'Technology & IT': 15,\n",
    "    'Law & Public Safety': 14,\n",
    "    'Education & Human Services': 13,\n",
    "    'Creative Arts & Media': 10,\n",
    "    'Trades & Skilled Labor': 8,\n",
    "    'Science & Research (General)': 5,\n",
    "    'Other/Vague': 4\n",
    "}\n",
    "\n",
    "df_job = pl.DataFrame({\"Job\": jobs_desired.keys(), \"count\": jobs_desired.values()})\n",
    "\n",
    "fig = go.Figure(\n",
    "    data=[\n",
    "        go.Pie(\n",
    "            labels=df_job[\"Job\"],\n",
    "            values=df_job[\"count\"],\n",
    "            hole=0.4,  # Set to 0.4 for a donut chart\n",
    "            textinfo='percent+label',  # Options: 'label', 'value', 'percent', 'label+percent'\n",
    "        )\n",
    "    ]\n",
    ")\n",
    "\n",
    "fig.update_layout(\n",
    "    title=\"Job Interest Breakdown by Career Category\",\n",
    "    template=\"plotly_white\",\n",
    "    width = 800,\n",
    "    height = 500\n",
    ")\n",
    "\n",
    "fig.show()"
   ]
  },
  {
   "cell_type": "code",
   "execution_count": 30,
   "id": "9da2e311",
   "metadata": {},
   "outputs": [],
   "source": [
    "sc = df.select(mappings.score_card + [\"College Student\", \"Gender\", \"Count\"])\n",
    "sc = sc.with_columns([\n",
    "    pl.col(col).replace(mappings.entry_standardization_mapping).replace(mappings.skill_rating_map).cast(pl.Int32).alias(col)\n",
    "    for col in mappings.score_card\n",
    "])\n",
    "\n",
    "r_map = {v:k for k,v in mappings.score_card_colname_name_mapping.items()}\n",
    "\n",
    "sc = sc.unpivot(on=mappings.score_card, index=[\"College Student\", \"Gender\", \"Count\"], value_name=\"Rating\", variable_name=\"Question\").with_columns(pl.col(\"Question\").replace(r_map))"
   ]
  },
  {
   "cell_type": "code",
   "execution_count": 31,
   "id": "ebcbe92e",
   "metadata": {},
   "outputs": [
    {
     "name": "stderr",
     "output_type": "stream",
     "text": [
      "/usr/lib/python3/dist-packages/plotly/express/_core.py:1992: FutureWarning:\n",
      "\n",
      "When grouping with a length-1 list-like, you will need to pass a length-1 tuple to get_group in a future version of pandas. Pass `(name,)` instead of `name` to silence this warning.\n",
      "\n"
     ]
    },
    {
     "data": {
      "application/vnd.plotly.v1+json": {
       "config": {
        "plotlyServerURL": "https://plot.ly"
       },
       "data": [
        {
         "alignmentgroup": "True",
         "bingroup": "x",
         "histfunc": "avg",
         "hovertemplate": "College Student=True<br>Question=%{x}<br>avg of Rating=%{y}<extra></extra>",
         "legendgroup": "True",
         "marker": {
          "color": "#636efa",
          "pattern": {
           "shape": ""
          }
         },
         "name": "True",
         "offsetgroup": "True",
         "orientation": "v",
         "showlegend": true,
         "textfont": {
          "size": 12
         },
         "textposition": "inside",
         "type": "histogram",
         "x": [
          "Resilience",
          "Resilience",
          "Resilience",
          "Resilience",
          "Resilience",
          "Resilience",
          "Resilience",
          "Resilience",
          "Resilience",
          "Resilience",
          "Resilience",
          "Resilience",
          "Resilience",
          "Resilience",
          "Resilience",
          "Resilience",
          "Resilience",
          "Resilience",
          "Resilience",
          "Resilience",
          "Resilience",
          "Resilience",
          "Resilience",
          "Resilience",
          "Resilience",
          "Resilience",
          "Resilience",
          "Resilience",
          "Resilience",
          "Resilience",
          "Resilience",
          "Resilience",
          "Resilience",
          "Resilience",
          "Resilience",
          "Resilience",
          "Resilience",
          "Resilience",
          "Resilience",
          "Resilience",
          "Resilience",
          "Resilience",
          "Resilience",
          "Resilience",
          "Resilience",
          "Resilience",
          "Resilience",
          "Resilience",
          "Resilience",
          "Resilience",
          "Resilience",
          "Resilience",
          "Resilience",
          "Stress Level",
          "Stress Level",
          "Stress Level",
          "Stress Level",
          "Stress Level",
          "Stress Level",
          "Stress Level",
          "Stress Level",
          "Stress Level",
          "Stress Level",
          "Stress Level",
          "Stress Level",
          "Stress Level",
          "Stress Level",
          "Stress Level",
          "Stress Level",
          "Stress Level",
          "Stress Level",
          "Stress Level",
          "Stress Level",
          "Stress Level",
          "Stress Level",
          "Stress Level",
          "Stress Level",
          "Stress Level",
          "Stress Level",
          "Stress Level",
          "Stress Level",
          "Stress Level",
          "Stress Level",
          "Stress Level",
          "Stress Level",
          "Stress Level",
          "Stress Level",
          "Stress Level",
          "Stress Level",
          "Stress Level",
          "Stress Level",
          "Stress Level",
          "Stress Level",
          "Stress Level",
          "Stress Level",
          "Stress Level",
          "Stress Level",
          "Stress Level",
          "Stress Level",
          "Stress Level",
          "Stress Level",
          "Stress Level",
          "Stress Level",
          "Stress Level",
          "Stress Level",
          "Stress Level",
          "Communication",
          "Communication",
          "Communication",
          "Communication",
          "Communication",
          "Communication",
          "Communication",
          "Communication",
          "Communication",
          "Communication",
          "Communication",
          "Communication",
          "Communication",
          "Communication",
          "Communication",
          "Communication",
          "Communication",
          "Communication",
          "Communication",
          "Communication",
          "Communication",
          "Communication",
          "Communication",
          "Communication",
          "Communication",
          "Communication",
          "Communication",
          "Communication",
          "Communication",
          "Communication",
          "Communication",
          "Communication",
          "Communication",
          "Communication",
          "Communication",
          "Communication",
          "Communication",
          "Communication",
          "Communication",
          "Communication",
          "Communication",
          "Communication",
          "Communication",
          "Communication",
          "Communication",
          "Communication",
          "Communication",
          "Communication",
          "Communication",
          "Communication",
          "Communication",
          "Communication",
          "Communication",
          "Motivation",
          "Motivation",
          "Motivation",
          "Motivation",
          "Motivation",
          "Motivation",
          "Motivation",
          "Motivation",
          "Motivation",
          "Motivation",
          "Motivation",
          "Motivation",
          "Motivation",
          "Motivation",
          "Motivation",
          "Motivation",
          "Motivation",
          "Motivation",
          "Motivation",
          "Motivation",
          "Motivation",
          "Motivation",
          "Motivation",
          "Motivation",
          "Motivation",
          "Motivation",
          "Motivation",
          "Motivation",
          "Motivation",
          "Motivation",
          "Motivation",
          "Motivation",
          "Motivation",
          "Motivation",
          "Motivation",
          "Motivation",
          "Motivation",
          "Motivation",
          "Motivation",
          "Motivation",
          "Motivation",
          "Motivation",
          "Motivation",
          "Motivation",
          "Motivation",
          "Motivation",
          "Motivation",
          "Motivation",
          "Motivation",
          "Motivation",
          "Motivation",
          "Motivation",
          "Motivation",
          "Focus & Productivity",
          "Focus & Productivity",
          "Focus & Productivity",
          "Focus & Productivity",
          "Focus & Productivity",
          "Focus & Productivity",
          "Focus & Productivity",
          "Focus & Productivity",
          "Focus & Productivity",
          "Focus & Productivity",
          "Focus & Productivity",
          "Focus & Productivity",
          "Focus & Productivity",
          "Focus & Productivity",
          "Focus & Productivity",
          "Focus & Productivity",
          "Focus & Productivity",
          "Focus & Productivity",
          "Focus & Productivity",
          "Focus & Productivity",
          "Focus & Productivity",
          "Focus & Productivity",
          "Focus & Productivity",
          "Focus & Productivity",
          "Focus & Productivity",
          "Focus & Productivity",
          "Focus & Productivity",
          "Focus & Productivity",
          "Focus & Productivity",
          "Focus & Productivity",
          "Focus & Productivity",
          "Focus & Productivity",
          "Focus & Productivity",
          "Focus & Productivity",
          "Focus & Productivity",
          "Focus & Productivity",
          "Focus & Productivity",
          "Focus & Productivity",
          "Focus & Productivity",
          "Focus & Productivity",
          "Focus & Productivity",
          "Focus & Productivity",
          "Focus & Productivity",
          "Focus & Productivity",
          "Focus & Productivity",
          "Focus & Productivity",
          "Focus & Productivity",
          "Focus & Productivity",
          "Focus & Productivity",
          "Focus & Productivity",
          "Focus & Productivity",
          "Focus & Productivity",
          "Focus & Productivity",
          "Budgeting Skill",
          "Budgeting Skill",
          "Budgeting Skill",
          "Budgeting Skill",
          "Budgeting Skill",
          "Budgeting Skill",
          "Budgeting Skill",
          "Budgeting Skill",
          "Budgeting Skill",
          "Budgeting Skill",
          "Budgeting Skill",
          "Budgeting Skill",
          "Budgeting Skill",
          "Budgeting Skill",
          "Budgeting Skill",
          "Budgeting Skill",
          "Budgeting Skill",
          "Budgeting Skill",
          "Budgeting Skill",
          "Budgeting Skill",
          "Budgeting Skill",
          "Budgeting Skill",
          "Budgeting Skill",
          "Budgeting Skill",
          "Budgeting Skill",
          "Budgeting Skill",
          "Budgeting Skill",
          "Budgeting Skill",
          "Budgeting Skill",
          "Budgeting Skill",
          "Budgeting Skill",
          "Budgeting Skill",
          "Budgeting Skill",
          "Budgeting Skill",
          "Budgeting Skill",
          "Budgeting Skill",
          "Budgeting Skill",
          "Budgeting Skill",
          "Budgeting Skill",
          "Budgeting Skill",
          "Budgeting Skill",
          "Budgeting Skill",
          "Budgeting Skill",
          "Budgeting Skill",
          "Budgeting Skill",
          "Budgeting Skill",
          "Budgeting Skill",
          "Budgeting Skill",
          "Budgeting Skill",
          "Budgeting Skill",
          "Budgeting Skill",
          "Budgeting Skill",
          "Budgeting Skill",
          "Credit Knowledge",
          "Credit Knowledge",
          "Credit Knowledge",
          "Credit Knowledge",
          "Credit Knowledge",
          "Credit Knowledge",
          "Credit Knowledge",
          "Credit Knowledge",
          "Credit Knowledge",
          "Credit Knowledge",
          "Credit Knowledge",
          "Credit Knowledge",
          "Credit Knowledge",
          "Credit Knowledge",
          "Credit Knowledge",
          "Credit Knowledge",
          "Credit Knowledge",
          "Credit Knowledge",
          "Credit Knowledge",
          "Credit Knowledge",
          "Credit Knowledge",
          "Credit Knowledge",
          "Credit Knowledge",
          "Credit Knowledge",
          "Credit Knowledge",
          "Credit Knowledge",
          "Credit Knowledge",
          "Credit Knowledge",
          "Credit Knowledge",
          "Credit Knowledge",
          "Credit Knowledge",
          "Credit Knowledge",
          "Credit Knowledge",
          "Credit Knowledge",
          "Credit Knowledge",
          "Credit Knowledge",
          "Credit Knowledge",
          "Credit Knowledge",
          "Credit Knowledge",
          "Credit Knowledge",
          "Credit Knowledge",
          "Credit Knowledge",
          "Credit Knowledge",
          "Credit Knowledge",
          "Credit Knowledge",
          "Credit Knowledge",
          "Credit Knowledge",
          "Credit Knowledge",
          "Credit Knowledge",
          "Credit Knowledge",
          "Credit Knowledge",
          "Credit Knowledge",
          "Credit Knowledge",
          "Professional Presence",
          "Professional Presence",
          "Professional Presence",
          "Professional Presence",
          "Professional Presence",
          "Professional Presence",
          "Professional Presence",
          "Professional Presence",
          "Professional Presence",
          "Professional Presence",
          "Professional Presence",
          "Professional Presence",
          "Professional Presence",
          "Professional Presence",
          "Professional Presence",
          "Professional Presence",
          "Professional Presence",
          "Professional Presence",
          "Professional Presence",
          "Professional Presence",
          "Professional Presence",
          "Professional Presence",
          "Professional Presence",
          "Professional Presence",
          "Professional Presence",
          "Professional Presence",
          "Professional Presence",
          "Professional Presence",
          "Professional Presence",
          "Professional Presence",
          "Professional Presence",
          "Professional Presence",
          "Professional Presence",
          "Professional Presence",
          "Professional Presence",
          "Professional Presence",
          "Professional Presence",
          "Professional Presence",
          "Professional Presence",
          "Professional Presence",
          "Professional Presence",
          "Professional Presence",
          "Professional Presence",
          "Professional Presence",
          "Professional Presence",
          "Professional Presence",
          "Professional Presence",
          "Professional Presence",
          "Professional Presence",
          "Professional Presence",
          "Professional Presence",
          "Professional Presence",
          "Professional Presence"
         ],
         "xaxis": "x",
         "y": [
          4,
          4,
          5,
          5,
          5,
          3,
          3,
          4,
          4,
          5,
          5,
          4,
          4,
          5,
          4,
          5,
          4,
          4,
          5,
          3,
          4,
          1,
          3,
          4,
          5,
          4,
          4,
          5,
          4,
          4,
          3,
          4,
          5,
          4,
          5,
          5,
          4,
          5,
          5,
          4,
          5,
          4,
          4,
          3,
          3,
          5,
          5,
          2,
          4,
          5,
          3,
          3,
          4,
          5,
          3,
          3,
          2,
          4,
          5,
          2,
          3,
          3,
          5,
          3,
          2,
          4,
          4,
          5,
          3,
          2,
          2,
          3,
          2,
          3,
          1,
          4,
          5,
          4,
          3,
          3,
          3,
          4,
          3,
          4,
          4,
          3,
          2,
          4,
          2,
          3,
          1,
          2,
          3,
          4,
          3,
          3,
          3,
          4,
          3,
          3,
          5,
          3,
          3,
          3,
          3,
          4,
          4,
          2,
          5,
          3,
          5,
          5,
          4,
          4,
          1,
          4,
          4,
          4,
          3,
          4,
          4,
          5,
          4,
          5,
          4,
          2,
          4,
          1,
          3,
          4,
          5,
          4,
          5,
          4,
          3,
          4,
          4,
          4,
          5,
          4,
          5,
          2,
          4,
          4,
          3,
          4,
          5,
          4,
          2,
          4,
          5,
          4,
          5,
          4,
          5,
          5,
          3,
          3,
          4,
          4,
          5,
          5,
          5,
          5,
          3,
          4,
          3,
          4,
          5,
          5,
          5,
          3,
          4,
          4,
          5,
          4,
          4,
          5,
          3,
          4,
          1,
          3,
          5,
          5,
          4,
          5,
          5,
          3,
          4,
          3,
          3,
          5,
          4,
          5,
          5,
          5,
          5,
          4,
          3,
          5,
          4,
          5,
          3,
          5,
          4,
          5,
          4,
          4,
          5,
          4,
          4,
          2,
          4,
          3,
          5,
          4,
          5,
          2,
          3,
          3,
          4,
          5,
          4,
          5,
          4,
          3,
          4,
          5,
          4,
          3,
          5,
          3,
          4,
          1,
          3,
          5,
          5,
          4,
          4,
          4,
          4,
          4,
          3,
          3,
          5,
          3,
          5,
          5,
          4,
          5,
          4,
          3,
          5,
          4,
          5,
          3,
          4,
          4,
          5,
          4,
          3,
          4,
          4,
          4,
          3,
          5,
          4,
          4,
          4,
          4,
          3,
          5,
          3,
          4,
          4,
          3,
          3,
          2,
          3,
          5,
          3,
          4,
          4,
          4,
          2,
          4,
          1,
          3,
          4,
          3,
          5,
          5,
          5,
          4,
          3,
          3,
          5,
          3,
          5,
          5,
          2,
          3,
          4,
          5,
          4,
          5,
          4,
          2,
          3,
          1,
          4,
          5,
          4,
          4,
          4,
          3,
          3,
          2,
          3,
          3,
          4,
          3,
          3,
          3,
          3,
          2,
          3,
          3,
          2,
          1,
          3,
          2,
          3,
          2,
          1,
          3,
          3,
          2,
          4,
          1,
          1,
          4,
          5,
          3,
          3,
          4,
          3,
          3,
          2,
          4,
          2,
          4,
          5,
          1,
          4,
          3,
          3,
          3,
          5,
          3,
          2,
          2,
          2,
          3,
          5,
          4,
          3,
          3,
          3,
          5,
          4,
          4,
          3,
          5,
          5,
          5,
          4,
          4,
          4,
          3,
          5,
          4,
          5,
          4,
          5,
          4,
          5,
          5,
          5,
          5,
          3,
          4,
          1,
          3,
          4,
          5,
          4,
          5,
          5,
          4,
          5,
          4,
          4,
          5,
          4,
          5,
          5,
          5,
          5,
          5,
          4,
          5,
          5,
          4,
          4,
          5,
          4,
          5,
          4,
          4,
          5,
          4,
          3,
          4
         ],
         "yaxis": "y"
        },
        {
         "alignmentgroup": "True",
         "bingroup": "x",
         "histfunc": "avg",
         "hovertemplate": "College Student=False<br>Question=%{x}<br>avg of Rating=%{y}<extra></extra>",
         "legendgroup": "False",
         "marker": {
          "color": "#EF553B",
          "pattern": {
           "shape": ""
          }
         },
         "name": "False",
         "offsetgroup": "False",
         "orientation": "v",
         "showlegend": true,
         "textfont": {
          "size": 12
         },
         "textposition": "inside",
         "type": "histogram",
         "x": [
          "Resilience",
          "Resilience",
          "Resilience",
          "Resilience",
          "Resilience",
          "Resilience",
          "Resilience",
          "Resilience",
          "Resilience",
          "Resilience",
          "Resilience",
          "Resilience",
          "Resilience",
          "Resilience",
          "Resilience",
          "Resilience",
          "Resilience",
          "Resilience",
          "Resilience",
          "Resilience",
          "Resilience",
          "Resilience",
          "Resilience",
          "Resilience",
          "Resilience",
          "Resilience",
          "Resilience",
          "Resilience",
          "Resilience",
          "Resilience",
          "Resilience",
          "Resilience",
          "Resilience",
          "Resilience",
          "Resilience",
          "Resilience",
          "Resilience",
          "Resilience",
          "Resilience",
          "Resilience",
          "Resilience",
          "Resilience",
          "Resilience",
          "Resilience",
          "Stress Level",
          "Stress Level",
          "Stress Level",
          "Stress Level",
          "Stress Level",
          "Stress Level",
          "Stress Level",
          "Stress Level",
          "Stress Level",
          "Stress Level",
          "Stress Level",
          "Stress Level",
          "Stress Level",
          "Stress Level",
          "Stress Level",
          "Stress Level",
          "Stress Level",
          "Stress Level",
          "Stress Level",
          "Stress Level",
          "Stress Level",
          "Stress Level",
          "Stress Level",
          "Stress Level",
          "Stress Level",
          "Stress Level",
          "Stress Level",
          "Stress Level",
          "Stress Level",
          "Stress Level",
          "Stress Level",
          "Stress Level",
          "Stress Level",
          "Stress Level",
          "Stress Level",
          "Stress Level",
          "Stress Level",
          "Stress Level",
          "Stress Level",
          "Stress Level",
          "Stress Level",
          "Stress Level",
          "Stress Level",
          "Stress Level",
          "Communication",
          "Communication",
          "Communication",
          "Communication",
          "Communication",
          "Communication",
          "Communication",
          "Communication",
          "Communication",
          "Communication",
          "Communication",
          "Communication",
          "Communication",
          "Communication",
          "Communication",
          "Communication",
          "Communication",
          "Communication",
          "Communication",
          "Communication",
          "Communication",
          "Communication",
          "Communication",
          "Communication",
          "Communication",
          "Communication",
          "Communication",
          "Communication",
          "Communication",
          "Communication",
          "Communication",
          "Communication",
          "Communication",
          "Communication",
          "Communication",
          "Communication",
          "Communication",
          "Communication",
          "Communication",
          "Communication",
          "Communication",
          "Communication",
          "Communication",
          "Communication",
          "Motivation",
          "Motivation",
          "Motivation",
          "Motivation",
          "Motivation",
          "Motivation",
          "Motivation",
          "Motivation",
          "Motivation",
          "Motivation",
          "Motivation",
          "Motivation",
          "Motivation",
          "Motivation",
          "Motivation",
          "Motivation",
          "Motivation",
          "Motivation",
          "Motivation",
          "Motivation",
          "Motivation",
          "Motivation",
          "Motivation",
          "Motivation",
          "Motivation",
          "Motivation",
          "Motivation",
          "Motivation",
          "Motivation",
          "Motivation",
          "Motivation",
          "Motivation",
          "Motivation",
          "Motivation",
          "Motivation",
          "Motivation",
          "Motivation",
          "Motivation",
          "Motivation",
          "Motivation",
          "Motivation",
          "Motivation",
          "Motivation",
          "Motivation",
          "Focus & Productivity",
          "Focus & Productivity",
          "Focus & Productivity",
          "Focus & Productivity",
          "Focus & Productivity",
          "Focus & Productivity",
          "Focus & Productivity",
          "Focus & Productivity",
          "Focus & Productivity",
          "Focus & Productivity",
          "Focus & Productivity",
          "Focus & Productivity",
          "Focus & Productivity",
          "Focus & Productivity",
          "Focus & Productivity",
          "Focus & Productivity",
          "Focus & Productivity",
          "Focus & Productivity",
          "Focus & Productivity",
          "Focus & Productivity",
          "Focus & Productivity",
          "Focus & Productivity",
          "Focus & Productivity",
          "Focus & Productivity",
          "Focus & Productivity",
          "Focus & Productivity",
          "Focus & Productivity",
          "Focus & Productivity",
          "Focus & Productivity",
          "Focus & Productivity",
          "Focus & Productivity",
          "Focus & Productivity",
          "Focus & Productivity",
          "Focus & Productivity",
          "Focus & Productivity",
          "Focus & Productivity",
          "Focus & Productivity",
          "Focus & Productivity",
          "Focus & Productivity",
          "Focus & Productivity",
          "Focus & Productivity",
          "Focus & Productivity",
          "Focus & Productivity",
          "Focus & Productivity",
          "Budgeting Skill",
          "Budgeting Skill",
          "Budgeting Skill",
          "Budgeting Skill",
          "Budgeting Skill",
          "Budgeting Skill",
          "Budgeting Skill",
          "Budgeting Skill",
          "Budgeting Skill",
          "Budgeting Skill",
          "Budgeting Skill",
          "Budgeting Skill",
          "Budgeting Skill",
          "Budgeting Skill",
          "Budgeting Skill",
          "Budgeting Skill",
          "Budgeting Skill",
          "Budgeting Skill",
          "Budgeting Skill",
          "Budgeting Skill",
          "Budgeting Skill",
          "Budgeting Skill",
          "Budgeting Skill",
          "Budgeting Skill",
          "Budgeting Skill",
          "Budgeting Skill",
          "Budgeting Skill",
          "Budgeting Skill",
          "Budgeting Skill",
          "Budgeting Skill",
          "Budgeting Skill",
          "Budgeting Skill",
          "Budgeting Skill",
          "Budgeting Skill",
          "Budgeting Skill",
          "Budgeting Skill",
          "Budgeting Skill",
          "Budgeting Skill",
          "Budgeting Skill",
          "Budgeting Skill",
          "Budgeting Skill",
          "Budgeting Skill",
          "Budgeting Skill",
          "Budgeting Skill",
          "Credit Knowledge",
          "Credit Knowledge",
          "Credit Knowledge",
          "Credit Knowledge",
          "Credit Knowledge",
          "Credit Knowledge",
          "Credit Knowledge",
          "Credit Knowledge",
          "Credit Knowledge",
          "Credit Knowledge",
          "Credit Knowledge",
          "Credit Knowledge",
          "Credit Knowledge",
          "Credit Knowledge",
          "Credit Knowledge",
          "Credit Knowledge",
          "Credit Knowledge",
          "Credit Knowledge",
          "Credit Knowledge",
          "Credit Knowledge",
          "Credit Knowledge",
          "Credit Knowledge",
          "Credit Knowledge",
          "Credit Knowledge",
          "Credit Knowledge",
          "Credit Knowledge",
          "Credit Knowledge",
          "Credit Knowledge",
          "Credit Knowledge",
          "Credit Knowledge",
          "Credit Knowledge",
          "Credit Knowledge",
          "Credit Knowledge",
          "Credit Knowledge",
          "Credit Knowledge",
          "Credit Knowledge",
          "Credit Knowledge",
          "Credit Knowledge",
          "Credit Knowledge",
          "Credit Knowledge",
          "Credit Knowledge",
          "Credit Knowledge",
          "Credit Knowledge",
          "Credit Knowledge",
          "Professional Presence",
          "Professional Presence",
          "Professional Presence",
          "Professional Presence",
          "Professional Presence",
          "Professional Presence",
          "Professional Presence",
          "Professional Presence",
          "Professional Presence",
          "Professional Presence",
          "Professional Presence",
          "Professional Presence",
          "Professional Presence",
          "Professional Presence",
          "Professional Presence",
          "Professional Presence",
          "Professional Presence",
          "Professional Presence",
          "Professional Presence",
          "Professional Presence",
          "Professional Presence",
          "Professional Presence",
          "Professional Presence",
          "Professional Presence",
          "Professional Presence",
          "Professional Presence",
          "Professional Presence",
          "Professional Presence",
          "Professional Presence",
          "Professional Presence",
          "Professional Presence",
          "Professional Presence",
          "Professional Presence",
          "Professional Presence",
          "Professional Presence",
          "Professional Presence",
          "Professional Presence",
          "Professional Presence",
          "Professional Presence",
          "Professional Presence",
          "Professional Presence",
          "Professional Presence",
          "Professional Presence",
          "Professional Presence"
         ],
         "xaxis": "x",
         "y": [
          3,
          4,
          4,
          3,
          4,
          5,
          3,
          4,
          5,
          4,
          5,
          3,
          4,
          4,
          5,
          4,
          5,
          3,
          4,
          3,
          4,
          5,
          4,
          3,
          4,
          4,
          4,
          null,
          4,
          4,
          4,
          4,
          3,
          5,
          4,
          5,
          3,
          5,
          4,
          3,
          5,
          3,
          1,
          4,
          5,
          2,
          3,
          5,
          5,
          3,
          3,
          4,
          3,
          4,
          5,
          5,
          5,
          3,
          5,
          4,
          4,
          3,
          3,
          3,
          4,
          3,
          4,
          2,
          3,
          5,
          4,
          null,
          3,
          3,
          3,
          4,
          3,
          5,
          3,
          4,
          3,
          3,
          4,
          3,
          3,
          5,
          2,
          3,
          3,
          4,
          3,
          1,
          4,
          5,
          4,
          3,
          4,
          3,
          5,
          3,
          3,
          3,
          5,
          4,
          4,
          5,
          4,
          4,
          4,
          4,
          4,
          1,
          3,
          4,
          3,
          4,
          4,
          4,
          2,
          1,
          3,
          4,
          3,
          4,
          4,
          5,
          5,
          3,
          4,
          3,
          1,
          4,
          5,
          5,
          4,
          5,
          4,
          5,
          4,
          4,
          3,
          4,
          5,
          3,
          5,
          5,
          5,
          4,
          5,
          3,
          5,
          4,
          4,
          5,
          5,
          3,
          5,
          3,
          4,
          null,
          4,
          5,
          4,
          4,
          3,
          5,
          3,
          4,
          2,
          5,
          4,
          3,
          5,
          4,
          3,
          4,
          3,
          4,
          3,
          5,
          3,
          5,
          3,
          4,
          3,
          4,
          5,
          3,
          4,
          5,
          5,
          4,
          5,
          3,
          5,
          3,
          4,
          5,
          4,
          3,
          5,
          3,
          4,
          null,
          4,
          5,
          4,
          2,
          2,
          5,
          4,
          4,
          2,
          5,
          4,
          3,
          5,
          4,
          3,
          4,
          3,
          5,
          3,
          5,
          4,
          5,
          4,
          1,
          3,
          3,
          5,
          1,
          4,
          4,
          3,
          4,
          3,
          4,
          4,
          3,
          4,
          4,
          3,
          1,
          3,
          4,
          5,
          2,
          4,
          4,
          2,
          2,
          1,
          4,
          4,
          2,
          2,
          5,
          5,
          4,
          3,
          4,
          2,
          4,
          3,
          4,
          2,
          1,
          1,
          5,
          2,
          1,
          4,
          3,
          5,
          1,
          2,
          4,
          3,
          4,
          1,
          1,
          4,
          3,
          4,
          4,
          5,
          2,
          3,
          3,
          3,
          5,
          3,
          4,
          2,
          2,
          2,
          4,
          2,
          1,
          2,
          3,
          5,
          3,
          3,
          3,
          1,
          5,
          4,
          4,
          4,
          5,
          4,
          5,
          4,
          3,
          4,
          4,
          5,
          4,
          5,
          4,
          4,
          4,
          5,
          5,
          4,
          5,
          4,
          5,
          4,
          3,
          4,
          5,
          4,
          null,
          4,
          3,
          3,
          3,
          3,
          5,
          4,
          5,
          4,
          5,
          4,
          4,
          3,
          4,
          1,
          5
         ],
         "yaxis": "y"
        }
       ],
       "layout": {
        "barmode": "group",
        "height": 400,
        "legend": {
         "title": {
          "text": "College Student"
         },
         "tracegroupgap": 0
        },
        "margin": {
         "t": 60
        },
        "template": {
         "data": {
          "bar": [
           {
            "error_x": {
             "color": "#2a3f5f"
            },
            "error_y": {
             "color": "#2a3f5f"
            },
            "marker": {
             "line": {
              "color": "white",
              "width": 0.5
             },
             "pattern": {
              "fillmode": "overlay",
              "size": 10,
              "solidity": 0.2
             }
            },
            "type": "bar"
           }
          ],
          "barpolar": [
           {
            "marker": {
             "line": {
              "color": "white",
              "width": 0.5
             },
             "pattern": {
              "fillmode": "overlay",
              "size": 10,
              "solidity": 0.2
             }
            },
            "type": "barpolar"
           }
          ],
          "carpet": [
           {
            "aaxis": {
             "endlinecolor": "#2a3f5f",
             "gridcolor": "#C8D4E3",
             "linecolor": "#C8D4E3",
             "minorgridcolor": "#C8D4E3",
             "startlinecolor": "#2a3f5f"
            },
            "baxis": {
             "endlinecolor": "#2a3f5f",
             "gridcolor": "#C8D4E3",
             "linecolor": "#C8D4E3",
             "minorgridcolor": "#C8D4E3",
             "startlinecolor": "#2a3f5f"
            },
            "type": "carpet"
           }
          ],
          "choropleth": [
           {
            "colorbar": {
             "outlinewidth": 0,
             "ticks": ""
            },
            "type": "choropleth"
           }
          ],
          "contour": [
           {
            "colorbar": {
             "outlinewidth": 0,
             "ticks": ""
            },
            "colorscale": [
             [
              0,
              "#0d0887"
             ],
             [
              0.1111111111111111,
              "#46039f"
             ],
             [
              0.2222222222222222,
              "#7201a8"
             ],
             [
              0.3333333333333333,
              "#9c179e"
             ],
             [
              0.4444444444444444,
              "#bd3786"
             ],
             [
              0.5555555555555556,
              "#d8576b"
             ],
             [
              0.6666666666666666,
              "#ed7953"
             ],
             [
              0.7777777777777778,
              "#fb9f3a"
             ],
             [
              0.8888888888888888,
              "#fdca26"
             ],
             [
              1,
              "#f0f921"
             ]
            ],
            "type": "contour"
           }
          ],
          "contourcarpet": [
           {
            "colorbar": {
             "outlinewidth": 0,
             "ticks": ""
            },
            "type": "contourcarpet"
           }
          ],
          "heatmap": [
           {
            "colorbar": {
             "outlinewidth": 0,
             "ticks": ""
            },
            "colorscale": [
             [
              0,
              "#0d0887"
             ],
             [
              0.1111111111111111,
              "#46039f"
             ],
             [
              0.2222222222222222,
              "#7201a8"
             ],
             [
              0.3333333333333333,
              "#9c179e"
             ],
             [
              0.4444444444444444,
              "#bd3786"
             ],
             [
              0.5555555555555556,
              "#d8576b"
             ],
             [
              0.6666666666666666,
              "#ed7953"
             ],
             [
              0.7777777777777778,
              "#fb9f3a"
             ],
             [
              0.8888888888888888,
              "#fdca26"
             ],
             [
              1,
              "#f0f921"
             ]
            ],
            "type": "heatmap"
           }
          ],
          "heatmapgl": [
           {
            "colorbar": {
             "outlinewidth": 0,
             "ticks": ""
            },
            "colorscale": [
             [
              0,
              "#0d0887"
             ],
             [
              0.1111111111111111,
              "#46039f"
             ],
             [
              0.2222222222222222,
              "#7201a8"
             ],
             [
              0.3333333333333333,
              "#9c179e"
             ],
             [
              0.4444444444444444,
              "#bd3786"
             ],
             [
              0.5555555555555556,
              "#d8576b"
             ],
             [
              0.6666666666666666,
              "#ed7953"
             ],
             [
              0.7777777777777778,
              "#fb9f3a"
             ],
             [
              0.8888888888888888,
              "#fdca26"
             ],
             [
              1,
              "#f0f921"
             ]
            ],
            "type": "heatmapgl"
           }
          ],
          "histogram": [
           {
            "marker": {
             "pattern": {
              "fillmode": "overlay",
              "size": 10,
              "solidity": 0.2
             }
            },
            "type": "histogram"
           }
          ],
          "histogram2d": [
           {
            "colorbar": {
             "outlinewidth": 0,
             "ticks": ""
            },
            "colorscale": [
             [
              0,
              "#0d0887"
             ],
             [
              0.1111111111111111,
              "#46039f"
             ],
             [
              0.2222222222222222,
              "#7201a8"
             ],
             [
              0.3333333333333333,
              "#9c179e"
             ],
             [
              0.4444444444444444,
              "#bd3786"
             ],
             [
              0.5555555555555556,
              "#d8576b"
             ],
             [
              0.6666666666666666,
              "#ed7953"
             ],
             [
              0.7777777777777778,
              "#fb9f3a"
             ],
             [
              0.8888888888888888,
              "#fdca26"
             ],
             [
              1,
              "#f0f921"
             ]
            ],
            "type": "histogram2d"
           }
          ],
          "histogram2dcontour": [
           {
            "colorbar": {
             "outlinewidth": 0,
             "ticks": ""
            },
            "colorscale": [
             [
              0,
              "#0d0887"
             ],
             [
              0.1111111111111111,
              "#46039f"
             ],
             [
              0.2222222222222222,
              "#7201a8"
             ],
             [
              0.3333333333333333,
              "#9c179e"
             ],
             [
              0.4444444444444444,
              "#bd3786"
             ],
             [
              0.5555555555555556,
              "#d8576b"
             ],
             [
              0.6666666666666666,
              "#ed7953"
             ],
             [
              0.7777777777777778,
              "#fb9f3a"
             ],
             [
              0.8888888888888888,
              "#fdca26"
             ],
             [
              1,
              "#f0f921"
             ]
            ],
            "type": "histogram2dcontour"
           }
          ],
          "mesh3d": [
           {
            "colorbar": {
             "outlinewidth": 0,
             "ticks": ""
            },
            "type": "mesh3d"
           }
          ],
          "parcoords": [
           {
            "line": {
             "colorbar": {
              "outlinewidth": 0,
              "ticks": ""
             }
            },
            "type": "parcoords"
           }
          ],
          "pie": [
           {
            "automargin": true,
            "type": "pie"
           }
          ],
          "scatter": [
           {
            "fillpattern": {
             "fillmode": "overlay",
             "size": 10,
             "solidity": 0.2
            },
            "type": "scatter"
           }
          ],
          "scatter3d": [
           {
            "line": {
             "colorbar": {
              "outlinewidth": 0,
              "ticks": ""
             }
            },
            "marker": {
             "colorbar": {
              "outlinewidth": 0,
              "ticks": ""
             }
            },
            "type": "scatter3d"
           }
          ],
          "scattercarpet": [
           {
            "marker": {
             "colorbar": {
              "outlinewidth": 0,
              "ticks": ""
             }
            },
            "type": "scattercarpet"
           }
          ],
          "scattergeo": [
           {
            "marker": {
             "colorbar": {
              "outlinewidth": 0,
              "ticks": ""
             }
            },
            "type": "scattergeo"
           }
          ],
          "scattergl": [
           {
            "marker": {
             "colorbar": {
              "outlinewidth": 0,
              "ticks": ""
             }
            },
            "type": "scattergl"
           }
          ],
          "scattermapbox": [
           {
            "marker": {
             "colorbar": {
              "outlinewidth": 0,
              "ticks": ""
             }
            },
            "type": "scattermapbox"
           }
          ],
          "scatterpolar": [
           {
            "marker": {
             "colorbar": {
              "outlinewidth": 0,
              "ticks": ""
             }
            },
            "type": "scatterpolar"
           }
          ],
          "scatterpolargl": [
           {
            "marker": {
             "colorbar": {
              "outlinewidth": 0,
              "ticks": ""
             }
            },
            "type": "scatterpolargl"
           }
          ],
          "scatterternary": [
           {
            "marker": {
             "colorbar": {
              "outlinewidth": 0,
              "ticks": ""
             }
            },
            "type": "scatterternary"
           }
          ],
          "surface": [
           {
            "colorbar": {
             "outlinewidth": 0,
             "ticks": ""
            },
            "colorscale": [
             [
              0,
              "#0d0887"
             ],
             [
              0.1111111111111111,
              "#46039f"
             ],
             [
              0.2222222222222222,
              "#7201a8"
             ],
             [
              0.3333333333333333,
              "#9c179e"
             ],
             [
              0.4444444444444444,
              "#bd3786"
             ],
             [
              0.5555555555555556,
              "#d8576b"
             ],
             [
              0.6666666666666666,
              "#ed7953"
             ],
             [
              0.7777777777777778,
              "#fb9f3a"
             ],
             [
              0.8888888888888888,
              "#fdca26"
             ],
             [
              1,
              "#f0f921"
             ]
            ],
            "type": "surface"
           }
          ],
          "table": [
           {
            "cells": {
             "fill": {
              "color": "#EBF0F8"
             },
             "line": {
              "color": "white"
             }
            },
            "header": {
             "fill": {
              "color": "#C8D4E3"
             },
             "line": {
              "color": "white"
             }
            },
            "type": "table"
           }
          ]
         },
         "layout": {
          "annotationdefaults": {
           "arrowcolor": "#2a3f5f",
           "arrowhead": 0,
           "arrowwidth": 1
          },
          "autotypenumbers": "strict",
          "coloraxis": {
           "colorbar": {
            "outlinewidth": 0,
            "ticks": ""
           }
          },
          "colorscale": {
           "diverging": [
            [
             0,
             "#8e0152"
            ],
            [
             0.1,
             "#c51b7d"
            ],
            [
             0.2,
             "#de77ae"
            ],
            [
             0.3,
             "#f1b6da"
            ],
            [
             0.4,
             "#fde0ef"
            ],
            [
             0.5,
             "#f7f7f7"
            ],
            [
             0.6,
             "#e6f5d0"
            ],
            [
             0.7,
             "#b8e186"
            ],
            [
             0.8,
             "#7fbc41"
            ],
            [
             0.9,
             "#4d9221"
            ],
            [
             1,
             "#276419"
            ]
           ],
           "sequential": [
            [
             0,
             "#0d0887"
            ],
            [
             0.1111111111111111,
             "#46039f"
            ],
            [
             0.2222222222222222,
             "#7201a8"
            ],
            [
             0.3333333333333333,
             "#9c179e"
            ],
            [
             0.4444444444444444,
             "#bd3786"
            ],
            [
             0.5555555555555556,
             "#d8576b"
            ],
            [
             0.6666666666666666,
             "#ed7953"
            ],
            [
             0.7777777777777778,
             "#fb9f3a"
            ],
            [
             0.8888888888888888,
             "#fdca26"
            ],
            [
             1,
             "#f0f921"
            ]
           ],
           "sequentialminus": [
            [
             0,
             "#0d0887"
            ],
            [
             0.1111111111111111,
             "#46039f"
            ],
            [
             0.2222222222222222,
             "#7201a8"
            ],
            [
             0.3333333333333333,
             "#9c179e"
            ],
            [
             0.4444444444444444,
             "#bd3786"
            ],
            [
             0.5555555555555556,
             "#d8576b"
            ],
            [
             0.6666666666666666,
             "#ed7953"
            ],
            [
             0.7777777777777778,
             "#fb9f3a"
            ],
            [
             0.8888888888888888,
             "#fdca26"
            ],
            [
             1,
             "#f0f921"
            ]
           ]
          },
          "colorway": [
           "#636efa",
           "#EF553B",
           "#00cc96",
           "#ab63fa",
           "#FFA15A",
           "#19d3f3",
           "#FF6692",
           "#B6E880",
           "#FF97FF",
           "#FECB52"
          ],
          "font": {
           "color": "#2a3f5f"
          },
          "geo": {
           "bgcolor": "white",
           "lakecolor": "white",
           "landcolor": "white",
           "showlakes": true,
           "showland": true,
           "subunitcolor": "#C8D4E3"
          },
          "hoverlabel": {
           "align": "left"
          },
          "hovermode": "closest",
          "mapbox": {
           "style": "light"
          },
          "paper_bgcolor": "white",
          "plot_bgcolor": "white",
          "polar": {
           "angularaxis": {
            "gridcolor": "#EBF0F8",
            "linecolor": "#EBF0F8",
            "ticks": ""
           },
           "bgcolor": "white",
           "radialaxis": {
            "gridcolor": "#EBF0F8",
            "linecolor": "#EBF0F8",
            "ticks": ""
           }
          },
          "scene": {
           "xaxis": {
            "backgroundcolor": "white",
            "gridcolor": "#DFE8F3",
            "gridwidth": 2,
            "linecolor": "#EBF0F8",
            "showbackground": true,
            "ticks": "",
            "zerolinecolor": "#EBF0F8"
           },
           "yaxis": {
            "backgroundcolor": "white",
            "gridcolor": "#DFE8F3",
            "gridwidth": 2,
            "linecolor": "#EBF0F8",
            "showbackground": true,
            "ticks": "",
            "zerolinecolor": "#EBF0F8"
           },
           "zaxis": {
            "backgroundcolor": "white",
            "gridcolor": "#DFE8F3",
            "gridwidth": 2,
            "linecolor": "#EBF0F8",
            "showbackground": true,
            "ticks": "",
            "zerolinecolor": "#EBF0F8"
           }
          },
          "shapedefaults": {
           "line": {
            "color": "#2a3f5f"
           }
          },
          "ternary": {
           "aaxis": {
            "gridcolor": "#DFE8F3",
            "linecolor": "#A2B1C6",
            "ticks": ""
           },
           "baxis": {
            "gridcolor": "#DFE8F3",
            "linecolor": "#A2B1C6",
            "ticks": ""
           },
           "bgcolor": "white",
           "caxis": {
            "gridcolor": "#DFE8F3",
            "linecolor": "#A2B1C6",
            "ticks": ""
           }
          },
          "title": {
           "x": 0.05
          },
          "xaxis": {
           "automargin": true,
           "gridcolor": "#EBF0F8",
           "linecolor": "#EBF0F8",
           "ticks": "",
           "title": {
            "standoff": 15
           },
           "zerolinecolor": "#EBF0F8",
           "zerolinewidth": 2
          },
          "yaxis": {
           "automargin": true,
           "gridcolor": "#EBF0F8",
           "linecolor": "#EBF0F8",
           "ticks": "",
           "title": {
            "standoff": 15
           },
           "zerolinecolor": "#EBF0F8",
           "zerolinewidth": 2
          }
         }
        },
        "xaxis": {
         "anchor": "y",
         "domain": [
          0,
          1
         ],
         "title": {
          "text": "Question"
         }
        },
        "yaxis": {
         "anchor": "x",
         "domain": [
          0,
          1
         ],
         "title": {
          "text": "Mean Rating"
         }
        }
       }
      }
     },
     "metadata": {},
     "output_type": "display_data"
    }
   ],
   "source": [
    "fig = px.histogram(sc, x=\"Question\", y=\"Rating\",\n",
    "             color='College Student', barmode='group', \n",
    "             height=400, histfunc = \"avg\")\n",
    "fig.update_traces(textfont_size=12, textposition=\"inside\")\n",
    "fig.update_layout(yaxis_title=\"Mean Rating\")\n",
    "fig.show()"
   ]
  },
  {
   "cell_type": "code",
   "execution_count": 34,
   "id": "fc722373",
   "metadata": {},
   "outputs": [
    {
     "data": {
      "text/html": [
       "<div><style>\n",
       ".dataframe > thead > tr,\n",
       ".dataframe > tbody > tr {\n",
       "  text-align: right;\n",
       "  white-space: pre-wrap;\n",
       "}\n",
       "</style>\n",
       "<small>shape: (4, 3)</small><table border=\"1\" class=\"dataframe\"><thead><tr><th>How often do you save money *(beyond daily spending)*?</th><th>len</th><th>prop</th></tr><tr><td>str</td><td>u32</td><td>f64</td></tr></thead><tbody><tr><td>&quot;Sometimes, when I can&quot;</td><td>39</td><td>0.39</td></tr><tr><td>&quot;Rarely or never&quot;</td><td>5</td><td>0.05</td></tr><tr><td>&quot;I save with a specific financi…</td><td>28</td><td>0.28</td></tr><tr><td>&quot;I try to save consistently&quot;</td><td>28</td><td>0.28</td></tr></tbody></table></div>"
      ],
      "text/plain": [
       "shape: (4, 3)\n",
       "┌─────────────────────────────────┬─────┬──────┐\n",
       "│ How often do you save money *(… ┆ len ┆ prop │\n",
       "│ ---                             ┆ --- ┆ ---  │\n",
       "│ str                             ┆ u32 ┆ f64  │\n",
       "╞═════════════════════════════════╪═════╪══════╡\n",
       "│ Sometimes, when I can           ┆ 39  ┆ 0.39 │\n",
       "│ Rarely or never                 ┆ 5   ┆ 0.05 │\n",
       "│ I save with a specific financi… ┆ 28  ┆ 0.28 │\n",
       "│ I try to save consistently      ┆ 28  ┆ 0.28 │\n",
       "└─────────────────────────────────┴─────┴──────┘"
      ]
     },
     "execution_count": 34,
     "metadata": {},
     "output_type": "execute_result"
    }
   ],
   "source": [
    "df_prop(df, \"How often do you save money *(beyond daily spending)*?\", 100)"
   ]
  },
  {
   "cell_type": "code",
   "execution_count": 45,
   "id": "623b0824",
   "metadata": {},
   "outputs": [
    {
     "name": "stderr",
     "output_type": "stream",
     "text": [
      "/usr/lib/python3/dist-packages/plotly/express/_core.py:1992: FutureWarning:\n",
      "\n",
      "When grouping with a length-1 list-like, you will need to pass a length-1 tuple to get_group in a future version of pandas. Pass `(name,)` instead of `name` to silence this warning.\n",
      "\n"
     ]
    },
    {
     "data": {
      "application/vnd.plotly.v1+json": {
       "config": {
        "plotlyServerURL": "https://plot.ly"
       },
       "data": [
        {
         "alignmentgroup": "True",
         "bingroup": "x",
         "histfunc": "sum",
         "hovertemplate": "College Student=True<br>How often do you save money *(beyond daily spending)*?=%{x}<br>sum of Count=%{y}<extra></extra>",
         "legendgroup": "True",
         "marker": {
          "color": "rgb(251,180,174)",
          "pattern": {
           "shape": ""
          }
         },
         "name": "True",
         "offsetgroup": "True",
         "orientation": "v",
         "showlegend": true,
         "textfont": {
          "size": 14
         },
         "textposition": "outside",
         "texttemplate": "%{value}",
         "type": "histogram",
         "x": [
          "Sometimes, when I can",
          "I try to save consistently",
          "I save with a specific financial goal in mind",
          "I try to save consistently",
          "I try to save consistently",
          "Sometimes, when I can",
          "I try to save consistently",
          "Sometimes, when I can",
          "Sometimes, when I can",
          "I save with a specific financial goal in mind",
          "Sometimes, when I can",
          "I save with a specific financial goal in mind",
          "I try to save consistently",
          "Sometimes, when I can",
          "Sometimes, when I can",
          "Sometimes, when I can",
          "I try to save consistently",
          "Sometimes, when I can",
          "I try to save consistently",
          "Rarely or never",
          "I save with a specific financial goal in mind",
          "I save with a specific financial goal in mind",
          "I save with a specific financial goal in mind",
          "I save with a specific financial goal in mind",
          "I save with a specific financial goal in mind",
          "Sometimes, when I can",
          "I try to save consistently",
          "I save with a specific financial goal in mind",
          "Sometimes, when I can",
          "Sometimes, when I can",
          "Sometimes, when I can",
          "I save with a specific financial goal in mind",
          "I try to save consistently",
          "I try to save consistently",
          "I save with a specific financial goal in mind",
          "I save with a specific financial goal in mind",
          "I try to save consistently",
          "I try to save consistently",
          "Sometimes, when I can",
          "I save with a specific financial goal in mind",
          "Sometimes, when I can",
          "Sometimes, when I can",
          "I save with a specific financial goal in mind",
          "I save with a specific financial goal in mind",
          "Rarely or never",
          "I try to save consistently",
          "Sometimes, when I can",
          "Sometimes, when I can",
          "I try to save consistently",
          "Sometimes, when I can",
          "I try to save consistently",
          "Sometimes, when I can",
          "I try to save consistently"
         ],
         "xaxis": "x",
         "y": [
          1,
          1,
          1,
          1,
          1,
          1,
          1,
          1,
          1,
          1,
          1,
          1,
          1,
          1,
          1,
          1,
          1,
          1,
          1,
          1,
          1,
          1,
          1,
          1,
          1,
          1,
          1,
          1,
          1,
          1,
          1,
          1,
          1,
          1,
          1,
          1,
          1,
          1,
          1,
          1,
          1,
          1,
          1,
          1,
          1,
          1,
          1,
          1,
          1,
          1,
          1,
          1,
          1
         ],
         "yaxis": "y"
        },
        {
         "alignmentgroup": "True",
         "bingroup": "x",
         "histfunc": "sum",
         "hovertemplate": "College Student=False<br>How often do you save money *(beyond daily spending)*?=%{x}<br>sum of Count=%{y}<extra></extra>",
         "legendgroup": "False",
         "marker": {
          "color": "rgb(179,205,227)",
          "pattern": {
           "shape": ""
          }
         },
         "name": "False",
         "offsetgroup": "False",
         "orientation": "v",
         "showlegend": true,
         "textfont": {
          "size": 14
         },
         "textposition": "outside",
         "texttemplate": "%{value}",
         "type": "histogram",
         "x": [
          "I save with a specific financial goal in mind",
          "I save with a specific financial goal in mind",
          "Sometimes, when I can",
          "I try to save consistently",
          "Sometimes, when I can",
          "I try to save consistently",
          "I try to save consistently",
          "I save with a specific financial goal in mind",
          "Sometimes, when I can",
          "I try to save consistently",
          "I try to save consistently",
          "Sometimes, when I can",
          "I try to save consistently",
          "Sometimes, when I can",
          "Sometimes, when I can",
          "Sometimes, when I can",
          "Sometimes, when I can",
          "Rarely or never",
          "I try to save consistently",
          "Sometimes, when I can",
          "I save with a specific financial goal in mind",
          "I save with a specific financial goal in mind",
          "I try to save consistently",
          "I try to save consistently",
          "I save with a specific financial goal in mind",
          "Sometimes, when I can",
          "I save with a specific financial goal in mind",
          "Rarely or never",
          "I try to save consistently",
          "I save with a specific financial goal in mind",
          "Sometimes, when I can",
          "Sometimes, when I can",
          "Sometimes, when I can",
          "I save with a specific financial goal in mind",
          "I save with a specific financial goal in mind",
          "Sometimes, when I can",
          "Sometimes, when I can",
          "I try to save consistently",
          "Sometimes, when I can",
          "Rarely or never",
          "I save with a specific financial goal in mind",
          "I save with a specific financial goal in mind",
          "Sometimes, when I can",
          "Sometimes, when I can"
         ],
         "xaxis": "x",
         "y": [
          1,
          1,
          1,
          1,
          1,
          1,
          1,
          1,
          1,
          1,
          1,
          1,
          1,
          1,
          1,
          1,
          1,
          1,
          1,
          1,
          1,
          1,
          1,
          1,
          1,
          1,
          1,
          1,
          1,
          1,
          1,
          1,
          1,
          1,
          1,
          1,
          1,
          1,
          1,
          1,
          1,
          1,
          1,
          1
         ],
         "yaxis": "y"
        }
       ],
       "layout": {
        "barmode": "group",
        "height": 400,
        "legend": {
         "title": {
          "text": "College Student"
         },
         "tracegroupgap": 0
        },
        "margin": {
         "t": 60
        },
        "template": {
         "data": {
          "bar": [
           {
            "error_x": {
             "color": "#2a3f5f"
            },
            "error_y": {
             "color": "#2a3f5f"
            },
            "marker": {
             "line": {
              "color": "white",
              "width": 0.5
             },
             "pattern": {
              "fillmode": "overlay",
              "size": 10,
              "solidity": 0.2
             }
            },
            "type": "bar"
           }
          ],
          "barpolar": [
           {
            "marker": {
             "line": {
              "color": "white",
              "width": 0.5
             },
             "pattern": {
              "fillmode": "overlay",
              "size": 10,
              "solidity": 0.2
             }
            },
            "type": "barpolar"
           }
          ],
          "carpet": [
           {
            "aaxis": {
             "endlinecolor": "#2a3f5f",
             "gridcolor": "#C8D4E3",
             "linecolor": "#C8D4E3",
             "minorgridcolor": "#C8D4E3",
             "startlinecolor": "#2a3f5f"
            },
            "baxis": {
             "endlinecolor": "#2a3f5f",
             "gridcolor": "#C8D4E3",
             "linecolor": "#C8D4E3",
             "minorgridcolor": "#C8D4E3",
             "startlinecolor": "#2a3f5f"
            },
            "type": "carpet"
           }
          ],
          "choropleth": [
           {
            "colorbar": {
             "outlinewidth": 0,
             "ticks": ""
            },
            "type": "choropleth"
           }
          ],
          "contour": [
           {
            "colorbar": {
             "outlinewidth": 0,
             "ticks": ""
            },
            "colorscale": [
             [
              0,
              "#0d0887"
             ],
             [
              0.1111111111111111,
              "#46039f"
             ],
             [
              0.2222222222222222,
              "#7201a8"
             ],
             [
              0.3333333333333333,
              "#9c179e"
             ],
             [
              0.4444444444444444,
              "#bd3786"
             ],
             [
              0.5555555555555556,
              "#d8576b"
             ],
             [
              0.6666666666666666,
              "#ed7953"
             ],
             [
              0.7777777777777778,
              "#fb9f3a"
             ],
             [
              0.8888888888888888,
              "#fdca26"
             ],
             [
              1,
              "#f0f921"
             ]
            ],
            "type": "contour"
           }
          ],
          "contourcarpet": [
           {
            "colorbar": {
             "outlinewidth": 0,
             "ticks": ""
            },
            "type": "contourcarpet"
           }
          ],
          "heatmap": [
           {
            "colorbar": {
             "outlinewidth": 0,
             "ticks": ""
            },
            "colorscale": [
             [
              0,
              "#0d0887"
             ],
             [
              0.1111111111111111,
              "#46039f"
             ],
             [
              0.2222222222222222,
              "#7201a8"
             ],
             [
              0.3333333333333333,
              "#9c179e"
             ],
             [
              0.4444444444444444,
              "#bd3786"
             ],
             [
              0.5555555555555556,
              "#d8576b"
             ],
             [
              0.6666666666666666,
              "#ed7953"
             ],
             [
              0.7777777777777778,
              "#fb9f3a"
             ],
             [
              0.8888888888888888,
              "#fdca26"
             ],
             [
              1,
              "#f0f921"
             ]
            ],
            "type": "heatmap"
           }
          ],
          "heatmapgl": [
           {
            "colorbar": {
             "outlinewidth": 0,
             "ticks": ""
            },
            "colorscale": [
             [
              0,
              "#0d0887"
             ],
             [
              0.1111111111111111,
              "#46039f"
             ],
             [
              0.2222222222222222,
              "#7201a8"
             ],
             [
              0.3333333333333333,
              "#9c179e"
             ],
             [
              0.4444444444444444,
              "#bd3786"
             ],
             [
              0.5555555555555556,
              "#d8576b"
             ],
             [
              0.6666666666666666,
              "#ed7953"
             ],
             [
              0.7777777777777778,
              "#fb9f3a"
             ],
             [
              0.8888888888888888,
              "#fdca26"
             ],
             [
              1,
              "#f0f921"
             ]
            ],
            "type": "heatmapgl"
           }
          ],
          "histogram": [
           {
            "marker": {
             "pattern": {
              "fillmode": "overlay",
              "size": 10,
              "solidity": 0.2
             }
            },
            "type": "histogram"
           }
          ],
          "histogram2d": [
           {
            "colorbar": {
             "outlinewidth": 0,
             "ticks": ""
            },
            "colorscale": [
             [
              0,
              "#0d0887"
             ],
             [
              0.1111111111111111,
              "#46039f"
             ],
             [
              0.2222222222222222,
              "#7201a8"
             ],
             [
              0.3333333333333333,
              "#9c179e"
             ],
             [
              0.4444444444444444,
              "#bd3786"
             ],
             [
              0.5555555555555556,
              "#d8576b"
             ],
             [
              0.6666666666666666,
              "#ed7953"
             ],
             [
              0.7777777777777778,
              "#fb9f3a"
             ],
             [
              0.8888888888888888,
              "#fdca26"
             ],
             [
              1,
              "#f0f921"
             ]
            ],
            "type": "histogram2d"
           }
          ],
          "histogram2dcontour": [
           {
            "colorbar": {
             "outlinewidth": 0,
             "ticks": ""
            },
            "colorscale": [
             [
              0,
              "#0d0887"
             ],
             [
              0.1111111111111111,
              "#46039f"
             ],
             [
              0.2222222222222222,
              "#7201a8"
             ],
             [
              0.3333333333333333,
              "#9c179e"
             ],
             [
              0.4444444444444444,
              "#bd3786"
             ],
             [
              0.5555555555555556,
              "#d8576b"
             ],
             [
              0.6666666666666666,
              "#ed7953"
             ],
             [
              0.7777777777777778,
              "#fb9f3a"
             ],
             [
              0.8888888888888888,
              "#fdca26"
             ],
             [
              1,
              "#f0f921"
             ]
            ],
            "type": "histogram2dcontour"
           }
          ],
          "mesh3d": [
           {
            "colorbar": {
             "outlinewidth": 0,
             "ticks": ""
            },
            "type": "mesh3d"
           }
          ],
          "parcoords": [
           {
            "line": {
             "colorbar": {
              "outlinewidth": 0,
              "ticks": ""
             }
            },
            "type": "parcoords"
           }
          ],
          "pie": [
           {
            "automargin": true,
            "type": "pie"
           }
          ],
          "scatter": [
           {
            "fillpattern": {
             "fillmode": "overlay",
             "size": 10,
             "solidity": 0.2
            },
            "type": "scatter"
           }
          ],
          "scatter3d": [
           {
            "line": {
             "colorbar": {
              "outlinewidth": 0,
              "ticks": ""
             }
            },
            "marker": {
             "colorbar": {
              "outlinewidth": 0,
              "ticks": ""
             }
            },
            "type": "scatter3d"
           }
          ],
          "scattercarpet": [
           {
            "marker": {
             "colorbar": {
              "outlinewidth": 0,
              "ticks": ""
             }
            },
            "type": "scattercarpet"
           }
          ],
          "scattergeo": [
           {
            "marker": {
             "colorbar": {
              "outlinewidth": 0,
              "ticks": ""
             }
            },
            "type": "scattergeo"
           }
          ],
          "scattergl": [
           {
            "marker": {
             "colorbar": {
              "outlinewidth": 0,
              "ticks": ""
             }
            },
            "type": "scattergl"
           }
          ],
          "scattermapbox": [
           {
            "marker": {
             "colorbar": {
              "outlinewidth": 0,
              "ticks": ""
             }
            },
            "type": "scattermapbox"
           }
          ],
          "scatterpolar": [
           {
            "marker": {
             "colorbar": {
              "outlinewidth": 0,
              "ticks": ""
             }
            },
            "type": "scatterpolar"
           }
          ],
          "scatterpolargl": [
           {
            "marker": {
             "colorbar": {
              "outlinewidth": 0,
              "ticks": ""
             }
            },
            "type": "scatterpolargl"
           }
          ],
          "scatterternary": [
           {
            "marker": {
             "colorbar": {
              "outlinewidth": 0,
              "ticks": ""
             }
            },
            "type": "scatterternary"
           }
          ],
          "surface": [
           {
            "colorbar": {
             "outlinewidth": 0,
             "ticks": ""
            },
            "colorscale": [
             [
              0,
              "#0d0887"
             ],
             [
              0.1111111111111111,
              "#46039f"
             ],
             [
              0.2222222222222222,
              "#7201a8"
             ],
             [
              0.3333333333333333,
              "#9c179e"
             ],
             [
              0.4444444444444444,
              "#bd3786"
             ],
             [
              0.5555555555555556,
              "#d8576b"
             ],
             [
              0.6666666666666666,
              "#ed7953"
             ],
             [
              0.7777777777777778,
              "#fb9f3a"
             ],
             [
              0.8888888888888888,
              "#fdca26"
             ],
             [
              1,
              "#f0f921"
             ]
            ],
            "type": "surface"
           }
          ],
          "table": [
           {
            "cells": {
             "fill": {
              "color": "#EBF0F8"
             },
             "line": {
              "color": "white"
             }
            },
            "header": {
             "fill": {
              "color": "#C8D4E3"
             },
             "line": {
              "color": "white"
             }
            },
            "type": "table"
           }
          ]
         },
         "layout": {
          "annotationdefaults": {
           "arrowcolor": "#2a3f5f",
           "arrowhead": 0,
           "arrowwidth": 1
          },
          "autotypenumbers": "strict",
          "coloraxis": {
           "colorbar": {
            "outlinewidth": 0,
            "ticks": ""
           }
          },
          "colorscale": {
           "diverging": [
            [
             0,
             "#8e0152"
            ],
            [
             0.1,
             "#c51b7d"
            ],
            [
             0.2,
             "#de77ae"
            ],
            [
             0.3,
             "#f1b6da"
            ],
            [
             0.4,
             "#fde0ef"
            ],
            [
             0.5,
             "#f7f7f7"
            ],
            [
             0.6,
             "#e6f5d0"
            ],
            [
             0.7,
             "#b8e186"
            ],
            [
             0.8,
             "#7fbc41"
            ],
            [
             0.9,
             "#4d9221"
            ],
            [
             1,
             "#276419"
            ]
           ],
           "sequential": [
            [
             0,
             "#0d0887"
            ],
            [
             0.1111111111111111,
             "#46039f"
            ],
            [
             0.2222222222222222,
             "#7201a8"
            ],
            [
             0.3333333333333333,
             "#9c179e"
            ],
            [
             0.4444444444444444,
             "#bd3786"
            ],
            [
             0.5555555555555556,
             "#d8576b"
            ],
            [
             0.6666666666666666,
             "#ed7953"
            ],
            [
             0.7777777777777778,
             "#fb9f3a"
            ],
            [
             0.8888888888888888,
             "#fdca26"
            ],
            [
             1,
             "#f0f921"
            ]
           ],
           "sequentialminus": [
            [
             0,
             "#0d0887"
            ],
            [
             0.1111111111111111,
             "#46039f"
            ],
            [
             0.2222222222222222,
             "#7201a8"
            ],
            [
             0.3333333333333333,
             "#9c179e"
            ],
            [
             0.4444444444444444,
             "#bd3786"
            ],
            [
             0.5555555555555556,
             "#d8576b"
            ],
            [
             0.6666666666666666,
             "#ed7953"
            ],
            [
             0.7777777777777778,
             "#fb9f3a"
            ],
            [
             0.8888888888888888,
             "#fdca26"
            ],
            [
             1,
             "#f0f921"
            ]
           ]
          },
          "colorway": [
           "#636efa",
           "#EF553B",
           "#00cc96",
           "#ab63fa",
           "#FFA15A",
           "#19d3f3",
           "#FF6692",
           "#B6E880",
           "#FF97FF",
           "#FECB52"
          ],
          "font": {
           "color": "#2a3f5f"
          },
          "geo": {
           "bgcolor": "white",
           "lakecolor": "white",
           "landcolor": "white",
           "showlakes": true,
           "showland": true,
           "subunitcolor": "#C8D4E3"
          },
          "hoverlabel": {
           "align": "left"
          },
          "hovermode": "closest",
          "mapbox": {
           "style": "light"
          },
          "paper_bgcolor": "white",
          "plot_bgcolor": "white",
          "polar": {
           "angularaxis": {
            "gridcolor": "#EBF0F8",
            "linecolor": "#EBF0F8",
            "ticks": ""
           },
           "bgcolor": "white",
           "radialaxis": {
            "gridcolor": "#EBF0F8",
            "linecolor": "#EBF0F8",
            "ticks": ""
           }
          },
          "scene": {
           "xaxis": {
            "backgroundcolor": "white",
            "gridcolor": "#DFE8F3",
            "gridwidth": 2,
            "linecolor": "#EBF0F8",
            "showbackground": true,
            "ticks": "",
            "zerolinecolor": "#EBF0F8"
           },
           "yaxis": {
            "backgroundcolor": "white",
            "gridcolor": "#DFE8F3",
            "gridwidth": 2,
            "linecolor": "#EBF0F8",
            "showbackground": true,
            "ticks": "",
            "zerolinecolor": "#EBF0F8"
           },
           "zaxis": {
            "backgroundcolor": "white",
            "gridcolor": "#DFE8F3",
            "gridwidth": 2,
            "linecolor": "#EBF0F8",
            "showbackground": true,
            "ticks": "",
            "zerolinecolor": "#EBF0F8"
           }
          },
          "shapedefaults": {
           "line": {
            "color": "#2a3f5f"
           }
          },
          "ternary": {
           "aaxis": {
            "gridcolor": "#DFE8F3",
            "linecolor": "#A2B1C6",
            "ticks": ""
           },
           "baxis": {
            "gridcolor": "#DFE8F3",
            "linecolor": "#A2B1C6",
            "ticks": ""
           },
           "bgcolor": "white",
           "caxis": {
            "gridcolor": "#DFE8F3",
            "linecolor": "#A2B1C6",
            "ticks": ""
           }
          },
          "title": {
           "x": 0.05
          },
          "xaxis": {
           "automargin": true,
           "gridcolor": "#EBF0F8",
           "linecolor": "#EBF0F8",
           "ticks": "",
           "title": {
            "standoff": 15
           },
           "zerolinecolor": "#EBF0F8",
           "zerolinewidth": 2
          },
          "yaxis": {
           "automargin": true,
           "gridcolor": "#EBF0F8",
           "linecolor": "#EBF0F8",
           "ticks": "",
           "title": {
            "standoff": 15
           },
           "zerolinecolor": "#EBF0F8",
           "zerolinewidth": 2
          }
         }
        },
        "width": 800,
        "xaxis": {
         "anchor": "y",
         "domain": [
          0,
          1
         ],
         "title": {
          "text": "How often do you save money *(beyond daily spending)*?"
         }
        },
        "yaxis": {
         "anchor": "x",
         "domain": [
          0,
          1
         ],
         "range": [
          0,
          25
         ],
         "title": {
          "text": "Number of Participants"
         }
        }
       }
      }
     },
     "metadata": {},
     "output_type": "display_data"
    }
   ],
   "source": [
    "fig = px.histogram(df, x=\"How often do you save money *(beyond daily spending)*?\", y=\"Count\",\n",
    "             color='College Student', barmode='group', \n",
    "             height=400, width = 800, text_auto=True, color_discrete_sequence=px.colors.qualitative.Pastel1)\n",
    "fig.update_traces(textfont_size=14, textposition=\"outside\")\n",
    "fig.update_layout(yaxis_title=\"Number of Participants\", yaxis_range=[0, 25])\n",
    "fig.show()"
   ]
  },
  {
   "cell_type": "code",
   "execution_count": 56,
   "id": "af02098a",
   "metadata": {},
   "outputs": [],
   "source": [
    "familiarity_mapping = {\n",
    "    'Not familiar': 1,\n",
    "    'Slightly': 2,\n",
    "    'Somewhat': 3,\n",
    "    'Very': 4,\n",
    "    'Extremely': 5\n",
    "}\n",
    "\n",
    "fl = df.select(['Creating a personal budget',\n",
    " 'Understanding credit and credit scores',\n",
    " 'Opening and managing a bank account',\n",
    " 'Differences between checking/savings/investment accounts',\n",
    " 'Using financial apps or online banking tools',\n",
    " 'Investing your money for future wealth'] + [\"College Student\", \"Gender\", \"Count\"]).unpivot(on=['Creating a personal budget',\n",
    " 'Understanding credit and credit scores',\n",
    " 'Opening and managing a bank account',\n",
    " 'Differences between checking/savings/investment accounts',\n",
    " 'Using financial apps or online banking tools',\n",
    " 'Investing your money for future wealth'], index = [\"College Student\", \"Gender\", \"Count\"], variable_name = \"Financial Literacy\").with_columns( pl.col(\"value\").replace(familiarity_mapping))"
   ]
  },
  {
   "cell_type": "code",
   "execution_count": 61,
   "id": "e55c16ee",
   "metadata": {},
   "outputs": [
    {
     "name": "stderr",
     "output_type": "stream",
     "text": [
      "/usr/lib/python3/dist-packages/plotly/express/_core.py:1992: FutureWarning:\n",
      "\n",
      "When grouping with a length-1 list-like, you will need to pass a length-1 tuple to get_group in a future version of pandas. Pass `(name,)` instead of `name` to silence this warning.\n",
      "\n"
     ]
    },
    {
     "data": {
      "application/vnd.plotly.v1+json": {
       "config": {
        "plotlyServerURL": "https://plot.ly"
       },
       "data": [
        {
         "alignmentgroup": "True",
         "bingroup": "x",
         "histfunc": "avg",
         "hovertemplate": "Gender=Female<br>Financial Literacy=%{x}<br>avg of value=%{y}<extra></extra>",
         "legendgroup": "Female",
         "marker": {
          "color": "#636efa",
          "pattern": {
           "shape": ""
          }
         },
         "name": "Female",
         "offsetgroup": "Female",
         "orientation": "v",
         "showlegend": true,
         "textfont": {
          "size": 12
         },
         "textposition": "inside",
         "type": "histogram",
         "x": [
          "Creating a personal budget",
          "Creating a personal budget",
          "Creating a personal budget",
          "Creating a personal budget",
          "Creating a personal budget",
          "Creating a personal budget",
          "Creating a personal budget",
          "Creating a personal budget",
          "Creating a personal budget",
          "Creating a personal budget",
          "Creating a personal budget",
          "Creating a personal budget",
          "Creating a personal budget",
          "Creating a personal budget",
          "Creating a personal budget",
          "Creating a personal budget",
          "Creating a personal budget",
          "Creating a personal budget",
          "Creating a personal budget",
          "Creating a personal budget",
          "Creating a personal budget",
          "Creating a personal budget",
          "Creating a personal budget",
          "Creating a personal budget",
          "Creating a personal budget",
          "Creating a personal budget",
          "Creating a personal budget",
          "Creating a personal budget",
          "Creating a personal budget",
          "Creating a personal budget",
          "Creating a personal budget",
          "Creating a personal budget",
          "Creating a personal budget",
          "Creating a personal budget",
          "Creating a personal budget",
          "Creating a personal budget",
          "Creating a personal budget",
          "Creating a personal budget",
          "Creating a personal budget",
          "Creating a personal budget",
          "Creating a personal budget",
          "Creating a personal budget",
          "Creating a personal budget",
          "Creating a personal budget",
          "Creating a personal budget",
          "Creating a personal budget",
          "Creating a personal budget",
          "Creating a personal budget",
          "Creating a personal budget",
          "Creating a personal budget",
          "Creating a personal budget",
          "Creating a personal budget",
          "Creating a personal budget",
          "Creating a personal budget",
          "Creating a personal budget",
          "Creating a personal budget",
          "Creating a personal budget",
          "Understanding credit and credit scores",
          "Understanding credit and credit scores",
          "Understanding credit and credit scores",
          "Understanding credit and credit scores",
          "Understanding credit and credit scores",
          "Understanding credit and credit scores",
          "Understanding credit and credit scores",
          "Understanding credit and credit scores",
          "Understanding credit and credit scores",
          "Understanding credit and credit scores",
          "Understanding credit and credit scores",
          "Understanding credit and credit scores",
          "Understanding credit and credit scores",
          "Understanding credit and credit scores",
          "Understanding credit and credit scores",
          "Understanding credit and credit scores",
          "Understanding credit and credit scores",
          "Understanding credit and credit scores",
          "Understanding credit and credit scores",
          "Understanding credit and credit scores",
          "Understanding credit and credit scores",
          "Understanding credit and credit scores",
          "Understanding credit and credit scores",
          "Understanding credit and credit scores",
          "Understanding credit and credit scores",
          "Understanding credit and credit scores",
          "Understanding credit and credit scores",
          "Understanding credit and credit scores",
          "Understanding credit and credit scores",
          "Understanding credit and credit scores",
          "Understanding credit and credit scores",
          "Understanding credit and credit scores",
          "Understanding credit and credit scores",
          "Understanding credit and credit scores",
          "Understanding credit and credit scores",
          "Understanding credit and credit scores",
          "Understanding credit and credit scores",
          "Understanding credit and credit scores",
          "Understanding credit and credit scores",
          "Understanding credit and credit scores",
          "Understanding credit and credit scores",
          "Understanding credit and credit scores",
          "Understanding credit and credit scores",
          "Understanding credit and credit scores",
          "Understanding credit and credit scores",
          "Understanding credit and credit scores",
          "Understanding credit and credit scores",
          "Understanding credit and credit scores",
          "Understanding credit and credit scores",
          "Understanding credit and credit scores",
          "Understanding credit and credit scores",
          "Understanding credit and credit scores",
          "Understanding credit and credit scores",
          "Understanding credit and credit scores",
          "Understanding credit and credit scores",
          "Understanding credit and credit scores",
          "Understanding credit and credit scores",
          "Opening and managing a bank account",
          "Opening and managing a bank account",
          "Opening and managing a bank account",
          "Opening and managing a bank account",
          "Opening and managing a bank account",
          "Opening and managing a bank account",
          "Opening and managing a bank account",
          "Opening and managing a bank account",
          "Opening and managing a bank account",
          "Opening and managing a bank account",
          "Opening and managing a bank account",
          "Opening and managing a bank account",
          "Opening and managing a bank account",
          "Opening and managing a bank account",
          "Opening and managing a bank account",
          "Opening and managing a bank account",
          "Opening and managing a bank account",
          "Opening and managing a bank account",
          "Opening and managing a bank account",
          "Opening and managing a bank account",
          "Opening and managing a bank account",
          "Opening and managing a bank account",
          "Opening and managing a bank account",
          "Opening and managing a bank account",
          "Opening and managing a bank account",
          "Opening and managing a bank account",
          "Opening and managing a bank account",
          "Opening and managing a bank account",
          "Opening and managing a bank account",
          "Opening and managing a bank account",
          "Opening and managing a bank account",
          "Opening and managing a bank account",
          "Opening and managing a bank account",
          "Opening and managing a bank account",
          "Opening and managing a bank account",
          "Opening and managing a bank account",
          "Opening and managing a bank account",
          "Opening and managing a bank account",
          "Opening and managing a bank account",
          "Opening and managing a bank account",
          "Opening and managing a bank account",
          "Opening and managing a bank account",
          "Opening and managing a bank account",
          "Opening and managing a bank account",
          "Opening and managing a bank account",
          "Opening and managing a bank account",
          "Opening and managing a bank account",
          "Opening and managing a bank account",
          "Opening and managing a bank account",
          "Opening and managing a bank account",
          "Opening and managing a bank account",
          "Opening and managing a bank account",
          "Opening and managing a bank account",
          "Opening and managing a bank account",
          "Opening and managing a bank account",
          "Opening and managing a bank account",
          "Opening and managing a bank account",
          "Differences between checking/savings/investment accounts",
          "Differences between checking/savings/investment accounts",
          "Differences between checking/savings/investment accounts",
          "Differences between checking/savings/investment accounts",
          "Differences between checking/savings/investment accounts",
          "Differences between checking/savings/investment accounts",
          "Differences between checking/savings/investment accounts",
          "Differences between checking/savings/investment accounts",
          "Differences between checking/savings/investment accounts",
          "Differences between checking/savings/investment accounts",
          "Differences between checking/savings/investment accounts",
          "Differences between checking/savings/investment accounts",
          "Differences between checking/savings/investment accounts",
          "Differences between checking/savings/investment accounts",
          "Differences between checking/savings/investment accounts",
          "Differences between checking/savings/investment accounts",
          "Differences between checking/savings/investment accounts",
          "Differences between checking/savings/investment accounts",
          "Differences between checking/savings/investment accounts",
          "Differences between checking/savings/investment accounts",
          "Differences between checking/savings/investment accounts",
          "Differences between checking/savings/investment accounts",
          "Differences between checking/savings/investment accounts",
          "Differences between checking/savings/investment accounts",
          "Differences between checking/savings/investment accounts",
          "Differences between checking/savings/investment accounts",
          "Differences between checking/savings/investment accounts",
          "Differences between checking/savings/investment accounts",
          "Differences between checking/savings/investment accounts",
          "Differences between checking/savings/investment accounts",
          "Differences between checking/savings/investment accounts",
          "Differences between checking/savings/investment accounts",
          "Differences between checking/savings/investment accounts",
          "Differences between checking/savings/investment accounts",
          "Differences between checking/savings/investment accounts",
          "Differences between checking/savings/investment accounts",
          "Differences between checking/savings/investment accounts",
          "Differences between checking/savings/investment accounts",
          "Differences between checking/savings/investment accounts",
          "Differences between checking/savings/investment accounts",
          "Differences between checking/savings/investment accounts",
          "Differences between checking/savings/investment accounts",
          "Differences between checking/savings/investment accounts",
          "Differences between checking/savings/investment accounts",
          "Differences between checking/savings/investment accounts",
          "Differences between checking/savings/investment accounts",
          "Differences between checking/savings/investment accounts",
          "Differences between checking/savings/investment accounts",
          "Differences between checking/savings/investment accounts",
          "Differences between checking/savings/investment accounts",
          "Differences between checking/savings/investment accounts",
          "Differences between checking/savings/investment accounts",
          "Differences between checking/savings/investment accounts",
          "Differences between checking/savings/investment accounts",
          "Differences between checking/savings/investment accounts",
          "Differences between checking/savings/investment accounts",
          "Differences between checking/savings/investment accounts",
          "Using financial apps or online banking tools",
          "Using financial apps or online banking tools",
          "Using financial apps or online banking tools",
          "Using financial apps or online banking tools",
          "Using financial apps or online banking tools",
          "Using financial apps or online banking tools",
          "Using financial apps or online banking tools",
          "Using financial apps or online banking tools",
          "Using financial apps or online banking tools",
          "Using financial apps or online banking tools",
          "Using financial apps or online banking tools",
          "Using financial apps or online banking tools",
          "Using financial apps or online banking tools",
          "Using financial apps or online banking tools",
          "Using financial apps or online banking tools",
          "Using financial apps or online banking tools",
          "Using financial apps or online banking tools",
          "Using financial apps or online banking tools",
          "Using financial apps or online banking tools",
          "Using financial apps or online banking tools",
          "Using financial apps or online banking tools",
          "Using financial apps or online banking tools",
          "Using financial apps or online banking tools",
          "Using financial apps or online banking tools",
          "Using financial apps or online banking tools",
          "Using financial apps or online banking tools",
          "Using financial apps or online banking tools",
          "Using financial apps or online banking tools",
          "Using financial apps or online banking tools",
          "Using financial apps or online banking tools",
          "Using financial apps or online banking tools",
          "Using financial apps or online banking tools",
          "Using financial apps or online banking tools",
          "Using financial apps or online banking tools",
          "Using financial apps or online banking tools",
          "Using financial apps or online banking tools",
          "Using financial apps or online banking tools",
          "Using financial apps or online banking tools",
          "Using financial apps or online banking tools",
          "Using financial apps or online banking tools",
          "Using financial apps or online banking tools",
          "Using financial apps or online banking tools",
          "Using financial apps or online banking tools",
          "Using financial apps or online banking tools",
          "Using financial apps or online banking tools",
          "Using financial apps or online banking tools",
          "Using financial apps or online banking tools",
          "Using financial apps or online banking tools",
          "Using financial apps or online banking tools",
          "Using financial apps or online banking tools",
          "Using financial apps or online banking tools",
          "Using financial apps or online banking tools",
          "Using financial apps or online banking tools",
          "Using financial apps or online banking tools",
          "Using financial apps or online banking tools",
          "Using financial apps or online banking tools",
          "Using financial apps or online banking tools",
          "Investing your money for future wealth",
          "Investing your money for future wealth",
          "Investing your money for future wealth",
          "Investing your money for future wealth",
          "Investing your money for future wealth",
          "Investing your money for future wealth",
          "Investing your money for future wealth",
          "Investing your money for future wealth",
          "Investing your money for future wealth",
          "Investing your money for future wealth",
          "Investing your money for future wealth",
          "Investing your money for future wealth",
          "Investing your money for future wealth",
          "Investing your money for future wealth",
          "Investing your money for future wealth",
          "Investing your money for future wealth",
          "Investing your money for future wealth",
          "Investing your money for future wealth",
          "Investing your money for future wealth",
          "Investing your money for future wealth",
          "Investing your money for future wealth",
          "Investing your money for future wealth",
          "Investing your money for future wealth",
          "Investing your money for future wealth",
          "Investing your money for future wealth",
          "Investing your money for future wealth",
          "Investing your money for future wealth",
          "Investing your money for future wealth",
          "Investing your money for future wealth",
          "Investing your money for future wealth",
          "Investing your money for future wealth",
          "Investing your money for future wealth",
          "Investing your money for future wealth",
          "Investing your money for future wealth",
          "Investing your money for future wealth",
          "Investing your money for future wealth",
          "Investing your money for future wealth",
          "Investing your money for future wealth",
          "Investing your money for future wealth",
          "Investing your money for future wealth",
          "Investing your money for future wealth",
          "Investing your money for future wealth",
          "Investing your money for future wealth",
          "Investing your money for future wealth",
          "Investing your money for future wealth",
          "Investing your money for future wealth",
          "Investing your money for future wealth",
          "Investing your money for future wealth",
          "Investing your money for future wealth",
          "Investing your money for future wealth",
          "Investing your money for future wealth",
          "Investing your money for future wealth",
          "Investing your money for future wealth",
          "Investing your money for future wealth",
          "Investing your money for future wealth",
          "Investing your money for future wealth",
          "Investing your money for future wealth"
         ],
         "xaxis": "x",
         "y": [
          "5",
          "4",
          "4",
          "3",
          "3",
          "4",
          "2",
          "4",
          "3",
          "4",
          "3",
          "3",
          "4",
          "5",
          "1",
          "4",
          "3",
          "3",
          "4",
          "4",
          "3",
          "5",
          "5",
          "3",
          "5",
          "4",
          "3",
          "3",
          "4",
          "3",
          "3",
          "5",
          "2",
          "4",
          "4",
          "4",
          "5",
          "2",
          "4",
          "1",
          "5",
          "4",
          "4",
          "2",
          "3",
          "1",
          "4",
          "2",
          "5",
          "2",
          "4",
          "4",
          "5",
          "4",
          "2",
          "3",
          "4",
          "3",
          "3",
          "3",
          "2",
          "2",
          "3",
          "3",
          "1",
          "2",
          "2",
          "4",
          "3",
          "3",
          "5",
          "1",
          "4",
          "1",
          "1",
          "4",
          "4",
          "5",
          "3",
          "3",
          "3",
          "4",
          "3",
          "3",
          "2",
          "4",
          "5",
          "2",
          "5",
          "5",
          "3",
          "4",
          "2",
          "3",
          "2",
          "3",
          "2",
          "5",
          "3",
          "4",
          "2",
          "2",
          "2",
          "2",
          "1",
          "5",
          "2",
          "3",
          "4",
          "5",
          "3",
          "1",
          "5",
          "5",
          "4",
          "3",
          "5",
          "3",
          "4",
          "3",
          "3",
          "3",
          "5",
          "4",
          "4",
          "3",
          "4",
          "5",
          "3",
          "4",
          "3",
          "3",
          "4",
          "4",
          "5",
          "5",
          "4",
          "3",
          "4",
          "4",
          "4",
          "3",
          "4",
          "5",
          "5",
          "5",
          "5",
          "4",
          "4",
          "5",
          "4",
          "2",
          "5",
          "1",
          "5",
          "4",
          "4",
          "2",
          "4",
          "5",
          "4",
          "1",
          "5",
          "2",
          "4",
          "4",
          "5",
          "5",
          "1",
          "5",
          "5",
          "5",
          "3",
          "5",
          "2",
          "4",
          "4",
          "3",
          "2",
          "5",
          "4",
          "5",
          "3",
          "5",
          "5",
          "5",
          "4",
          "5",
          "2",
          "4",
          "4",
          "5",
          "5",
          "4",
          "4",
          "4",
          "3",
          "5",
          "2",
          "4",
          "4",
          "5",
          "5",
          "5",
          "4",
          "5",
          "5",
          "5",
          "3",
          "3",
          "2",
          "4",
          "4",
          "4",
          "2",
          "3",
          "4",
          "4",
          "2",
          "5",
          "1",
          "3",
          "4",
          "5",
          "5",
          "2",
          "5",
          "5",
          "5",
          "1",
          "5",
          "3",
          "4",
          "3",
          "3",
          "3",
          "5",
          "3",
          "4",
          "3",
          "5",
          "5",
          "5",
          "4",
          "5",
          "3",
          "4",
          "4",
          "5",
          "5",
          "4",
          "4",
          "4",
          "4",
          "5",
          "2",
          "4",
          "4",
          "5",
          "5",
          "4",
          "4",
          "4",
          "5",
          "4",
          "3",
          "5",
          "1",
          "5",
          "4",
          "4",
          "2",
          "5",
          "4",
          "4",
          "3",
          "5",
          "1",
          "4",
          "4",
          "5",
          "4",
          "3",
          "5",
          "5",
          "5",
          "1",
          "5",
          "2",
          "3",
          "4",
          "2",
          "1",
          "3",
          "2",
          "3",
          "3",
          "5",
          "5",
          "1",
          "4",
          "2",
          "2",
          "4",
          "4",
          "3",
          "3",
          "3",
          "4",
          "4",
          "3",
          "5",
          "2",
          "4",
          "4",
          "3",
          "2",
          "5",
          "3",
          "5",
          "2",
          "3",
          "2",
          "3",
          "1",
          "5",
          "3",
          "4",
          "2",
          "3",
          "1",
          "1",
          "2",
          "3",
          "1",
          "3",
          "4",
          "3",
          "3",
          "3",
          "3",
          "4"
         ],
         "yaxis": "y"
        },
        {
         "alignmentgroup": "True",
         "bingroup": "x",
         "histfunc": "avg",
         "hovertemplate": "Gender=Not Female<br>Financial Literacy=%{x}<br>avg of value=%{y}<extra></extra>",
         "legendgroup": "Not Female",
         "marker": {
          "color": "#EF553B",
          "pattern": {
           "shape": ""
          }
         },
         "name": "Not Female",
         "offsetgroup": "Not Female",
         "orientation": "v",
         "showlegend": true,
         "textfont": {
          "size": 12
         },
         "textposition": "inside",
         "type": "histogram",
         "x": [
          "Creating a personal budget",
          "Creating a personal budget",
          "Creating a personal budget",
          "Creating a personal budget",
          "Creating a personal budget",
          "Creating a personal budget",
          "Creating a personal budget",
          "Creating a personal budget",
          "Creating a personal budget",
          "Creating a personal budget",
          "Creating a personal budget",
          "Creating a personal budget",
          "Creating a personal budget",
          "Creating a personal budget",
          "Creating a personal budget",
          "Creating a personal budget",
          "Creating a personal budget",
          "Creating a personal budget",
          "Creating a personal budget",
          "Creating a personal budget",
          "Creating a personal budget",
          "Creating a personal budget",
          "Creating a personal budget",
          "Creating a personal budget",
          "Creating a personal budget",
          "Creating a personal budget",
          "Creating a personal budget",
          "Creating a personal budget",
          "Creating a personal budget",
          "Creating a personal budget",
          "Creating a personal budget",
          "Creating a personal budget",
          "Creating a personal budget",
          "Creating a personal budget",
          "Creating a personal budget",
          "Creating a personal budget",
          "Creating a personal budget",
          "Creating a personal budget",
          "Creating a personal budget",
          "Creating a personal budget",
          "Creating a personal budget",
          "Creating a personal budget",
          "Understanding credit and credit scores",
          "Understanding credit and credit scores",
          "Understanding credit and credit scores",
          "Understanding credit and credit scores",
          "Understanding credit and credit scores",
          "Understanding credit and credit scores",
          "Understanding credit and credit scores",
          "Understanding credit and credit scores",
          "Understanding credit and credit scores",
          "Understanding credit and credit scores",
          "Understanding credit and credit scores",
          "Understanding credit and credit scores",
          "Understanding credit and credit scores",
          "Understanding credit and credit scores",
          "Understanding credit and credit scores",
          "Understanding credit and credit scores",
          "Understanding credit and credit scores",
          "Understanding credit and credit scores",
          "Understanding credit and credit scores",
          "Understanding credit and credit scores",
          "Understanding credit and credit scores",
          "Understanding credit and credit scores",
          "Understanding credit and credit scores",
          "Understanding credit and credit scores",
          "Understanding credit and credit scores",
          "Understanding credit and credit scores",
          "Understanding credit and credit scores",
          "Understanding credit and credit scores",
          "Understanding credit and credit scores",
          "Understanding credit and credit scores",
          "Understanding credit and credit scores",
          "Understanding credit and credit scores",
          "Understanding credit and credit scores",
          "Understanding credit and credit scores",
          "Understanding credit and credit scores",
          "Understanding credit and credit scores",
          "Understanding credit and credit scores",
          "Understanding credit and credit scores",
          "Understanding credit and credit scores",
          "Understanding credit and credit scores",
          "Understanding credit and credit scores",
          "Understanding credit and credit scores",
          "Opening and managing a bank account",
          "Opening and managing a bank account",
          "Opening and managing a bank account",
          "Opening and managing a bank account",
          "Opening and managing a bank account",
          "Opening and managing a bank account",
          "Opening and managing a bank account",
          "Opening and managing a bank account",
          "Opening and managing a bank account",
          "Opening and managing a bank account",
          "Opening and managing a bank account",
          "Opening and managing a bank account",
          "Opening and managing a bank account",
          "Opening and managing a bank account",
          "Opening and managing a bank account",
          "Opening and managing a bank account",
          "Opening and managing a bank account",
          "Opening and managing a bank account",
          "Opening and managing a bank account",
          "Opening and managing a bank account",
          "Opening and managing a bank account",
          "Opening and managing a bank account",
          "Opening and managing a bank account",
          "Opening and managing a bank account",
          "Opening and managing a bank account",
          "Opening and managing a bank account",
          "Opening and managing a bank account",
          "Opening and managing a bank account",
          "Opening and managing a bank account",
          "Opening and managing a bank account",
          "Opening and managing a bank account",
          "Opening and managing a bank account",
          "Opening and managing a bank account",
          "Opening and managing a bank account",
          "Opening and managing a bank account",
          "Opening and managing a bank account",
          "Opening and managing a bank account",
          "Opening and managing a bank account",
          "Opening and managing a bank account",
          "Opening and managing a bank account",
          "Opening and managing a bank account",
          "Opening and managing a bank account",
          "Differences between checking/savings/investment accounts",
          "Differences between checking/savings/investment accounts",
          "Differences between checking/savings/investment accounts",
          "Differences between checking/savings/investment accounts",
          "Differences between checking/savings/investment accounts",
          "Differences between checking/savings/investment accounts",
          "Differences between checking/savings/investment accounts",
          "Differences between checking/savings/investment accounts",
          "Differences between checking/savings/investment accounts",
          "Differences between checking/savings/investment accounts",
          "Differences between checking/savings/investment accounts",
          "Differences between checking/savings/investment accounts",
          "Differences between checking/savings/investment accounts",
          "Differences between checking/savings/investment accounts",
          "Differences between checking/savings/investment accounts",
          "Differences between checking/savings/investment accounts",
          "Differences between checking/savings/investment accounts",
          "Differences between checking/savings/investment accounts",
          "Differences between checking/savings/investment accounts",
          "Differences between checking/savings/investment accounts",
          "Differences between checking/savings/investment accounts",
          "Differences between checking/savings/investment accounts",
          "Differences between checking/savings/investment accounts",
          "Differences between checking/savings/investment accounts",
          "Differences between checking/savings/investment accounts",
          "Differences between checking/savings/investment accounts",
          "Differences between checking/savings/investment accounts",
          "Differences between checking/savings/investment accounts",
          "Differences between checking/savings/investment accounts",
          "Differences between checking/savings/investment accounts",
          "Differences between checking/savings/investment accounts",
          "Differences between checking/savings/investment accounts",
          "Differences between checking/savings/investment accounts",
          "Differences between checking/savings/investment accounts",
          "Differences between checking/savings/investment accounts",
          "Differences between checking/savings/investment accounts",
          "Differences between checking/savings/investment accounts",
          "Differences between checking/savings/investment accounts",
          "Differences between checking/savings/investment accounts",
          "Differences between checking/savings/investment accounts",
          "Differences between checking/savings/investment accounts",
          "Differences between checking/savings/investment accounts",
          "Using financial apps or online banking tools",
          "Using financial apps or online banking tools",
          "Using financial apps or online banking tools",
          "Using financial apps or online banking tools",
          "Using financial apps or online banking tools",
          "Using financial apps or online banking tools",
          "Using financial apps or online banking tools",
          "Using financial apps or online banking tools",
          "Using financial apps or online banking tools",
          "Using financial apps or online banking tools",
          "Using financial apps or online banking tools",
          "Using financial apps or online banking tools",
          "Using financial apps or online banking tools",
          "Using financial apps or online banking tools",
          "Using financial apps or online banking tools",
          "Using financial apps or online banking tools",
          "Using financial apps or online banking tools",
          "Using financial apps or online banking tools",
          "Using financial apps or online banking tools",
          "Using financial apps or online banking tools",
          "Using financial apps or online banking tools",
          "Using financial apps or online banking tools",
          "Using financial apps or online banking tools",
          "Using financial apps or online banking tools",
          "Using financial apps or online banking tools",
          "Using financial apps or online banking tools",
          "Using financial apps or online banking tools",
          "Using financial apps or online banking tools",
          "Using financial apps or online banking tools",
          "Using financial apps or online banking tools",
          "Using financial apps or online banking tools",
          "Using financial apps or online banking tools",
          "Using financial apps or online banking tools",
          "Using financial apps or online banking tools",
          "Using financial apps or online banking tools",
          "Using financial apps or online banking tools",
          "Using financial apps or online banking tools",
          "Using financial apps or online banking tools",
          "Using financial apps or online banking tools",
          "Using financial apps or online banking tools",
          "Using financial apps or online banking tools",
          "Using financial apps or online banking tools",
          "Investing your money for future wealth",
          "Investing your money for future wealth",
          "Investing your money for future wealth",
          "Investing your money for future wealth",
          "Investing your money for future wealth",
          "Investing your money for future wealth",
          "Investing your money for future wealth",
          "Investing your money for future wealth",
          "Investing your money for future wealth",
          "Investing your money for future wealth",
          "Investing your money for future wealth",
          "Investing your money for future wealth",
          "Investing your money for future wealth",
          "Investing your money for future wealth",
          "Investing your money for future wealth",
          "Investing your money for future wealth",
          "Investing your money for future wealth",
          "Investing your money for future wealth",
          "Investing your money for future wealth",
          "Investing your money for future wealth",
          "Investing your money for future wealth",
          "Investing your money for future wealth",
          "Investing your money for future wealth",
          "Investing your money for future wealth",
          "Investing your money for future wealth",
          "Investing your money for future wealth",
          "Investing your money for future wealth",
          "Investing your money for future wealth",
          "Investing your money for future wealth",
          "Investing your money for future wealth",
          "Investing your money for future wealth",
          "Investing your money for future wealth",
          "Investing your money for future wealth",
          "Investing your money for future wealth",
          "Investing your money for future wealth",
          "Investing your money for future wealth",
          "Investing your money for future wealth",
          "Investing your money for future wealth",
          "Investing your money for future wealth",
          "Investing your money for future wealth",
          "Investing your money for future wealth",
          "Investing your money for future wealth"
         ],
         "xaxis": "x",
         "y": [
          "4",
          "4",
          "3",
          "5",
          "3",
          "5",
          "5",
          "4",
          "3",
          "3",
          "3",
          "5",
          "4",
          "5",
          "4",
          "1",
          "5",
          "4",
          "2",
          "4",
          "4",
          "1",
          "4",
          "4",
          "5",
          "1",
          "3",
          "4",
          "5",
          "5",
          "2",
          "3",
          "2",
          "4",
          "4",
          "5",
          "5",
          "4",
          "3",
          "4",
          "3",
          "2",
          "4",
          "3",
          "3",
          "4",
          "3",
          "3",
          "1",
          "3",
          "2",
          "1",
          "2",
          "3",
          "1",
          "5",
          "3",
          "1",
          "2",
          "2",
          "2",
          "4",
          "4",
          "1",
          "1",
          "4",
          "4",
          "2",
          "3",
          "3",
          "3",
          "4",
          "1",
          "4",
          "2",
          "3",
          "3",
          "3",
          "5",
          "3",
          "3",
          "3",
          "3",
          "4",
          "4",
          "4",
          "4",
          "4",
          "4",
          "3",
          "3",
          "4",
          "4",
          "2",
          "3",
          "4",
          "3",
          "5",
          "5",
          "1",
          "2",
          "3",
          "3",
          "4",
          "4",
          "1",
          "2",
          "4",
          "5",
          "2",
          "1",
          "4",
          "3",
          "4",
          "2",
          "4",
          "3",
          "3",
          "4",
          "5",
          "5",
          "3",
          "5",
          "3",
          "3",
          "3",
          "4",
          "5",
          "4",
          "4",
          "3",
          "3",
          "3",
          "3",
          "4",
          "2",
          "4",
          "4",
          "5",
          "5",
          "5",
          "1",
          "5",
          "4",
          "3",
          "3",
          "4",
          "1",
          "2",
          "4",
          "5",
          "3",
          "4",
          "4",
          "3",
          "4",
          "2",
          "5",
          "4",
          "4",
          "3",
          "4",
          "5",
          "3",
          "5",
          "3",
          "3",
          "4",
          "3",
          "5",
          "4",
          "4",
          "5",
          "3",
          "2",
          "3",
          "4",
          "4",
          "4",
          "5",
          "5",
          "5",
          "5",
          "1",
          "5",
          "4",
          "2",
          "4",
          "4",
          "1",
          "3",
          "4",
          "5",
          "1",
          "2",
          "5",
          "3",
          "4",
          "2",
          "3",
          "3",
          "3",
          "4",
          "5",
          "5",
          "4",
          "5",
          "4",
          "3",
          "2",
          "3",
          "5",
          "4",
          "4",
          "2",
          "2",
          "2",
          "4",
          "2",
          "4",
          "3",
          "3",
          "1",
          "5",
          "3",
          "1",
          "2",
          "3",
          "1",
          "4",
          "4",
          "1",
          "1",
          "4",
          "5",
          "3",
          "3",
          "3",
          "3",
          "4",
          "2",
          "3",
          "3",
          "3",
          "4",
          "3",
          "5",
          "4",
          "3",
          "3",
          "3",
          "2"
         ],
         "yaxis": "y"
        }
       ],
       "layout": {
        "barmode": "group",
        "height": 400,
        "legend": {
         "title": {
          "text": "Gender"
         },
         "tracegroupgap": 0
        },
        "margin": {
         "t": 60
        },
        "template": {
         "data": {
          "bar": [
           {
            "error_x": {
             "color": "#2a3f5f"
            },
            "error_y": {
             "color": "#2a3f5f"
            },
            "marker": {
             "line": {
              "color": "white",
              "width": 0.5
             },
             "pattern": {
              "fillmode": "overlay",
              "size": 10,
              "solidity": 0.2
             }
            },
            "type": "bar"
           }
          ],
          "barpolar": [
           {
            "marker": {
             "line": {
              "color": "white",
              "width": 0.5
             },
             "pattern": {
              "fillmode": "overlay",
              "size": 10,
              "solidity": 0.2
             }
            },
            "type": "barpolar"
           }
          ],
          "carpet": [
           {
            "aaxis": {
             "endlinecolor": "#2a3f5f",
             "gridcolor": "#C8D4E3",
             "linecolor": "#C8D4E3",
             "minorgridcolor": "#C8D4E3",
             "startlinecolor": "#2a3f5f"
            },
            "baxis": {
             "endlinecolor": "#2a3f5f",
             "gridcolor": "#C8D4E3",
             "linecolor": "#C8D4E3",
             "minorgridcolor": "#C8D4E3",
             "startlinecolor": "#2a3f5f"
            },
            "type": "carpet"
           }
          ],
          "choropleth": [
           {
            "colorbar": {
             "outlinewidth": 0,
             "ticks": ""
            },
            "type": "choropleth"
           }
          ],
          "contour": [
           {
            "colorbar": {
             "outlinewidth": 0,
             "ticks": ""
            },
            "colorscale": [
             [
              0,
              "#0d0887"
             ],
             [
              0.1111111111111111,
              "#46039f"
             ],
             [
              0.2222222222222222,
              "#7201a8"
             ],
             [
              0.3333333333333333,
              "#9c179e"
             ],
             [
              0.4444444444444444,
              "#bd3786"
             ],
             [
              0.5555555555555556,
              "#d8576b"
             ],
             [
              0.6666666666666666,
              "#ed7953"
             ],
             [
              0.7777777777777778,
              "#fb9f3a"
             ],
             [
              0.8888888888888888,
              "#fdca26"
             ],
             [
              1,
              "#f0f921"
             ]
            ],
            "type": "contour"
           }
          ],
          "contourcarpet": [
           {
            "colorbar": {
             "outlinewidth": 0,
             "ticks": ""
            },
            "type": "contourcarpet"
           }
          ],
          "heatmap": [
           {
            "colorbar": {
             "outlinewidth": 0,
             "ticks": ""
            },
            "colorscale": [
             [
              0,
              "#0d0887"
             ],
             [
              0.1111111111111111,
              "#46039f"
             ],
             [
              0.2222222222222222,
              "#7201a8"
             ],
             [
              0.3333333333333333,
              "#9c179e"
             ],
             [
              0.4444444444444444,
              "#bd3786"
             ],
             [
              0.5555555555555556,
              "#d8576b"
             ],
             [
              0.6666666666666666,
              "#ed7953"
             ],
             [
              0.7777777777777778,
              "#fb9f3a"
             ],
             [
              0.8888888888888888,
              "#fdca26"
             ],
             [
              1,
              "#f0f921"
             ]
            ],
            "type": "heatmap"
           }
          ],
          "heatmapgl": [
           {
            "colorbar": {
             "outlinewidth": 0,
             "ticks": ""
            },
            "colorscale": [
             [
              0,
              "#0d0887"
             ],
             [
              0.1111111111111111,
              "#46039f"
             ],
             [
              0.2222222222222222,
              "#7201a8"
             ],
             [
              0.3333333333333333,
              "#9c179e"
             ],
             [
              0.4444444444444444,
              "#bd3786"
             ],
             [
              0.5555555555555556,
              "#d8576b"
             ],
             [
              0.6666666666666666,
              "#ed7953"
             ],
             [
              0.7777777777777778,
              "#fb9f3a"
             ],
             [
              0.8888888888888888,
              "#fdca26"
             ],
             [
              1,
              "#f0f921"
             ]
            ],
            "type": "heatmapgl"
           }
          ],
          "histogram": [
           {
            "marker": {
             "pattern": {
              "fillmode": "overlay",
              "size": 10,
              "solidity": 0.2
             }
            },
            "type": "histogram"
           }
          ],
          "histogram2d": [
           {
            "colorbar": {
             "outlinewidth": 0,
             "ticks": ""
            },
            "colorscale": [
             [
              0,
              "#0d0887"
             ],
             [
              0.1111111111111111,
              "#46039f"
             ],
             [
              0.2222222222222222,
              "#7201a8"
             ],
             [
              0.3333333333333333,
              "#9c179e"
             ],
             [
              0.4444444444444444,
              "#bd3786"
             ],
             [
              0.5555555555555556,
              "#d8576b"
             ],
             [
              0.6666666666666666,
              "#ed7953"
             ],
             [
              0.7777777777777778,
              "#fb9f3a"
             ],
             [
              0.8888888888888888,
              "#fdca26"
             ],
             [
              1,
              "#f0f921"
             ]
            ],
            "type": "histogram2d"
           }
          ],
          "histogram2dcontour": [
           {
            "colorbar": {
             "outlinewidth": 0,
             "ticks": ""
            },
            "colorscale": [
             [
              0,
              "#0d0887"
             ],
             [
              0.1111111111111111,
              "#46039f"
             ],
             [
              0.2222222222222222,
              "#7201a8"
             ],
             [
              0.3333333333333333,
              "#9c179e"
             ],
             [
              0.4444444444444444,
              "#bd3786"
             ],
             [
              0.5555555555555556,
              "#d8576b"
             ],
             [
              0.6666666666666666,
              "#ed7953"
             ],
             [
              0.7777777777777778,
              "#fb9f3a"
             ],
             [
              0.8888888888888888,
              "#fdca26"
             ],
             [
              1,
              "#f0f921"
             ]
            ],
            "type": "histogram2dcontour"
           }
          ],
          "mesh3d": [
           {
            "colorbar": {
             "outlinewidth": 0,
             "ticks": ""
            },
            "type": "mesh3d"
           }
          ],
          "parcoords": [
           {
            "line": {
             "colorbar": {
              "outlinewidth": 0,
              "ticks": ""
             }
            },
            "type": "parcoords"
           }
          ],
          "pie": [
           {
            "automargin": true,
            "type": "pie"
           }
          ],
          "scatter": [
           {
            "fillpattern": {
             "fillmode": "overlay",
             "size": 10,
             "solidity": 0.2
            },
            "type": "scatter"
           }
          ],
          "scatter3d": [
           {
            "line": {
             "colorbar": {
              "outlinewidth": 0,
              "ticks": ""
             }
            },
            "marker": {
             "colorbar": {
              "outlinewidth": 0,
              "ticks": ""
             }
            },
            "type": "scatter3d"
           }
          ],
          "scattercarpet": [
           {
            "marker": {
             "colorbar": {
              "outlinewidth": 0,
              "ticks": ""
             }
            },
            "type": "scattercarpet"
           }
          ],
          "scattergeo": [
           {
            "marker": {
             "colorbar": {
              "outlinewidth": 0,
              "ticks": ""
             }
            },
            "type": "scattergeo"
           }
          ],
          "scattergl": [
           {
            "marker": {
             "colorbar": {
              "outlinewidth": 0,
              "ticks": ""
             }
            },
            "type": "scattergl"
           }
          ],
          "scattermapbox": [
           {
            "marker": {
             "colorbar": {
              "outlinewidth": 0,
              "ticks": ""
             }
            },
            "type": "scattermapbox"
           }
          ],
          "scatterpolar": [
           {
            "marker": {
             "colorbar": {
              "outlinewidth": 0,
              "ticks": ""
             }
            },
            "type": "scatterpolar"
           }
          ],
          "scatterpolargl": [
           {
            "marker": {
             "colorbar": {
              "outlinewidth": 0,
              "ticks": ""
             }
            },
            "type": "scatterpolargl"
           }
          ],
          "scatterternary": [
           {
            "marker": {
             "colorbar": {
              "outlinewidth": 0,
              "ticks": ""
             }
            },
            "type": "scatterternary"
           }
          ],
          "surface": [
           {
            "colorbar": {
             "outlinewidth": 0,
             "ticks": ""
            },
            "colorscale": [
             [
              0,
              "#0d0887"
             ],
             [
              0.1111111111111111,
              "#46039f"
             ],
             [
              0.2222222222222222,
              "#7201a8"
             ],
             [
              0.3333333333333333,
              "#9c179e"
             ],
             [
              0.4444444444444444,
              "#bd3786"
             ],
             [
              0.5555555555555556,
              "#d8576b"
             ],
             [
              0.6666666666666666,
              "#ed7953"
             ],
             [
              0.7777777777777778,
              "#fb9f3a"
             ],
             [
              0.8888888888888888,
              "#fdca26"
             ],
             [
              1,
              "#f0f921"
             ]
            ],
            "type": "surface"
           }
          ],
          "table": [
           {
            "cells": {
             "fill": {
              "color": "#EBF0F8"
             },
             "line": {
              "color": "white"
             }
            },
            "header": {
             "fill": {
              "color": "#C8D4E3"
             },
             "line": {
              "color": "white"
             }
            },
            "type": "table"
           }
          ]
         },
         "layout": {
          "annotationdefaults": {
           "arrowcolor": "#2a3f5f",
           "arrowhead": 0,
           "arrowwidth": 1
          },
          "autotypenumbers": "strict",
          "coloraxis": {
           "colorbar": {
            "outlinewidth": 0,
            "ticks": ""
           }
          },
          "colorscale": {
           "diverging": [
            [
             0,
             "#8e0152"
            ],
            [
             0.1,
             "#c51b7d"
            ],
            [
             0.2,
             "#de77ae"
            ],
            [
             0.3,
             "#f1b6da"
            ],
            [
             0.4,
             "#fde0ef"
            ],
            [
             0.5,
             "#f7f7f7"
            ],
            [
             0.6,
             "#e6f5d0"
            ],
            [
             0.7,
             "#b8e186"
            ],
            [
             0.8,
             "#7fbc41"
            ],
            [
             0.9,
             "#4d9221"
            ],
            [
             1,
             "#276419"
            ]
           ],
           "sequential": [
            [
             0,
             "#0d0887"
            ],
            [
             0.1111111111111111,
             "#46039f"
            ],
            [
             0.2222222222222222,
             "#7201a8"
            ],
            [
             0.3333333333333333,
             "#9c179e"
            ],
            [
             0.4444444444444444,
             "#bd3786"
            ],
            [
             0.5555555555555556,
             "#d8576b"
            ],
            [
             0.6666666666666666,
             "#ed7953"
            ],
            [
             0.7777777777777778,
             "#fb9f3a"
            ],
            [
             0.8888888888888888,
             "#fdca26"
            ],
            [
             1,
             "#f0f921"
            ]
           ],
           "sequentialminus": [
            [
             0,
             "#0d0887"
            ],
            [
             0.1111111111111111,
             "#46039f"
            ],
            [
             0.2222222222222222,
             "#7201a8"
            ],
            [
             0.3333333333333333,
             "#9c179e"
            ],
            [
             0.4444444444444444,
             "#bd3786"
            ],
            [
             0.5555555555555556,
             "#d8576b"
            ],
            [
             0.6666666666666666,
             "#ed7953"
            ],
            [
             0.7777777777777778,
             "#fb9f3a"
            ],
            [
             0.8888888888888888,
             "#fdca26"
            ],
            [
             1,
             "#f0f921"
            ]
           ]
          },
          "colorway": [
           "#636efa",
           "#EF553B",
           "#00cc96",
           "#ab63fa",
           "#FFA15A",
           "#19d3f3",
           "#FF6692",
           "#B6E880",
           "#FF97FF",
           "#FECB52"
          ],
          "font": {
           "color": "#2a3f5f"
          },
          "geo": {
           "bgcolor": "white",
           "lakecolor": "white",
           "landcolor": "white",
           "showlakes": true,
           "showland": true,
           "subunitcolor": "#C8D4E3"
          },
          "hoverlabel": {
           "align": "left"
          },
          "hovermode": "closest",
          "mapbox": {
           "style": "light"
          },
          "paper_bgcolor": "white",
          "plot_bgcolor": "white",
          "polar": {
           "angularaxis": {
            "gridcolor": "#EBF0F8",
            "linecolor": "#EBF0F8",
            "ticks": ""
           },
           "bgcolor": "white",
           "radialaxis": {
            "gridcolor": "#EBF0F8",
            "linecolor": "#EBF0F8",
            "ticks": ""
           }
          },
          "scene": {
           "xaxis": {
            "backgroundcolor": "white",
            "gridcolor": "#DFE8F3",
            "gridwidth": 2,
            "linecolor": "#EBF0F8",
            "showbackground": true,
            "ticks": "",
            "zerolinecolor": "#EBF0F8"
           },
           "yaxis": {
            "backgroundcolor": "white",
            "gridcolor": "#DFE8F3",
            "gridwidth": 2,
            "linecolor": "#EBF0F8",
            "showbackground": true,
            "ticks": "",
            "zerolinecolor": "#EBF0F8"
           },
           "zaxis": {
            "backgroundcolor": "white",
            "gridcolor": "#DFE8F3",
            "gridwidth": 2,
            "linecolor": "#EBF0F8",
            "showbackground": true,
            "ticks": "",
            "zerolinecolor": "#EBF0F8"
           }
          },
          "shapedefaults": {
           "line": {
            "color": "#2a3f5f"
           }
          },
          "ternary": {
           "aaxis": {
            "gridcolor": "#DFE8F3",
            "linecolor": "#A2B1C6",
            "ticks": ""
           },
           "baxis": {
            "gridcolor": "#DFE8F3",
            "linecolor": "#A2B1C6",
            "ticks": ""
           },
           "bgcolor": "white",
           "caxis": {
            "gridcolor": "#DFE8F3",
            "linecolor": "#A2B1C6",
            "ticks": ""
           }
          },
          "title": {
           "x": 0.05
          },
          "xaxis": {
           "automargin": true,
           "gridcolor": "#EBF0F8",
           "linecolor": "#EBF0F8",
           "ticks": "",
           "title": {
            "standoff": 15
           },
           "zerolinecolor": "#EBF0F8",
           "zerolinewidth": 2
          },
          "yaxis": {
           "automargin": true,
           "gridcolor": "#EBF0F8",
           "linecolor": "#EBF0F8",
           "ticks": "",
           "title": {
            "standoff": 15
           },
           "zerolinecolor": "#EBF0F8",
           "zerolinewidth": 2
          }
         }
        },
        "xaxis": {
         "anchor": "y",
         "domain": [
          0,
          1
         ],
         "title": {
          "text": "Financial Literacy"
         }
        },
        "yaxis": {
         "anchor": "x",
         "domain": [
          0,
          1
         ],
         "range": [
          0,
          5
         ],
         "title": {
          "text": "Mean Rating"
         }
        }
       }
      }
     },
     "metadata": {},
     "output_type": "display_data"
    }
   ],
   "source": [
    "fig = px.histogram(fl, x=\"Financial Literacy\", y=\"value\",\n",
    "             color='Gender', barmode='group', \n",
    "             height=400, histfunc = \"avg\")\n",
    "fig.update_traces(textfont_size=12, textposition=\"inside\")\n",
    "fig.update_layout(yaxis_title=\"Mean Rating\", yaxis_range=[0, 5])\n",
    "fig.show()"
   ]
  },
  {
   "cell_type": "code",
   "execution_count": 22,
   "id": "e92f23a5",
   "metadata": {},
   "outputs": [
    {
     "data": {
      "application/vnd.plotly.v1+json": {
       "config": {
        "plotlyServerURL": "https://plot.ly"
       },
       "data": [
        {
         "name": "Age",
         "type": "histogram",
         "x": [
          19,
          21,
          18,
          18,
          18,
          20,
          17,
          18,
          19,
          18,
          20,
          18,
          18,
          20,
          20,
          19,
          18,
          22,
          20,
          15,
          20,
          23,
          20,
          20,
          20,
          17,
          15,
          19,
          17,
          19,
          24,
          20,
          22,
          20,
          20,
          16,
          16,
          21,
          24,
          19,
          20,
          18,
          19,
          19,
          18,
          19,
          18,
          15,
          19,
          20,
          22,
          21,
          19,
          22,
          24,
          23,
          20,
          21,
          20,
          17,
          17,
          18,
          20,
          23,
          21,
          18,
          21,
          21,
          17,
          24,
          20,
          19,
          21,
          23,
          23,
          21,
          19,
          19,
          22,
          19,
          20,
          18,
          23,
          20,
          21,
          19,
          17,
          23,
          20,
          22,
          19,
          22,
          23,
          22,
          20,
          14,
          21,
          21,
          19,
          21
         ],
         "xaxis": "x",
         "yaxis": "y"
        },
        {
         "name": "Education",
         "type": "bar",
         "x": [
          "2/4-yr College",
          "HS Grad (not in school)",
          "Recent College Grad",
          "In HS",
          "Trade/Apprenticeship"
         ],
         "xaxis": "x2",
         "y": [
          53,
          24,
          8,
          7,
          5
         ],
         "yaxis": "y2"
        },
        {
         "name": "Gender",
         "type": "bar",
         "x": [
          "Female",
          "Male",
          "Non-binary",
          "Prefer not to answer"
         ],
         "xaxis": "x3",
         "y": [
          57,
          39,
          2,
          1
         ],
         "yaxis": "y3"
        },
        {
         "name": "Race",
         "type": "bar",
         "x": [
          "Black or African American",
          "Hispanic or Latino",
          "White",
          "Asian or Pacific Islander"
         ],
         "xaxis": "x4",
         "y": [
          90,
          12,
          2,
          1
         ],
         "yaxis": "y4"
        }
       ],
       "layout": {
        "annotations": [
         {
          "font": {
           "size": 16
          },
          "showarrow": false,
          "text": "Age",
          "x": 0.10625,
          "xanchor": "center",
          "xref": "paper",
          "y": 1,
          "yanchor": "bottom",
          "yref": "paper"
         },
         {
          "font": {
           "size": 16
          },
          "showarrow": false,
          "text": "Education",
          "x": 0.36875,
          "xanchor": "center",
          "xref": "paper",
          "y": 1,
          "yanchor": "bottom",
          "yref": "paper"
         },
         {
          "font": {
           "size": 16
          },
          "showarrow": false,
          "text": "Gender",
          "x": 0.6312500000000001,
          "xanchor": "center",
          "xref": "paper",
          "y": 1,
          "yanchor": "bottom",
          "yref": "paper"
         },
         {
          "font": {
           "size": 16
          },
          "showarrow": false,
          "text": "Race",
          "x": 0.89375,
          "xanchor": "center",
          "xref": "paper",
          "y": 1,
          "yanchor": "bottom",
          "yref": "paper"
         }
        ],
        "height": 400,
        "showlegend": false,
        "template": {
         "data": {
          "bar": [
           {
            "error_x": {
             "color": "#2a3f5f"
            },
            "error_y": {
             "color": "#2a3f5f"
            },
            "marker": {
             "line": {
              "color": "white",
              "width": 0.5
             },
             "pattern": {
              "fillmode": "overlay",
              "size": 10,
              "solidity": 0.2
             }
            },
            "type": "bar"
           }
          ],
          "barpolar": [
           {
            "marker": {
             "line": {
              "color": "white",
              "width": 0.5
             },
             "pattern": {
              "fillmode": "overlay",
              "size": 10,
              "solidity": 0.2
             }
            },
            "type": "barpolar"
           }
          ],
          "carpet": [
           {
            "aaxis": {
             "endlinecolor": "#2a3f5f",
             "gridcolor": "#C8D4E3",
             "linecolor": "#C8D4E3",
             "minorgridcolor": "#C8D4E3",
             "startlinecolor": "#2a3f5f"
            },
            "baxis": {
             "endlinecolor": "#2a3f5f",
             "gridcolor": "#C8D4E3",
             "linecolor": "#C8D4E3",
             "minorgridcolor": "#C8D4E3",
             "startlinecolor": "#2a3f5f"
            },
            "type": "carpet"
           }
          ],
          "choropleth": [
           {
            "colorbar": {
             "outlinewidth": 0,
             "ticks": ""
            },
            "type": "choropleth"
           }
          ],
          "contour": [
           {
            "colorbar": {
             "outlinewidth": 0,
             "ticks": ""
            },
            "colorscale": [
             [
              0,
              "#0d0887"
             ],
             [
              0.1111111111111111,
              "#46039f"
             ],
             [
              0.2222222222222222,
              "#7201a8"
             ],
             [
              0.3333333333333333,
              "#9c179e"
             ],
             [
              0.4444444444444444,
              "#bd3786"
             ],
             [
              0.5555555555555556,
              "#d8576b"
             ],
             [
              0.6666666666666666,
              "#ed7953"
             ],
             [
              0.7777777777777778,
              "#fb9f3a"
             ],
             [
              0.8888888888888888,
              "#fdca26"
             ],
             [
              1,
              "#f0f921"
             ]
            ],
            "type": "contour"
           }
          ],
          "contourcarpet": [
           {
            "colorbar": {
             "outlinewidth": 0,
             "ticks": ""
            },
            "type": "contourcarpet"
           }
          ],
          "heatmap": [
           {
            "colorbar": {
             "outlinewidth": 0,
             "ticks": ""
            },
            "colorscale": [
             [
              0,
              "#0d0887"
             ],
             [
              0.1111111111111111,
              "#46039f"
             ],
             [
              0.2222222222222222,
              "#7201a8"
             ],
             [
              0.3333333333333333,
              "#9c179e"
             ],
             [
              0.4444444444444444,
              "#bd3786"
             ],
             [
              0.5555555555555556,
              "#d8576b"
             ],
             [
              0.6666666666666666,
              "#ed7953"
             ],
             [
              0.7777777777777778,
              "#fb9f3a"
             ],
             [
              0.8888888888888888,
              "#fdca26"
             ],
             [
              1,
              "#f0f921"
             ]
            ],
            "type": "heatmap"
           }
          ],
          "heatmapgl": [
           {
            "colorbar": {
             "outlinewidth": 0,
             "ticks": ""
            },
            "colorscale": [
             [
              0,
              "#0d0887"
             ],
             [
              0.1111111111111111,
              "#46039f"
             ],
             [
              0.2222222222222222,
              "#7201a8"
             ],
             [
              0.3333333333333333,
              "#9c179e"
             ],
             [
              0.4444444444444444,
              "#bd3786"
             ],
             [
              0.5555555555555556,
              "#d8576b"
             ],
             [
              0.6666666666666666,
              "#ed7953"
             ],
             [
              0.7777777777777778,
              "#fb9f3a"
             ],
             [
              0.8888888888888888,
              "#fdca26"
             ],
             [
              1,
              "#f0f921"
             ]
            ],
            "type": "heatmapgl"
           }
          ],
          "histogram": [
           {
            "marker": {
             "pattern": {
              "fillmode": "overlay",
              "size": 10,
              "solidity": 0.2
             }
            },
            "type": "histogram"
           }
          ],
          "histogram2d": [
           {
            "colorbar": {
             "outlinewidth": 0,
             "ticks": ""
            },
            "colorscale": [
             [
              0,
              "#0d0887"
             ],
             [
              0.1111111111111111,
              "#46039f"
             ],
             [
              0.2222222222222222,
              "#7201a8"
             ],
             [
              0.3333333333333333,
              "#9c179e"
             ],
             [
              0.4444444444444444,
              "#bd3786"
             ],
             [
              0.5555555555555556,
              "#d8576b"
             ],
             [
              0.6666666666666666,
              "#ed7953"
             ],
             [
              0.7777777777777778,
              "#fb9f3a"
             ],
             [
              0.8888888888888888,
              "#fdca26"
             ],
             [
              1,
              "#f0f921"
             ]
            ],
            "type": "histogram2d"
           }
          ],
          "histogram2dcontour": [
           {
            "colorbar": {
             "outlinewidth": 0,
             "ticks": ""
            },
            "colorscale": [
             [
              0,
              "#0d0887"
             ],
             [
              0.1111111111111111,
              "#46039f"
             ],
             [
              0.2222222222222222,
              "#7201a8"
             ],
             [
              0.3333333333333333,
              "#9c179e"
             ],
             [
              0.4444444444444444,
              "#bd3786"
             ],
             [
              0.5555555555555556,
              "#d8576b"
             ],
             [
              0.6666666666666666,
              "#ed7953"
             ],
             [
              0.7777777777777778,
              "#fb9f3a"
             ],
             [
              0.8888888888888888,
              "#fdca26"
             ],
             [
              1,
              "#f0f921"
             ]
            ],
            "type": "histogram2dcontour"
           }
          ],
          "mesh3d": [
           {
            "colorbar": {
             "outlinewidth": 0,
             "ticks": ""
            },
            "type": "mesh3d"
           }
          ],
          "parcoords": [
           {
            "line": {
             "colorbar": {
              "outlinewidth": 0,
              "ticks": ""
             }
            },
            "type": "parcoords"
           }
          ],
          "pie": [
           {
            "automargin": true,
            "type": "pie"
           }
          ],
          "scatter": [
           {
            "fillpattern": {
             "fillmode": "overlay",
             "size": 10,
             "solidity": 0.2
            },
            "type": "scatter"
           }
          ],
          "scatter3d": [
           {
            "line": {
             "colorbar": {
              "outlinewidth": 0,
              "ticks": ""
             }
            },
            "marker": {
             "colorbar": {
              "outlinewidth": 0,
              "ticks": ""
             }
            },
            "type": "scatter3d"
           }
          ],
          "scattercarpet": [
           {
            "marker": {
             "colorbar": {
              "outlinewidth": 0,
              "ticks": ""
             }
            },
            "type": "scattercarpet"
           }
          ],
          "scattergeo": [
           {
            "marker": {
             "colorbar": {
              "outlinewidth": 0,
              "ticks": ""
             }
            },
            "type": "scattergeo"
           }
          ],
          "scattergl": [
           {
            "marker": {
             "colorbar": {
              "outlinewidth": 0,
              "ticks": ""
             }
            },
            "type": "scattergl"
           }
          ],
          "scattermapbox": [
           {
            "marker": {
             "colorbar": {
              "outlinewidth": 0,
              "ticks": ""
             }
            },
            "type": "scattermapbox"
           }
          ],
          "scatterpolar": [
           {
            "marker": {
             "colorbar": {
              "outlinewidth": 0,
              "ticks": ""
             }
            },
            "type": "scatterpolar"
           }
          ],
          "scatterpolargl": [
           {
            "marker": {
             "colorbar": {
              "outlinewidth": 0,
              "ticks": ""
             }
            },
            "type": "scatterpolargl"
           }
          ],
          "scatterternary": [
           {
            "marker": {
             "colorbar": {
              "outlinewidth": 0,
              "ticks": ""
             }
            },
            "type": "scatterternary"
           }
          ],
          "surface": [
           {
            "colorbar": {
             "outlinewidth": 0,
             "ticks": ""
            },
            "colorscale": [
             [
              0,
              "#0d0887"
             ],
             [
              0.1111111111111111,
              "#46039f"
             ],
             [
              0.2222222222222222,
              "#7201a8"
             ],
             [
              0.3333333333333333,
              "#9c179e"
             ],
             [
              0.4444444444444444,
              "#bd3786"
             ],
             [
              0.5555555555555556,
              "#d8576b"
             ],
             [
              0.6666666666666666,
              "#ed7953"
             ],
             [
              0.7777777777777778,
              "#fb9f3a"
             ],
             [
              0.8888888888888888,
              "#fdca26"
             ],
             [
              1,
              "#f0f921"
             ]
            ],
            "type": "surface"
           }
          ],
          "table": [
           {
            "cells": {
             "fill": {
              "color": "#EBF0F8"
             },
             "line": {
              "color": "white"
             }
            },
            "header": {
             "fill": {
              "color": "#C8D4E3"
             },
             "line": {
              "color": "white"
             }
            },
            "type": "table"
           }
          ]
         },
         "layout": {
          "annotationdefaults": {
           "arrowcolor": "#2a3f5f",
           "arrowhead": 0,
           "arrowwidth": 1
          },
          "autotypenumbers": "strict",
          "coloraxis": {
           "colorbar": {
            "outlinewidth": 0,
            "ticks": ""
           }
          },
          "colorscale": {
           "diverging": [
            [
             0,
             "#8e0152"
            ],
            [
             0.1,
             "#c51b7d"
            ],
            [
             0.2,
             "#de77ae"
            ],
            [
             0.3,
             "#f1b6da"
            ],
            [
             0.4,
             "#fde0ef"
            ],
            [
             0.5,
             "#f7f7f7"
            ],
            [
             0.6,
             "#e6f5d0"
            ],
            [
             0.7,
             "#b8e186"
            ],
            [
             0.8,
             "#7fbc41"
            ],
            [
             0.9,
             "#4d9221"
            ],
            [
             1,
             "#276419"
            ]
           ],
           "sequential": [
            [
             0,
             "#0d0887"
            ],
            [
             0.1111111111111111,
             "#46039f"
            ],
            [
             0.2222222222222222,
             "#7201a8"
            ],
            [
             0.3333333333333333,
             "#9c179e"
            ],
            [
             0.4444444444444444,
             "#bd3786"
            ],
            [
             0.5555555555555556,
             "#d8576b"
            ],
            [
             0.6666666666666666,
             "#ed7953"
            ],
            [
             0.7777777777777778,
             "#fb9f3a"
            ],
            [
             0.8888888888888888,
             "#fdca26"
            ],
            [
             1,
             "#f0f921"
            ]
           ],
           "sequentialminus": [
            [
             0,
             "#0d0887"
            ],
            [
             0.1111111111111111,
             "#46039f"
            ],
            [
             0.2222222222222222,
             "#7201a8"
            ],
            [
             0.3333333333333333,
             "#9c179e"
            ],
            [
             0.4444444444444444,
             "#bd3786"
            ],
            [
             0.5555555555555556,
             "#d8576b"
            ],
            [
             0.6666666666666666,
             "#ed7953"
            ],
            [
             0.7777777777777778,
             "#fb9f3a"
            ],
            [
             0.8888888888888888,
             "#fdca26"
            ],
            [
             1,
             "#f0f921"
            ]
           ]
          },
          "colorway": [
           "#636efa",
           "#EF553B",
           "#00cc96",
           "#ab63fa",
           "#FFA15A",
           "#19d3f3",
           "#FF6692",
           "#B6E880",
           "#FF97FF",
           "#FECB52"
          ],
          "font": {
           "color": "#2a3f5f"
          },
          "geo": {
           "bgcolor": "white",
           "lakecolor": "white",
           "landcolor": "white",
           "showlakes": true,
           "showland": true,
           "subunitcolor": "#C8D4E3"
          },
          "hoverlabel": {
           "align": "left"
          },
          "hovermode": "closest",
          "mapbox": {
           "style": "light"
          },
          "paper_bgcolor": "white",
          "plot_bgcolor": "white",
          "polar": {
           "angularaxis": {
            "gridcolor": "#EBF0F8",
            "linecolor": "#EBF0F8",
            "ticks": ""
           },
           "bgcolor": "white",
           "radialaxis": {
            "gridcolor": "#EBF0F8",
            "linecolor": "#EBF0F8",
            "ticks": ""
           }
          },
          "scene": {
           "xaxis": {
            "backgroundcolor": "white",
            "gridcolor": "#DFE8F3",
            "gridwidth": 2,
            "linecolor": "#EBF0F8",
            "showbackground": true,
            "ticks": "",
            "zerolinecolor": "#EBF0F8"
           },
           "yaxis": {
            "backgroundcolor": "white",
            "gridcolor": "#DFE8F3",
            "gridwidth": 2,
            "linecolor": "#EBF0F8",
            "showbackground": true,
            "ticks": "",
            "zerolinecolor": "#EBF0F8"
           },
           "zaxis": {
            "backgroundcolor": "white",
            "gridcolor": "#DFE8F3",
            "gridwidth": 2,
            "linecolor": "#EBF0F8",
            "showbackground": true,
            "ticks": "",
            "zerolinecolor": "#EBF0F8"
           }
          },
          "shapedefaults": {
           "line": {
            "color": "#2a3f5f"
           }
          },
          "ternary": {
           "aaxis": {
            "gridcolor": "#DFE8F3",
            "linecolor": "#A2B1C6",
            "ticks": ""
           },
           "baxis": {
            "gridcolor": "#DFE8F3",
            "linecolor": "#A2B1C6",
            "ticks": ""
           },
           "bgcolor": "white",
           "caxis": {
            "gridcolor": "#DFE8F3",
            "linecolor": "#A2B1C6",
            "ticks": ""
           }
          },
          "title": {
           "x": 0.05
          },
          "xaxis": {
           "automargin": true,
           "gridcolor": "#EBF0F8",
           "linecolor": "#EBF0F8",
           "ticks": "",
           "title": {
            "standoff": 15
           },
           "zerolinecolor": "#EBF0F8",
           "zerolinewidth": 2
          },
          "yaxis": {
           "automargin": true,
           "gridcolor": "#EBF0F8",
           "linecolor": "#EBF0F8",
           "ticks": "",
           "title": {
            "standoff": 15
           },
           "zerolinecolor": "#EBF0F8",
           "zerolinewidth": 2
          }
         }
        },
        "title": {
         "text": "Demographics Overview"
        },
        "width": 1000,
        "xaxis": {
         "anchor": "y",
         "domain": [
          0,
          0.2125
         ]
        },
        "xaxis2": {
         "anchor": "y2",
         "domain": [
          0.2625,
          0.475
         ]
        },
        "xaxis3": {
         "anchor": "y3",
         "domain": [
          0.525,
          0.7375
         ]
        },
        "xaxis4": {
         "anchor": "y4",
         "domain": [
          0.7875,
          1
         ]
        },
        "yaxis": {
         "anchor": "x",
         "domain": [
          0,
          1
         ]
        },
        "yaxis2": {
         "anchor": "x2",
         "domain": [
          0,
          1
         ]
        },
        "yaxis3": {
         "anchor": "x3",
         "domain": [
          0,
          1
         ]
        },
        "yaxis4": {
         "anchor": "x4",
         "domain": [
          0,
          1
         ]
        }
       }
      }
     },
     "metadata": {},
     "output_type": "display_data"
    }
   ],
   "source": [
    "# Create subplot grid: 2 rows x 2 columns\n",
    "fig = make_subplots(rows=1, cols=4,\n",
    "                    subplot_titles=(\"Age\", \"Education\", \"Gender\", \"Race\"))\n",
    "\n",
    "# Age Histogram (Row 1, Col 1)\n",
    "fig.add_trace(\n",
    "    go.Histogram(x=df[\"How old are you?\"], name=\"Age\"),\n",
    "    row=1, col=1\n",
    ")\n",
    "\n",
    "# Education Bar Chart (Row 1, Col 2)\n",
    "education_counts = multi_select_counts(df, [\"#\", \"What is your current education status?\"], mappings.demograpics_map)\n",
    "fig.add_trace(\n",
    "    go.Bar(x=education_counts.index, y=education_counts.values, name=\"Education\"),\n",
    "    row=1, col=2\n",
    ")\n",
    "\n",
    "# Gender Bar Chart (Row 2, Col 1)\n",
    "gender_counts = multi_select_counts(df, [\"#\", \"What is your gender identity?\"])\n",
    "fig.add_trace(\n",
    "    go.Bar(x=gender_counts.index, y=gender_counts.values, name=\"Gender\"),\n",
    "    row=1, col=3\n",
    ")\n",
    "\n",
    "# Race Bar Chart (Row 2, Col 2)\n",
    "race_counts = multi_select_counts(df, [\"#\", 'Hispanic or Latino', 'White', 'Asian or Pacific Islander', 'American Indian or Alaska Native', 'Black or African American',])\n",
    "fig.add_trace(\n",
    "    go.Bar(x=race_counts.index, y=race_counts.values, name=\"Race\"),\n",
    "    row=1, col=4\n",
    ")\n",
    "\n",
    "# Update layout\n",
    "fig.update_layout(height=400, width=1000, title_text=\"Demographics Overview\")\n",
    "fig.update_layout(showlegend=False)\n",
    "fig.show()\n"
   ]
  },
  {
   "cell_type": "code",
   "execution_count": null,
   "id": "7af7d48f",
   "metadata": {},
   "outputs": [],
   "source": [
    "df"
   ]
  },
  {
   "cell_type": "code",
   "execution_count": 23,
   "id": "8f986454",
   "metadata": {},
   "outputs": [
    {
     "data": {
      "application/vnd.plotly.v1+json": {
       "config": {
        "plotlyServerURL": "https://plot.ly"
       },
       "data": [
        {
         "name": "Previous Job Experience",
         "type": "bar",
         "x": [
          "Internship",
          "Retail/service",
          "Food/hospitality",
          "Office work",
          "Youth/childcare",
          "Family/informal"
         ],
         "xaxis": "x",
         "y": [
          38,
          37,
          29,
          26,
          21,
          7
         ],
         "yaxis": "y"
        },
        {
         "name": "Goal of Participation",
         "type": "bar",
         "x": [
          "Professional exp.",
          "Job readiness",
          "Grow resume/LinkedIn",
          "Networking",
          "Mentorship",
          "Financial knowledge",
          "Explore careers"
         ],
         "xaxis": "x2",
         "y": [
          68,
          43,
          39,
          33,
          29,
          20,
          13
         ],
         "yaxis": "y2"
        },
        {
         "name": "Career Considerations",
         "type": "bar",
         "x": [
          "Passion",
          "Natural strengths",
          "High salary",
          "Values alignment",
          "Flexibility/lifestyle",
          "Prior experience",
          "Role models",
          "Market demand"
         ],
         "xaxis": "x3",
         "y": [
          74,
          54,
          52,
          52,
          38,
          35,
          24,
          16
         ],
         "yaxis": "y3"
        },
        {
         "name": "Development Needs",
         "type": "bar",
         "x": [
          "Networking",
          "Financial help",
          "Coaching/Mentorship",
          "Interview prep",
          "Time mgmt",
          "Resume/LinkedIn",
          "Mental health",
          "Attire"
         ],
         "xaxis": "x4",
         "y": [
          66,
          55,
          50,
          41,
          35,
          31,
          25,
          22
         ],
         "yaxis": "y4"
        }
       ],
       "layout": {
        "annotations": [
         {
          "font": {
           "size": 16
          },
          "showarrow": false,
          "text": "Previous Job Experience",
          "x": 0.225,
          "xanchor": "center",
          "xref": "paper",
          "y": 1,
          "yanchor": "bottom",
          "yref": "paper"
         },
         {
          "font": {
           "size": 16
          },
          "showarrow": false,
          "text": "Goal of Participation",
          "x": 0.775,
          "xanchor": "center",
          "xref": "paper",
          "y": 1,
          "yanchor": "bottom",
          "yref": "paper"
         },
         {
          "font": {
           "size": 16
          },
          "showarrow": false,
          "text": "Career Considerations",
          "x": 0.225,
          "xanchor": "center",
          "xref": "paper",
          "y": 0.375,
          "yanchor": "bottom",
          "yref": "paper"
         },
         {
          "font": {
           "size": 16
          },
          "showarrow": false,
          "text": "Development Needs",
          "x": 0.775,
          "xanchor": "center",
          "xref": "paper",
          "y": 0.375,
          "yanchor": "bottom",
          "yref": "paper"
         }
        ],
        "height": 600,
        "showlegend": false,
        "template": {
         "data": {
          "bar": [
           {
            "error_x": {
             "color": "#2a3f5f"
            },
            "error_y": {
             "color": "#2a3f5f"
            },
            "marker": {
             "line": {
              "color": "white",
              "width": 0.5
             },
             "pattern": {
              "fillmode": "overlay",
              "size": 10,
              "solidity": 0.2
             }
            },
            "type": "bar"
           }
          ],
          "barpolar": [
           {
            "marker": {
             "line": {
              "color": "white",
              "width": 0.5
             },
             "pattern": {
              "fillmode": "overlay",
              "size": 10,
              "solidity": 0.2
             }
            },
            "type": "barpolar"
           }
          ],
          "carpet": [
           {
            "aaxis": {
             "endlinecolor": "#2a3f5f",
             "gridcolor": "#C8D4E3",
             "linecolor": "#C8D4E3",
             "minorgridcolor": "#C8D4E3",
             "startlinecolor": "#2a3f5f"
            },
            "baxis": {
             "endlinecolor": "#2a3f5f",
             "gridcolor": "#C8D4E3",
             "linecolor": "#C8D4E3",
             "minorgridcolor": "#C8D4E3",
             "startlinecolor": "#2a3f5f"
            },
            "type": "carpet"
           }
          ],
          "choropleth": [
           {
            "colorbar": {
             "outlinewidth": 0,
             "ticks": ""
            },
            "type": "choropleth"
           }
          ],
          "contour": [
           {
            "colorbar": {
             "outlinewidth": 0,
             "ticks": ""
            },
            "colorscale": [
             [
              0,
              "#0d0887"
             ],
             [
              0.1111111111111111,
              "#46039f"
             ],
             [
              0.2222222222222222,
              "#7201a8"
             ],
             [
              0.3333333333333333,
              "#9c179e"
             ],
             [
              0.4444444444444444,
              "#bd3786"
             ],
             [
              0.5555555555555556,
              "#d8576b"
             ],
             [
              0.6666666666666666,
              "#ed7953"
             ],
             [
              0.7777777777777778,
              "#fb9f3a"
             ],
             [
              0.8888888888888888,
              "#fdca26"
             ],
             [
              1,
              "#f0f921"
             ]
            ],
            "type": "contour"
           }
          ],
          "contourcarpet": [
           {
            "colorbar": {
             "outlinewidth": 0,
             "ticks": ""
            },
            "type": "contourcarpet"
           }
          ],
          "heatmap": [
           {
            "colorbar": {
             "outlinewidth": 0,
             "ticks": ""
            },
            "colorscale": [
             [
              0,
              "#0d0887"
             ],
             [
              0.1111111111111111,
              "#46039f"
             ],
             [
              0.2222222222222222,
              "#7201a8"
             ],
             [
              0.3333333333333333,
              "#9c179e"
             ],
             [
              0.4444444444444444,
              "#bd3786"
             ],
             [
              0.5555555555555556,
              "#d8576b"
             ],
             [
              0.6666666666666666,
              "#ed7953"
             ],
             [
              0.7777777777777778,
              "#fb9f3a"
             ],
             [
              0.8888888888888888,
              "#fdca26"
             ],
             [
              1,
              "#f0f921"
             ]
            ],
            "type": "heatmap"
           }
          ],
          "heatmapgl": [
           {
            "colorbar": {
             "outlinewidth": 0,
             "ticks": ""
            },
            "colorscale": [
             [
              0,
              "#0d0887"
             ],
             [
              0.1111111111111111,
              "#46039f"
             ],
             [
              0.2222222222222222,
              "#7201a8"
             ],
             [
              0.3333333333333333,
              "#9c179e"
             ],
             [
              0.4444444444444444,
              "#bd3786"
             ],
             [
              0.5555555555555556,
              "#d8576b"
             ],
             [
              0.6666666666666666,
              "#ed7953"
             ],
             [
              0.7777777777777778,
              "#fb9f3a"
             ],
             [
              0.8888888888888888,
              "#fdca26"
             ],
             [
              1,
              "#f0f921"
             ]
            ],
            "type": "heatmapgl"
           }
          ],
          "histogram": [
           {
            "marker": {
             "pattern": {
              "fillmode": "overlay",
              "size": 10,
              "solidity": 0.2
             }
            },
            "type": "histogram"
           }
          ],
          "histogram2d": [
           {
            "colorbar": {
             "outlinewidth": 0,
             "ticks": ""
            },
            "colorscale": [
             [
              0,
              "#0d0887"
             ],
             [
              0.1111111111111111,
              "#46039f"
             ],
             [
              0.2222222222222222,
              "#7201a8"
             ],
             [
              0.3333333333333333,
              "#9c179e"
             ],
             [
              0.4444444444444444,
              "#bd3786"
             ],
             [
              0.5555555555555556,
              "#d8576b"
             ],
             [
              0.6666666666666666,
              "#ed7953"
             ],
             [
              0.7777777777777778,
              "#fb9f3a"
             ],
             [
              0.8888888888888888,
              "#fdca26"
             ],
             [
              1,
              "#f0f921"
             ]
            ],
            "type": "histogram2d"
           }
          ],
          "histogram2dcontour": [
           {
            "colorbar": {
             "outlinewidth": 0,
             "ticks": ""
            },
            "colorscale": [
             [
              0,
              "#0d0887"
             ],
             [
              0.1111111111111111,
              "#46039f"
             ],
             [
              0.2222222222222222,
              "#7201a8"
             ],
             [
              0.3333333333333333,
              "#9c179e"
             ],
             [
              0.4444444444444444,
              "#bd3786"
             ],
             [
              0.5555555555555556,
              "#d8576b"
             ],
             [
              0.6666666666666666,
              "#ed7953"
             ],
             [
              0.7777777777777778,
              "#fb9f3a"
             ],
             [
              0.8888888888888888,
              "#fdca26"
             ],
             [
              1,
              "#f0f921"
             ]
            ],
            "type": "histogram2dcontour"
           }
          ],
          "mesh3d": [
           {
            "colorbar": {
             "outlinewidth": 0,
             "ticks": ""
            },
            "type": "mesh3d"
           }
          ],
          "parcoords": [
           {
            "line": {
             "colorbar": {
              "outlinewidth": 0,
              "ticks": ""
             }
            },
            "type": "parcoords"
           }
          ],
          "pie": [
           {
            "automargin": true,
            "type": "pie"
           }
          ],
          "scatter": [
           {
            "fillpattern": {
             "fillmode": "overlay",
             "size": 10,
             "solidity": 0.2
            },
            "type": "scatter"
           }
          ],
          "scatter3d": [
           {
            "line": {
             "colorbar": {
              "outlinewidth": 0,
              "ticks": ""
             }
            },
            "marker": {
             "colorbar": {
              "outlinewidth": 0,
              "ticks": ""
             }
            },
            "type": "scatter3d"
           }
          ],
          "scattercarpet": [
           {
            "marker": {
             "colorbar": {
              "outlinewidth": 0,
              "ticks": ""
             }
            },
            "type": "scattercarpet"
           }
          ],
          "scattergeo": [
           {
            "marker": {
             "colorbar": {
              "outlinewidth": 0,
              "ticks": ""
             }
            },
            "type": "scattergeo"
           }
          ],
          "scattergl": [
           {
            "marker": {
             "colorbar": {
              "outlinewidth": 0,
              "ticks": ""
             }
            },
            "type": "scattergl"
           }
          ],
          "scattermapbox": [
           {
            "marker": {
             "colorbar": {
              "outlinewidth": 0,
              "ticks": ""
             }
            },
            "type": "scattermapbox"
           }
          ],
          "scatterpolar": [
           {
            "marker": {
             "colorbar": {
              "outlinewidth": 0,
              "ticks": ""
             }
            },
            "type": "scatterpolar"
           }
          ],
          "scatterpolargl": [
           {
            "marker": {
             "colorbar": {
              "outlinewidth": 0,
              "ticks": ""
             }
            },
            "type": "scatterpolargl"
           }
          ],
          "scatterternary": [
           {
            "marker": {
             "colorbar": {
              "outlinewidth": 0,
              "ticks": ""
             }
            },
            "type": "scatterternary"
           }
          ],
          "surface": [
           {
            "colorbar": {
             "outlinewidth": 0,
             "ticks": ""
            },
            "colorscale": [
             [
              0,
              "#0d0887"
             ],
             [
              0.1111111111111111,
              "#46039f"
             ],
             [
              0.2222222222222222,
              "#7201a8"
             ],
             [
              0.3333333333333333,
              "#9c179e"
             ],
             [
              0.4444444444444444,
              "#bd3786"
             ],
             [
              0.5555555555555556,
              "#d8576b"
             ],
             [
              0.6666666666666666,
              "#ed7953"
             ],
             [
              0.7777777777777778,
              "#fb9f3a"
             ],
             [
              0.8888888888888888,
              "#fdca26"
             ],
             [
              1,
              "#f0f921"
             ]
            ],
            "type": "surface"
           }
          ],
          "table": [
           {
            "cells": {
             "fill": {
              "color": "#EBF0F8"
             },
             "line": {
              "color": "white"
             }
            },
            "header": {
             "fill": {
              "color": "#C8D4E3"
             },
             "line": {
              "color": "white"
             }
            },
            "type": "table"
           }
          ]
         },
         "layout": {
          "annotationdefaults": {
           "arrowcolor": "#2a3f5f",
           "arrowhead": 0,
           "arrowwidth": 1
          },
          "autotypenumbers": "strict",
          "coloraxis": {
           "colorbar": {
            "outlinewidth": 0,
            "ticks": ""
           }
          },
          "colorscale": {
           "diverging": [
            [
             0,
             "#8e0152"
            ],
            [
             0.1,
             "#c51b7d"
            ],
            [
             0.2,
             "#de77ae"
            ],
            [
             0.3,
             "#f1b6da"
            ],
            [
             0.4,
             "#fde0ef"
            ],
            [
             0.5,
             "#f7f7f7"
            ],
            [
             0.6,
             "#e6f5d0"
            ],
            [
             0.7,
             "#b8e186"
            ],
            [
             0.8,
             "#7fbc41"
            ],
            [
             0.9,
             "#4d9221"
            ],
            [
             1,
             "#276419"
            ]
           ],
           "sequential": [
            [
             0,
             "#0d0887"
            ],
            [
             0.1111111111111111,
             "#46039f"
            ],
            [
             0.2222222222222222,
             "#7201a8"
            ],
            [
             0.3333333333333333,
             "#9c179e"
            ],
            [
             0.4444444444444444,
             "#bd3786"
            ],
            [
             0.5555555555555556,
             "#d8576b"
            ],
            [
             0.6666666666666666,
             "#ed7953"
            ],
            [
             0.7777777777777778,
             "#fb9f3a"
            ],
            [
             0.8888888888888888,
             "#fdca26"
            ],
            [
             1,
             "#f0f921"
            ]
           ],
           "sequentialminus": [
            [
             0,
             "#0d0887"
            ],
            [
             0.1111111111111111,
             "#46039f"
            ],
            [
             0.2222222222222222,
             "#7201a8"
            ],
            [
             0.3333333333333333,
             "#9c179e"
            ],
            [
             0.4444444444444444,
             "#bd3786"
            ],
            [
             0.5555555555555556,
             "#d8576b"
            ],
            [
             0.6666666666666666,
             "#ed7953"
            ],
            [
             0.7777777777777778,
             "#fb9f3a"
            ],
            [
             0.8888888888888888,
             "#fdca26"
            ],
            [
             1,
             "#f0f921"
            ]
           ]
          },
          "colorway": [
           "#636efa",
           "#EF553B",
           "#00cc96",
           "#ab63fa",
           "#FFA15A",
           "#19d3f3",
           "#FF6692",
           "#B6E880",
           "#FF97FF",
           "#FECB52"
          ],
          "font": {
           "color": "#2a3f5f"
          },
          "geo": {
           "bgcolor": "white",
           "lakecolor": "white",
           "landcolor": "white",
           "showlakes": true,
           "showland": true,
           "subunitcolor": "#C8D4E3"
          },
          "hoverlabel": {
           "align": "left"
          },
          "hovermode": "closest",
          "mapbox": {
           "style": "light"
          },
          "paper_bgcolor": "white",
          "plot_bgcolor": "white",
          "polar": {
           "angularaxis": {
            "gridcolor": "#EBF0F8",
            "linecolor": "#EBF0F8",
            "ticks": ""
           },
           "bgcolor": "white",
           "radialaxis": {
            "gridcolor": "#EBF0F8",
            "linecolor": "#EBF0F8",
            "ticks": ""
           }
          },
          "scene": {
           "xaxis": {
            "backgroundcolor": "white",
            "gridcolor": "#DFE8F3",
            "gridwidth": 2,
            "linecolor": "#EBF0F8",
            "showbackground": true,
            "ticks": "",
            "zerolinecolor": "#EBF0F8"
           },
           "yaxis": {
            "backgroundcolor": "white",
            "gridcolor": "#DFE8F3",
            "gridwidth": 2,
            "linecolor": "#EBF0F8",
            "showbackground": true,
            "ticks": "",
            "zerolinecolor": "#EBF0F8"
           },
           "zaxis": {
            "backgroundcolor": "white",
            "gridcolor": "#DFE8F3",
            "gridwidth": 2,
            "linecolor": "#EBF0F8",
            "showbackground": true,
            "ticks": "",
            "zerolinecolor": "#EBF0F8"
           }
          },
          "shapedefaults": {
           "line": {
            "color": "#2a3f5f"
           }
          },
          "ternary": {
           "aaxis": {
            "gridcolor": "#DFE8F3",
            "linecolor": "#A2B1C6",
            "ticks": ""
           },
           "baxis": {
            "gridcolor": "#DFE8F3",
            "linecolor": "#A2B1C6",
            "ticks": ""
           },
           "bgcolor": "white",
           "caxis": {
            "gridcolor": "#DFE8F3",
            "linecolor": "#A2B1C6",
            "ticks": ""
           }
          },
          "title": {
           "x": 0.05
          },
          "xaxis": {
           "automargin": true,
           "gridcolor": "#EBF0F8",
           "linecolor": "#EBF0F8",
           "ticks": "",
           "title": {
            "standoff": 15
           },
           "zerolinecolor": "#EBF0F8",
           "zerolinewidth": 2
          },
          "yaxis": {
           "automargin": true,
           "gridcolor": "#EBF0F8",
           "linecolor": "#EBF0F8",
           "ticks": "",
           "title": {
            "standoff": 15
           },
           "zerolinecolor": "#EBF0F8",
           "zerolinewidth": 2
          }
         }
        },
        "title": {
         "text": "Career Background and Development Needs"
        },
        "width": 800,
        "xaxis": {
         "anchor": "y",
         "domain": [
          0,
          0.45
         ]
        },
        "xaxis2": {
         "anchor": "y2",
         "domain": [
          0.55,
          1
         ]
        },
        "xaxis3": {
         "anchor": "y3",
         "domain": [
          0,
          0.45
         ]
        },
        "xaxis4": {
         "anchor": "y4",
         "domain": [
          0.55,
          1
         ]
        },
        "yaxis": {
         "anchor": "x",
         "domain": [
          0.625,
          1
         ]
        },
        "yaxis2": {
         "anchor": "x2",
         "domain": [
          0.625,
          1
         ]
        },
        "yaxis3": {
         "anchor": "x3",
         "domain": [
          0,
          0.375
         ]
        },
        "yaxis4": {
         "anchor": "x4",
         "domain": [
          0,
          0.375
         ]
        }
       }
      }
     },
     "metadata": {},
     "output_type": "display_data"
    }
   ],
   "source": [
    "# Create subplot grid: 2 rows x 2 columns\n",
    "\n",
    "fig = make_subplots(rows=2, cols=2,\n",
    "                    subplot_titles=(\"Previous Job Experience\", \"Goal of Participation\", \"Career Considerations\", \"Development Needs\"))\n",
    "\n",
    "# Previous Job Exp Bar Chart (Row 1, Col 1)\n",
    "prev_job = multi_select_counts(df, mappings.prev_job_col, mappings.prev_job_map)\n",
    "fig.add_trace(\n",
    "    go.Bar(x=prev_job.index, y=prev_job.values, name=\"Previous Job Experience\"),\n",
    "    row=1, col=1\n",
    ")\n",
    "\n",
    "# Goal of Participation Bar Chart (Row 1, Col 2)\n",
    "goal_of_participation = multi_select_counts(df, mappings.goal_of_participation, mappings.goal_participation_map)\n",
    "fig.add_trace(\n",
    "    go.Bar(x=goal_of_participation.index, y=goal_of_participation.values, name=\"Goal of Participation\"),\n",
    "    row=1, col=2\n",
    ")\n",
    "\n",
    "# Career Consideration Bar Chart (Row 2, Col 1)\n",
    "career = multi_select_counts(df, mappings.career_consideration_col, mappings.career_consideration_map)\n",
    "fig.add_trace(\n",
    "    go.Bar(x=career.index, y=career.values, name=\"Career Considerations\"),\n",
    "    row=2, col=1\n",
    ")\n",
    "\n",
    "# Development Needs Bar Chart (Row 2, Col 2)\n",
    "dev_needs = multi_select_counts(df, mappings.help_needed_col, mappings.help_needed_map)\n",
    "fig.add_trace(\n",
    "    go.Bar(x=dev_needs.index, y=dev_needs.values, name=\"Development Needs\"),\n",
    "    row=2, col=2\n",
    ")\n",
    "\n",
    "# Update layout\n",
    "fig.update_layout(height=600, width=800, title_text=\"Career Background and Development Needs\")\n",
    "fig.update_layout(showlegend=False)\n",
    "fig.show()\n"
   ]
  },
  {
   "cell_type": "code",
   "execution_count": null,
   "id": "693e239d",
   "metadata": {},
   "outputs": [],
   "source": []
  },
  {
   "cell_type": "code",
   "execution_count": 24,
   "id": "f79f0505",
   "metadata": {},
   "outputs": [],
   "source": [
    "fig = make_subplots(rows=2, cols=4,\n",
    "                    subplot_titles=list(mappings.score_card_colname_name_mapping.keys()))\n",
    "\n",
    "sc = df.select([\"#\"] + mappings.score_card).to_pandas()\n",
    "sc = pl.DataFrame(sc.replace(mappings.entry_standardization_mapping))\n",
    "\n",
    "for index, s in enumerate(mappings.score_card):\n",
    "    \n",
    "    position = get_subplot_coords(index, 2, 4)\n",
    "    \n",
    "    d = multi_select_counts(sc, [\"#\", s])\n",
    "    fig.add_trace(\n",
    "        go.Bar(y=d.values, x=d.index),\n",
    "        row=position[0], col=position[1])"
   ]
  },
  {
   "cell_type": "code",
   "execution_count": 25,
   "id": "5d3cc533",
   "metadata": {},
   "outputs": [
    {
     "data": {
      "application/vnd.plotly.v1+json": {
       "config": {
        "plotlyServerURL": "https://plot.ly"
       },
       "data": [
        {
         "type": "bar",
         "x": [
          "Very",
          "Extremely",
          "Moderately",
          "Not at all",
          "Slightly"
         ],
         "xaxis": "x",
         "y": [
          45,
          31,
          20,
          2,
          1
         ],
         "yaxis": "y"
        },
        {
         "type": "bar",
         "x": [
          "Moderately",
          "Very",
          "Extremely",
          "Slightly",
          "Not at all"
         ],
         "xaxis": "x2",
         "y": [
          44,
          24,
          16,
          13,
          2
         ],
         "yaxis": "y2"
        },
        {
         "type": "bar",
         "x": [
          "Very",
          "Extremely",
          "Moderately",
          "Not at all",
          "Slightly"
         ],
         "xaxis": "x3",
         "y": [
          47,
          21,
          20,
          7,
          5
         ],
         "yaxis": "y3"
        },
        {
         "type": "bar",
         "x": [
          "Extremely",
          "Very",
          "Moderately",
          "Slightly",
          "Not at all"
         ],
         "xaxis": "x4",
         "y": [
          41,
          36,
          19,
          2,
          1
         ],
         "yaxis": "y4"
        },
        {
         "type": "bar",
         "x": [
          "Very",
          "Extremely",
          "Moderately",
          "Slightly",
          "Not at all"
         ],
         "xaxis": "x5",
         "y": [
          39,
          29,
          26,
          4,
          1
         ],
         "yaxis": "y5"
        },
        {
         "type": "bar",
         "x": [
          "Very",
          "Moderately",
          "Extremely",
          "Slightly",
          "Not at all"
         ],
         "xaxis": "x6",
         "y": [
          37,
          25,
          21,
          11,
          6
         ],
         "yaxis": "y6"
        },
        {
         "type": "bar",
         "x": [
          "Moderately",
          "Slightly",
          "Very",
          "Not at all",
          "Extremely"
         ],
         "xaxis": "x7",
         "y": [
          36,
          21,
          18,
          13,
          12
         ],
         "yaxis": "y7"
        },
        {
         "type": "bar",
         "x": [
          "Very",
          "Extremely",
          "Moderately",
          "Not at all"
         ],
         "xaxis": "x8",
         "y": [
          44,
          41,
          12,
          2
         ],
         "yaxis": "y8"
        }
       ],
       "layout": {
        "annotations": [
         {
          "font": {
           "size": 16
          },
          "showarrow": false,
          "text": "Resilience",
          "x": 0.10625,
          "xanchor": "center",
          "xref": "paper",
          "y": 1,
          "yanchor": "bottom",
          "yref": "paper"
         },
         {
          "font": {
           "size": 16
          },
          "showarrow": false,
          "text": "Stress Level",
          "x": 0.36875,
          "xanchor": "center",
          "xref": "paper",
          "y": 1,
          "yanchor": "bottom",
          "yref": "paper"
         },
         {
          "font": {
           "size": 16
          },
          "showarrow": false,
          "text": "Communication",
          "x": 0.6312500000000001,
          "xanchor": "center",
          "xref": "paper",
          "y": 1,
          "yanchor": "bottom",
          "yref": "paper"
         },
         {
          "font": {
           "size": 16
          },
          "showarrow": false,
          "text": "Motivation",
          "x": 0.89375,
          "xanchor": "center",
          "xref": "paper",
          "y": 1,
          "yanchor": "bottom",
          "yref": "paper"
         },
         {
          "font": {
           "size": 16
          },
          "showarrow": false,
          "text": "Focus & Productivity",
          "x": 0.10625,
          "xanchor": "center",
          "xref": "paper",
          "y": 0.375,
          "yanchor": "bottom",
          "yref": "paper"
         },
         {
          "font": {
           "size": 16
          },
          "showarrow": false,
          "text": "Budgeting Skill",
          "x": 0.36875,
          "xanchor": "center",
          "xref": "paper",
          "y": 0.375,
          "yanchor": "bottom",
          "yref": "paper"
         },
         {
          "font": {
           "size": 16
          },
          "showarrow": false,
          "text": "Credit Knowledge",
          "x": 0.6312500000000001,
          "xanchor": "center",
          "xref": "paper",
          "y": 0.375,
          "yanchor": "bottom",
          "yref": "paper"
         },
         {
          "font": {
           "size": 16
          },
          "showarrow": false,
          "text": "Professional Presence",
          "x": 0.89375,
          "xanchor": "center",
          "xref": "paper",
          "y": 0.375,
          "yanchor": "bottom",
          "yref": "paper"
         }
        ],
        "height": 600,
        "showlegend": false,
        "template": {
         "data": {
          "bar": [
           {
            "error_x": {
             "color": "#2a3f5f"
            },
            "error_y": {
             "color": "#2a3f5f"
            },
            "marker": {
             "line": {
              "color": "white",
              "width": 0.5
             },
             "pattern": {
              "fillmode": "overlay",
              "size": 10,
              "solidity": 0.2
             }
            },
            "type": "bar"
           }
          ],
          "barpolar": [
           {
            "marker": {
             "line": {
              "color": "white",
              "width": 0.5
             },
             "pattern": {
              "fillmode": "overlay",
              "size": 10,
              "solidity": 0.2
             }
            },
            "type": "barpolar"
           }
          ],
          "carpet": [
           {
            "aaxis": {
             "endlinecolor": "#2a3f5f",
             "gridcolor": "#C8D4E3",
             "linecolor": "#C8D4E3",
             "minorgridcolor": "#C8D4E3",
             "startlinecolor": "#2a3f5f"
            },
            "baxis": {
             "endlinecolor": "#2a3f5f",
             "gridcolor": "#C8D4E3",
             "linecolor": "#C8D4E3",
             "minorgridcolor": "#C8D4E3",
             "startlinecolor": "#2a3f5f"
            },
            "type": "carpet"
           }
          ],
          "choropleth": [
           {
            "colorbar": {
             "outlinewidth": 0,
             "ticks": ""
            },
            "type": "choropleth"
           }
          ],
          "contour": [
           {
            "colorbar": {
             "outlinewidth": 0,
             "ticks": ""
            },
            "colorscale": [
             [
              0,
              "#0d0887"
             ],
             [
              0.1111111111111111,
              "#46039f"
             ],
             [
              0.2222222222222222,
              "#7201a8"
             ],
             [
              0.3333333333333333,
              "#9c179e"
             ],
             [
              0.4444444444444444,
              "#bd3786"
             ],
             [
              0.5555555555555556,
              "#d8576b"
             ],
             [
              0.6666666666666666,
              "#ed7953"
             ],
             [
              0.7777777777777778,
              "#fb9f3a"
             ],
             [
              0.8888888888888888,
              "#fdca26"
             ],
             [
              1,
              "#f0f921"
             ]
            ],
            "type": "contour"
           }
          ],
          "contourcarpet": [
           {
            "colorbar": {
             "outlinewidth": 0,
             "ticks": ""
            },
            "type": "contourcarpet"
           }
          ],
          "heatmap": [
           {
            "colorbar": {
             "outlinewidth": 0,
             "ticks": ""
            },
            "colorscale": [
             [
              0,
              "#0d0887"
             ],
             [
              0.1111111111111111,
              "#46039f"
             ],
             [
              0.2222222222222222,
              "#7201a8"
             ],
             [
              0.3333333333333333,
              "#9c179e"
             ],
             [
              0.4444444444444444,
              "#bd3786"
             ],
             [
              0.5555555555555556,
              "#d8576b"
             ],
             [
              0.6666666666666666,
              "#ed7953"
             ],
             [
              0.7777777777777778,
              "#fb9f3a"
             ],
             [
              0.8888888888888888,
              "#fdca26"
             ],
             [
              1,
              "#f0f921"
             ]
            ],
            "type": "heatmap"
           }
          ],
          "heatmapgl": [
           {
            "colorbar": {
             "outlinewidth": 0,
             "ticks": ""
            },
            "colorscale": [
             [
              0,
              "#0d0887"
             ],
             [
              0.1111111111111111,
              "#46039f"
             ],
             [
              0.2222222222222222,
              "#7201a8"
             ],
             [
              0.3333333333333333,
              "#9c179e"
             ],
             [
              0.4444444444444444,
              "#bd3786"
             ],
             [
              0.5555555555555556,
              "#d8576b"
             ],
             [
              0.6666666666666666,
              "#ed7953"
             ],
             [
              0.7777777777777778,
              "#fb9f3a"
             ],
             [
              0.8888888888888888,
              "#fdca26"
             ],
             [
              1,
              "#f0f921"
             ]
            ],
            "type": "heatmapgl"
           }
          ],
          "histogram": [
           {
            "marker": {
             "pattern": {
              "fillmode": "overlay",
              "size": 10,
              "solidity": 0.2
             }
            },
            "type": "histogram"
           }
          ],
          "histogram2d": [
           {
            "colorbar": {
             "outlinewidth": 0,
             "ticks": ""
            },
            "colorscale": [
             [
              0,
              "#0d0887"
             ],
             [
              0.1111111111111111,
              "#46039f"
             ],
             [
              0.2222222222222222,
              "#7201a8"
             ],
             [
              0.3333333333333333,
              "#9c179e"
             ],
             [
              0.4444444444444444,
              "#bd3786"
             ],
             [
              0.5555555555555556,
              "#d8576b"
             ],
             [
              0.6666666666666666,
              "#ed7953"
             ],
             [
              0.7777777777777778,
              "#fb9f3a"
             ],
             [
              0.8888888888888888,
              "#fdca26"
             ],
             [
              1,
              "#f0f921"
             ]
            ],
            "type": "histogram2d"
           }
          ],
          "histogram2dcontour": [
           {
            "colorbar": {
             "outlinewidth": 0,
             "ticks": ""
            },
            "colorscale": [
             [
              0,
              "#0d0887"
             ],
             [
              0.1111111111111111,
              "#46039f"
             ],
             [
              0.2222222222222222,
              "#7201a8"
             ],
             [
              0.3333333333333333,
              "#9c179e"
             ],
             [
              0.4444444444444444,
              "#bd3786"
             ],
             [
              0.5555555555555556,
              "#d8576b"
             ],
             [
              0.6666666666666666,
              "#ed7953"
             ],
             [
              0.7777777777777778,
              "#fb9f3a"
             ],
             [
              0.8888888888888888,
              "#fdca26"
             ],
             [
              1,
              "#f0f921"
             ]
            ],
            "type": "histogram2dcontour"
           }
          ],
          "mesh3d": [
           {
            "colorbar": {
             "outlinewidth": 0,
             "ticks": ""
            },
            "type": "mesh3d"
           }
          ],
          "parcoords": [
           {
            "line": {
             "colorbar": {
              "outlinewidth": 0,
              "ticks": ""
             }
            },
            "type": "parcoords"
           }
          ],
          "pie": [
           {
            "automargin": true,
            "type": "pie"
           }
          ],
          "scatter": [
           {
            "fillpattern": {
             "fillmode": "overlay",
             "size": 10,
             "solidity": 0.2
            },
            "type": "scatter"
           }
          ],
          "scatter3d": [
           {
            "line": {
             "colorbar": {
              "outlinewidth": 0,
              "ticks": ""
             }
            },
            "marker": {
             "colorbar": {
              "outlinewidth": 0,
              "ticks": ""
             }
            },
            "type": "scatter3d"
           }
          ],
          "scattercarpet": [
           {
            "marker": {
             "colorbar": {
              "outlinewidth": 0,
              "ticks": ""
             }
            },
            "type": "scattercarpet"
           }
          ],
          "scattergeo": [
           {
            "marker": {
             "colorbar": {
              "outlinewidth": 0,
              "ticks": ""
             }
            },
            "type": "scattergeo"
           }
          ],
          "scattergl": [
           {
            "marker": {
             "colorbar": {
              "outlinewidth": 0,
              "ticks": ""
             }
            },
            "type": "scattergl"
           }
          ],
          "scattermapbox": [
           {
            "marker": {
             "colorbar": {
              "outlinewidth": 0,
              "ticks": ""
             }
            },
            "type": "scattermapbox"
           }
          ],
          "scatterpolar": [
           {
            "marker": {
             "colorbar": {
              "outlinewidth": 0,
              "ticks": ""
             }
            },
            "type": "scatterpolar"
           }
          ],
          "scatterpolargl": [
           {
            "marker": {
             "colorbar": {
              "outlinewidth": 0,
              "ticks": ""
             }
            },
            "type": "scatterpolargl"
           }
          ],
          "scatterternary": [
           {
            "marker": {
             "colorbar": {
              "outlinewidth": 0,
              "ticks": ""
             }
            },
            "type": "scatterternary"
           }
          ],
          "surface": [
           {
            "colorbar": {
             "outlinewidth": 0,
             "ticks": ""
            },
            "colorscale": [
             [
              0,
              "#0d0887"
             ],
             [
              0.1111111111111111,
              "#46039f"
             ],
             [
              0.2222222222222222,
              "#7201a8"
             ],
             [
              0.3333333333333333,
              "#9c179e"
             ],
             [
              0.4444444444444444,
              "#bd3786"
             ],
             [
              0.5555555555555556,
              "#d8576b"
             ],
             [
              0.6666666666666666,
              "#ed7953"
             ],
             [
              0.7777777777777778,
              "#fb9f3a"
             ],
             [
              0.8888888888888888,
              "#fdca26"
             ],
             [
              1,
              "#f0f921"
             ]
            ],
            "type": "surface"
           }
          ],
          "table": [
           {
            "cells": {
             "fill": {
              "color": "#EBF0F8"
             },
             "line": {
              "color": "white"
             }
            },
            "header": {
             "fill": {
              "color": "#C8D4E3"
             },
             "line": {
              "color": "white"
             }
            },
            "type": "table"
           }
          ]
         },
         "layout": {
          "annotationdefaults": {
           "arrowcolor": "#2a3f5f",
           "arrowhead": 0,
           "arrowwidth": 1
          },
          "autotypenumbers": "strict",
          "coloraxis": {
           "colorbar": {
            "outlinewidth": 0,
            "ticks": ""
           }
          },
          "colorscale": {
           "diverging": [
            [
             0,
             "#8e0152"
            ],
            [
             0.1,
             "#c51b7d"
            ],
            [
             0.2,
             "#de77ae"
            ],
            [
             0.3,
             "#f1b6da"
            ],
            [
             0.4,
             "#fde0ef"
            ],
            [
             0.5,
             "#f7f7f7"
            ],
            [
             0.6,
             "#e6f5d0"
            ],
            [
             0.7,
             "#b8e186"
            ],
            [
             0.8,
             "#7fbc41"
            ],
            [
             0.9,
             "#4d9221"
            ],
            [
             1,
             "#276419"
            ]
           ],
           "sequential": [
            [
             0,
             "#0d0887"
            ],
            [
             0.1111111111111111,
             "#46039f"
            ],
            [
             0.2222222222222222,
             "#7201a8"
            ],
            [
             0.3333333333333333,
             "#9c179e"
            ],
            [
             0.4444444444444444,
             "#bd3786"
            ],
            [
             0.5555555555555556,
             "#d8576b"
            ],
            [
             0.6666666666666666,
             "#ed7953"
            ],
            [
             0.7777777777777778,
             "#fb9f3a"
            ],
            [
             0.8888888888888888,
             "#fdca26"
            ],
            [
             1,
             "#f0f921"
            ]
           ],
           "sequentialminus": [
            [
             0,
             "#0d0887"
            ],
            [
             0.1111111111111111,
             "#46039f"
            ],
            [
             0.2222222222222222,
             "#7201a8"
            ],
            [
             0.3333333333333333,
             "#9c179e"
            ],
            [
             0.4444444444444444,
             "#bd3786"
            ],
            [
             0.5555555555555556,
             "#d8576b"
            ],
            [
             0.6666666666666666,
             "#ed7953"
            ],
            [
             0.7777777777777778,
             "#fb9f3a"
            ],
            [
             0.8888888888888888,
             "#fdca26"
            ],
            [
             1,
             "#f0f921"
            ]
           ]
          },
          "colorway": [
           "#636efa",
           "#EF553B",
           "#00cc96",
           "#ab63fa",
           "#FFA15A",
           "#19d3f3",
           "#FF6692",
           "#B6E880",
           "#FF97FF",
           "#FECB52"
          ],
          "font": {
           "color": "#2a3f5f"
          },
          "geo": {
           "bgcolor": "white",
           "lakecolor": "white",
           "landcolor": "white",
           "showlakes": true,
           "showland": true,
           "subunitcolor": "#C8D4E3"
          },
          "hoverlabel": {
           "align": "left"
          },
          "hovermode": "closest",
          "mapbox": {
           "style": "light"
          },
          "paper_bgcolor": "white",
          "plot_bgcolor": "white",
          "polar": {
           "angularaxis": {
            "gridcolor": "#EBF0F8",
            "linecolor": "#EBF0F8",
            "ticks": ""
           },
           "bgcolor": "white",
           "radialaxis": {
            "gridcolor": "#EBF0F8",
            "linecolor": "#EBF0F8",
            "ticks": ""
           }
          },
          "scene": {
           "xaxis": {
            "backgroundcolor": "white",
            "gridcolor": "#DFE8F3",
            "gridwidth": 2,
            "linecolor": "#EBF0F8",
            "showbackground": true,
            "ticks": "",
            "zerolinecolor": "#EBF0F8"
           },
           "yaxis": {
            "backgroundcolor": "white",
            "gridcolor": "#DFE8F3",
            "gridwidth": 2,
            "linecolor": "#EBF0F8",
            "showbackground": true,
            "ticks": "",
            "zerolinecolor": "#EBF0F8"
           },
           "zaxis": {
            "backgroundcolor": "white",
            "gridcolor": "#DFE8F3",
            "gridwidth": 2,
            "linecolor": "#EBF0F8",
            "showbackground": true,
            "ticks": "",
            "zerolinecolor": "#EBF0F8"
           }
          },
          "shapedefaults": {
           "line": {
            "color": "#2a3f5f"
           }
          },
          "ternary": {
           "aaxis": {
            "gridcolor": "#DFE8F3",
            "linecolor": "#A2B1C6",
            "ticks": ""
           },
           "baxis": {
            "gridcolor": "#DFE8F3",
            "linecolor": "#A2B1C6",
            "ticks": ""
           },
           "bgcolor": "white",
           "caxis": {
            "gridcolor": "#DFE8F3",
            "linecolor": "#A2B1C6",
            "ticks": ""
           }
          },
          "title": {
           "x": 0.05
          },
          "xaxis": {
           "automargin": true,
           "gridcolor": "#EBF0F8",
           "linecolor": "#EBF0F8",
           "ticks": "",
           "title": {
            "standoff": 15
           },
           "zerolinecolor": "#EBF0F8",
           "zerolinewidth": 2
          },
          "yaxis": {
           "automargin": true,
           "gridcolor": "#EBF0F8",
           "linecolor": "#EBF0F8",
           "ticks": "",
           "title": {
            "standoff": 15
           },
           "zerolinecolor": "#EBF0F8",
           "zerolinewidth": 2
          }
         }
        },
        "title": {
         "text": "Baseline Self-Assessment of Personal and Professional Skills"
        },
        "width": 1000,
        "xaxis": {
         "anchor": "y",
         "categoryarray": [
          "Not at all",
          "Slightly",
          "Moderately",
          "Very",
          "Extremely"
         ],
         "categoryorder": "array",
         "domain": [
          0,
          0.2125
         ]
        },
        "xaxis2": {
         "anchor": "y2",
         "categoryarray": [
          "Not at all",
          "Slightly",
          "Moderately",
          "Very",
          "Extremely"
         ],
         "categoryorder": "array",
         "domain": [
          0.2625,
          0.475
         ]
        },
        "xaxis3": {
         "anchor": "y3",
         "categoryarray": [
          "Not at all",
          "Slightly",
          "Moderately",
          "Very",
          "Extremely"
         ],
         "categoryorder": "array",
         "domain": [
          0.525,
          0.7375
         ]
        },
        "xaxis4": {
         "anchor": "y4",
         "categoryarray": [
          "Not at all",
          "Slightly",
          "Moderately",
          "Very",
          "Extremely"
         ],
         "categoryorder": "array",
         "domain": [
          0.7875,
          1
         ]
        },
        "xaxis5": {
         "anchor": "y5",
         "categoryarray": [
          "Not at all",
          "Slightly",
          "Moderately",
          "Very",
          "Extremely"
         ],
         "categoryorder": "array",
         "domain": [
          0,
          0.2125
         ]
        },
        "xaxis6": {
         "anchor": "y6",
         "categoryarray": [
          "Not at all",
          "Slightly",
          "Moderately",
          "Very",
          "Extremely"
         ],
         "categoryorder": "array",
         "domain": [
          0.2625,
          0.475
         ]
        },
        "xaxis7": {
         "anchor": "y7",
         "categoryarray": [
          "Not at all",
          "Slightly",
          "Moderately",
          "Very",
          "Extremely"
         ],
         "categoryorder": "array",
         "domain": [
          0.525,
          0.7375
         ]
        },
        "xaxis8": {
         "anchor": "y8",
         "categoryarray": [
          "Not at all",
          "Slightly",
          "Moderately",
          "Very",
          "Extremely"
         ],
         "categoryorder": "array",
         "domain": [
          0.7875,
          1
         ]
        },
        "yaxis": {
         "anchor": "x",
         "domain": [
          0.625,
          1
         ]
        },
        "yaxis2": {
         "anchor": "x2",
         "domain": [
          0.625,
          1
         ]
        },
        "yaxis3": {
         "anchor": "x3",
         "domain": [
          0.625,
          1
         ]
        },
        "yaxis4": {
         "anchor": "x4",
         "domain": [
          0.625,
          1
         ]
        },
        "yaxis5": {
         "anchor": "x5",
         "domain": [
          0,
          0.375
         ]
        },
        "yaxis6": {
         "anchor": "x6",
         "domain": [
          0,
          0.375
         ]
        },
        "yaxis7": {
         "anchor": "x7",
         "domain": [
          0,
          0.375
         ]
        },
        "yaxis8": {
         "anchor": "x8",
         "domain": [
          0,
          0.375
         ]
        }
       }
      }
     },
     "metadata": {},
     "output_type": "display_data"
    }
   ],
   "source": [
    "# Update layout\n",
    "fig.update_layout(height=600, width=1000, title_text=\"Baseline Self-Assessment of Personal and Professional Skills\")\n",
    "fig.update_layout(showlegend=False)\n",
    "fig.update_xaxes(\n",
    "    categoryorder='array',\n",
    "    categoryarray=['Not at all', 'Slightly', 'Moderately','Very', 'Extremely'])\n",
    "fig.show()"
   ]
  },
  {
   "cell_type": "code",
   "execution_count": 26,
   "id": "0b5b64ad",
   "metadata": {},
   "outputs": [
    {
     "name": "stderr",
     "output_type": "stream",
     "text": [
      "/tmp/ipykernel_7736/352457242.py:1: FutureWarning:\n",
      "\n",
      "Downcasting behavior in `replace` is deprecated and will be removed in a future version. To retain the old behavior, explicitly call `result.infer_objects(copy=False)`. To opt-in to the future behavior, set `pd.set_option('future.no_silent_downcasting', True)`\n",
      "\n"
     ]
    },
    {
     "data": {
      "application/vnd.plotly.v1+json": {
       "config": {
        "plotlyServerURL": "https://plot.ly"
       },
       "data": [
        {
         "fill": "toself",
         "name": "Average Scores",
         "r": [
          4.03030303030303,
          3.393939393939394,
          3.7,
          4.151515151515151,
          3.919191919191919,
          3.56,
          2.95,
          4.232323232323233
         ],
         "theta": [
          "I can manage challenges without giving up",
          "Stressed or overwhelmed",
          "Communicating professionally (verbal and written)",
          "Motivated to work toward your goals",
          "Focused and productive",
          "Creating a personal budget",
          "Understanding credit and credit scores",
          "I know how to present myself professionally in different settings"
         ],
         "type": "scatterpolar"
        }
       ],
       "layout": {
        "polar": {
         "radialaxis": {
          "range": [
           1,
           5
          ],
          "ticktext": [
           "Low",
           "High"
          ],
          "tickvals": [
           1,
           5
          ],
          "visible": true
         }
        },
        "showlegend": false,
        "template": {
         "data": {
          "bar": [
           {
            "error_x": {
             "color": "#2a3f5f"
            },
            "error_y": {
             "color": "#2a3f5f"
            },
            "marker": {
             "line": {
              "color": "white",
              "width": 0.5
             },
             "pattern": {
              "fillmode": "overlay",
              "size": 10,
              "solidity": 0.2
             }
            },
            "type": "bar"
           }
          ],
          "barpolar": [
           {
            "marker": {
             "line": {
              "color": "white",
              "width": 0.5
             },
             "pattern": {
              "fillmode": "overlay",
              "size": 10,
              "solidity": 0.2
             }
            },
            "type": "barpolar"
           }
          ],
          "carpet": [
           {
            "aaxis": {
             "endlinecolor": "#2a3f5f",
             "gridcolor": "#C8D4E3",
             "linecolor": "#C8D4E3",
             "minorgridcolor": "#C8D4E3",
             "startlinecolor": "#2a3f5f"
            },
            "baxis": {
             "endlinecolor": "#2a3f5f",
             "gridcolor": "#C8D4E3",
             "linecolor": "#C8D4E3",
             "minorgridcolor": "#C8D4E3",
             "startlinecolor": "#2a3f5f"
            },
            "type": "carpet"
           }
          ],
          "choropleth": [
           {
            "colorbar": {
             "outlinewidth": 0,
             "ticks": ""
            },
            "type": "choropleth"
           }
          ],
          "contour": [
           {
            "colorbar": {
             "outlinewidth": 0,
             "ticks": ""
            },
            "colorscale": [
             [
              0,
              "#0d0887"
             ],
             [
              0.1111111111111111,
              "#46039f"
             ],
             [
              0.2222222222222222,
              "#7201a8"
             ],
             [
              0.3333333333333333,
              "#9c179e"
             ],
             [
              0.4444444444444444,
              "#bd3786"
             ],
             [
              0.5555555555555556,
              "#d8576b"
             ],
             [
              0.6666666666666666,
              "#ed7953"
             ],
             [
              0.7777777777777778,
              "#fb9f3a"
             ],
             [
              0.8888888888888888,
              "#fdca26"
             ],
             [
              1,
              "#f0f921"
             ]
            ],
            "type": "contour"
           }
          ],
          "contourcarpet": [
           {
            "colorbar": {
             "outlinewidth": 0,
             "ticks": ""
            },
            "type": "contourcarpet"
           }
          ],
          "heatmap": [
           {
            "colorbar": {
             "outlinewidth": 0,
             "ticks": ""
            },
            "colorscale": [
             [
              0,
              "#0d0887"
             ],
             [
              0.1111111111111111,
              "#46039f"
             ],
             [
              0.2222222222222222,
              "#7201a8"
             ],
             [
              0.3333333333333333,
              "#9c179e"
             ],
             [
              0.4444444444444444,
              "#bd3786"
             ],
             [
              0.5555555555555556,
              "#d8576b"
             ],
             [
              0.6666666666666666,
              "#ed7953"
             ],
             [
              0.7777777777777778,
              "#fb9f3a"
             ],
             [
              0.8888888888888888,
              "#fdca26"
             ],
             [
              1,
              "#f0f921"
             ]
            ],
            "type": "heatmap"
           }
          ],
          "heatmapgl": [
           {
            "colorbar": {
             "outlinewidth": 0,
             "ticks": ""
            },
            "colorscale": [
             [
              0,
              "#0d0887"
             ],
             [
              0.1111111111111111,
              "#46039f"
             ],
             [
              0.2222222222222222,
              "#7201a8"
             ],
             [
              0.3333333333333333,
              "#9c179e"
             ],
             [
              0.4444444444444444,
              "#bd3786"
             ],
             [
              0.5555555555555556,
              "#d8576b"
             ],
             [
              0.6666666666666666,
              "#ed7953"
             ],
             [
              0.7777777777777778,
              "#fb9f3a"
             ],
             [
              0.8888888888888888,
              "#fdca26"
             ],
             [
              1,
              "#f0f921"
             ]
            ],
            "type": "heatmapgl"
           }
          ],
          "histogram": [
           {
            "marker": {
             "pattern": {
              "fillmode": "overlay",
              "size": 10,
              "solidity": 0.2
             }
            },
            "type": "histogram"
           }
          ],
          "histogram2d": [
           {
            "colorbar": {
             "outlinewidth": 0,
             "ticks": ""
            },
            "colorscale": [
             [
              0,
              "#0d0887"
             ],
             [
              0.1111111111111111,
              "#46039f"
             ],
             [
              0.2222222222222222,
              "#7201a8"
             ],
             [
              0.3333333333333333,
              "#9c179e"
             ],
             [
              0.4444444444444444,
              "#bd3786"
             ],
             [
              0.5555555555555556,
              "#d8576b"
             ],
             [
              0.6666666666666666,
              "#ed7953"
             ],
             [
              0.7777777777777778,
              "#fb9f3a"
             ],
             [
              0.8888888888888888,
              "#fdca26"
             ],
             [
              1,
              "#f0f921"
             ]
            ],
            "type": "histogram2d"
           }
          ],
          "histogram2dcontour": [
           {
            "colorbar": {
             "outlinewidth": 0,
             "ticks": ""
            },
            "colorscale": [
             [
              0,
              "#0d0887"
             ],
             [
              0.1111111111111111,
              "#46039f"
             ],
             [
              0.2222222222222222,
              "#7201a8"
             ],
             [
              0.3333333333333333,
              "#9c179e"
             ],
             [
              0.4444444444444444,
              "#bd3786"
             ],
             [
              0.5555555555555556,
              "#d8576b"
             ],
             [
              0.6666666666666666,
              "#ed7953"
             ],
             [
              0.7777777777777778,
              "#fb9f3a"
             ],
             [
              0.8888888888888888,
              "#fdca26"
             ],
             [
              1,
              "#f0f921"
             ]
            ],
            "type": "histogram2dcontour"
           }
          ],
          "mesh3d": [
           {
            "colorbar": {
             "outlinewidth": 0,
             "ticks": ""
            },
            "type": "mesh3d"
           }
          ],
          "parcoords": [
           {
            "line": {
             "colorbar": {
              "outlinewidth": 0,
              "ticks": ""
             }
            },
            "type": "parcoords"
           }
          ],
          "pie": [
           {
            "automargin": true,
            "type": "pie"
           }
          ],
          "scatter": [
           {
            "fillpattern": {
             "fillmode": "overlay",
             "size": 10,
             "solidity": 0.2
            },
            "type": "scatter"
           }
          ],
          "scatter3d": [
           {
            "line": {
             "colorbar": {
              "outlinewidth": 0,
              "ticks": ""
             }
            },
            "marker": {
             "colorbar": {
              "outlinewidth": 0,
              "ticks": ""
             }
            },
            "type": "scatter3d"
           }
          ],
          "scattercarpet": [
           {
            "marker": {
             "colorbar": {
              "outlinewidth": 0,
              "ticks": ""
             }
            },
            "type": "scattercarpet"
           }
          ],
          "scattergeo": [
           {
            "marker": {
             "colorbar": {
              "outlinewidth": 0,
              "ticks": ""
             }
            },
            "type": "scattergeo"
           }
          ],
          "scattergl": [
           {
            "marker": {
             "colorbar": {
              "outlinewidth": 0,
              "ticks": ""
             }
            },
            "type": "scattergl"
           }
          ],
          "scattermapbox": [
           {
            "marker": {
             "colorbar": {
              "outlinewidth": 0,
              "ticks": ""
             }
            },
            "type": "scattermapbox"
           }
          ],
          "scatterpolar": [
           {
            "marker": {
             "colorbar": {
              "outlinewidth": 0,
              "ticks": ""
             }
            },
            "type": "scatterpolar"
           }
          ],
          "scatterpolargl": [
           {
            "marker": {
             "colorbar": {
              "outlinewidth": 0,
              "ticks": ""
             }
            },
            "type": "scatterpolargl"
           }
          ],
          "scatterternary": [
           {
            "marker": {
             "colorbar": {
              "outlinewidth": 0,
              "ticks": ""
             }
            },
            "type": "scatterternary"
           }
          ],
          "surface": [
           {
            "colorbar": {
             "outlinewidth": 0,
             "ticks": ""
            },
            "colorscale": [
             [
              0,
              "#0d0887"
             ],
             [
              0.1111111111111111,
              "#46039f"
             ],
             [
              0.2222222222222222,
              "#7201a8"
             ],
             [
              0.3333333333333333,
              "#9c179e"
             ],
             [
              0.4444444444444444,
              "#bd3786"
             ],
             [
              0.5555555555555556,
              "#d8576b"
             ],
             [
              0.6666666666666666,
              "#ed7953"
             ],
             [
              0.7777777777777778,
              "#fb9f3a"
             ],
             [
              0.8888888888888888,
              "#fdca26"
             ],
             [
              1,
              "#f0f921"
             ]
            ],
            "type": "surface"
           }
          ],
          "table": [
           {
            "cells": {
             "fill": {
              "color": "#EBF0F8"
             },
             "line": {
              "color": "white"
             }
            },
            "header": {
             "fill": {
              "color": "#C8D4E3"
             },
             "line": {
              "color": "white"
             }
            },
            "type": "table"
           }
          ]
         },
         "layout": {
          "annotationdefaults": {
           "arrowcolor": "#2a3f5f",
           "arrowhead": 0,
           "arrowwidth": 1
          },
          "autotypenumbers": "strict",
          "coloraxis": {
           "colorbar": {
            "outlinewidth": 0,
            "ticks": ""
           }
          },
          "colorscale": {
           "diverging": [
            [
             0,
             "#8e0152"
            ],
            [
             0.1,
             "#c51b7d"
            ],
            [
             0.2,
             "#de77ae"
            ],
            [
             0.3,
             "#f1b6da"
            ],
            [
             0.4,
             "#fde0ef"
            ],
            [
             0.5,
             "#f7f7f7"
            ],
            [
             0.6,
             "#e6f5d0"
            ],
            [
             0.7,
             "#b8e186"
            ],
            [
             0.8,
             "#7fbc41"
            ],
            [
             0.9,
             "#4d9221"
            ],
            [
             1,
             "#276419"
            ]
           ],
           "sequential": [
            [
             0,
             "#0d0887"
            ],
            [
             0.1111111111111111,
             "#46039f"
            ],
            [
             0.2222222222222222,
             "#7201a8"
            ],
            [
             0.3333333333333333,
             "#9c179e"
            ],
            [
             0.4444444444444444,
             "#bd3786"
            ],
            [
             0.5555555555555556,
             "#d8576b"
            ],
            [
             0.6666666666666666,
             "#ed7953"
            ],
            [
             0.7777777777777778,
             "#fb9f3a"
            ],
            [
             0.8888888888888888,
             "#fdca26"
            ],
            [
             1,
             "#f0f921"
            ]
           ],
           "sequentialminus": [
            [
             0,
             "#0d0887"
            ],
            [
             0.1111111111111111,
             "#46039f"
            ],
            [
             0.2222222222222222,
             "#7201a8"
            ],
            [
             0.3333333333333333,
             "#9c179e"
            ],
            [
             0.4444444444444444,
             "#bd3786"
            ],
            [
             0.5555555555555556,
             "#d8576b"
            ],
            [
             0.6666666666666666,
             "#ed7953"
            ],
            [
             0.7777777777777778,
             "#fb9f3a"
            ],
            [
             0.8888888888888888,
             "#fdca26"
            ],
            [
             1,
             "#f0f921"
            ]
           ]
          },
          "colorway": [
           "#636efa",
           "#EF553B",
           "#00cc96",
           "#ab63fa",
           "#FFA15A",
           "#19d3f3",
           "#FF6692",
           "#B6E880",
           "#FF97FF",
           "#FECB52"
          ],
          "font": {
           "color": "#2a3f5f"
          },
          "geo": {
           "bgcolor": "white",
           "lakecolor": "white",
           "landcolor": "white",
           "showlakes": true,
           "showland": true,
           "subunitcolor": "#C8D4E3"
          },
          "hoverlabel": {
           "align": "left"
          },
          "hovermode": "closest",
          "mapbox": {
           "style": "light"
          },
          "paper_bgcolor": "white",
          "plot_bgcolor": "white",
          "polar": {
           "angularaxis": {
            "gridcolor": "#EBF0F8",
            "linecolor": "#EBF0F8",
            "ticks": ""
           },
           "bgcolor": "white",
           "radialaxis": {
            "gridcolor": "#EBF0F8",
            "linecolor": "#EBF0F8",
            "ticks": ""
           }
          },
          "scene": {
           "xaxis": {
            "backgroundcolor": "white",
            "gridcolor": "#DFE8F3",
            "gridwidth": 2,
            "linecolor": "#EBF0F8",
            "showbackground": true,
            "ticks": "",
            "zerolinecolor": "#EBF0F8"
           },
           "yaxis": {
            "backgroundcolor": "white",
            "gridcolor": "#DFE8F3",
            "gridwidth": 2,
            "linecolor": "#EBF0F8",
            "showbackground": true,
            "ticks": "",
            "zerolinecolor": "#EBF0F8"
           },
           "zaxis": {
            "backgroundcolor": "white",
            "gridcolor": "#DFE8F3",
            "gridwidth": 2,
            "linecolor": "#EBF0F8",
            "showbackground": true,
            "ticks": "",
            "zerolinecolor": "#EBF0F8"
           }
          },
          "shapedefaults": {
           "line": {
            "color": "#2a3f5f"
           }
          },
          "ternary": {
           "aaxis": {
            "gridcolor": "#DFE8F3",
            "linecolor": "#A2B1C6",
            "ticks": ""
           },
           "baxis": {
            "gridcolor": "#DFE8F3",
            "linecolor": "#A2B1C6",
            "ticks": ""
           },
           "bgcolor": "white",
           "caxis": {
            "gridcolor": "#DFE8F3",
            "linecolor": "#A2B1C6",
            "ticks": ""
           }
          },
          "title": {
           "x": 0.05
          },
          "xaxis": {
           "automargin": true,
           "gridcolor": "#EBF0F8",
           "linecolor": "#EBF0F8",
           "ticks": "",
           "title": {
            "standoff": 15
           },
           "zerolinecolor": "#EBF0F8",
           "zerolinewidth": 2
          },
          "yaxis": {
           "automargin": true,
           "gridcolor": "#EBF0F8",
           "linecolor": "#EBF0F8",
           "ticks": "",
           "title": {
            "standoff": 15
           },
           "zerolinecolor": "#EBF0F8",
           "zerolinewidth": 2
          }
         }
        },
        "title": {
         "text": "Overview Self-Ratings Across Key Skills"
        }
       }
      }
     },
     "metadata": {},
     "output_type": "display_data"
    }
   ],
   "source": [
    "df_numeric = sc[mappings.skill_cols].to_pandas().replace(mappings.skill_rating_map)\n",
    "\n",
    "# Step 3: Average across all responses per skill\n",
    "avg_scores = df_numeric.mean()\n",
    "\n",
    "# Step 4: Plot using Plotly\n",
    "fig = go.Figure()\n",
    "\n",
    "fig.add_trace(go.Scatterpolar(\n",
    "    r=avg_scores.tolist(),\n",
    "    theta=avg_scores.index.tolist(),\n",
    "    fill='toself',\n",
    "    name='Average Scores'\n",
    "))\n",
    "\n",
    "fig.update_layout(\n",
    "    polar=dict(\n",
    "        radialaxis=dict(\n",
    "            visible=True,\n",
    "            range=[1, 5],\n",
    "            tickvals=[1, 5],  \n",
    "            ticktext=[\"Low\", \"High\"]  \n",
    "        )\n",
    "    ),\n",
    "    title=\"Overview Self-Ratings Across Key Skills\",\n",
    "    showlegend=False\n",
    ")\n",
    "\n",
    "fig.show()"
   ]
  },
  {
   "cell_type": "code",
   "execution_count": null,
   "id": "a2fdf9f7",
   "metadata": {},
   "outputs": [],
   "source": []
  }
 ],
 "metadata": {
  "kernelspec": {
   "display_name": "Python 3",
   "language": "python",
   "name": "python3"
  },
  "language_info": {
   "codemirror_mode": {
    "name": "ipython",
    "version": 3
   },
   "file_extension": ".py",
   "mimetype": "text/x-python",
   "name": "python",
   "nbconvert_exporter": "python",
   "pygments_lexer": "ipython3",
   "version": "3.12.3"
  }
 },
 "nbformat": 4,
 "nbformat_minor": 5
}
