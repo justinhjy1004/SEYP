{
 "cells": [
  {
   "cell_type": "code",
   "execution_count": null,
   "id": "e3e5d819",
   "metadata": {},
   "outputs": [],
   "source": [
    "import polars as pl\n",
    "import plotly.graph_objects as go\n",
    "from plotly.subplots import make_subplots\n",
    "import plotly.io as pio\n",
    "import plotly.express as px\n",
    "\n",
    "# Set the theme once\n",
    "pio.templates.default = \"plotly_white\"\n",
    "\n",
    "from util import multi_select_counts, get_subplot_coords, df_prop, df_multiselect_prop\n",
    "import mappings"
   ]
  },
  {
   "cell_type": "code",
   "execution_count": null,
   "id": "5b7a3483",
   "metadata": {},
   "outputs": [],
   "source": [
    "df = pl.read_csv(\"OriginalData/Preprogram_Survey.csv\")"
   ]
  },
  {
   "cell_type": "code",
   "execution_count": null,
   "id": "3c564106",
   "metadata": {},
   "outputs": [],
   "source": [
    "df.columns"
   ]
  },
  {
   "cell_type": "code",
   "execution_count": null,
   "id": "af4a53f2",
   "metadata": {},
   "outputs": [],
   "source": [
    "df_prop(df, 'What is your current education status?', 100)"
   ]
  },
  {
   "cell_type": "code",
   "execution_count": null,
   "id": "26841feb",
   "metadata": {},
   "outputs": [],
   "source": [
    "df_prop(df, 'What is your gender identity?', 100)"
   ]
  },
  {
   "cell_type": "code",
   "execution_count": null,
   "id": "71dbbbc9",
   "metadata": {},
   "outputs": [],
   "source": [
    "df = df.with_columns(\n",
    "    pl.col(\"What is your current education status?\").map_elements(lambda x: \"True\" if (\"Currently\" in x) else \"False\", return_dtype=pl.String).alias(\"College Student\"),\n",
    "    pl.col(\"What is your gender identity?\").map_elements(lambda x: \"Female\" if (\"Female\" == x) else \"Not Female\", return_dtype=pl.String).alias(\"Gender\"),\n",
    "    pl.lit(1).alias(\"Count\") \n",
    ")"
   ]
  },
  {
   "cell_type": "code",
   "execution_count": null,
   "id": "894b9113",
   "metadata": {},
   "outputs": [],
   "source": [
    "fig = px.histogram(df, x=\"Gender\", y=\"Count\",\n",
    "             color='College Student', barmode='group', \n",
    "             height=400, width = 600, text_auto=True, color_discrete_sequence=px.colors.qualitative.Pastel)\n",
    "fig.update_traces(textfont_size=12, textposition=\"inside\")\n",
    "fig.update_layout(yaxis_title=\"Number of Participants\")\n",
    "fig.show()"
   ]
  },
  {
   "cell_type": "markdown",
   "id": "acde7d25",
   "metadata": {},
   "source": []
  },
  {
   "cell_type": "code",
   "execution_count": null,
   "id": "103fbc05",
   "metadata": {},
   "outputs": [],
   "source": [
    "df_prop(df, 'Have you held a paid job before?', 100)"
   ]
  },
  {
   "cell_type": "code",
   "execution_count": null,
   "id": "e182229d",
   "metadata": {},
   "outputs": [],
   "source": [
    "df_prop(df, 'What is your gender identity?', 100)"
   ]
  },
  {
   "cell_type": "code",
   "execution_count": null,
   "id": "52191c64",
   "metadata": {},
   "outputs": [],
   "source": [
    "df_multiselect_prop(df, [\"Hispanic or Latino\", 'White', 'Asian or Pacific Islander', 'American Indian or Alaska Native', 'Black or African American'], 100)"
   ]
  },
  {
   "cell_type": "code",
   "execution_count": null,
   "id": "ada38bab",
   "metadata": {},
   "outputs": [],
   "source": [
    "df_prop(df, 'Have you held a paid job before?', 100)"
   ]
  },
  {
   "cell_type": "code",
   "execution_count": null,
   "id": "f7195c25",
   "metadata": {},
   "outputs": [],
   "source": [
    "df_multiselect_prop(df, mappings.prev_job_col[1:], 100)"
   ]
  },
  {
   "cell_type": "code",
   "execution_count": null,
   "id": "5557edf8",
   "metadata": {},
   "outputs": [],
   "source": [
    "prev_job = multi_select_counts(df, mappings.prev_job_col, mappings.prev_job_map)\n",
    "\n",
    "# Create standalone bar chart\n",
    "fig = go.Figure(\n",
    "    data=[\n",
    "        go.Bar(\n",
    "            x=prev_job.index,\n",
    "            y=prev_job.values,\n",
    "            name=\"Previous Job Experience\",\n",
    "            marker=dict(color='darkblue')\n",
    "        )\n",
    "    ]\n",
    ")\n",
    "\n",
    "fig.update_layout(\n",
    "    title=\"Previous Job Experience\",\n",
    "    xaxis_title=\"Job Type\",\n",
    "    yaxis_title=\"Count\",\n",
    "    template=\"plotly_white\"\n",
    ")\n",
    "\n",
    "fig.show()"
   ]
  },
  {
   "cell_type": "code",
   "execution_count": null,
   "id": "7cd79f99",
   "metadata": {},
   "outputs": [],
   "source": [
    "df.columns"
   ]
  },
  {
   "cell_type": "code",
   "execution_count": null,
   "id": "5d90dc86",
   "metadata": {},
   "outputs": [],
   "source": [
    "df_multiselect_prop(df, ['Build professional experience',\n",
    " 'Improve job readiness and soft skills',\n",
    " 'Learn about career options',\n",
    " 'Grow my resume or LinkedIn profile',\n",
    " 'Network with professionals',\n",
    " 'Gain mentorship and guidance',\n",
    " 'Improve my financial knowledge'], 100)"
   ]
  },
  {
   "cell_type": "code",
   "execution_count": null,
   "id": "6d8e1368",
   "metadata": {},
   "outputs": [],
   "source": [
    "goal = multi_select_counts(df, ['#','Build professional experience',\n",
    " 'Improve job readiness and soft skills',\n",
    " 'Learn about career options',\n",
    " 'Grow my resume or LinkedIn profile',\n",
    " 'Network with professionals',\n",
    " 'Gain mentorship and guidance',\n",
    " 'Improve my financial knowledge'])\n",
    "\n",
    "# Create standalone bar chart\n",
    "fig = go.Figure(\n",
    "    data=[\n",
    "        go.Bar(\n",
    "            x=goal.index,\n",
    "            y=goal.values,\n",
    "            name=\"Goal of Participation\",\n",
    "            \n",
    "        )\n",
    "    ]\n",
    ")\n",
    "\n",
    "fig.update_layout(\n",
    "    title=\"Goal of Participation\",\n",
    "    xaxis_title=\"Identified Goal\",\n",
    "    yaxis_title=\"Count\",\n",
    "    template=\"plotly_white\"\n",
    ")\n",
    "\n",
    "fig.show()"
   ]
  },
  {
   "cell_type": "code",
   "execution_count": null,
   "id": "06481fc0",
   "metadata": {},
   "outputs": [],
   "source": [
    "career = multi_select_counts(df, mappings.career_consideration_col, mappings.career_consideration_map)\n",
    "\n",
    "fig = go.Figure(\n",
    "    data=[\n",
    "        go.Pie(\n",
    "            labels=career.index,\n",
    "            values=career.values,\n",
    "            hole=0.4,  # Set to 0.4 for a donut chart\n",
    "            textinfo='percent+label',  # Options: 'label', 'value', 'percent', 'label+percent'\n",
    "        )\n",
    "    ]\n",
    ")\n",
    "\n",
    "fig.update_layout(\n",
    "    title=\"Key Drivers of Career Decisions\",\n",
    "    template=\"plotly_white\",\n",
    "    width = 800,\n",
    "    height = 500\n",
    ")\n",
    "\n",
    "fig.show()"
   ]
  },
  {
   "cell_type": "code",
   "execution_count": null,
   "id": "890ef01e",
   "metadata": {},
   "outputs": [],
   "source": [
    "dev_needs = multi_select_counts(df, mappings.help_needed_col)\n",
    "\n",
    "fig = go.Figure(\n",
    "    data=[\n",
    "        go.Pie(\n",
    "            labels=dev_needs.index,\n",
    "            values=dev_needs.values,\n",
    "            hole=0.4,  # Set to 0.4 for a donut chart\n",
    "            textinfo='percent+label',  # Options: 'label', 'value', 'percent', 'label+percent'\n",
    "        )\n",
    "    ]\n",
    ")\n",
    "\n",
    "fig.update_layout(\n",
    "    title=\"Development Needs\",\n",
    "    template=\"plotly_white\",\n",
    "    width = 800,\n",
    "    height = 500\n",
    ")\n",
    "\n",
    "fig.show()"
   ]
  },
  {
   "cell_type": "code",
   "execution_count": null,
   "id": "ed51f846",
   "metadata": {},
   "outputs": [],
   "source": [
    "jobs_desired = {\n",
    "    'Healthcare & Wellness': 35,\n",
    "    'Business & Finance': 28,\n",
    "    'Technology & IT': 15,\n",
    "    'Law & Public Safety': 14,\n",
    "    'Education & Human Services': 13,\n",
    "    'Creative Arts & Media': 10,\n",
    "    'Trades & Skilled Labor': 8,\n",
    "    'Science & Research (General)': 5,\n",
    "    'Other/Vague': 4\n",
    "}\n",
    "\n",
    "df_job = pl.DataFrame({\"Job\": jobs_desired.keys(), \"count\": jobs_desired.values()})\n",
    "\n",
    "fig = go.Figure(\n",
    "    data=[\n",
    "        go.Pie(\n",
    "            labels=df_job[\"Job\"],\n",
    "            values=df_job[\"count\"],\n",
    "            hole=0.4,  # Set to 0.4 for a donut chart\n",
    "            textinfo='percent+label',  # Options: 'label', 'value', 'percent', 'label+percent'\n",
    "        )\n",
    "    ]\n",
    ")\n",
    "\n",
    "fig.update_layout(\n",
    "    title=\"Job Interest Breakdown by Career Category\",\n",
    "    template=\"plotly_white\",\n",
    "    width = 800,\n",
    "    height = 500\n",
    ")\n",
    "\n",
    "fig.show()"
   ]
  },
  {
   "cell_type": "code",
   "execution_count": null,
   "id": "9da2e311",
   "metadata": {},
   "outputs": [],
   "source": [
    "sc = df.select(mappings.score_card + [\"College Student\", \"Gender\", \"Count\"])\n",
    "sc = sc.with_columns([\n",
    "    pl.col(col).replace(mappings.entry_standardization_mapping).replace(mappings.skill_rating_map).cast(pl.Int32).alias(col)\n",
    "    for col in mappings.score_card\n",
    "])\n",
    "\n",
    "r_map = {v:k for k,v in mappings.score_card_colname_name_mapping.items()}\n",
    "\n",
    "sc = sc.unpivot(on=mappings.score_card, index=[\"College Student\", \"Gender\", \"Count\"], value_name=\"Rating\", variable_name=\"Question\").with_columns(pl.col(\"Question\").replace(r_map))"
   ]
  },
  {
   "cell_type": "code",
   "execution_count": null,
   "id": "ebcbe92e",
   "metadata": {},
   "outputs": [],
   "source": [
    "fig = px.histogram(sc, x=\"Question\", y=\"Rating\",\n",
    "             color='College Student', barmode='group', \n",
    "             height=400, histfunc = \"avg\")\n",
    "fig.update_traces(textfont_size=12, textposition=\"inside\")\n",
    "fig.update_layout(yaxis_title=\"Mean Rating\")\n",
    "fig.show()"
   ]
  },
  {
   "cell_type": "code",
   "execution_count": null,
   "id": "1bf6ee62",
   "metadata": {},
   "outputs": [],
   "source": [
    "for s in set(mappings.score_card + [ 'I know how to present myself professionally in different settings',\n",
    " 'I believe in my ability to grow and improve through effort',\n",
    " 'I have a support system (family, friends, etc.) that encourages my success',\n",
    " 'I can manage challenges without giving up',\n",
    " 'I am clear about the type of person I want to become',\n",
    " 'Motivated to work toward your goals',\n",
    " 'Focused and productive',\n",
    " 'Stressed or overwhelmed',\n",
    " 'Confident about your future',\n",
    " 'Supported by others']):\n",
    "    print(s)\n",
    "    print(df_prop(df, s, 100))\n",
    "    print()"
   ]
  },
  {
   "cell_type": "code",
   "execution_count": null,
   "id": "fc722373",
   "metadata": {},
   "outputs": [],
   "source": [
    "df_prop(df, \"How often do you save money *(beyond daily spending)*?\", 100)"
   ]
  },
  {
   "cell_type": "code",
   "execution_count": null,
   "id": "623b0824",
   "metadata": {},
   "outputs": [],
   "source": [
    "fig = px.histogram(df, x=\"How often do you save money *(beyond daily spending)*?\", y=\"Count\",\n",
    "             color='College Student', barmode='group', \n",
    "             height=400, width = 800, text_auto=True, color_discrete_sequence=px.colors.qualitative.Pastel1)\n",
    "fig.update_traces(textfont_size=14, textposition=\"outside\")\n",
    "fig.update_layout(yaxis_title=\"Number of Participants\", yaxis_range=[0, 25])\n",
    "fig.show()"
   ]
  },
  {
   "cell_type": "code",
   "execution_count": null,
   "id": "e55c16ee",
   "metadata": {},
   "outputs": [],
   "source": [
    "financial_literacy_col = ['Creating a personal budget',\n",
    " 'Understanding credit and credit scores',\n",
    " 'Opening and managing a bank account',\n",
    " 'Differences between checking/savings/investment accounts',\n",
    " 'Using financial apps or online banking tools',\n",
    " 'Investing your money for future wealth']"
   ]
  },
  {
   "cell_type": "code",
   "execution_count": null,
   "id": "b82242c5",
   "metadata": {},
   "outputs": [],
   "source": [
    "for f in financial_literacy_col:\n",
    "    print(f)\n",
    "    print(df_prop(df, f, 100))\n",
    "    print()"
   ]
  },
  {
   "cell_type": "code",
   "execution_count": null,
   "id": "e92f23a5",
   "metadata": {},
   "outputs": [],
   "source": [
    "# Create subplot grid: 2 rows x 2 columns\n",
    "fig = make_subplots(rows=1, cols=4,\n",
    "                    subplot_titles=(\"Age\", \"Education\", \"Gender\", \"Race\"))\n",
    "\n",
    "# Age Histogram (Row 1, Col 1)\n",
    "fig.add_trace(\n",
    "    go.Histogram(x=df[\"How old are you?\"], name=\"Age\"),\n",
    "    row=1, col=1\n",
    ")\n",
    "\n",
    "# Education Bar Chart (Row 1, Col 2)\n",
    "education_counts = multi_select_counts(df, [\"#\", \"What is your current education status?\"], mappings.demograpics_map)\n",
    "fig.add_trace(\n",
    "    go.Bar(x=education_counts.index, y=education_counts.values, name=\"Education\"),\n",
    "    row=1, col=2\n",
    ")\n",
    "\n",
    "# Gender Bar Chart (Row 2, Col 1)\n",
    "gender_counts = multi_select_counts(df, [\"#\", \"What is your gender identity?\"])\n",
    "fig.add_trace(\n",
    "    go.Bar(x=gender_counts.index, y=gender_counts.values, name=\"Gender\"),\n",
    "    row=1, col=3\n",
    ")\n",
    "\n",
    "# Race Bar Chart (Row 2, Col 2)\n",
    "race_counts = multi_select_counts(df, [\"#\", 'Hispanic or Latino', 'White', 'Asian or Pacific Islander', 'American Indian or Alaska Native', 'Black or African American',])\n",
    "fig.add_trace(\n",
    "    go.Bar(x=race_counts.index, y=race_counts.values, name=\"Race\"),\n",
    "    row=1, col=4\n",
    ")\n",
    "\n",
    "# Update layout\n",
    "fig.update_layout(height=400, width=1000, title_text=\"Demographics Overview\")\n",
    "fig.update_layout(showlegend=False)\n",
    "fig.show()\n"
   ]
  },
  {
   "cell_type": "code",
   "execution_count": null,
   "id": "a254f0a7",
   "metadata": {},
   "outputs": [],
   "source": [
    "df_prop(df, 'Do you currently have a bank account?', 100)"
   ]
  },
  {
   "cell_type": "code",
   "execution_count": null,
   "id": "637b90ed",
   "metadata": {},
   "outputs": [],
   "source": [
    "\n",
    "financial_tools = multi_select_counts(df, [\"#\" ,'Online/mobile banking app', 'Cash App / Venmo / Zelle / PayPal', 'Savings account',\n",
    " 'Budgeting app or spreadsheet',\n",
    " 'None of the above',\n",
    " 'Robinhood/Fidelity/Acorns (Investment Apps)'])"
   ]
  },
  {
   "cell_type": "code",
   "execution_count": null,
   "id": "ad53d96e",
   "metadata": {},
   "outputs": [],
   "source": [
    "financial_tools"
   ]
  },
  {
   "cell_type": "code",
   "execution_count": null,
   "id": "f41dfc5e",
   "metadata": {},
   "outputs": [],
   "source": [
    "\n",
    "fig = go.Figure(\n",
    "    data=[\n",
    "        go.Pie(\n",
    "            labels=dev_needs.index,\n",
    "            values=dev_needs.values,\n",
    "            hole=0.4,  # Set to 0.4 for a donut chart\n",
    "            textinfo='percent+label',  # Options: 'label', 'value', 'percent', 'label+percent'\n",
    "        )\n",
    "    ]\n",
    ")\n",
    "\n",
    "fig.update_layout(\n",
    "    title=\"Development Needs\",\n",
    "    template=\"plotly_white\",\n",
    "    width = 800,\n",
    "    height = 500\n",
    ")\n",
    "\n",
    "fig.show()"
   ]
  },
  {
   "cell_type": "code",
   "execution_count": null,
   "id": "8f986454",
   "metadata": {},
   "outputs": [],
   "source": [
    "# Create subplot grid: 2 rows x 2 columns\n",
    "\n",
    "fig = make_subplots(rows=2, cols=2,\n",
    "                    subplot_titles=(\"Previous Job Experience\", \"Goal of Participation\", \"Career Considerations\", \"Development Needs\"))\n",
    "\n",
    "# Previous Job Exp Bar Chart (Row 1, Col 1)\n",
    "prev_job = multi_select_counts(df, mappings.prev_job_col, mappings.prev_job_map)\n",
    "fig.add_trace(\n",
    "    go.Bar(x=prev_job.index, y=prev_job.values, name=\"Previous Job Experience\"),\n",
    "    row=1, col=1\n",
    ")\n",
    "\n",
    "# Goal of Participation Bar Chart (Row 1, Col 2)\n",
    "goal_of_participation = multi_select_counts(df, mappings.goal_of_participation, mappings.goal_participation_map)\n",
    "fig.add_trace(\n",
    "    go.Bar(x=goal_of_participation.index, y=goal_of_participation.values, name=\"Goal of Participation\"),\n",
    "    row=1, col=2\n",
    ")\n",
    "\n",
    "# Career Consideration Bar Chart (Row 2, Col 1)\n",
    "career = multi_select_counts(df, mappings.career_consideration_col, mappings.career_consideration_map)\n",
    "fig.add_trace(\n",
    "    go.Bar(x=career.index, y=career.values, name=\"Career Considerations\"),\n",
    "    row=2, col=1\n",
    ")\n",
    "\n",
    "# Development Needs Bar Chart (Row 2, Col 2)\n",
    "dev_needs = multi_select_counts(df, mappings.help_needed_col, mappings.help_needed_map)\n",
    "fig.add_trace(\n",
    "    go.Bar(x=dev_needs.index, y=dev_needs.values, name=\"Development Needs\"),\n",
    "    row=2, col=2\n",
    ")\n",
    "\n",
    "# Update layout\n",
    "fig.update_layout(height=600, width=800, title_text=\"Career Background and Development Needs\")\n",
    "fig.update_layout(showlegend=False)\n",
    "fig.show()\n"
   ]
  },
  {
   "cell_type": "code",
   "execution_count": null,
   "id": "693e239d",
   "metadata": {},
   "outputs": [],
   "source": []
  },
  {
   "cell_type": "code",
   "execution_count": null,
   "id": "f79f0505",
   "metadata": {},
   "outputs": [],
   "source": [
    "fig = make_subplots(rows=2, cols=4,\n",
    "                    subplot_titles=list(mappings.score_card_colname_name_mapping.keys()))\n",
    "\n",
    "sc = df.select([\"#\"] + mappings.score_card).to_pandas()\n",
    "sc = pl.DataFrame(sc.replace(mappings.entry_standardization_mapping))\n",
    "\n",
    "for index, s in enumerate(mappings.score_card):\n",
    "    \n",
    "    position = get_subplot_coords(index, 2, 4)\n",
    "    \n",
    "    d = multi_select_counts(sc, [\"#\", s])\n",
    "    fig.add_trace(\n",
    "        go.Bar(y=d.values, x=d.index),\n",
    "        row=position[0], col=position[1])"
   ]
  },
  {
   "cell_type": "code",
   "execution_count": null,
   "id": "5d3cc533",
   "metadata": {},
   "outputs": [],
   "source": [
    "# Update layout\n",
    "fig.update_layout(height=600, width=1000, title_text=\"Baseline Self-Assessment of Personal and Professional Skills\")\n",
    "fig.update_layout(showlegend=False)\n",
    "fig.update_xaxes(\n",
    "    categoryorder='array',\n",
    "    categoryarray=['Not at all', 'Slightly', 'Moderately','Very', 'Extremely'])\n",
    "fig.show()"
   ]
  },
  {
   "cell_type": "code",
   "execution_count": null,
   "id": "0b5b64ad",
   "metadata": {},
   "outputs": [],
   "source": [
    "df_numeric = sc[mappings.skill_cols].to_pandas().replace(mappings.skill_rating_map)\n",
    "\n",
    "# Step 3: Average across all responses per skill\n",
    "avg_scores = df_numeric.mean()\n",
    "\n",
    "# Step 4: Plot using Plotly\n",
    "fig = go.Figure()\n",
    "\n",
    "fig.add_trace(go.Scatterpolar(\n",
    "    r=avg_scores.tolist(),\n",
    "    theta=avg_scores.index.tolist(),\n",
    "    fill='toself',\n",
    "    name='Average Scores'\n",
    "))\n",
    "\n",
    "fig.update_layout(\n",
    "    polar=dict(\n",
    "        radialaxis=dict(\n",
    "            visible=True,\n",
    "            range=[1, 5],\n",
    "            tickvals=[1, 5],  \n",
    "            ticktext=[\"Low\", \"High\"]  \n",
    "        )\n",
    "    ),\n",
    "    title=\"Overview Self-Ratings Across Key Skills\",\n",
    "    showlegend=False\n",
    ")\n",
    "\n",
    "fig.show()"
   ]
  },
  {
   "cell_type": "code",
   "execution_count": null,
   "id": "a2fdf9f7",
   "metadata": {},
   "outputs": [],
   "source": []
  }
 ],
 "metadata": {
  "kernelspec": {
   "display_name": "Python 3",
   "language": "python",
   "name": "python3"
  },
  "language_info": {
   "codemirror_mode": {
    "name": "ipython",
    "version": 3
   },
   "file_extension": ".py",
   "mimetype": "text/x-python",
   "name": "python",
   "nbconvert_exporter": "python",
   "pygments_lexer": "ipython3",
   "version": "3.12.3"
  }
 },
 "nbformat": 4,
 "nbformat_minor": 5
}
